{
 "cells": [
  {
   "cell_type": "code",
   "execution_count": 1,
   "metadata": {},
   "outputs": [
    {
     "name": "stderr",
     "output_type": "stream",
     "text": [
      "Using TensorFlow backend.\n"
     ]
    },
    {
     "ename": "ImportError",
     "evalue": "cannot import name avg_l2_distortion",
     "output_type": "error",
     "traceback": [
      "\u001b[0;31m---------------------------------------------------------------------------\u001b[0m",
      "\u001b[0;31mImportError\u001b[0m                               Traceback (most recent call last)",
      "\u001b[0;32m<ipython-input-1-b11c5dde6035>\u001b[0m in \u001b[0;36m<module>\u001b[0;34m()\u001b[0m\n\u001b[1;32m     11\u001b[0m \u001b[0;32mfrom\u001b[0m \u001b[0mmodels\u001b[0m\u001b[0;34m.\u001b[0m\u001b[0mneural_network\u001b[0m \u001b[0;32mimport\u001b[0m \u001b[0mNeuralNetwork\u001b[0m\u001b[0;34m\u001b[0m\u001b[0m\n\u001b[1;32m     12\u001b[0m \u001b[0;32mfrom\u001b[0m \u001b[0mmodels\u001b[0m\u001b[0;34m.\u001b[0m\u001b[0mfcc\u001b[0m \u001b[0;32mimport\u001b[0m \u001b[0mFCC\u001b[0m\u001b[0;34m\u001b[0m\u001b[0m\n\u001b[0;32m---> 13\u001b[0;31m \u001b[0;32mfrom\u001b[0m \u001b[0mmodels\u001b[0m\u001b[0;34m.\u001b[0m\u001b[0mutil\u001b[0m \u001b[0;32mimport\u001b[0m \u001b[0mnormalize\u001b[0m\u001b[0;34m,\u001b[0m \u001b[0mavg_l2_distortion\u001b[0m\u001b[0;34m\u001b[0m\u001b[0m\n\u001b[0m\u001b[1;32m     14\u001b[0m \u001b[0;34m\u001b[0m\u001b[0m\n\u001b[1;32m     15\u001b[0m \u001b[0;34m\u001b[0m\u001b[0m\n",
      "\u001b[0;31mImportError\u001b[0m: cannot import name avg_l2_distortion"
     ]
    }
   ],
   "source": [
    "from __future__ import division\n",
    "from __future__ import print_function\n",
    "\n",
    "import sys, os\n",
    "sys.path.append('../')\n",
    "\n",
    "import tensorflow as tf\n",
    "import numpy as np\n",
    "import gc\n",
    "\n",
    "from models.neural_network import NeuralNetwork\n",
    "from models.fcc import FCC\n",
    "from models.util import normalize, avg_l2_distortion\n",
    "\n",
    "\n",
    "os.environ[\"CUDA_VISIBLE_DEVICES\"] = \"3\"\n",
    "\n",
    "#Seed used for all calculations of training and test point indices \n",
    "SEED = 14"
   ]
  },
  {
   "cell_type": "code",
   "execution_count": null,
   "metadata": {
    "collapsed": true
   },
   "outputs": [],
   "source": [
    "#Define params of model\n",
    "input_shape = (545333)\n",
    "num_classes = 2\n",
    "eps = 10"
   ]
  },
  {
   "cell_type": "code",
   "execution_count": null,
   "metadata": {},
   "outputs": [],
   "source": [
    "#Load model from disk (Note: Drebin takes a few minutes to load the dataset)\n",
    "model_name = 'DREBIN'\n",
    "model_save_path = '../trained_models/' + model_name + '-model.json'\n",
    "weights_save_path = '../trained_models/' + model_name + 'weights'\n",
    "model = FCC(model_name=model_name, dataset='drebin')\n",
    "print ('Total Model Params: %d' % model.num_params)\n",
    "#model.load_model(model_save_path, weights_save_path) \n",
    "#epochs = 10\n",
    "#model.train(epochs=epochs)\n",
    "#model.save_model(model_save_path, weights_save_path)   "
   ]
  },
  {
   "cell_type": "code",
   "execution_count": null,
   "metadata": {},
   "outputs": [],
   "source": [
    "#Model Accuracy\n",
    "print ('Model Accuracy: %.5f' % (model.model.evaluate(model.test_data, model.test_labels)[1]))"
   ]
  },
  {
   "cell_type": "code",
   "execution_count": null,
   "metadata": {
    "collapsed": true
   },
   "outputs": [],
   "source": [
    "#Get training samples\n",
    "num_train_samples = 100\n",
    "data_indices = model.gen_rand_indices(low=0, high=model.train_data.shape[0], seed=SEED, num_samples=num_train_samples)\n",
    "train_data = model.train_data[data_indices]\n",
    "train_data_labels = model.train_labels[data_indices]\n",
    "train_data_labels_int = np.argmax(train_data_labels, axis=1)"
   ]
  },
  {
   "cell_type": "code",
   "execution_count": null,
   "metadata": {
    "collapsed": true,
    "scrolled": true
   },
   "outputs": [],
   "source": [
    "num_test_samples_per_class = 50\n",
    "num_test_samples = num_classes*num_test_samples_per_class\n",
    "\n",
    "#Generate test points\n",
    "test_indices = model.gen_rand_indices_all_classes(y=model.test_labels, seed=SEED, num_samples=num_test_samples_per_class)\n",
    "\n",
    "#Get Regular, Noisy, FGSM, BIM, and CW test points\n",
    "reg_data = model.test_data[test_indices]\n",
    "noisy_data = model.generate_perturbed_data_binary(model.test_data[test_indices], model.test_labels[test_indices],seed=SEED, perturbation='NOISY', eps=eps)\n",
    "#For JSMA we need to flip labels\n",
    "jsma_tar = (model.test_labels[test_indices] == 0).astype(int)\n",
    "jsma_data = model.generate_perturbed_data_binary(model.test_data[test_indices], jsma_tar,seed=SEED, perturbation='JSMA', eps=eps)\n",
    "fgsm_data = model.generate_perturbed_data_binary(model.test_data[test_indices], model.test_labels[test_indices],seed=SEED, perturbation='FGSM', eps=eps)\n",
    "bim_a_data = model.generate_perturbed_data_binary(model.test_data[test_indices], model.test_labels[test_indices], seed=SEED, perturbation='BIM-A', iterations=10, eps=eps)\n",
    "bim_b_data = model.generate_perturbed_data_binary(model.test_data[test_indices], model.test_labels[test_indices], seed=SEED, perturbation='BIM-B', iterations=10, eps=eps)"
   ]
  },
  {
   "cell_type": "code",
   "execution_count": null,
   "metadata": {},
   "outputs": [],
   "source": [
    "#Reset tf.graph() as Cleverhans modifies the graph\n",
    "tf.reset_default_graph()\n",
    "\n",
    "#Reload the model and weights\n",
    "model = FCC(model_name=model_name, dataset='drebin')\n",
    "model.load_model(model_save_path, weights_save_path)    "
   ]
  },
  {
   "cell_type": "code",
   "execution_count": null,
   "metadata": {
    "collapsed": true
   },
   "outputs": [],
   "source": [
    "print (model.model.evaluate(reg_data,model.test_labels[test_indices]))\n",
    "print (model.model.evaluate(noisy_data,model.test_labels[test_indices]))\n",
    "print (model.model.evaluate(fgsm_data,model.test_labels[test_indices]))\n",
    "print (model.model.evaluate(bim_a_data,model.test_labels[test_indices]))\n",
    "print (model.model.evaluate(bim_b_data,model.test_labels[test_indices]))\n",
    "print (model.model.evaluate(jsma_data,model.test_labels[test_indices]))\n",
    "\n"
   ]
  },
  {
   "cell_type": "code",
   "execution_count": null,
   "metadata": {
    "collapsed": true
   },
   "outputs": [],
   "source": [
    "#Get predictions\n",
    "reg_preds = model.model.predict(reg_data.reshape(-1,*input_shape))\n",
    "noisy_preds = model.model.predict(noisy_data.reshape(-1,*input_shape))\n",
    "fgsm_preds = model.model.predict(fgsm_data.reshape(-1,*input_shape))\n",
    "bim_a_preds = model.model.predict(bim_a_data.reshape(-1,*input_shape))\n",
    "bim_b_preds = model.model.predict(bim_b_data.reshape(-1,*input_shape))\n",
    "jsma_preds = model.model.predict(jsma_data.reshape(-1,*input_shape))\n"
   ]
  },
  {
   "cell_type": "code",
   "execution_count": null,
   "metadata": {
    "collapsed": true
   },
   "outputs": [],
   "source": [
    "#Convert preds to labels\n",
    "reg_labels = np.zeros(reg_preds.shape)\n",
    "reg_labels[np.arange(num_test_samples),np.argmax(reg_preds, axis=1)] = 1\n",
    "\n",
    "noisy_labels = np.zeros(noisy_preds.shape)\n",
    "noisy_labels[np.arange(num_test_samples),np.argmax(noisy_preds, axis=1)] = 1\n",
    "\n",
    "fgsm_labels = np.zeros(fgsm_preds.shape)\n",
    "fgsm_labels[np.arange(num_test_samples),np.argmax(fgsm_preds, axis=1)] = 1\n",
    "\n",
    "bim_a_labels = np.zeros(bim_a_preds.shape)\n",
    "bim_a_labels[np.arange(num_test_samples),np.argmax(bim_a_preds, axis=1)] = 1\n",
    "\n",
    "bim_b_labels = np.zeros(bim_b_preds.shape)\n",
    "bim_b_labels[np.arange(num_test_samples),np.argmax(bim_b_preds, axis=1)] = 1\n",
    "\n",
    "jsma_labels = np.zeros(jsma_preds.shape)\n",
    "jsma_labels[np.arange(num_test_samples),np.argmax(jsma_preds, axis=1)] = 1"
   ]
  },
  {
   "cell_type": "code",
   "execution_count": null,
   "metadata": {
    "collapsed": true,
    "scrolled": true
   },
   "outputs": [],
   "source": [
    "#Check preds to ensure adversarial samples were generated correctly\n",
    "print (np.argmax(reg_preds, axis=1))\n",
    "print (np.argmax(noisy_preds, axis=1))\n",
    "print (np.argmax(fgsm_preds, axis=1))\n",
    "print (np.argmax(bim_a_preds, axis=1))\n",
    "print (np.argmax(bim_b_preds, axis=1))\n",
    "print (np.argmax(jsma_preds, axis=1))"
   ]
  },
  {
   "cell_type": "code",
   "execution_count": null,
   "metadata": {
    "collapsed": true
   },
   "outputs": [],
   "source": [
    "#This is a large network, therefore we need to calculate cos_sim for one type and free memory\n",
    "grads_train = model.get_gradients_wrt_params(train_data, train_data_labels)\n",
    "#Hack to bypass memory issue, inplace modify\n",
    "grads_train = normalize(grads_train)\n",
    "\n",
    "#REG\n",
    "grads_reg = model.get_gradients_wrt_params(reg_data, reg_labels)\n",
    "grads_reg_nm = normalize(grads_reg)\n",
    "grads_reg_norms = np.sqrt(np.dot(grads_reg, grads_reg.T)).diagonal()\n",
    "cos_sim_reg = np.dot(grads_reg_nm, grads_train.T)\n",
    "del grads_reg_nm, grads_reg\n",
    "gc.collect()\n",
    "\n",
    "#NOISY\n",
    "grads_noisy = model.get_gradients_wrt_params(noisy_data, noisy_labels)\n",
    "grads_noisy_nm = normalize(grads_noisy)\n",
    "grads_noisy_norms = np.sqrt(np.dot(grads_noisy, grads_noisy.T)).diagonal()\n",
    "cos_sim_noisy= np.dot(grads_noisy_nm, grads_train.T)\n",
    "del grads_noisy_nm, grads_noisy\n",
    "gc.collect()\n",
    "\n",
    "#FGSM\n",
    "grads_fgsm = model.get_gradients_wrt_params(fgsm_data, fgsm_labels)\n",
    "grads_fgsm_nm = normalize(grads_fgsm)\n",
    "grads_fgsm_norms = np.sqrt(np.dot(grads_fgsm, grads_fgsm.T)).diagonal()\n",
    "cos_sim_fgsm = np.dot(grads_fgsm_nm, grads_train.T)\n",
    "del grads_fgsm_nm, grads_fgsm\n",
    "gc.collect()\n",
    "\n",
    "#BIM-A\n",
    "grads_bim_a = model.get_gradients_wrt_params(bim_a_data, bim_a_labels)\n",
    "grads_bim_a_nm = normalize(grads_bim_a)\n",
    "grads_bim_a_norms = np.sqrt(np.dot(grads_bim_a, grads_bim_a.T)).diagonal()\n",
    "cos_sim_bim_a = np.dot(grads_bim_a_nm, grads_train.T)\n",
    "del grads_bim_a_nm, grads_bim_a\n",
    "gc.collect()\n",
    "\n",
    "#BIM-B\n",
    "grads_bim_b = model.get_gradients_wrt_params(bim_b_data, bim_b_labels)\n",
    "grads_bim_b_nm = normalize(grads_bim_b)\n",
    "grads_bim_b_norms = np.sqrt(np.dot(grads_bim_b, grads_bim_b.T)).diagonal()\n",
    "cos_sim_bim_b = np.dot(grads_bim_b_nm, grads_train.T)\n",
    "del grads_bim_b_nm, grads_bim_b\n",
    "gc.collect()\n",
    "\n",
    "#JSMA\n",
    "grads_jsma = model.get_gradients_wrt_params(jsma_data, jsma_labels)\n",
    "grads_jsma_nm = normalize(grads_jsma)\n",
    "grads_jsma_norms = np.sqrt(np.dot(grads_jsma, grads_jsma.T)).diagonal()\n",
    "cos_sim_jsma = np.dot(grads_jsma_nm, grads_train.T)\n",
    "del grads_jsma_nm, grads_jsma\n",
    "gc.collect()"
   ]
  },
  {
   "cell_type": "code",
   "execution_count": null,
   "metadata": {
    "collapsed": true
   },
   "outputs": [],
   "source": [
    "#Separate Using Cos Sim\n",
    "eta = 0.59\n",
    "\n",
    "count = 0.0\n",
    "for i in range(num_test_samples):\n",
    "    if np.max(cos_sim_reg[i]) > eta:\n",
    "        count+=1.0\n",
    "        \n",
    "print ('Regular: %.4f' % ( count/num_test_samples))\n",
    "\n",
    "count = 0.0\n",
    "for i in range(num_test_samples):\n",
    "    if np.max(cos_sim_noisy[i]) > eta:\n",
    "        count+=1.0\n",
    "    \n",
    "print ('Noisy:  %.4f' % ( count/num_test_samples))\n",
    "\n",
    "count=0.0\n",
    "for i in range(num_test_samples):\n",
    "    if np.max(cos_sim_fgsm[i]) > eta:\n",
    "        count+=1.0\n",
    "        \n",
    "print ('FGSM:  %.4f' % ( count/num_test_samples))\n",
    "\n",
    "\n",
    "count=0.0\n",
    "for i in range(num_test_samples):\n",
    "    if np.max(cos_sim_bim_a[i]) > eta:\n",
    "        count+=1.0\n",
    "        \n",
    "print ('BIM-A:  %.4f' % ( count/num_test_samples))\n",
    "\n",
    "count=0.0\n",
    "for i in range(num_test_samples):\n",
    "    if np.max(cos_sim_bim_b[i]) > eta:\n",
    "        count+=1.0\n",
    "        \n",
    "print ('BIM-B:  %.4f' % ( count/num_test_samples))\n",
    "\n",
    "count=0.0\n",
    "for i in range(num_test_samples):\n",
    "    if np.max(cos_sim_jsma[i]) > eta:\n",
    "        count+=1.0\n",
    "    \n",
    "print ('JSMA: %.4f' % ( count/num_test_samples))"
   ]
  },
  {
   "cell_type": "code",
   "execution_count": null,
   "metadata": {
    "collapsed": true
   },
   "outputs": [],
   "source": [
    "#Separate using just norm\n",
    "gamma = 1.0000024\n",
    "\n",
    "count = 0.0\n",
    "for i in range(num_test_samples):\n",
    "    if grads_reg_norms[i] < gamma:\n",
    "        count+=1.0\n",
    "        \n",
    "print ('Regular: %.4f' % ( count/num_test_samples))\n",
    "\n",
    "count = 0.0\n",
    "for i in range(num_test_samples):\n",
    "    if grads_noisy_norms[i] < gamma:\n",
    "        count+=1.0\n",
    "    \n",
    "print ('Noisy:  %.4f' % ( count/num_test_samples))\n",
    "\n",
    "count=0.0\n",
    "for i in range(num_test_samples):\n",
    "    if grads_fgsm_norms[i] < gamma:\n",
    "        count+=1.0\n",
    "        \n",
    "print ('FGSM:  %.4f' % ( count/num_test_samples))\n",
    "\n",
    "count=0.0\n",
    "for i in range(num_test_samples):\n",
    "    if grads_bim_a_norms[i] < gamma:\n",
    "        count+=1.0\n",
    "        \n",
    "print ('BIM-A:  %.4f' % ( count/num_test_samples))\n",
    "\n",
    "count=0.0\n",
    "for i in range(num_test_samples):\n",
    "    if grads_bim_b_norms[i] < gamma:\n",
    "        count+=1.0\n",
    "        \n",
    "print ('BIM-B:  %.4f' % ( count/num_test_samples))\n",
    "\n",
    "\n",
    "count=0.0\n",
    "for i in range(num_test_samples):\n",
    "    if grads_jsma_norms[i] < gamma:\n",
    "        count+=1.0\n",
    "    \n",
    "print ('JSMA: %.4f' % ( count/num_test_samples))\n"
   ]
  },
  {
   "cell_type": "code",
   "execution_count": null,
   "metadata": {
    "collapsed": true
   },
   "outputs": [],
   "source": [
    "#Use both cos and norm\n",
    "\n",
    "count = 0.0\n",
    "for i in range(num_test_samples):\n",
    "    if np.max(cos_sim_reg[i]) > eta and grads_reg_norms[i] < gamma:\n",
    "        count+=1.0\n",
    "        \n",
    "print ('Regular: %.4f' % ( count/num_test_samples))\n",
    "\n",
    "count = 0.0\n",
    "for i in range(num_test_samples):\n",
    "    if np.max(cos_sim_noisy[i]) > eta and grads_noisy_norms[i] < gamma:\n",
    "        count+=1.0\n",
    "    \n",
    "print ('Noisy:  %.4f' % ( count/num_test_samples))\n",
    "\n",
    "count=0.0\n",
    "for i in range(num_test_samples):\n",
    "    if np.max(cos_sim_fgsm[i]) > eta and grads_fgsm_norms[i] < gamma:\n",
    "        count+=1.0\n",
    "        \n",
    "print ('FGSM:  %.4f' % ( count/num_test_samples))\n",
    "\n",
    "count=0.0\n",
    "for i in range(num_test_samples):\n",
    "    if np.max(cos_sim_bim_a[i]) > eta and grads_bim_a_norms[i] < gamma:\n",
    "        count+=1.0\n",
    "        \n",
    "print ('BIM-A:  %.4f' % ( count/num_test_samples))\n",
    "\n",
    "\n",
    "count=0.0\n",
    "for i in range(num_test_samples):\n",
    "    if np.max(cos_sim_jsma[i]) > eta and grads_jsma_norms[i] < gamma:\n",
    "        count+=1.0\n",
    "    \n",
    "print ('JSMA: %.4f' % ( count/num_test_samples))\n"
   ]
  },
  {
   "cell_type": "code",
   "execution_count": null,
   "metadata": {
    "collapsed": true
   },
   "outputs": [],
   "source": [
    "print ('Noisy: %.5f' % (avg_l2_distortion(reg_data, noisy_data)))\n",
    "print ('FGSM: %.5f' % (avg_l2_distortion(reg_data, fgsm_data)))\n",
    "print ('BIM-A: %.5f' % (avg_l2_distortion(reg_data, bim_a_data)))\n",
    "print ('BIM-B: %.5f' % (avg_l2_distortion(reg_data, bim_b_data)))\n",
    "print ('JSMA: %.5f' % (avg_l2_distortion(reg_data, jsma_data)))"
   ]
  },
  {
   "cell_type": "code",
   "execution_count": null,
   "metadata": {
    "collapsed": true
   },
   "outputs": [],
   "source": [
    "count = 0.0\n",
    "for i in range(num_test_samples):\n",
    "    if np.max(cos_sim_noisy[i]) > np.max(cos_sim_reg[i]):\n",
    "        count+=1.0\n",
    "    \n",
    "print ('Noisy:  %.4f' % ( count/num_test_samples))\n",
    "\n",
    "count=0.0\n",
    "for i in range(num_test_samples):\n",
    "    if np.max(cos_sim_fgsm[i]) > np.max(cos_sim_reg[i]):\n",
    "        count+=1.0\n",
    "        \n",
    "print ('FGSM:  %.4f' % ( count/num_test_samples))\n",
    "\n",
    "count=0.0\n",
    "for i in range(num_test_samples):\n",
    "    if np.max(cos_sim_bim_a[i])> np.max(cos_sim_reg[i]):\n",
    "        count+=1.0\n",
    "        \n",
    "print ('BIM-A:  %.4f' % ( count/num_test_samples))\n",
    "\n",
    "count=0.0\n",
    "for i in range(num_test_samples):\n",
    "    if np.max(cos_sim_bim_b[i]) > np.max(cos_sim_reg[i]):\n",
    "        count+=1.0\n",
    "        \n",
    "print ('BIM-B:  %.4f' % ( count/num_test_samples))\n",
    "\n",
    "\n",
    "count=0.0\n",
    "for i in range(num_test_samples):\n",
    "    if np.max(cos_sim_jsma[i]) > np.max(cos_sim_reg[i]):\n",
    "        count+=1.0\n",
    "    \n",
    "print ('JSMA: %.4f' % ( count/num_test_samples))\n",
    "\n",
    "\n",
    "\n"
   ]
  },
  {
   "cell_type": "code",
   "execution_count": null,
   "metadata": {
    "collapsed": true
   },
   "outputs": [],
   "source": [
    "count = 0.0\n",
    "for i in range(num_test_samples):\n",
    "    if grads_noisy_norms[i] < grads_reg_norms[i]:\n",
    "        count+=1.0\n",
    "    \n",
    "print ('Noisy:  %.4f' % ( count/num_test_samples))\n",
    "\n",
    "count=0.0\n",
    "for i in range(num_test_samples):\n",
    "    if grads_fgsm_norms[i] < grads_reg_norms[i]:\n",
    "        count+=1.0\n",
    "        \n",
    "print ('FGSM:  %.4f' % ( count/num_test_samples))\n",
    "\n",
    "count=0.0\n",
    "for i in range(num_test_samples):\n",
    "    if grads_bim_a_norms[i] < grads_reg_norms[i]:\n",
    "        count+=1.0\n",
    "        \n",
    "print ('BIM-A:  %.4f' % ( count/num_test_samples))\n",
    "\n",
    "count=0.0\n",
    "for i in range(num_test_samples):\n",
    "    if grads_bim_b_norms[i] < grads_reg_norms[i]:\n",
    "        count+=1.0\n",
    "        \n",
    "print ('BIM-B:  %.4f' % ( count/num_test_samples))\n",
    "\n",
    "\n",
    "count=0.0\n",
    "for i in range(num_test_samples):\n",
    "    if grads_jsma_norms[i] < grads_reg_norms[i]:\n",
    "        count+=1.0\n",
    "    \n",
    "print ('JSMA: %.4f' % ( count/num_test_samples))\n"
   ]
  }
 ],
 "metadata": {
  "kernelspec": {
   "display_name": "Python 2",
   "language": "python",
   "name": "python2"
  },
  "language_info": {
   "codemirror_mode": {
    "name": "ipython",
    "version": 2
   },
   "file_extension": ".py",
   "mimetype": "text/x-python",
   "name": "python",
   "nbconvert_exporter": "python",
   "pygments_lexer": "ipython2",
   "version": "2.7.12"
  }
 },
 "nbformat": 4,
 "nbformat_minor": 2
}
