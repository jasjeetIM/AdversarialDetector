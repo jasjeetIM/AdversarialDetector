{
 "cells": [
  {
   "cell_type": "code",
   "execution_count": 1,
   "metadata": {},
   "outputs": [
    {
     "name": "stderr",
     "output_type": "stream",
     "text": [
      "Using TensorFlow backend.\n"
     ]
    }
   ],
   "source": [
    "from __future__ import division\n",
    "from __future__ import print_function\n",
    "\n",
    "import sys, os\n",
    "sys.path.append('../')\n",
    "\n",
    "import tensorflow as tf\n",
    "import numpy as np\n",
    "import gc\n",
    "from sklearn import linear_model\n",
    "from sklearn.metrics import roc_curve, auc\n",
    "\n",
    "from models.neural_network import NeuralNetwork\n",
    "from models.fcc import FCC\n",
    "from models.util import *\n",
    "\n",
    "\n",
    "os.environ[\"CUDA_VISIBLE_DEVICES\"] = \"2\"\n",
    "\n",
    "#Seed used for all calculations of training and test point indices \n",
    "SEED = 17"
   ]
  },
  {
   "cell_type": "code",
   "execution_count": 2,
   "metadata": {
    "collapsed": true
   },
   "outputs": [],
   "source": [
    "#Define params of model\n",
    "input_shape = (545333)\n",
    "num_classes = 2\n",
    "eps = 10"
   ]
  },
  {
   "cell_type": "code",
   "execution_count": 3,
   "metadata": {},
   "outputs": [
    {
     "name": "stdout",
     "output_type": "stream",
     "text": [
      "Total Model Params: 34918082\n",
      "Loaded model from disk\n"
     ]
    }
   ],
   "source": [
    "#Load model from disk (Note: Drebin takes a few minutes to load the dataset)\n",
    "model_name = 'DREBIN'\n",
    "model_save_path = '../trained_models/' + model_name + '-model.json'\n",
    "weights_save_path = '../trained_models/' + model_name + 'weights'\n",
    "model = FCC(model_name=model_name, dataset='drebin', seed=SEED)\n",
    "print ('Total Model Params: %d' % model.num_params)\n",
    "model.load_model(model_save_path, weights_save_path) \n",
    "#epochs = 10\n",
    "#model.train(epochs=epochs)\n",
    "#model.save_model(model_save_path, weights_save_path)   "
   ]
  },
  {
   "cell_type": "code",
   "execution_count": 4,
   "metadata": {},
   "outputs": [
    {
     "name": "stdout",
     "output_type": "stream",
     "text": [
      "3913/3913 [==============================] - 15s 4ms/step\n",
      "Model Accuracy: 0.98722\n"
     ]
    }
   ],
   "source": [
    "#Model Accuracy\n",
    "print ('Model Accuracy: %.5f' % (model.model.evaluate(model.test_data, model.test_labels)[1]))"
   ]
  },
  {
   "cell_type": "code",
   "execution_count": 5,
   "metadata": {
    "collapsed": true
   },
   "outputs": [],
   "source": [
    "#Get training samples\n",
    "num_train_samples = 100\n",
    "data_indices = model.gen_rand_indices(low=0, high=model.train_data.shape[0], seed=SEED, num_samples=num_train_samples)\n",
    "train_data = model.train_data[data_indices]\n",
    "train_data_labels = model.train_labels[data_indices]\n",
    "train_data_labels_int = np.argmax(train_data_labels, axis=1)"
   ]
  },
  {
   "cell_type": "code",
   "execution_count": 6,
   "metadata": {
    "collapsed": true,
    "scrolled": true
   },
   "outputs": [],
   "source": [
    "num_test_samples_per_class = 50\n",
    "num_test_samples = num_classes*num_test_samples_per_class\n",
    "\n",
    "#Generate test points\n",
    "test_indices = model.gen_rand_indices_all_classes(y=model.test_labels, seed=SEED, num_samples=num_test_samples_per_class)\n",
    "\n",
    "#Get Regular, Noisy, FGSM, BIM, and CW test points\n",
    "reg_data = model.test_data[test_indices]\n",
    "fgsm_data = model.generate_perturbed_data_binary(model.test_data[test_indices], model.test_labels[test_indices],seed=SEED, perturbation='FGSM')\n",
    "bim_a_data = model.generate_perturbed_data_binary(model.test_data[test_indices], model.test_labels[test_indices], seed=SEED, perturbation='BIM-A', iterations=eps)\n",
    "bim_b_data = model.generate_perturbed_data_binary(model.test_data[test_indices], model.test_labels[test_indices], seed=SEED, perturbation='BIM-B', iterations=eps)\n",
    "#For JSMA we need to flip labels\n",
    "jsma_tar = (model.test_labels[test_indices] == 0).astype(int)\n",
    "jsma_data = model.generate_perturbed_data_binary(model.test_data[test_indices], jsma_tar,seed=SEED, perturbation='JSMA', iterations=eps)"
   ]
  },
  {
   "cell_type": "code",
   "execution_count": 7,
   "metadata": {},
   "outputs": [
    {
     "name": "stdout",
     "output_type": "stream",
     "text": [
      "Loaded model from disk\n"
     ]
    }
   ],
   "source": [
    "#Reset tf.graph() as Cleverhans modifies the graph\n",
    "tf.reset_default_graph()\n",
    "del model\n",
    "gc.collect()\n",
    "#Reload the model and weights\n",
    "model = FCC(model_name=model_name, dataset='drebin', seed=SEED)\n",
    "model.load_model(model_save_path, weights_save_path)    "
   ]
  },
  {
   "cell_type": "code",
   "execution_count": 8,
   "metadata": {},
   "outputs": [
    {
     "name": "stdout",
     "output_type": "stream",
     "text": [
      "100/100 [==============================] - 0s 5ms/step\n",
      "Model Accuracy REG: 0.91000\n",
      "100/100 [==============================] - 0s 4ms/step\n",
      "Model Accuracy FGSM: 0.50000\n",
      "100/100 [==============================] - 0s 4ms/step\n",
      "Model Accuracy BIM-A: 0.00000\n",
      "100/100 [==============================] - 0s 4ms/step\n",
      "Model Accuracy BIM-B: 0.25000\n",
      "100/100 [==============================] - 0s 4ms/step\n",
      "Model Accuracy JSMA: 0.00000\n"
     ]
    }
   ],
   "source": [
    "print ('Model Accuracy REG: %.5f' % (model.model.evaluate(reg_data,model.test_labels[test_indices])[1]))\n",
    "print ('Model Accuracy FGSM: %.5f' % (model.model.evaluate(fgsm_data,model.test_labels[test_indices])[1]))\n",
    "print ('Model Accuracy BIM-A: %.5f' % (model.model.evaluate(bim_a_data,model.test_labels[test_indices])[1]))\n",
    "print ('Model Accuracy BIM-B: %.5f' % (model.model.evaluate(bim_b_data,model.test_labels[test_indices])[1]))\n",
    "print ('Model Accuracy JSMA: %.5f' % (model.model.evaluate(jsma_data,model.test_labels[test_indices])[1]))"
   ]
  },
  {
   "cell_type": "code",
   "execution_count": 9,
   "metadata": {
    "collapsed": true
   },
   "outputs": [],
   "source": [
    "#Get predictions\n",
    "reg_preds = model.model.predict(reg_data.reshape(-1,input_shape))\n",
    "fgsm_preds = model.model.predict(fgsm_data.reshape(-1,input_shape))\n",
    "bim_a_preds = model.model.predict(bim_a_data.reshape(-1,input_shape))\n",
    "bim_b_preds = model.model.predict(bim_b_data.reshape(-1,input_shape))\n",
    "jsma_preds = model.model.predict(jsma_data.reshape(-1,input_shape))\n",
    "\n",
    "#Convert preds to labels\n",
    "reg_labels = preds_to_labels(reg_preds)\n",
    "fgsm_labels = preds_to_labels(fgsm_preds)\n",
    "bim_a_labels = preds_to_labels(bim_a_preds)\n",
    "bim_b_labels = preds_to_labels(bim_b_preds)\n",
    "jsma_labels = preds_to_labels(jsma_preds)\n",
    "\n",
    "#Select Adversarial Points (i.e. points that lead to misclassification)\n",
    "true_preds = np.argmax(model.test_labels[test_indices], axis=1)\n",
    "\n",
    "#Check which points are actually adversarial and select those\n",
    "fgsm_idx = np.where(np.argmax(fgsm_preds, axis=1) != true_preds)[0]\n",
    "bim_a_idx = np.where(np.argmax(bim_a_preds, axis=1) != true_preds)[0]\n",
    "bim_b_idx = np.where(np.argmax(bim_b_preds, axis=1) != true_preds)[0]\n",
    "jsma_idx = np.where(np.argmax(jsma_preds, axis=1) != true_preds)[0]\n",
    "\n",
    "\n",
    "#Filter data points to be used for similarity\n",
    "fgsm_data_fil = fgsm_data[fgsm_idx]\n",
    "bim_a_data_fil = bim_a_data[bim_a_idx]\n",
    "bim_b_data_fil = bim_b_data[bim_b_idx]\n",
    "jsma_data_fil = jsma_data[jsma_idx]\n",
    "\n",
    "\n",
    "#Filter labels to be used\n",
    "fgsm_labels_fil = fgsm_labels[fgsm_idx]\n",
    "bim_a_labels_fil = bim_a_labels[bim_a_idx]\n",
    "bim_b_labels_fil = bim_b_labels[bim_b_idx]\n",
    "jsma_labels_fil = jsma_labels[jsma_idx]"
   ]
  },
  {
   "cell_type": "code",
   "execution_count": 10,
   "metadata": {},
   "outputs": [
    {
     "name": "stdout",
     "output_type": "stream",
     "text": [
      "FGSM: 615.04098\n",
      "BIM-A: 1.00000\n",
      "BIM-B: 2.40988\n",
      "JSMA: 1.33507\n"
     ]
    }
   ],
   "source": [
    "#Get distortion \n",
    "print ('FGSM: %.5f' % (avg_l2_dist(reg_data[fgsm_idx], fgsm_data_fil)))\n",
    "print ('BIM-A: %.5f' % (avg_l2_dist(reg_data[bim_a_idx], bim_a_data_fil)))\n",
    "print ('BIM-B: %.5f' % (avg_l2_dist(reg_data[bim_b_idx], bim_b_data_fil)))\n",
    "print ('JSMA: %.5f' % (avg_l2_dist(reg_data[jsma_idx], jsma_data_fil)))"
   ]
  },
  {
   "cell_type": "code",
   "execution_count": 11,
   "metadata": {},
   "outputs": [
    {
     "name": "stderr",
     "output_type": "stream",
     "text": [
      "../models/util.py:81: RuntimeWarning: invalid value encountered in sqrt\n",
      "  norms = np.sqrt(np.dot(grads, grads.T)).diagonal()\n"
     ]
    }
   ],
   "source": [
    "#Get cosine similarity and norms\n",
    "grads_train = model.get_gradients_wrt_params(train_data, train_data_labels)\n",
    "grads_train = normalize(grads_train)\n",
    "grads_reg_norms, cos_sim_reg = norms_and_cos(model, reg_data, reg_labels, grads_train)\n",
    "grads_fgsm_norms, cos_sim_fgsm =norms_and_cos(model, fgsm_data_fil, fgsm_labels_fil, grads_train)\n",
    "grads_bim_a_norms, cos_sim_bim_a = norms_and_cos(model, bim_a_data_fil, bim_a_labels_fil, grads_train)\n",
    "grads_bim_b_norms , cos_sim_bim_b= norms_and_cos(model, bim_b_data_fil, bim_b_labels_fil, grads_train)\n",
    "grads_jsma_norms, cos_sim_jsma = norms_and_cos(model, jsma_data_fil, jsma_labels_fil, grads_train)"
   ]
  },
  {
   "cell_type": "markdown",
   "metadata": {},
   "source": [
    "**LOGISTIC REGRESSION FOR GREYBOX**"
   ]
  },
  {
   "cell_type": "code",
   "execution_count": 12,
   "metadata": {
    "collapsed": true
   },
   "outputs": [],
   "source": [
    "#Train a logistic regression classifier on the data. We only train on gray box attack points. \n",
    "#Due to lack of data (computationally expensive to compute attack points), we use 95% of data to train and 5% to test\n",
    "\n",
    "#Select training and test indices\n",
    "np.random.seed(SEED)\n",
    "train_pct = .95\n",
    "reg_train_idx = np.random.choice(np.arange(num_test_samples), int(train_pct*num_test_samples), replace=False)\n",
    "reg_test_idx = get_test_from_train_idx(np.arange(num_test_samples), reg_train_idx)\n",
    "fgsm_train_idx = np.random.choice(np.arange(len(fgsm_idx)), int(len(fgsm_idx)*train_pct), replace=False)\n",
    "fgsm_test_idx = get_test_from_train_idx(np.arange(len(fgsm_idx)), fgsm_train_idx)\n",
    "bim_a_train_idx = np.random.choice(np.arange(len(bim_a_idx)), int(len(bim_a_idx)*train_pct), replace=False)\n",
    "bim_a_test_idx = get_test_from_train_idx(np.arange(len(bim_a_idx)), bim_a_train_idx)\n",
    "bim_b_train_idx =np.random.choice(np.arange(len(bim_b_idx)), int(len(bim_b_idx)*train_pct), replace=False)\n",
    "bim_b_test_idx = get_test_from_train_idx(np.arange(len(bim_b_idx)), bim_b_train_idx)\n",
    "jsma_train_idx =np.random.choice(np.arange(len(jsma_idx)), int(len(jsma_idx)*train_pct), replace=False)\n",
    "jsma_test_idx = get_test_from_train_idx(np.arange(len(jsma_idx)), jsma_train_idx)\n",
    "\n",
    "# Set up training and test data for logistic regression\n",
    "train_data = np.concatenate((cos_sim_reg[reg_train_idx], \n",
    "                             cos_sim_fgsm[fgsm_train_idx],\n",
    "                             cos_sim_bim_a[bim_a_train_idx],\n",
    "                             cos_sim_bim_b[bim_b_train_idx], \n",
    "                             cos_sim_jsma[jsma_train_idx]),axis=0)\n",
    "train_labels = np.concatenate((np.zeros(len(reg_train_idx)), \n",
    "                               np.ones(len(fgsm_train_idx)),\n",
    "                               np.ones(len(bim_a_train_idx)),\n",
    "                               np.ones(len(bim_b_train_idx)),\n",
    "                               np.ones(len(jsma_train_idx))),axis=0)\n",
    "\n",
    "test_data = np.concatenate((cos_sim_reg[reg_test_idx], \n",
    "                             cos_sim_fgsm[fgsm_test_idx],\n",
    "                             cos_sim_bim_a[bim_a_test_idx],\n",
    "                             cos_sim_bim_b[bim_b_test_idx], \n",
    "                             cos_sim_jsma[jsma_test_idx]),axis=0)\n",
    "\n",
    "test_labels = np.concatenate((np.zeros(len(reg_test_idx)), \n",
    "                               np.ones(len(fgsm_test_idx)),\n",
    "                               np.ones(len(bim_a_test_idx)),\n",
    "                               np.ones(len(bim_b_test_idx)),\n",
    "                               np.ones(len(jsma_test_idx))),axis=0)"
   ]
  },
  {
   "cell_type": "code",
   "execution_count": 13,
   "metadata": {},
   "outputs": [
    {
     "name": "stdout",
     "output_type": "stream",
     "text": [
      "FGSM Detection Acc: 1.00000\n",
      "BIM-A Detection Acc: 1.00000\n",
      "BIM-B Detection Acc: 1.00000\n",
      "JSMA Detection Acc: 1.00000\n",
      "TOTAL Detection Acc: 0.95455\n"
     ]
    }
   ],
   "source": [
    "#Fit the data\n",
    "logreg = linear_model.LogisticRegression(C=1e5)\n",
    "logreg.fit(train_data, train_labels)\n",
    "\n",
    "#Get Accuracy for each attack type\n",
    "fgsm_acc = logreg.score(cos_sim_fgsm[fgsm_test_idx], np.ones(len(fgsm_test_idx)))\n",
    "bim_a_acc = logreg.score(cos_sim_bim_a[bim_a_test_idx], np.ones(len(bim_a_test_idx)))\n",
    "bim_b_acc = logreg.score(cos_sim_bim_b[bim_b_test_idx], np.ones(len(bim_b_test_idx)))\n",
    "jsma_acc = logreg.score(cos_sim_jsma[jsma_test_idx], np.ones(len(jsma_test_idx)))\n",
    "#Get Total accuracy\n",
    "total_acc = logreg.score(test_data, test_labels)\n",
    "\n",
    "print ('FGSM Detection Acc: %.5f' % (fgsm_acc))\n",
    "print ('BIM-A Detection Acc: %.5f' % (bim_a_acc))\n",
    "print ('BIM-B Detection Acc: %.5f' % (bim_b_acc))\n",
    "print ('JSMA Detection Acc: %.5f' % (jsma_acc))\n",
    "print ('TOTAL Detection Acc: %.5f' %(total_acc))"
   ]
  },
  {
   "cell_type": "code",
   "execution_count": 22,
   "metadata": {},
   "outputs": [],
   "source": [
    "test_data_fgsm = np.concatenate((cos_sim_reg[reg_test_idx], \n",
    "                             cos_sim_fgsm[fgsm_test_idx]),axis=0)\n",
    "test_data_bima = np.concatenate((cos_sim_reg[reg_test_idx], \n",
    "                             cos_sim_bim_a[bim_a_test_idx]),axis=0)\n",
    "test_data_bimb = np.concatenate((cos_sim_reg[reg_test_idx], \n",
    "                             cos_sim_bim_b[bim_b_test_idx]),axis=0)\n",
    "test_data_jsma = np.concatenate((cos_sim_reg[reg_test_idx], \n",
    "                             cos_sim_jsma[jsma_test_idx]),axis=0)\n",
    "\n",
    "\n",
    "#Get correct test labels for each attack type\n",
    "test_labels_fgsm = np.concatenate((np.zeros(len(reg_test_idx)), \n",
    "                                   np.ones(len(fgsm_test_idx))),axis=0)\n",
    "\n",
    "test_labels_bima = np.concatenate((np.zeros(len(reg_test_idx)), \n",
    "                                   np.ones(len(bim_a_test_idx))),axis=0)\n",
    "\n",
    "test_labels_bimb = np.concatenate((np.zeros(len(reg_test_idx)), \n",
    "                                   np.ones(len(bim_b_test_idx))),axis=0)\n",
    "\n",
    "test_labels_jsma = np.concatenate((np.zeros(len(reg_test_idx)), \n",
    "                                   np.ones(len(jsma_test_idx))),axis=0)\n",
    "\n",
    "\n",
    "#Plot ROC for the entire test dataset\n",
    "probs_fgsm = logreg.predict_proba(test_data_fgsm)\n",
    "probs_bima = logreg.predict_proba(test_data_bima)\n",
    "probs_bimb = logreg.predict_proba(test_data_bimb)\n",
    "probs_jsma = logreg.predict_proba(test_data_jsma)\n",
    "\n"
   ]
  },
  {
   "cell_type": "code",
   "execution_count": 23,
   "metadata": {},
   "outputs": [
    {
     "name": "stdout",
     "output_type": "stream",
     "text": [
      "FGSM AUC: 1.0000\n",
      "BIM-A AUC: 1.0000\n",
      "BIM-B AUC: 1.0000\n",
      "JSMA AUC: 1.0000\n"
     ]
    }
   ],
   "source": [
    "fpr_fgsm, tpr_fgsm, _ = roc_curve(test_labels_fgsm, probs_fgsm[:, 1])\n",
    "fpr_bima, tpr_bima, _ = roc_curve(test_labels_bima, probs_bima[:, 1])\n",
    "fpr_bimb, tpr_bimb, _ = roc_curve(test_labels_bimb, probs_bimb[:, 1])\n",
    "fpr_jsma, tpr_jsma, _ = roc_curve(test_labels_jsma, probs_jsma[:, 1])\n",
    "\n",
    "\n",
    "\n",
    "\n",
    "fgsm_auc = auc(fpr_fgsm, tpr_fgsm)\n",
    "bima_auc = auc(fpr_bima, tpr_bima)\n",
    "bimb_auc = auc(fpr_bimb, tpr_bimb)\n",
    "jsma_auc = auc(fpr_jsma, tpr_jsma)\n",
    "\n",
    "\n",
    "print ('FGSM AUC: %.4f' % (fgsm_auc))\n",
    "print ('BIM-A AUC: %.4f' % ( bima_auc))\n",
    "print ('BIM-B AUC: %.4f' % ( bimb_auc))\n",
    "print ('JSMA AUC: %.4f' % (jsma_auc ))\n",
    "\n",
    "\n"
   ]
  },
  {
   "cell_type": "code",
   "execution_count": 14,
   "metadata": {},
   "outputs": [
    {
     "data": {
      "image/png": "[encoded data removed]",
      "text/plain": [
       "<matplotlib.figure.Figure at 0x7fc6ac6d6f10>"
      ]
     },
     "metadata": {},
     "output_type": "display_data"
    }
   ],
   "source": [
    "#Plot ROC for the entire test dataset\n",
    "probs = logreg.predict_proba(test_data)\n",
    "fpr, tpr, _ = roc_curve(test_labels, probs[:, 1])\n",
    "roc_auc = auc(fpr, tpr)\n",
    "\n",
    "# Plot all ROC curves\n",
    "plt.figure()\n",
    "plt.plot(fpr, tpr,\n",
    "         label='ROC curve (area = {0:0.2f})'\n",
    "               ''.format(roc_auc),\n",
    "         color='blue', linewidth=2)\n",
    "\n",
    "plt.xlim([0.0, 1.0])\n",
    "plt.ylim([0.0, 1.05])\n",
    "plt.xlabel('False Positive Rate')\n",
    "plt.ylabel('True Positive Rate')\n",
    "plt.title('ROC Curve')\n",
    "plt.legend(loc=\"lower right\")\n",
    "plt.savefig('drebin.eps', format='eps', dpi=1000)\n",
    "plt.show()\n"
   ]
  },
  {
   "cell_type": "markdown",
   "metadata": {},
   "source": [
    "**THRESHOLDING FOR GREYBOX**"
   ]
  },
  {
   "cell_type": "code",
   "execution_count": 15,
   "metadata": {},
   "outputs": [
    {
     "name": "stdout",
     "output_type": "stream",
     "text": [
      "FGSM:  0.0000\n",
      "BIM-A:  0.0000\n",
      "BIM-B:  0.0000\n",
      "JSMA: 0.0000\n"
     ]
    }
   ],
   "source": [
    "#Ratio of perturbed samples having cos sim greater\n",
    "print ('FGSM:  %.4f' % ( comp_cos(cos_sim_fgsm, cos_sim_reg[fgsm_idx])))\n",
    "print ('BIM-A:  %.4f' % ( comp_cos(cos_sim_bim_a, cos_sim_reg[bim_a_idx])))\n",
    "print ('BIM-B:  %.4f' % ( comp_cos(cos_sim_bim_b, cos_sim_reg[bim_b_idx])))\n",
    "print ('JSMA: %.4f' % ( comp_cos(cos_sim_jsma, cos_sim_reg[jsma_idx])))"
   ]
  },
  {
   "cell_type": "code",
   "execution_count": 16,
   "metadata": {},
   "outputs": [
    {
     "name": "stdout",
     "output_type": "stream",
     "text": [
      "FGSM:  0.0000\n",
      "BIM-A:  0.4400\n",
      "BIM-B:  0.5067\n",
      "JSMA: 0.4000\n"
     ]
    }
   ],
   "source": [
    "#Ratio of perturbed samples having norm greater\n",
    "print ('FGSM:  %.4f' % ( comp_norm(grads_fgsm_norms, grads_reg_norms[fgsm_idx])))\n",
    "print ('BIM-A:  %.4f' % ( comp_norm(grads_bim_a_norms, grads_reg_norms[bim_a_idx])))\n",
    "print ('BIM-B:  %.4f' % ( comp_norm(grads_bim_b_norms, grads_reg_norms[bim_b_idx])))\n",
    "print ('JSMA: %.4f' % ( comp_norm(grads_jsma_norms, grads_reg_norms[jsma_idx])))"
   ]
  },
  {
   "cell_type": "code",
   "execution_count": 17,
   "metadata": {},
   "outputs": [
    {
     "name": "stdout",
     "output_type": "stream",
     "text": [
      "Regular: 0.8700\n",
      "FGSM:  0.0000\n",
      "BIM-A:  0.0000\n",
      "BIM-B:  0.1200\n",
      "JSMA:  0.3700\n"
     ]
    }
   ],
   "source": [
    "#Separate Using Cos Sim\n",
    "eta = 0.75\n",
    "print ('Regular: %.4f' % ( greater_cos(cos_sim_reg, eta)))\n",
    "print ('FGSM:  %.4f' % ( greater_cos(cos_sim_fgsm, eta)))\n",
    "print ('BIM-A:  %.4f' % ( greater_cos(cos_sim_bim_a, eta)))\n",
    "print ('BIM-B:  %.4f' % ( greater_cos(cos_sim_bim_b, eta)))\n",
    "print ('JSMA:  %.4f' % ( greater_cos(cos_sim_jsma, eta)))"
   ]
  },
  {
   "cell_type": "code",
   "execution_count": 18,
   "metadata": {},
   "outputs": [
    {
     "name": "stdout",
     "output_type": "stream",
     "text": [
      "Regular: 0.8100\n",
      "FGSM:  1.0000\n",
      "BIM-A:  1.0000\n",
      "BIM-B:  0.9200\n",
      "JSMA:  1.0000\n"
     ]
    }
   ],
   "source": [
    "#Separate using just norm\n",
    "gamma = 29\n",
    "print ('Regular: %.4f' % ( smaller_norm(grads_reg_norms, gamma)))\n",
    "print ('FGSM:  %.4f' % ( smaller_norm(grads_fgsm_norms, gamma)))\n",
    "print ('BIM-A:  %.4f' % ( smaller_norm(grads_bim_a_norms, gamma)))\n",
    "print ('BIM-B:  %.4f' % ( smaller_norm(grads_bim_b_norms, gamma)))\n",
    "print ('JSMA:  %.4f' % ( smaller_norm(grads_jsma_norms, gamma)))"
   ]
  },
  {
   "cell_type": "code",
   "execution_count": 19,
   "metadata": {},
   "outputs": [
    {
     "name": "stdout",
     "output_type": "stream",
     "text": [
      "Regular: 0.7800\n",
      "FGSM:  0.0000\n",
      "BIM-A:  0.0000\n",
      "BIM-B:  0.0400\n",
      "JSMA:  0.3700\n"
     ]
    }
   ],
   "source": [
    "#Use both cos and norm\n",
    "print ('Regular: %.4f' % ( cos_and_norm_sep(cos_sim_reg, grads_reg_norms, eta, gamma)))\n",
    "print ('FGSM:  %.4f' % ( cos_and_norm_sep(cos_sim_fgsm, grads_fgsm_norms, eta, gamma)))\n",
    "print ('BIM-A:  %.4f' % ( cos_and_norm_sep(cos_sim_bim_a, grads_bim_a_norms, eta, gamma)))\n",
    "print ('BIM-B:  %.4f' % ( cos_and_norm_sep(cos_sim_bim_b, grads_bim_b_norms, eta, gamma)))\n",
    "print ('JSMA:  %.4f' % ( cos_and_norm_sep(cos_sim_jsma, grads_jsma_norms, eta, gamma)))"
   ]
  }
 ],
 "metadata": {
  "kernelspec": {
   "display_name": "Python 2",
   "language": "python",
   "name": "python2"
  },
  "language_info": {
   "codemirror_mode": {
    "name": "ipython",
    "version": 2
   },
   "file_extension": ".py",
   "mimetype": "text/x-python",
   "name": "python",
   "nbconvert_exporter": "python",
   "pygments_lexer": "ipython2",
   "version": "2.7.12"
  }
 },
 "nbformat": 4,
 "nbformat_minor": 2
}
