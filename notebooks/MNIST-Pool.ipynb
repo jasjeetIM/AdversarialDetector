{
 "cells": [
  {
   "cell_type": "code",
   "execution_count": 1,
   "metadata": {
    "collapsed": true
   },
   "outputs": [],
   "source": [
    "%%capture state\n",
    "\n",
    "from __future__ import division\n",
    "from __future__ import print_function\n",
    "\n",
    "import sys, os\n",
    "sys.path.append('../')\n",
    "\n",
    "import tensorflow as tf\n",
    "import numpy as np\n",
    "\n",
    "from models.neural_network import NeuralNetwork\n",
    "from models.cnn import CNN\n",
    "\n",
    "os.environ[\"CUDA_VISIBLE_DEVICES\"] = \"1\"\n",
    "\n",
    "#Seed used for all calculations of training and test point indices \n",
    "SEED = 14"
   ]
  },
  {
   "cell_type": "code",
   "execution_count": 2,
   "metadata": {
    "collapsed": true
   },
   "outputs": [],
   "source": [
    "## Visualization of samples\n",
    "import matplotlib\n",
    "import matplotlib.pyplot as plt\n",
    "%matplotlib inline\n",
    "\n",
    "def visualize(image):\n",
    "    plt.figure(figsize=(1, 1))\n",
    "    if image.shape[-1] == 1:\n",
    "        # image is in black and white\n",
    "        image = image[:, :, 0]\n",
    "        plt.imshow(image, cmap='Greys')\n",
    "    else:\n",
    "        # image is in color\n",
    "        plt.imshow(image)\n",
    "    plt.axis('off')\n",
    "    plt.show()\n",
    "\n",
    "#Normalize rows of a given matrix\n",
    "def normalize(matrix):\n",
    "    matrix_nm = np.zeros_like(matrix)\n",
    "    for i in range(matrix.shape[0]):\n",
    "        matrix_nm[i] = matrix[i]/np.linalg.norm(matrix[i]) \n",
    "    return matrix_nm"
   ]
  },
  {
   "cell_type": "code",
   "execution_count": 3,
   "metadata": {
    "scrolled": false
   },
   "outputs": [
    {
     "name": "stdout",
     "output_type": "stream",
     "text": [
      "Train on 60000 samples, validate on 5000 samples\n",
      "Epoch 1/10\n",
      "60000/60000 [==============================] - 4s 70us/step - loss: 0.4476 - acc: 0.8573 - val_loss: 0.0973 - val_acc: 0.9730\n",
      "Epoch 2/10\n",
      "60000/60000 [==============================] - 3s 43us/step - loss: 0.1599 - acc: 0.9528 - val_loss: 0.0624 - val_acc: 0.9796\n",
      "Epoch 3/10\n",
      "60000/60000 [==============================] - 3s 43us/step - loss: 0.1216 - acc: 0.9637 - val_loss: 0.0502 - val_acc: 0.9842\n",
      "Epoch 4/10\n",
      "60000/60000 [==============================] - 3s 43us/step - loss: 0.1000 - acc: 0.9695 - val_loss: 0.0443 - val_acc: 0.9854\n",
      "Epoch 5/10\n",
      "60000/60000 [==============================] - 3s 43us/step - loss: 0.0900 - acc: 0.9734 - val_loss: 0.0405 - val_acc: 0.9868\n",
      "Epoch 6/10\n",
      "60000/60000 [==============================] - 3s 43us/step - loss: 0.0780 - acc: 0.9760 - val_loss: 0.0347 - val_acc: 0.9898\n",
      "Epoch 7/10\n",
      "60000/60000 [==============================] - 3s 43us/step - loss: 0.0700 - acc: 0.9788 - val_loss: 0.0358 - val_acc: 0.9886\n",
      "Epoch 8/10\n",
      "60000/60000 [==============================] - 3s 43us/step - loss: 0.0660 - acc: 0.9799 - val_loss: 0.0306 - val_acc: 0.9894\n",
      "Epoch 9/10\n",
      "60000/60000 [==============================] - 3s 43us/step - loss: 0.0613 - acc: 0.9814 - val_loss: 0.0302 - val_acc: 0.9906\n",
      "Epoch 10/10\n",
      "60000/60000 [==============================] - 3s 44us/step - loss: 0.0563 - acc: 0.9831 - val_loss: 0.0316 - val_acc: 0.9898\n",
      "6042/6042 [==============================] - 0s 14us/step\n",
      "Saved model to disk\n"
     ]
    }
   ],
   "source": [
    "#Load model from disk\n",
    "model_name = 'MNIST-Pool'\n",
    "model_save_path = '../trained_models/' + model_name + '-model.json'\n",
    "weights_save_path = '../trained_models/' + model_name + 'weights'\n",
    "model = CNN(model_name=model_name, dataset='mnist_pool')\n",
    "epochs = 10\n",
    "model.train(epochs=epochs)\n",
    "model.save_model(model_save_path, weights_save_path)    "
   ]
  },
  {
   "cell_type": "code",
   "execution_count": 4,
   "metadata": {
    "collapsed": true
   },
   "outputs": [],
   "source": [
    "#Get training samples\n",
    "num_train_samples = 10000\n",
    "data_indices = model.gen_rand_indices(low=0, high=model.train_data.shape[0], seed=SEED, num_samples=num_train_samples)\n",
    "train_data = model.train_data[data_indices]\n",
    "train_data_labels = model.train_labels[data_indices]\n",
    "train_data_labels_int = np.argmax(train_data_labels, axis=1)"
   ]
  },
  {
   "cell_type": "code",
   "execution_count": 5,
   "metadata": {
    "scrolled": false
   },
   "outputs": [
    {
     "name": "stderr",
     "output_type": "stream",
     "text": [
      "/root/notebook/cleverhans/cleverhans/src/cleverhans/cleverhans/utils_keras.py:144: UserWarning: Please update your version to keras >= 2.1.3; support for earlier keras versions will be dropped on 2018-07-22\n",
      "  \"Please update your version to keras >= 2.1.3; \"\n"
     ]
    }
   ],
   "source": [
    "num_test_samples_per_class = 100\n",
    "num_test_samples = 10*num_test_samples_per_class\n",
    "\n",
    "#Generate test points\n",
    "test_indices = model.gen_rand_indices_all_classes(y=model.test_labels, seed=SEED, num_samples=num_test_samples_per_class)\n",
    "\n",
    "#Get Regular, Noisy, FGSM, BIM, and CW test points\n",
    "reg_data = model.test_data[test_indices]\n",
    "noisy_data = model.generate_perturbed_data(model.test_data[test_indices], model.test_labels[test_indices],seed=SEED, perturbation='Noisy')\n",
    "fgsm_data = model.generate_perturbed_data(model.test_data[test_indices], model.test_labels[test_indices],seed=SEED, perturbation='FGSM')\n",
    "bim_data = model.generate_perturbed_data(model.test_data[test_indices], model.test_labels[test_indices], seed=SEED, perturbation='BIM', iterations=10)\n",
    "cw_data = model.generate_perturbed_data(model.test_data[test_indices], model.test_labels[test_indices],seed=SEED, perturbation='CW', targeted=False)"
   ]
  },
  {
   "cell_type": "code",
   "execution_count": 6,
   "metadata": {
    "scrolled": true
   },
   "outputs": [
    {
     "name": "stdout",
     "output_type": "stream",
     "text": [
      "Loaded model from disk\n"
     ]
    }
   ],
   "source": [
    "#Reset tf.graph() as Cleverhans modifies the graph\n",
    "tf.reset_default_graph()\n",
    "\n",
    "#Reload the model and weights\n",
    "model = CNN(model_name=model_name,dataset='mnist_pool')\n",
    "model.load_model(model_save_path, weights_save_path)    "
   ]
  },
  {
   "cell_type": "code",
   "execution_count": 7,
   "metadata": {},
   "outputs": [
    {
     "data": {
      "image/png": "[encoded data removed]",
      "text/plain": [
       "<matplotlib.figure.Figure at 0x7f5a75feb090>"
      ]
     },
     "metadata": {},
     "output_type": "display_data"
    },
    {
     "data": {
      "image/png": "[encoded data removed]",
      "text/plain": [
       "<matplotlib.figure.Figure at 0x7f591c6c7b90>"
      ]
     },
     "metadata": {},
     "output_type": "display_data"
    },
    {
     "data": {
      "image/png": "[encoded data removed]",
      "text/plain": [
       "<matplotlib.figure.Figure at 0x7f5a74e8e050>"
      ]
     },
     "metadata": {},
     "output_type": "display_data"
    },
    {
     "data": {
      "image/png": "[encoded data removed]",
      "text/plain": [
       "<matplotlib.figure.Figure at 0x7f5a74e19490>"
      ]
     },
     "metadata": {},
     "output_type": "display_data"
    },
    {
     "data": {
      "image/png": "[encoded data removed]",
      "text/plain": [
       "<matplotlib.figure.Figure at 0x7f5a74daced0>"
      ]
     },
     "metadata": {},
     "output_type": "display_data"
    }
   ],
   "source": [
    "#Lets visualize one sample from each dataset\n",
    "x_vis = np.random.choice(range(0,num_test_samples), 1)\n",
    "visualize(reg_data[x_vis].reshape(28,28,1))\n",
    "visualize(noisy_data[x_vis].reshape(28,28,1))\n",
    "visualize(fgsm_data[x_vis].reshape(28,28,1))\n",
    "visualize(bim_data[x_vis].reshape(28,28,1))\n",
    "visualize(cw_data[x_vis].reshape(28,28,1))"
   ]
  },
  {
   "cell_type": "code",
   "execution_count": 8,
   "metadata": {
    "collapsed": true
   },
   "outputs": [],
   "source": [
    "#Get predictions\n",
    "reg_preds = model.model.predict(reg_data.reshape(-1,28,28,1))\n",
    "noisy_preds = model.model.predict(noisy_data.reshape(-1,28,28,1))\n",
    "fgsm_preds = model.model.predict(fgsm_data.reshape(-1,28,28,1))\n",
    "bim_preds = model.model.predict(bim_data.reshape(-1,28,28,1))\n",
    "cw_preds = model.model.predict(cw_data.reshape(-1,28,28,1))"
   ]
  },
  {
   "cell_type": "code",
   "execution_count": 9,
   "metadata": {
    "collapsed": true
   },
   "outputs": [],
   "source": [
    "#Convert preds to labels\n",
    "reg_labels = np.zeros(reg_preds.shape)\n",
    "reg_labels[np.arange(num_test_samples),np.argmax(reg_preds, axis=1)] = 1\n",
    "\n",
    "noisy_labels = np.zeros(noisy_preds.shape)\n",
    "noisy_labels[np.arange(num_test_samples),np.argmax(noisy_preds, axis=1)] = 1\n",
    "\n",
    "fgsm_labels = np.zeros(fgsm_preds.shape)\n",
    "fgsm_labels[np.arange(num_test_samples),np.argmax(fgsm_preds, axis=1)] = 1\n",
    "\n",
    "bim_labels = np.zeros(bim_preds.shape)\n",
    "bim_labels[np.arange(num_test_samples),np.argmax(bim_preds, axis=1)] = 1\n",
    "\n",
    "cw_labels = np.zeros(cw_preds.shape)\n",
    "cw_labels[np.arange(num_test_samples),np.argmax(cw_preds, axis=1)] = 1\n"
   ]
  },
  {
   "cell_type": "code",
   "execution_count": 10,
   "metadata": {
    "scrolled": true
   },
   "outputs": [
    {
     "name": "stdout",
     "output_type": "stream",
     "text": [
      "[0 0 0 0 0 0 0 0 0 0 0 0 0 0 0 0 0 0 0 0 0 0 0 0 0 0 0 0 0 0 0 0 0 0 0 0 0\n",
      " 0 0 0 0 0 0 0 0 0 0 0 0 0 0 0 0 0 0 0 0 0 0 0 0 0 0 0 0 0 0 0 0 0 0 0 0 0\n",
      " 0 0 0 0 0 0 0 0 0 0 0 0 0 0 0 0 0 0 0 0 0 0 0 0 0 0 1 1 1 1 1 1 1 1 1 1 1\n",
      " 1 1 1 1 1 1 1 1 1 1 1 1 1 1 1 1 1 1 1 1 1 1 1 1 1 1 1 1 1 1 1 1 1 1 1 1 1\n",
      " 1 1 1 1 1 1 1 1 1 1 1 1 1 1 1 1 1 1 1 1 1 1 1 1 1 1 1 1 1 1 1 1 1 1 1 2 1\n",
      " 1 1 1 1 1 1 1 1 1 1 1 2 1 1 1 2 2 2 2 2 2 2 0 2 2 2 2 2 2 2 2 2 2 2 2 2 2\n",
      " 2 2 2 2 2 2 2 2 2 2 2 2 2 2 2 2 2 2 2 2 2 2 2 2 2 2 2 2 2 2 2 2 2 2 2 2 2\n",
      " 2 2 2 2 2 2 2 2 2 2 2 2 2 2 2 2 2 2 2 2 2 2 2 2 2 2 2 2 2 2 2 2 2 0 2 2 2\n",
      " 2 2 2 2 3 3 3 3 3 3 3 3 3 3 3 3 3 3 3 3 3 3 3 3 3 3 3 3 3 3 3 3 3 3 3 3 3\n",
      " 3 3 3 3 3 3 3 3 3 3 3 3 3 3 3 3 3 3 3 3 3 3 3 3 3 3 3 3 3 3 3 3 3 3 3 3 3\n",
      " 3 3 3 3 3 3 3 3 3 3 3 3 3 3 3 3 3 3 3 8 3 3 3 3 3 3 3 3 3 3 4 4 4 4 4 4 4\n",
      " 4 4 4 4 4 4 4 4 4 4 4 4 4 4 4 4 4 4 4 4 4 4 4 4 4 4 4 4 4 4 4 4 4 4 4 4 4\n",
      " 4 4 4 4 4 4 4 4 4 4 4 4 4 4 4 4 4 4 4 4 4 4 4 4 4 4 4 4 4 4 4 4 4 4 4 4 4\n",
      " 4 4 4 4 4 4 4 4 4 4 4 4 4 4 4 4 4 4 4 5 5 5 5 5 5 5 5 5 5 5 5 5 5 5 5 5 5\n",
      " 5 5 5 5 5 5 5 5 5 5 5 5 5 5 5 5 5 5 5 5 5 5 5 5 5 5 5 7 5 5 5 5 5 5 5 5 5\n",
      " 5 5 5 5 5 5 5 5 5 5 5 5 5 5 5 5 5 5 5 5 5 5 5 5 5 5 5 5 5 5 5 5 5 5 5 5 5\n",
      " 5 5 5 5 5 5 5 5 6 6 6 6 6 6 6 6 6 6 6 6 6 1 6 6 6 6 6 6 6 6 6 6 6 6 6 6 6\n",
      " 6 6 6 6 6 6 6 6 6 6 6 6 6 6 6 6 6 6 6 6 6 6 6 6 6 6 6 6 6 6 6 6 6 6 6 6 6\n",
      " 6 6 6 6 6 6 6 6 6 6 6 6 6 6 6 6 6 6 6 6 6 6 6 6 6 6 6 6 6 6 6 6 6 6 7 7 7\n",
      " 7 7 7 7 7 7 7 7 7 7 7 7 7 7 7 7 7 7 7 7 7 7 7 7 7 7 7 7 7 7 7 7 7 7 7 7 7\n",
      " 7 7 7 7 7 7 7 7 7 7 7 7 7 7 7 7 7 7 7 7 7 7 7 7 7 7 7 7 7 7 7 7 7 7 7 7 7\n",
      " 7 7 7 7 7 7 7 7 7 7 7 7 7 7 7 7 7 7 7 7 7 7 7 8 8 8 8 8 8 8 8 8 8 8 8 8 8\n",
      " 8 8 8 8 8 8 8 8 8 8 8 8 8 8 8 8 8 8 8 8 8 8 8 8 8 8 8 8 8 8 8 8 8 8 8 8 8\n",
      " 8 8 8 8 2 8 8 8 8 8 8 8 8 8 8 8 8 8 8 8 8 8 8 8 8 8 8 8 8 8 8 8 8 8 8 8 8\n",
      " 8 8 8 8 8 8 8 8 8 8 8 8 9 9 9 9 9 9 0 9 9 9 9 9 9 9 9 9 9 9 9 9 9 9 9 9 9\n",
      " 9 9 9 9 9 9 9 9 9 9 9 9 9 9 9 9 9 9 9 9 9 9 9 9 9 9 9 9 9 9 9 9 9 9 9 9 9\n",
      " 9 9 9 9 9 9 9 9 9 9 9 9 9 3 9 9 9 9 9 9 9 9 9 9 9 9 9 9 9 9 9 9 9 9 9 9 9\n",
      " 9]\n",
      "[0 0 0 0 0 0 0 0 0 0 0 0 0 0 0 0 0 0 0 0 0 0 8 0 0 0 0 0 0 8 8 0 0 0 0 0 0\n",
      " 0 0 0 0 0 0 0 0 0 0 0 0 0 0 0 0 0 0 0 0 0 0 0 0 0 0 0 0 0 0 0 0 0 0 0 0 0\n",
      " 0 0 0 0 0 0 0 0 0 8 0 0 0 0 0 0 0 0 0 0 8 0 0 0 0 0 1 8 8 8 1 8 8 8 8 8 1\n",
      " 1 8 8 1 1 8 1 1 8 8 8 8 8 8 8 1 8 2 8 2 1 8 8 1 8 8 8 8 8 8 2 8 8 8 8 8 1\n",
      " 8 1 8 8 8 8 8 1 8 8 8 8 1 8 8 8 8 8 8 1 8 8 1 3 1 1 8 8 8 8 8 1 1 1 8 2 8\n",
      " 8 8 8 8 8 8 8 8 8 2 8 2 8 1 1 2 2 2 2 2 2 2 8 2 2 2 2 2 2 2 2 2 2 2 2 2 2\n",
      " 2 2 8 2 2 2 2 2 2 2 2 2 2 2 2 2 2 2 2 2 2 2 8 2 2 2 2 2 2 2 2 2 2 2 2 2 2\n",
      " 2 2 2 2 2 8 2 2 2 2 2 2 2 2 2 2 2 2 2 2 2 2 2 2 2 8 2 2 2 2 2 2 2 8 2 2 2\n",
      " 8 2 2 2 3 3 3 3 3 3 8 3 3 3 3 3 3 3 3 3 3 3 3 3 3 3 3 3 3 3 3 3 3 3 3 3 3\n",
      " 3 3 3 3 3 3 3 3 3 3 3 3 3 3 3 3 3 3 3 3 3 3 3 3 3 3 3 3 3 3 3 3 3 3 3 3 3\n",
      " 3 3 3 3 3 3 3 3 3 3 3 8 3 3 3 3 3 3 3 8 3 3 3 3 3 3 3 3 3 8 8 8 4 4 8 4 8\n",
      " 8 8 4 4 4 4 4 8 4 8 4 4 4 4 4 4 4 2 4 4 4 8 4 4 4 4 8 4 4 4 4 4 4 4 4 2 4\n",
      " 4 4 4 4 4 4 8 4 4 4 4 4 8 4 4 4 4 4 4 4 4 4 8 4 4 4 4 8 4 4 4 4 4 4 4 4 4\n",
      " 4 4 4 4 4 4 4 4 4 4 4 4 4 4 4 4 4 4 4 5 5 5 5 5 5 8 5 8 5 5 5 8 5 5 5 5 5\n",
      " 5 5 5 5 5 5 5 5 5 8 5 5 5 5 5 8 5 5 5 5 5 5 3 5 5 5 5 3 5 5 5 5 5 5 5 5 5\n",
      " 5 5 5 5 5 5 5 5 5 5 5 5 5 5 5 5 5 5 8 8 5 5 5 5 5 5 5 5 5 5 5 5 5 5 5 5 5\n",
      " 5 5 8 5 5 5 5 5 6 6 8 6 6 6 6 6 6 8 6 6 6 8 6 6 6 6 6 6 6 8 6 6 6 6 6 6 6\n",
      " 6 6 6 6 6 6 6 6 6 6 6 6 8 6 6 6 6 6 6 6 6 6 6 8 6 6 6 6 6 6 6 6 6 6 6 6 6\n",
      " 8 6 6 6 8 6 6 6 6 6 6 6 6 6 8 6 6 6 6 6 6 6 6 6 8 6 6 6 6 6 6 6 8 6 7 7 7\n",
      " 8 3 7 3 7 7 7 7 2 7 7 8 8 7 7 3 7 7 3 7 7 7 7 7 7 8 7 7 7 7 7 7 7 8 7 7 8\n",
      " 7 7 9 7 2 7 7 7 8 3 7 7 8 7 8 7 7 2 7 7 7 7 7 2 2 7 8 7 7 7 7 2 8 8 7 7 2\n",
      " 7 7 8 3 7 7 8 8 7 7 7 7 7 7 7 7 7 7 7 8 7 7 7 8 8 8 8 8 8 8 8 8 8 8 8 8 8\n",
      " 8 8 8 8 8 8 8 8 8 8 8 8 8 8 8 8 8 8 8 8 8 8 8 8 8 8 8 8 8 8 8 8 8 8 8 8 8\n",
      " 8 8 8 8 8 8 8 8 8 8 8 8 8 8 8 8 8 8 8 8 8 8 8 8 8 8 8 8 8 8 8 8 8 8 8 8 8\n",
      " 8 8 8 8 8 8 8 8 8 8 8 8 8 9 8 9 8 9 0 9 9 9 9 8 9 9 9 8 9 9 8 9 9 9 9 9 9\n",
      " 8 9 9 9 9 9 9 9 9 9 8 9 9 9 8 8 8 8 9 9 9 9 8 4 9 8 8 8 8 9 9 9 9 9 9 8 9\n",
      " 9 9 8 9 9 9 9 9 9 9 8 9 9 8 9 8 9 9 8 9 9 9 9 8 9 9 8 9 9 8 9 8 9 9 9 9 8\n",
      " 9]\n",
      "[0 9 2 8 8 8 2 6 5 8 8 8 8 8 0 0 8 8 8 3 8 8 6 8 8 0 3 8 8 3 5 8 8 8 8 9 8\n",
      " 8 7 2 0 2 8 8 6 8 8 8 8 8 8 2 3 2 8 8 8 6 0 2 6 2 8 6 8 9 5 8 6 5 8 8 0 8\n",
      " 0 9 5 8 8 8 8 8 8 5 6 2 8 0 8 5 8 8 0 2 6 6 8 8 2 8 2 8 8 8 8 8 3 8 8 8 8\n",
      " 8 8 8 8 8 8 8 8 8 8 8 8 8 8 8 1 8 8 8 8 8 8 8 8 8 8 8 8 8 8 8 8 8 8 8 8 8\n",
      " 8 8 8 8 8 8 8 8 8 8 8 8 8 8 8 8 8 8 8 8 8 8 8 3 8 8 8 8 8 8 8 3 8 8 8 2 8\n",
      " 8 8 8 8 8 8 8 8 3 8 8 2 8 8 8 8 8 8 8 8 8 3 8 4 3 8 8 7 3 8 3 8 8 2 8 8 7\n",
      " 8 8 8 7 8 8 0 3 3 8 8 8 3 8 3 7 8 7 8 8 8 8 8 8 8 8 8 8 8 3 2 0 3 8 3 8 3\n",
      " 0 8 7 3 8 8 3 8 2 8 2 8 8 3 3 3 3 3 8 3 3 3 2 8 8 8 3 8 8 8 8 8 5 8 8 0 0\n",
      " 8 8 8 8 2 8 5 8 8 2 8 5 8 8 5 8 8 5 5 5 8 5 8 5 8 5 5 8 8 8 8 9 5 8 2 8 7\n",
      " 8 5 8 8 8 8 8 5 8 3 5 8 8 2 8 8 5 8 8 8 8 5 8 5 5 8 8 5 2 5 8 3 8 8 8 3 8\n",
      " 5 2 5 5 8 2 5 8 2 3 8 8 8 5 3 3 3 8 0 8 8 5 8 8 5 8 8 3 5 8 8 8 9 8 8 9 8\n",
      " 8 8 9 9 3 9 9 8 8 3 5 8 8 2 8 8 8 2 9 2 8 9 7 8 8 9 8 8 8 9 8 8 8 8 2 2 8\n",
      " 8 3 8 9 9 8 8 8 8 2 8 8 8 8 3 8 9 8 7 8 8 8 8 2 8 2 8 8 3 8 8 9 9 8 9 8 2\n",
      " 8 8 8 8 8 8 9 8 4 8 8 8 8 8 8 7 8 8 8 6 3 3 5 9 9 8 3 9 3 3 3 8 8 9 3 8 8\n",
      " 8 3 8 8 3 9 3 3 6 3 8 9 9 3 3 3 3 8 8 3 3 3 3 8 8 9 3 7 3 9 8 8 9 8 8 3 5\n",
      " 8 8 9 9 3 9 3 3 8 3 2 3 3 3 8 3 3 8 8 2 8 9 3 8 8 3 8 9 8 8 8 3 8 3 6 3 7\n",
      " 8 9 8 3 6 3 3 8 5 2 5 8 8 8 8 8 8 8 8 8 8 8 5 8 9 8 8 8 8 5 8 2 5 8 2 4 8\n",
      " 8 8 8 2 4 4 8 8 0 5 8 8 8 8 8 8 2 8 0 2 2 8 8 8 3 8 5 8 9 5 9 0 9 8 8 8 5\n",
      " 8 8 5 5 5 8 8 8 8 8 8 8 2 8 5 8 8 5 5 4 8 5 8 8 5 9 8 5 8 8 8 8 8 8 8 8 2\n",
      " 8 3 8 3 8 8 8 8 8 8 8 8 2 8 8 8 9 8 3 8 8 8 8 8 8 8 9 8 8 9 8 2 8 8 8 8 8\n",
      " 8 8 9 9 8 8 8 8 8 8 8 2 8 3 8 2 8 2 8 8 8 2 8 2 8 8 8 8 8 8 8 8 8 8 8 8 2\n",
      " 8 8 8 8 8 8 8 8 8 8 8 9 8 8 3 8 8 8 8 2 8 8 8 3 5 2 3 3 8 5 5 2 3 8 8 6 8\n",
      " 8 0 8 8 0 9 6 5 2 2 3 8 0 8 8 2 8 2 3 3 8 8 2 5 3 9 2 2 3 8 5 7 8 3 8 6 3\n",
      " 8 8 5 3 2 8 3 8 5 5 3 8 2 8 8 8 5 2 8 3 3 8 8 2 2 8 3 2 3 8 6 3 3 3 8 5 8\n",
      " 3 2 3 5 8 8 8 2 9 8 3 8 7 4 2 8 8 8 0 4 3 8 2 8 4 8 8 8 8 8 8 8 4 8 8 3 8\n",
      " 8 8 8 4 5 8 8 8 8 8 8 4 8 4 4 8 8 3 8 8 8 8 8 4 8 8 8 8 8 2 8 8 8 4 8 8 8\n",
      " 8 8 8 8 4 8 8 8 8 3 8 4 8 3 3 8 8 8 3 8 8 8 8 4 0 8 8 5 8 4 8 6 0 8 8 5 8\n",
      " 8]\n",
      "[2 9 2 8 9 8 2 6 5 5 8 8 5 8 3 8 8 8 8 3 8 3 6 8 8 6 3 8 8 3 9 8 8 8 8 9 3\n",
      " 8 7 2 9 2 9 8 6 8 8 6 8 5 2 2 3 2 6 8 8 6 5 2 6 2 3 6 3 9 5 8 6 5 8 8 9 8\n",
      " 8 9 5 2 8 8 8 3 5 5 6 2 8 6 3 5 5 8 8 6 6 6 6 8 3 2 2 8 8 8 3 2 8 4 2 8 8\n",
      " 8 8 2 8 8 2 8 8 8 8 8 4 3 8 8 3 3 2 3 8 8 8 8 3 8 3 8 8 8 2 2 2 8 8 8 3 8\n",
      " 2 3 8 8 8 8 8 8 8 4 8 8 8 8 2 2 8 8 8 3 8 2 8 3 8 8 6 8 2 8 8 3 8 8 8 3 8\n",
      " 2 8 2 2 2 8 2 8 8 8 8 3 8 8 8 8 8 8 8 3 8 3 2 4 3 3 1 7 3 8 3 8 8 0 8 8 7\n",
      " 8 8 8 7 1 8 0 7 3 8 3 3 3 8 3 7 3 7 8 8 3 8 8 8 8 8 8 8 8 3 3 0 7 8 7 0 3\n",
      " 0 3 7 3 8 8 8 8 8 8 8 8 8 3 3 3 8 3 8 3 3 3 8 8 8 3 3 8 8 8 8 4 4 2 3 0 0\n",
      " 8 8 3 8 2 8 5 8 8 2 8 5 8 8 5 9 8 5 5 5 9 5 8 5 8 5 5 8 5 8 8 9 5 8 2 8 4\n",
      " 8 5 9 8 8 5 5 5 8 5 5 8 8 2 8 5 5 5 9 8 8 5 8 5 5 9 4 5 7 9 8 8 8 8 8 8 8\n",
      " 5 2 5 5 8 7 5 8 2 5 8 8 8 5 5 8 2 5 0 3 8 5 8 8 5 8 8 8 5 8 8 8 9 9 9 9 8\n",
      " 8 8 9 9 3 9 9 9 9 9 9 8 8 2 8 2 8 2 9 9 8 9 7 8 9 9 9 9 9 9 3 9 8 9 7 2 9\n",
      " 9 9 9 9 9 9 8 9 2 9 8 8 8 9 3 8 9 8 8 9 9 9 8 2 8 2 3 8 2 3 2 9 9 8 9 8 2\n",
      " 9 8 9 8 9 5 9 9 8 8 8 8 8 8 9 7 9 9 8 6 3 3 3 9 9 0 3 9 3 3 3 8 8 9 3 8 8\n",
      " 8 3 8 8 3 9 3 3 6 3 8 9 3 3 3 3 3 8 8 3 3 8 3 3 8 9 3 5 3 9 8 9 9 8 8 3 3\n",
      " 2 8 9 9 3 9 3 3 8 3 2 3 3 3 8 3 3 8 8 2 3 9 3 8 8 3 8 9 8 8 8 3 3 3 6 3 3\n",
      " 8 9 8 3 6 3 3 8 5 2 3 0 3 0 8 8 8 8 8 8 8 8 5 8 9 8 8 8 8 5 4 2 5 3 0 4 8\n",
      " 3 8 3 2 4 4 3 8 0 5 8 3 8 8 8 3 4 8 9 0 0 8 4 8 9 8 5 3 9 5 9 0 4 8 8 8 5\n",
      " 8 4 5 5 3 8 3 8 3 8 8 8 4 8 5 0 8 5 5 4 8 5 8 5 5 4 3 5 8 2 8 8 8 5 9 3 2\n",
      " 8 3 8 3 3 8 8 3 2 9 8 8 2 9 8 8 9 8 3 3 8 3 9 9 8 9 9 9 9 9 8 2 8 2 8 3 8\n",
      " 3 3 9 9 2 8 0 8 8 3 9 2 8 3 8 2 3 2 8 3 8 2 8 2 2 3 8 9 3 3 4 6 8 8 2 3 2\n",
      " 1 3 8 3 8 3 1 8 3 9 9 9 8 9 3 8 2 9 2 2 3 0 3 3 5 2 3 3 2 5 6 2 3 3 0 6 3\n",
      " 5 0 3 6 0 9 6 5 3 2 3 2 0 3 3 2 2 2 3 3 3 3 2 5 3 9 2 2 3 3 9 7 3 3 0 6 3\n",
      " 2 0 5 3 8 2 3 9 5 5 3 2 2 3 1 3 5 2 5 3 3 3 5 2 2 2 3 3 3 5 6 3 0 3 3 5 3\n",
      " 3 2 3 5 2 4 9 2 9 5 3 5 7 4 2 8 8 4 9 4 3 4 2 8 4 8 8 8 5 8 8 4 4 8 8 3 8\n",
      " 8 8 8 4 5 8 4 4 4 8 8 4 8 4 4 8 8 3 8 8 7 8 8 4 7 4 8 8 8 4 8 8 8 4 4 8 8\n",
      " 2 8 4 8 4 8 4 8 2 3 4 4 8 5 3 8 8 8 3 4 7 8 4 4 0 8 8 5 7 4 3 6 0 2 5 5 8\n",
      " 8]\n",
      "[2 9 2 8 5 9 2 6 8 2 6 9 2 8 2 2 2 2 2 2 2 2 6 8 2 2 6 2 9 2 5 6 8 3 9 6 2\n",
      " 2 7 2 5 2 6 2 6 2 8 2 2 6 2 2 2 2 6 2 6 6 5 2 6 2 3 6 2 9 5 2 6 5 8 6 6 2\n",
      " 2 9 5 2 9 2 2 2 6 5 6 2 8 2 2 2 5 6 2 2 6 6 6 2 2 2 2 8 8 6 3 2 3 4 2 8 8\n",
      " 8 8 8 3 3 3 3 3 3 8 8 4 3 8 8 3 3 3 3 8 8 4 8 3 8 3 8 5 2 3 2 2 8 3 4 3 8\n",
      " 3 8 3 3 8 8 8 3 5 4 8 8 8 8 4 3 8 8 8 3 8 3 4 3 3 3 6 8 2 8 8 3 5 4 8 1 8\n",
      " 8 8 3 2 8 8 2 3 2 8 3 1 5 3 2 4 1 8 3 7 8 3 2 4 3 3 1 7 3 7 3 8 8 0 8 3 7\n",
      " 3 8 8 7 1 3 0 7 3 3 3 3 3 3 3 7 3 7 8 8 1 8 8 0 3 3 8 3 7 3 1 0 7 8 3 0 3\n",
      " 0 3 7 3 3 8 3 1 3 3 1 3 1 3 3 3 3 3 3 3 3 0 7 8 1 3 3 3 3 8 3 1 3 2 3 0 0\n",
      " 8 3 3 7 2 7 5 5 5 2 2 5 8 8 5 5 8 5 5 5 9 5 2 5 2 5 5 2 5 5 2 9 5 8 2 8 5\n",
      " 5 5 5 8 8 5 5 5 5 5 5 5 8 2 2 5 5 5 5 5 2 5 2 5 5 5 7 5 7 5 8 5 8 2 5 5 8\n",
      " 5 2 5 5 7 7 5 5 2 5 2 5 8 5 5 2 2 5 5 3 2 5 2 5 5 2 5 5 5 8 8 8 9 9 9 9 6\n",
      " 8 9 9 9 9 9 9 9 9 9 9 1 9 7 8 2 9 2 9 9 8 9 7 9 9 9 9 9 9 9 9 9 1 9 7 2 9\n",
      " 9 9 9 9 9 9 9 9 1 9 6 9 9 9 9 3 9 9 7 9 9 9 6 9 8 7 7 8 9 9 7 9 9 7 9 1 7\n",
      " 9 6 9 9 9 9 9 9 8 8 7 8 9 9 9 7 9 9 2 6 3 3 9 9 9 8 3 9 3 9 3 6 6 9 3 6 3\n",
      " 6 9 6 3 3 9 3 3 6 3 3 9 9 3 3 3 3 8 9 3 3 3 3 3 8 9 3 5 3 9 8 9 9 3 8 3 9\n",
      " 6 8 9 9 3 9 3 3 9 3 3 3 3 3 3 3 3 3 8 3 9 9 3 9 8 3 3 9 6 8 3 3 3 3 6 3 9\n",
      " 8 9 6 3 6 3 3 8 5 2 5 0 4 0 5 8 8 8 8 5 5 6 5 5 4 0 8 8 8 5 4 2 5 5 2 2 5\n",
      " 8 0 0 2 4 4 5 5 0 5 0 5 8 5 2 5 4 0 4 0 0 3 4 8 4 8 5 3 4 5 5 0 4 5 8 5 5\n",
      " 8 4 5 5 5 5 5 8 5 8 5 5 4 8 5 0 5 5 5 4 5 5 2 5 5 4 5 5 8 4 8 5 8 5 2 9 2\n",
      " 3 3 2 3 3 9 2 3 2 9 4 8 2 9 2 3 9 9 3 2 2 3 9 9 9 9 9 9 9 9 3 2 3 2 2 3 2\n",
      " 3 3 9 9 2 3 9 9 3 3 3 2 2 3 2 2 3 2 3 9 9 2 3 2 2 3 9 9 3 3 9 4 2 2 2 3 2\n",
      " 1 3 3 9 9 3 1 2 3 3 9 9 3 9 3 3 3 9 2 2 3 2 3 2 5 2 3 2 2 5 6 2 3 3 9 6 2\n",
      " 2 2 2 6 0 9 6 5 2 2 3 3 0 3 3 2 3 2 3 2 2 3 2 5 2 9 2 2 3 9 9 9 2 3 2 6 3\n",
      " 2 9 2 3 8 2 3 9 5 6 3 2 3 3 2 2 5 2 5 3 3 9 5 2 2 2 3 3 3 5 6 3 0 3 2 5 2\n",
      " 9 2 3 6 2 3 9 2 9 2 2 5 7 4 4 4 8 4 9 4 7 4 4 8 4 3 4 8 5 4 8 4 4 8 4 7 4\n",
      " 8 4 8 4 5 4 4 4 4 4 8 4 3 4 4 8 5 3 8 4 7 5 4 4 7 4 8 8 8 4 8 8 8 4 4 8 8\n",
      " 7 4 4 4 4 7 4 8 4 3 7 4 4 9 3 8 7 4 3 4 7 4 4 4 0 8 4 5 7 4 4 4 0 4 5 5 8\n",
      " 4]\n"
     ]
    }
   ],
   "source": [
    "#Check preds to ensure adversarial samples were generated correctly\n",
    "print (np.argmax(reg_preds, axis=1))\n",
    "print (np.argmax(noisy_preds, axis=1))\n",
    "print (np.argmax(fgsm_preds, axis=1))\n",
    "print (np.argmax(bim_preds, axis=1))\n",
    "print (np.argmax(cw_preds, axis=1))\n"
   ]
  },
  {
   "cell_type": "code",
   "execution_count": 11,
   "metadata": {
    "collapsed": true
   },
   "outputs": [],
   "source": [
    "#Get gradients for all test points\n",
    "grads_reg = model.get_gradients_wrt_params(reg_data, reg_labels)\n",
    "grads_noisy = model.get_gradients_wrt_params(noisy_data, noisy_labels)\n",
    "grads_fgsm = model.get_gradients_wrt_params(fgsm_data, fgsm_labels)\n",
    "grads_bim = model.get_gradients_wrt_params(bim_data, bim_labels)\n",
    "grads_cw = model.get_gradients_wrt_params(cw_data, cw_labels)\n",
    "\n",
    "\n",
    "#Get gradients for training points \n",
    "grads_train = model.get_gradients_wrt_params(train_data, train_data_labels)"
   ]
  },
  {
   "cell_type": "code",
   "execution_count": 12,
   "metadata": {
    "collapsed": true
   },
   "outputs": [],
   "source": [
    "grads_reg_nm = normalize(grads_reg)\n",
    "grads_noisy_nm = normalize(grads_noisy)\n",
    "grads_fgsm_nm = normalize(grads_fgsm)\n",
    "grads_bim_nm = normalize(grads_bim)\n",
    "grads_cw_nm = normalize(grads_cw)\n",
    "\n",
    "grads_train_nm = normalize(grads_train)"
   ]
  },
  {
   "cell_type": "code",
   "execution_count": 13,
   "metadata": {},
   "outputs": [
    {
     "name": "stderr",
     "output_type": "stream",
     "text": [
      "/usr/local/lib/python2.7/dist-packages/ipykernel_launcher.py:2: RuntimeWarning: invalid value encountered in sqrt\n",
      "  \n",
      "/usr/local/lib/python2.7/dist-packages/ipykernel_launcher.py:3: RuntimeWarning: invalid value encountered in sqrt\n",
      "  This is separate from the ipykernel package so we can avoid doing imports until\n",
      "/usr/local/lib/python2.7/dist-packages/ipykernel_launcher.py:4: RuntimeWarning: invalid value encountered in sqrt\n",
      "  after removing the cwd from sys.path.\n",
      "/usr/local/lib/python2.7/dist-packages/ipykernel_launcher.py:5: RuntimeWarning: invalid value encountered in sqrt\n",
      "  \"\"\"\n",
      "/usr/local/lib/python2.7/dist-packages/ipykernel_launcher.py:6: RuntimeWarning: invalid value encountered in sqrt\n",
      "  \n"
     ]
    }
   ],
   "source": [
    "#Get norms \n",
    "grads_reg_norms = np.sqrt(np.dot(grads_reg, grads_reg.T)).diagonal()\n",
    "grads_noisy_norms = np.sqrt(np.dot(grads_noisy, grads_noisy.T)).diagonal()\n",
    "grads_bim_norms = np.sqrt(np.dot(grads_bim, grads_bim.T)).diagonal()\n",
    "grads_fgsm_norms = np.sqrt(np.dot(grads_fgsm, grads_fgsm.T)).diagonal()\n",
    "grads_cw_norms = np.sqrt(np.dot(grads_cw, grads_cw.T)).diagonal()\n"
   ]
  },
  {
   "cell_type": "code",
   "execution_count": 14,
   "metadata": {
    "collapsed": true
   },
   "outputs": [],
   "source": [
    "#Get cosine similarity matrix\n",
    "cos_sim_reg = np.dot(grads_reg_nm, grads_train_nm.T)\n",
    "cos_sim_noisy = np.dot(grads_noisy_nm, grads_train_nm.T)\n",
    "cos_sim_fgsm = np.dot(grads_fgsm_nm, grads_train_nm.T)\n",
    "cos_sim_bim = np.dot(grads_bim_nm, grads_train_nm.T)\n",
    "cos_sim_cw = np.dot(grads_cw_nm, grads_train_nm.T)\n"
   ]
  },
  {
   "cell_type": "code",
   "execution_count": 24,
   "metadata": {},
   "outputs": [
    {
     "name": "stdout",
     "output_type": "stream",
     "text": [
      "Regular: 0.8590\n",
      "Noisy:  0.3900\n",
      "FGSM:  0.2400\n",
      "BIM:  0.4230\n",
      "CW: 0.0810\n"
     ]
    }
   ],
   "source": [
    "#Separate Using Cos Sim\n",
    "\n",
    "eta = 0.81\n",
    "\n",
    "count = 0.0\n",
    "for i in range(num_test_samples):\n",
    "    if np.max(cos_sim_reg[i]) > eta:\n",
    "        count+=1.0\n",
    "        \n",
    "print ('Regular: %.4f' % ( count/num_test_samples))\n",
    "\n",
    "count = 0.0\n",
    "for i in range(num_test_samples):\n",
    "    if np.max(cos_sim_noisy[i]) > eta:\n",
    "        count+=1.0\n",
    "    \n",
    "print ('Noisy:  %.4f' % ( count/num_test_samples))\n",
    "\n",
    "count=0.0\n",
    "for i in range(num_test_samples):\n",
    "    if np.max(cos_sim_fgsm[i]) > eta:\n",
    "        count+=1.0\n",
    "        \n",
    "print ('FGSM:  %.4f' % ( count/num_test_samples))\n",
    "\n",
    "count=0.0\n",
    "for i in range(num_test_samples):\n",
    "    if np.max(cos_sim_bim[i]) > eta:\n",
    "        count+=1.0\n",
    "        \n",
    "print ('BIM:  %.4f' % ( count/num_test_samples))\n",
    "\n",
    "count=0.0\n",
    "for i in range(num_test_samples):\n",
    "    if np.max(cos_sim_cw[i]) > eta:\n",
    "        count+=1.0\n",
    "    \n",
    "print ('CW: %.4f' % ( count/num_test_samples))\n",
    "\n"
   ]
  },
  {
   "cell_type": "code",
   "execution_count": 22,
   "metadata": {},
   "outputs": [
    {
     "name": "stdout",
     "output_type": "stream",
     "text": [
      "Regular: 0.8640\n",
      "Noisy:  0.1280\n",
      "FGSM:  0.0170\n",
      "BIM:  0.3850\n",
      "CW: 0.0000\n"
     ]
    }
   ],
   "source": [
    "#Separate using just norm\n",
    "gamma = 0.15\n",
    "\n",
    "count = 0.0\n",
    "for i in range(num_test_samples):\n",
    "    if grads_reg_norms[i] < gamma:\n",
    "        count+=1.0\n",
    "        \n",
    "print ('Regular: %.4f' % ( count/num_test_samples))\n",
    "\n",
    "count = 0.0\n",
    "for i in range(num_test_samples):\n",
    "    if grads_noisy_norms[i] < gamma:\n",
    "        count+=1.0\n",
    "    \n",
    "print ('Noisy:  %.4f' % ( count/num_test_samples))\n",
    "\n",
    "count=0.0\n",
    "for i in range(num_test_samples):\n",
    "    if grads_fgsm_norms[i] < gamma:\n",
    "        count+=1.0\n",
    "        \n",
    "print ('FGSM:  %.4f' % ( count/num_test_samples))\n",
    "\n",
    "count=0.0\n",
    "for i in range(num_test_samples):\n",
    "    if grads_bim_norms[i] < gamma:\n",
    "        count+=1.0\n",
    "        \n",
    "print ('BIM:  %.4f' % ( count/num_test_samples))\n",
    "\n",
    "count=0.0\n",
    "for i in range(num_test_samples):\n",
    "    if grads_cw_norms[i] < gamma:\n",
    "        count+=1.0\n",
    "    \n",
    "print ('CW: %.4f' % ( count/num_test_samples))\n",
    "\n",
    "\n"
   ]
  },
  {
   "cell_type": "code",
   "execution_count": 25,
   "metadata": {},
   "outputs": [
    {
     "name": "stdout",
     "output_type": "stream",
     "text": [
      "Regular: 0.7960\n",
      "Noisy:  0.0970\n",
      "FGSM:  0.0100\n",
      "BIM:  0.2540\n",
      "CW: 0.0000\n"
     ]
    }
   ],
   "source": [
    "#Use both\n",
    "\n",
    "count = 0.0\n",
    "for i in range(num_test_samples):\n",
    "    if np.max(cos_sim_reg[i]) > eta and grads_reg_norms[i] < gamma:\n",
    "        count+=1.0\n",
    "        \n",
    "print ('Regular: %.4f' % ( count/num_test_samples))\n",
    "\n",
    "count = 0.0\n",
    "for i in range(num_test_samples):\n",
    "    if np.max(cos_sim_noisy[i]) > eta and grads_noisy_norms[i] < gamma:\n",
    "        count+=1.0\n",
    "    \n",
    "print ('Noisy:  %.4f' % ( count/num_test_samples))\n",
    "\n",
    "count=0.0\n",
    "for i in range(num_test_samples):\n",
    "    if np.max(cos_sim_fgsm[i]) > eta and grads_fgsm_norms[i] < gamma:\n",
    "        count+=1.0\n",
    "        \n",
    "print ('FGSM:  %.4f' % ( count/num_test_samples))\n",
    "\n",
    "count=0.0\n",
    "for i in range(num_test_samples):\n",
    "    if np.max(cos_sim_bim[i]) > eta and grads_bim_norms[i] < gamma:\n",
    "        count+=1.0\n",
    "        \n",
    "print ('BIM:  %.4f' % ( count/num_test_samples))\n",
    "\n",
    "count=0.0\n",
    "for i in range(num_test_samples):\n",
    "    if np.max(cos_sim_cw[i]) > eta and grads_cw_norms[i] < gamma:\n",
    "        count+=1.0\n",
    "    \n",
    "print ('CW: %.4f' % ( count/num_test_samples))\n",
    "\n",
    "\n",
    "\n"
   ]
  },
  {
   "cell_type": "code",
   "execution_count": 16,
   "metadata": {},
   "outputs": [
    {
     "data": {
      "text/plain": [
       "\"#Create training data with first 450 points of each class, with first 50 scores\\nx = np.zeros((6000, 4))\\ny = np.zeros((6000, 1))\\n\\nfor i in range(1000):\\n        reg_dis = cos_sim_reg[i][np.where( train_data_1k_labels_int == np.argmax(reg_preds[i]))[0]]\\n        noisy_dis = cos_sim_noisy[i][np.where( train_data_1k_labels_int == np.argmax(noisy_preds[i]))[0]]\\n        fgsm_dis = cos_sim_fgsm[i][np.where( train_data_1k_labels_int == np.argmax(fgsm_preds[i]))[0]]\\n        bim_dis = cos_sim_bim[i][np.where( train_data_1k_labels_int == np.argmax(bim_preds[i]))[0]]\\n        cw_dis = cos_sim_cw[i][np.where( train_data_1k_labels_int == np.argmax(cw_preds[i]))[0]]\\n        mod_cw_dis = cos_sim_mod_cw[i][np.where( train_data_1k_labels_int == np.argmax(mod_cw_preds[i]))[0]]\\n        x[i*6] = np.array([np.median(reg_dis), np.max(reg_dis), np.min(reg_dis), np.var(reg_dis)])\\n        y[i*6] = 0\\n        x[i*6 + 1] = np.array([np.median(noisy_dis), np.max(noisy_dis), np.min(noisy_dis), np.var(noisy_dis)])\\n        y[i*6 + 1] = 0\\n        x[i*6 + 2] = np.array([np.median(fgsm_dis), np.max(fgsm_dis), np.min(fgsm_dis), np.var(fgsm_dis)])\\n        y[i*6 + 2] = 1\\n        x[i*6+3] = np.array([np.median(bim_dis), np.max(bim_dis), np.min(bim_dis), np.var(bim_dis)])\\n        y[i*6+3] = 1\\n        x[i*6+4] = np.array([np.median(cw_dis), np.max(cw_dis), np.min(cw_dis), np.var(cw_dis)])\\n        y[i*6+4] = 1\\n        x[i*6+5] = np.array([np.median(mod_cw_dis), np.max(mod_cw_dis), np.min(mod_cw_dis), np.var(mod_cw_dis)])\\n        y[i*6+5] = 1\\nx_train = x[:5700]\\ny_train = y[:5700]\\nx_test = x[5700:]\\ny_test = y[5700:]\\nfrom sklearn.linear_model import LogisticRegression\\nclf = LogisticRegression(solver='newton-cg', max_iter=10000).fit(x_train, y_train)\\n\\n#Plot ROC \\npreds = clf.predict_proba(x_test)\\npreds_bad = preds[:,1]\\nfrom sklearn import metrics \\nfpr, tpr, thresholds = metrics.roc_curve(y_test, preds_bad, pos_label=1)\\nplt.plot(fpr,tpr)\\nplt.xlabel('FPR')\\nplt.ylabel('TPR')\\nplt.show() \\n\""
      ]
     },
     "execution_count": 16,
     "metadata": {},
     "output_type": "execute_result"
    }
   ],
   "source": [
    "\"\"\"#Create training data with first 450 points of each class, with first 50 scores\n",
    "x = np.zeros((6000, 4))\n",
    "y = np.zeros((6000, 1))\n",
    "\n",
    "for i in range(1000):\n",
    "        reg_dis = cos_sim_reg[i][np.where( train_data_1k_labels_int == np.argmax(reg_preds[i]))[0]]\n",
    "        noisy_dis = cos_sim_noisy[i][np.where( train_data_1k_labels_int == np.argmax(noisy_preds[i]))[0]]\n",
    "        fgsm_dis = cos_sim_fgsm[i][np.where( train_data_1k_labels_int == np.argmax(fgsm_preds[i]))[0]]\n",
    "        bim_dis = cos_sim_bim[i][np.where( train_data_1k_labels_int == np.argmax(bim_preds[i]))[0]]\n",
    "        cw_dis = cos_sim_cw[i][np.where( train_data_1k_labels_int == np.argmax(cw_preds[i]))[0]]\n",
    "        mod_cw_dis = cos_sim_mod_cw[i][np.where( train_data_1k_labels_int == np.argmax(mod_cw_preds[i]))[0]]\n",
    "        x[i*6] = np.array([np.median(reg_dis), np.max(reg_dis), np.min(reg_dis), np.var(reg_dis)])\n",
    "        y[i*6] = 0\n",
    "        x[i*6 + 1] = np.array([np.median(noisy_dis), np.max(noisy_dis), np.min(noisy_dis), np.var(noisy_dis)])\n",
    "        y[i*6 + 1] = 0\n",
    "        x[i*6 + 2] = np.array([np.median(fgsm_dis), np.max(fgsm_dis), np.min(fgsm_dis), np.var(fgsm_dis)])\n",
    "        y[i*6 + 2] = 1\n",
    "        x[i*6+3] = np.array([np.median(bim_dis), np.max(bim_dis), np.min(bim_dis), np.var(bim_dis)])\n",
    "        y[i*6+3] = 1\n",
    "        x[i*6+4] = np.array([np.median(cw_dis), np.max(cw_dis), np.min(cw_dis), np.var(cw_dis)])\n",
    "        y[i*6+4] = 1\n",
    "        x[i*6+5] = np.array([np.median(mod_cw_dis), np.max(mod_cw_dis), np.min(mod_cw_dis), np.var(mod_cw_dis)])\n",
    "        y[i*6+5] = 1\n",
    "x_train = x[:5700]\n",
    "y_train = y[:5700]\n",
    "x_test = x[5700:]\n",
    "y_test = y[5700:]\n",
    "from sklearn.linear_model import LogisticRegression\n",
    "clf = LogisticRegression(solver='newton-cg', max_iter=10000).fit(x_train, y_train)\n",
    "\n",
    "#Plot ROC \n",
    "preds = clf.predict_proba(x_test)\n",
    "preds_bad = preds[:,1]\n",
    "from sklearn import metrics \n",
    "fpr, tpr, thresholds = metrics.roc_curve(y_test, preds_bad, pos_label=1)\n",
    "plt.plot(fpr,tpr)\n",
    "plt.xlabel('FPR')\n",
    "plt.ylabel('TPR')\n",
    "plt.show() \n",
    "\"\"\""
   ]
  }
 ],
 "metadata": {
  "kernelspec": {
   "display_name": "Python 2",
   "language": "python",
   "name": "python2"
  },
  "language_info": {
   "codemirror_mode": {
    "name": "ipython",
    "version": 2
   },
   "file_extension": ".py",
   "mimetype": "text/x-python",
   "name": "python",
   "nbconvert_exporter": "python",
   "pygments_lexer": "ipython2",
   "version": "2.7.12"
  }
 },
 "nbformat": 4,
 "nbformat_minor": 2
}
