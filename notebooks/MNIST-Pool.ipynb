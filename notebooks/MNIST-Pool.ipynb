{
 "cells": [
  {
   "cell_type": "code",
   "execution_count": 1,
   "metadata": {
    "collapsed": true
   },
   "outputs": [],
   "source": [
    "%%capture state\n",
    "from __future__ import division\n",
    "from __future__ import print_function\n",
    "\n",
    "import sys, os\n",
    "sys.path.append('../')\n",
    "\n",
    "import tensorflow as tf\n",
    "import numpy as np\n",
    "\n",
    "from models.neural_network import NeuralNetwork\n",
    "from models.cnn import CNN\n",
    "\n",
    "os.environ[\"CUDA_VISIBLE_DEVICES\"] = \"2\"\n",
    "\n",
    "#Seed used for all calculations of training and test point indices \n",
    "SEED = 14"
   ]
  },
  {
   "cell_type": "code",
   "execution_count": 2,
   "metadata": {
    "collapsed": true
   },
   "outputs": [],
   "source": [
    "## Visualization of samples\n",
    "import matplotlib\n",
    "import matplotlib.pyplot as plt\n",
    "%matplotlib inline\n",
    "\n",
    "def visualize(image):\n",
    "    plt.figure(figsize=(1, 1))\n",
    "    if image.shape[-1] == 1:\n",
    "        # image is in black and white\n",
    "        image = image[:, :, 0]\n",
    "        plt.imshow(image, cmap='Greys')\n",
    "    else:\n",
    "        # image is in color\n",
    "        plt.imshow(image)\n",
    "    plt.axis('off')\n",
    "    plt.show()\n",
    "\n",
    "#Normalize rows of a given matrix\n",
    "def normalize(matrix):\n",
    "    matrix_nm = np.zeros_like(matrix)\n",
    "    for i in range(matrix.shape[0]):\n",
    "        matrix_nm[i] = matrix[i]/np.linalg.norm(matrix[i]) \n",
    "    return matrix_nm"
   ]
  },
  {
   "cell_type": "code",
   "execution_count": 9,
   "metadata": {
    "collapsed": true
   },
   "outputs": [],
   "source": [
    "input_shape = (28,28,1)"
   ]
  },
  {
   "cell_type": "code",
   "execution_count": 3,
   "metadata": {
    "scrolled": true
   },
   "outputs": [
    {
     "name": "stdout",
     "output_type": "stream",
     "text": [
      "Train on 60000 samples, validate on 5000 samples\n",
      "Epoch 1/25\n",
      "60000/60000 [==============================] - 3s 58us/step - loss: 0.4485 - acc: 0.8573 - val_loss: 0.0972 - val_acc: 0.9728\n",
      "Epoch 2/25\n",
      "60000/60000 [==============================] - 3s 43us/step - loss: 0.1599 - acc: 0.9531 - val_loss: 0.0624 - val_acc: 0.9800\n",
      "Epoch 3/25\n",
      "60000/60000 [==============================] - 3s 43us/step - loss: 0.1218 - acc: 0.9638 - val_loss: 0.0502 - val_acc: 0.9846\n",
      "Epoch 4/25\n",
      "60000/60000 [==============================] - ETA: 0s - loss: 0.1004 - acc: 0.969 - 3s 43us/step - loss: 0.1002 - acc: 0.9696 - val_loss: 0.0446 - val_acc: 0.9848\n",
      "Epoch 5/25\n",
      "60000/60000 [==============================] - 3s 44us/step - loss: 0.0902 - acc: 0.9737 - val_loss: 0.0402 - val_acc: 0.9880\n",
      "Epoch 6/25\n",
      "60000/60000 [==============================] - 3s 44us/step - loss: 0.0783 - acc: 0.9760 - val_loss: 0.0349 - val_acc: 0.9894\n",
      "Epoch 7/25\n",
      "60000/60000 [==============================] - 3s 44us/step - loss: 0.0699 - acc: 0.9787 - val_loss: 0.0355 - val_acc: 0.9894\n",
      "Epoch 8/25\n",
      "60000/60000 [==============================] - 3s 44us/step - loss: 0.0664 - acc: 0.9797 - val_loss: 0.0308 - val_acc: 0.9882\n",
      "Epoch 9/25\n",
      "60000/60000 [==============================] - 3s 44us/step - loss: 0.0609 - acc: 0.9817 - val_loss: 0.0306 - val_acc: 0.9906\n",
      "Epoch 10/25\n",
      "60000/60000 [==============================] - 3s 44us/step - loss: 0.0565 - acc: 0.9830 - val_loss: 0.0329 - val_acc: 0.9894\n",
      "Epoch 11/25\n",
      "60000/60000 [==============================] - 3s 44us/step - loss: 0.0541 - acc: 0.9840 - val_loss: 0.0289 - val_acc: 0.9912\n",
      "Epoch 12/25\n",
      "60000/60000 [==============================] - 3s 43us/step - loss: 0.0509 - acc: 0.9846 - val_loss: 0.0276 - val_acc: 0.9908\n",
      "Epoch 13/25\n",
      "60000/60000 [==============================] - 3s 44us/step - loss: 0.0500 - acc: 0.9848 - val_loss: 0.0280 - val_acc: 0.9914\n",
      "Epoch 14/25\n",
      "60000/60000 [==============================] - 3s 44us/step - loss: 0.0467 - acc: 0.9856 - val_loss: 0.0261 - val_acc: 0.9924\n",
      "Epoch 15/25\n",
      "60000/60000 [==============================] - 3s 43us/step - loss: 0.0456 - acc: 0.9865 - val_loss: 0.0269 - val_acc: 0.9914\n",
      "Epoch 16/25\n",
      "60000/60000 [==============================] - 3s 43us/step - loss: 0.0436 - acc: 0.9870 - val_loss: 0.0266 - val_acc: 0.9918\n",
      "Epoch 17/25\n",
      "60000/60000 [==============================] - 3s 43us/step - loss: 0.0425 - acc: 0.9874 - val_loss: 0.0262 - val_acc: 0.9914\n",
      "Epoch 18/25\n",
      "60000/60000 [==============================] - 3s 43us/step - loss: 0.0406 - acc: 0.9877 - val_loss: 0.0257 - val_acc: 0.9918\n",
      "Epoch 19/25\n",
      "60000/60000 [==============================] - 3s 43us/step - loss: 0.0392 - acc: 0.9883 - val_loss: 0.0269 - val_acc: 0.9920\n",
      "Epoch 20/25\n",
      "60000/60000 [==============================] - 3s 43us/step - loss: 0.0386 - acc: 0.9885 - val_loss: 0.0246 - val_acc: 0.9920\n",
      "Epoch 21/25\n",
      "60000/60000 [==============================] - 3s 43us/step - loss: 0.0370 - acc: 0.9882 - val_loss: 0.0248 - val_acc: 0.9924\n",
      "Epoch 22/25\n",
      "60000/60000 [==============================] - 3s 43us/step - loss: 0.0353 - acc: 0.9893 - val_loss: 0.0250 - val_acc: 0.9926\n",
      "Epoch 23/25\n",
      "60000/60000 [==============================] - 3s 43us/step - loss: 0.0357 - acc: 0.9890 - val_loss: 0.0256 - val_acc: 0.9924\n",
      "Epoch 24/25\n",
      "60000/60000 [==============================] - 3s 43us/step - loss: 0.0340 - acc: 0.9893 - val_loss: 0.0244 - val_acc: 0.9936\n",
      "Epoch 25/25\n",
      "60000/60000 [==============================] - 3s 43us/step - loss: 0.0344 - acc: 0.9899 - val_loss: 0.0233 - val_acc: 0.9930\n",
      "6042/6042 [==============================] - 0s 13us/step\n",
      "Saved model to disk\n"
     ]
    }
   ],
   "source": [
    "#Load model from disk\n",
    "model_name = 'MNIST-Pool'\n",
    "input_shape = (28,28,1)\n",
    "model_save_path = '../trained_models/' + model_name + '-model.json'\n",
    "weights_save_path = '../trained_models/' + model_name + 'weights'\n",
    "model = CNN(model_name=model_name, dataset='mnist_pool')\n",
    "epochs = 25\n",
    "model.train(epochs=epochs)\n",
    "model.save_model(model_save_path, weights_save_path)    "
   ]
  },
  {
   "cell_type": "code",
   "execution_count": 4,
   "metadata": {
    "collapsed": true
   },
   "outputs": [],
   "source": [
    "#Get training samples\n",
    "num_train_samples = 1000\n",
    "data_indices = model.gen_rand_indices(low=0, high=model.train_data.shape[0], seed=SEED, num_samples=num_train_samples)\n",
    "train_data = model.train_data[data_indices]\n",
    "train_data_labels = model.train_labels[data_indices]\n",
    "train_data_labels_int = np.argmax(train_data_labels, axis=1)"
   ]
  },
  {
   "cell_type": "code",
   "execution_count": 5,
   "metadata": {
    "scrolled": true
   },
   "outputs": [
    {
     "name": "stderr",
     "output_type": "stream",
     "text": [
      "/root/notebook/cleverhans/cleverhans/src/cleverhans/cleverhans/utils_keras.py:144: UserWarning: Please update your version to keras >= 2.1.3; support for earlier keras versions will be dropped on 2018-07-22\n",
      "  \"Please update your version to keras >= 2.1.3; \"\n"
     ]
    }
   ],
   "source": [
    "num_test_samples_per_class = 10\n",
    "num_test_samples = 10*num_test_samples_per_class\n",
    "\n",
    "#Generate test points\n",
    "test_indices = model.gen_rand_indices_all_classes(y=model.test_labels, seed=SEED, num_samples=num_test_samples_per_class)\n",
    "\n",
    "#Get Regular, Noisy, FGSM, BIM, and CW test points\n",
    "reg_data = model.test_data[test_indices]\n",
    "noisy_data = model.generate_perturbed_data(model.test_data[test_indices], model.test_labels[test_indices],seed=SEED, perturbation='Noisy', eps=0.1)\n",
    "fgsm_data = model.generate_perturbed_data(model.test_data[test_indices], model.test_labels[test_indices],seed=SEED, perturbation='FGSM', eps=0.1)\n",
    "bim_data = model.generate_perturbed_data(model.test_data[test_indices], model.test_labels[test_indices], seed=SEED, perturbation='BIM', iterations=10, eps=0.1)\n",
    "cw_data = model.generate_perturbed_data(model.test_data[test_indices], model.test_labels[test_indices],seed=SEED, perturbation='CW', targeted=False, eps=0.1)\n",
    "df_data = model.generate_perturbed_data(model.test_data[test_indices], model.test_labels[test_indices],seed=SEED, perturbation='DF')\n",
    "jsma_data = model.generate_perturbed_data(model.test_data[test_indices], model.test_labels[test_indices],seed=SEED, perturbation='JSMA')"
   ]
  },
  {
   "cell_type": "code",
   "execution_count": 6,
   "metadata": {
    "scrolled": true
   },
   "outputs": [
    {
     "name": "stdout",
     "output_type": "stream",
     "text": [
      "Loaded model from disk\n"
     ]
    }
   ],
   "source": [
    "#Reset tf.graph() as Cleverhans modifies the graph\n",
    "tf.reset_default_graph()\n",
    "\n",
    "#Reload the model and weights\n",
    "model = CNN(model_name=model_name, dataset='mnist_pool')\n",
    "model.load_model(model_save_path, weights_save_path)    "
   ]
  },
  {
   "cell_type": "code",
   "execution_count": 10,
   "metadata": {},
   "outputs": [
    {
     "data": {
      "image/png": "[encoded data removed]",
      "text/plain": [
       "<matplotlib.figure.Figure at 0x7fc956548610>"
      ]
     },
     "metadata": {},
     "output_type": "display_data"
    },
    {
     "data": {
      "image/png": "[encoded data removed]",
      "text/plain": [
       "<matplotlib.figure.Figure at 0x7fc9564dfbd0>"
      ]
     },
     "metadata": {},
     "output_type": "display_data"
    },
    {
     "data": {
      "image/png": "[encoded data removed]",
      "text/plain": [
       "<matplotlib.figure.Figure at 0x7fc9553f5410>"
      ]
     },
     "metadata": {},
     "output_type": "display_data"
    },
    {
     "data": {
      "image/png": "[encoded data removed]",
      "text/plain": [
       "<matplotlib.figure.Figure at 0x7fc9553f54d0>"
      ]
     },
     "metadata": {},
     "output_type": "display_data"
    },
    {
     "data": {
      "image/png": "[encoded data removed]",
      "text/plain": [
       "<matplotlib.figure.Figure at 0x7fc95529b2d0>"
      ]
     },
     "metadata": {},
     "output_type": "display_data"
    },
    {
     "data": {
      "image/png": "[encoded data removed]",
      "text/plain": [
       "<matplotlib.figure.Figure at 0x7fc95521c4d0>"
      ]
     },
     "metadata": {},
     "output_type": "display_data"
    },
    {
     "data": {
      "image/png": "[encoded data removed]",
      "text/plain": [
       "<matplotlib.figure.Figure at 0x7fc9551ba690>"
      ]
     },
     "metadata": {},
     "output_type": "display_data"
    }
   ],
   "source": [
    "#Lets visualize one sample from each dataset\n",
    "x_vis = np.random.choice(range(0,num_test_samples), 1)\n",
    "visualize(reg_data[x_vis].reshape(input_shape))\n",
    "visualize(noisy_data[x_vis].reshape(input_shape))\n",
    "visualize(fgsm_data[x_vis].reshape(input_shape))\n",
    "visualize(bim_data[x_vis].reshape(input_shape))\n",
    "visualize(cw_data[x_vis].reshape(input_shape))\n",
    "visualize(df_data[x_vis].reshape(input_shape))\n",
    "visualize(jsma_data[x_vis].reshape(input_shape))"
   ]
  },
  {
   "cell_type": "code",
   "execution_count": 14,
   "metadata": {},
   "outputs": [],
   "source": [
    "#Get predictions\n",
    "reg_preds = model.model.predict(reg_data.reshape(-1,*input_shape))\n",
    "noisy_preds = model.model.predict(noisy_data.reshape(-1,*input_shape))\n",
    "fgsm_preds = model.model.predict(fgsm_data.reshape(-1,*input_shape))\n",
    "bim_preds = model.model.predict(bim_data.reshape(-1,*input_shape))\n",
    "cw_preds = model.model.predict(cw_data.reshape(-1,*input_shape))\n",
    "df_preds = model.model.predict(df_data.reshape(-1,*input_shape))\n",
    "jsma_preds = model.model.predict(jsma_data.reshape(-1,*input_shape))"
   ]
  },
  {
   "cell_type": "code",
   "execution_count": 15,
   "metadata": {
    "collapsed": true
   },
   "outputs": [],
   "source": [
    "#Convert preds to labels\n",
    "reg_labels = np.zeros(reg_preds.shape)\n",
    "reg_labels[np.arange(num_test_samples),np.argmax(reg_preds, axis=1)] = 1\n",
    "\n",
    "noisy_labels = np.zeros(noisy_preds.shape)\n",
    "noisy_labels[np.arange(num_test_samples),np.argmax(noisy_preds, axis=1)] = 1\n",
    "\n",
    "fgsm_labels = np.zeros(fgsm_preds.shape)\n",
    "fgsm_labels[np.arange(num_test_samples),np.argmax(fgsm_preds, axis=1)] = 1\n",
    "\n",
    "bim_labels = np.zeros(bim_preds.shape)\n",
    "bim_labels[np.arange(num_test_samples),np.argmax(bim_preds, axis=1)] = 1\n",
    "\n",
    "cw_labels = np.zeros(cw_preds.shape)\n",
    "cw_labels[np.arange(num_test_samples),np.argmax(cw_preds, axis=1)] = 1\n",
    "\n",
    "df_labels = np.zeros(df_preds.shape)\n",
    "df_labels[np.arange(num_test_samples),np.argmax(df_preds, axis=1)] = 1\n",
    "\n",
    "\n",
    "jsma_labels = np.zeros(jsma_preds.shape)\n",
    "jsma_labels[np.arange(num_test_samples),np.argmax(jsma_preds, axis=1)] = 1"
   ]
  },
  {
   "cell_type": "code",
   "execution_count": 16,
   "metadata": {
    "scrolled": true
   },
   "outputs": [
    {
     "name": "stdout",
     "output_type": "stream",
     "text": [
      "[0 0 0 0 0 0 0 0 0 0 1 1 1 1 1 1 1 1 1 1 2 2 2 2 2 2 2 2 2 2 3 3 3 3 3 3 3\n",
      " 3 3 3 4 4 4 4 4 4 4 4 4 4 5 5 5 5 5 5 5 5 5 5 6 6 6 6 6 6 6 6 6 6 7 7 7 7\n",
      " 7 7 7 7 7 7 8 8 8 8 8 8 8 8 8 8 9 9 9 9 9 9 9 9 9 7]\n",
      "[0 0 0 0 0 0 0 0 0 0 1 1 1 1 1 1 1 1 1 1 2 2 2 2 2 2 2 2 2 2 3 3 3 3 3 3 3\n",
      " 3 3 3 4 4 4 4 4 4 4 4 4 4 5 5 5 5 5 5 5 5 5 5 6 6 6 6 6 6 6 6 6 6 7 7 7 7\n",
      " 7 7 7 7 7 7 8 8 8 8 8 8 8 8 8 8 9 9 9 9 9 9 9 9 9 9]\n",
      "[0 9 0 0 0 0 0 0 0 0 1 8 1 1 1 1 1 1 1 1 2 2 7 2 2 2 2 2 2 2 3 3 2 3 3 3 3\n",
      " 3 3 3 4 9 4 4 4 4 4 4 4 4 5 5 5 5 5 3 5 5 3 5 6 6 6 6 6 6 6 6 6 6 7 7 7 9\n",
      " 7 7 7 7 7 7 0 8 8 8 8 8 8 8 8 8 9 9 5 9 9 9 9 4 9 7]\n",
      "[0 9 0 0 0 0 0 0 0 0 1 2 1 1 1 1 1 1 1 2 2 2 7 2 2 8 2 2 2 2 3 3 2 3 3 3 3\n",
      " 3 9 3 9 9 4 4 4 4 4 4 4 4 3 5 5 5 5 3 3 5 3 5 6 6 6 6 6 6 6 6 6 6 7 0 7 9\n",
      " 7 7 2 7 7 7 0 8 8 8 8 8 8 8 8 8 9 9 5 9 9 9 9 4 9 9]\n",
      "[2 9 6 9 5 2 2 6 6 2 3 8 3 7 3 5 8 3 3 8 3 7 7 3 1 8 7 1 0 1 5 5 2 5 8 5 5\n",
      " 9 9 8 9 9 9 7 9 9 9 8 9 9 3 3 3 3 3 3 3 6 3 6 5 5 3 5 0 5 5 5 5 0 3 0 9 3\n",
      " 2 9 3 9 3 8 0 9 9 9 2 3 9 3 9 6 4 4 5 4 7 8 4 4 7 9]\n",
      "[2 9 2 8 5 9 9 6 5 9 8 8 3 9 3 6 8 8 4 8 3 7 7 3 3 3 7 7 3 1 9 9 2 5 8 5 5\n",
      " 8 9 8 9 9 8 2 7 9 7 8 7 9 3 3 3 3 3 3 3 3 3 6 5 0 0 5 0 5 4 0 5 0 0 0 9 9\n",
      " 4 9 2 9 9 8 0 3 9 9 3 3 3 3 9 6 8 4 5 4 5 8 7 4 7 9]\n",
      "[6 3 3 2 8 6 5 2 5 8 0 8 9 9 0 0 6 0 8 7 5 1 8 2 9 8 7 6 0 4 1 8 4 9 4 1 4\n",
      " 0 7 4 0 0 1 8 2 7 7 3 7 9 6 3 7 7 0 0 8 4 4 9 7 4 1 5 0 5 8 8 3 8 9 6 1 5\n",
      " 1 9 3 9 5 5 1 5 3 5 7 3 8 5 4 5 5 8 4 0 4 3 7 3 5 9]\n"
     ]
    }
   ],
   "source": [
    "#Check preds to ensure adversarial samples were generated correctly\n",
    "print (np.argmax(reg_preds, axis=1))\n",
    "print (np.argmax(noisy_preds, axis=1))\n",
    "print (np.argmax(fgsm_preds, axis=1))\n",
    "print (np.argmax(bim_preds, axis=1))\n",
    "print (np.argmax(cw_preds, axis=1))\n",
    "print (np.argmax(df_preds, axis=1))\n",
    "print (np.argmax(jsma_preds, axis=1))"
   ]
  },
  {
   "cell_type": "code",
   "execution_count": 17,
   "metadata": {
    "collapsed": true
   },
   "outputs": [],
   "source": [
    "#Get gradients for all test points\n",
    "grads_reg = model.get_gradients_wrt_params(reg_data, reg_labels)\n",
    "grads_noisy = model.get_gradients_wrt_params(noisy_data, noisy_labels)\n",
    "grads_fgsm = model.get_gradients_wrt_params(fgsm_data, fgsm_labels)\n",
    "grads_bim = model.get_gradients_wrt_params(bim_data, bim_labels)\n",
    "grads_cw = model.get_gradients_wrt_params(cw_data, cw_labels)\n",
    "grads_df = model.get_gradients_wrt_params(df_data, df_labels)\n",
    "grads_jsma = model.get_gradients_wrt_params(jsma_data, jsma_labels)\n",
    "#Get gradients for training points \n",
    "grads_train = model.get_gradients_wrt_params(train_data, train_data_labels)"
   ]
  },
  {
   "cell_type": "code",
   "execution_count": 18,
   "metadata": {},
   "outputs": [],
   "source": [
    "grads_reg_nm = normalize(grads_reg)\n",
    "grads_noisy_nm = normalize(grads_noisy)\n",
    "grads_fgsm_nm = normalize(grads_fgsm)\n",
    "grads_bim_nm = normalize(grads_bim)\n",
    "grads_cw_nm = normalize(grads_cw)\n",
    "grads_df_nm = normalize(grads_df)\n",
    "grads_jsma_nm = normalize(grads_jsma)\n",
    "grads_train_nm = normalize(grads_train)"
   ]
  },
  {
   "cell_type": "code",
   "execution_count": 19,
   "metadata": {},
   "outputs": [
    {
     "name": "stderr",
     "output_type": "stream",
     "text": [
      "/usr/local/lib/python2.7/dist-packages/ipykernel_launcher.py:2: RuntimeWarning: invalid value encountered in sqrt\n",
      "  \n",
      "/usr/local/lib/python2.7/dist-packages/ipykernel_launcher.py:3: RuntimeWarning: invalid value encountered in sqrt\n",
      "  This is separate from the ipykernel package so we can avoid doing imports until\n",
      "/usr/local/lib/python2.7/dist-packages/ipykernel_launcher.py:4: RuntimeWarning: invalid value encountered in sqrt\n",
      "  after removing the cwd from sys.path.\n",
      "/usr/local/lib/python2.7/dist-packages/ipykernel_launcher.py:5: RuntimeWarning: invalid value encountered in sqrt\n",
      "  \"\"\"\n",
      "/usr/local/lib/python2.7/dist-packages/ipykernel_launcher.py:6: RuntimeWarning: invalid value encountered in sqrt\n",
      "  \n",
      "/usr/local/lib/python2.7/dist-packages/ipykernel_launcher.py:7: RuntimeWarning: invalid value encountered in sqrt\n",
      "  import sys\n",
      "/usr/local/lib/python2.7/dist-packages/ipykernel_launcher.py:8: RuntimeWarning: invalid value encountered in sqrt\n",
      "  \n"
     ]
    }
   ],
   "source": [
    "#Get norms \n",
    "grads_reg_norms = np.sqrt(np.dot(grads_reg, grads_reg.T)).diagonal()\n",
    "grads_noisy_norms = np.sqrt(np.dot(grads_noisy, grads_noisy.T)).diagonal()\n",
    "grads_bim_norms = np.sqrt(np.dot(grads_bim, grads_bim.T)).diagonal()\n",
    "grads_fgsm_norms = np.sqrt(np.dot(grads_fgsm, grads_fgsm.T)).diagonal()\n",
    "grads_cw_norms = np.sqrt(np.dot(grads_cw, grads_cw.T)).diagonal()\n",
    "grads_df_norms = np.sqrt(np.dot(grads_df, grads_df.T)).diagonal()\n",
    "grads_jsma_norms = np.sqrt(np.dot(grads_jsma, grads_jsma.T)).diagonal()"
   ]
  },
  {
   "cell_type": "code",
   "execution_count": 20,
   "metadata": {
    "collapsed": true
   },
   "outputs": [],
   "source": [
    "#Get cosine similarity matrix\n",
    "cos_sim_reg = np.dot(grads_reg_nm, grads_train_nm.T)\n",
    "cos_sim_noisy = np.dot(grads_noisy_nm, grads_train_nm.T)\n",
    "cos_sim_fgsm = np.dot(grads_fgsm_nm, grads_train_nm.T)\n",
    "cos_sim_bim = np.dot(grads_bim_nm, grads_train_nm.T)\n",
    "cos_sim_cw = np.dot(grads_cw_nm, grads_train_nm.T)\n",
    "cos_sim_df = np.dot(grads_df_nm, grads_train_nm.T)\n",
    "cos_sim_jsma = np.dot(grads_jsma_nm, grads_train_nm.T)"
   ]
  },
  {
   "cell_type": "code",
   "execution_count": 24,
   "metadata": {},
   "outputs": [
    {
     "name": "stdout",
     "output_type": "stream",
     "text": [
      "Regular: 0.8400\n",
      "Noisy:  0.8600\n",
      "FGSM:  0.6200\n",
      "BIM:  0.5300\n",
      "CW: 0.0200\n",
      "DF: 0.0300\n",
      "JSMA: 0.0300\n"
     ]
    }
   ],
   "source": [
    "#Separate Using Cos Sim\n",
    "\n",
    "eta = 0.75\n",
    "\n",
    "count = 0.0\n",
    "for i in range(num_test_samples):\n",
    "    if np.max(cos_sim_reg[i]) > eta:\n",
    "        count+=1.0\n",
    "        \n",
    "print ('Regular: %.4f' % ( count/num_test_samples))\n",
    "\n",
    "count = 0.0\n",
    "for i in range(num_test_samples):\n",
    "    if np.max(cos_sim_noisy[i]) > eta:\n",
    "        count+=1.0\n",
    "    \n",
    "print ('Noisy:  %.4f' % ( count/num_test_samples))\n",
    "\n",
    "count=0.0\n",
    "for i in range(num_test_samples):\n",
    "    if np.max(cos_sim_fgsm[i]) > eta:\n",
    "        count+=1.0\n",
    "        \n",
    "print ('FGSM:  %.4f' % ( count/num_test_samples))\n",
    "\n",
    "count=0.0\n",
    "for i in range(num_test_samples):\n",
    "    if np.max(cos_sim_bim[i]) > eta:\n",
    "        count+=1.0\n",
    "        \n",
    "print ('BIM:  %.4f' % ( count/num_test_samples))\n",
    "\n",
    "count=0.0\n",
    "for i in range(num_test_samples):\n",
    "    if np.max(cos_sim_cw[i]) > eta:\n",
    "        count+=1.0\n",
    "    \n",
    "print ('CW: %.4f' % ( count/num_test_samples))\n",
    "\n",
    "count=0.0\n",
    "for i in range(num_test_samples):\n",
    "    if np.max(cos_sim_df[i]) > eta:\n",
    "        count+=1.0\n",
    "    \n",
    "print ('DF: %.4f' % ( count/num_test_samples))\n",
    "\n",
    "count=0.0\n",
    "for i in range(num_test_samples):\n",
    "    if np.max(cos_sim_jsma[i]) > eta:\n",
    "        count+=1.0\n",
    "    \n",
    "print ('JSMA: %.4f' % ( count/num_test_samples))\n"
   ]
  },
  {
   "cell_type": "code",
   "execution_count": 26,
   "metadata": {},
   "outputs": [
    {
     "name": "stdout",
     "output_type": "stream",
     "text": [
      "Regular: 0.8800\n",
      "Noisy:  0.6500\n",
      "FGSM:  0.0800\n",
      "BIM:  0.0400\n",
      "CW: 0.0000\n",
      "DF: 0.0000\n",
      "JSMA: 0.0000\n"
     ]
    }
   ],
   "source": [
    "#Separate using just norm\n",
    "gamma = .05\n",
    "\n",
    "count = 0.0\n",
    "for i in range(num_test_samples):\n",
    "    if grads_reg_norms[i] < gamma:\n",
    "        count+=1.0\n",
    "        \n",
    "print ('Regular: %.4f' % ( count/num_test_samples))\n",
    "\n",
    "count = 0.0\n",
    "for i in range(num_test_samples):\n",
    "    if grads_noisy_norms[i] < gamma:\n",
    "        count+=1.0\n",
    "    \n",
    "print ('Noisy:  %.4f' % ( count/num_test_samples))\n",
    "\n",
    "count=0.0\n",
    "for i in range(num_test_samples):\n",
    "    if grads_fgsm_norms[i] < gamma:\n",
    "        count+=1.0\n",
    "        \n",
    "print ('FGSM:  %.4f' % ( count/num_test_samples))\n",
    "\n",
    "count=0.0\n",
    "for i in range(num_test_samples):\n",
    "    if grads_bim_norms[i] < gamma:\n",
    "        count+=1.0\n",
    "        \n",
    "print ('BIM:  %.4f' % ( count/num_test_samples))\n",
    "\n",
    "count=0.0\n",
    "for i in range(num_test_samples):\n",
    "    if grads_cw_norms[i] < gamma:\n",
    "        count+=1.0\n",
    "    \n",
    "print ('CW: %.4f' % ( count/num_test_samples))\n",
    "\n",
    "\n",
    "count=0.0\n",
    "for i in range(num_test_samples):\n",
    "    if grads_df_norms[i] < gamma:\n",
    "        count+=1.0\n",
    "    \n",
    "print ('DF: %.4f' % ( count/num_test_samples))\n",
    "\n",
    "count=0.0\n",
    "for i in range(num_test_samples):\n",
    "    if grads_jsma_norms[i] < gamma:\n",
    "        count+=1.0\n",
    "    \n",
    "print ('JSMA: %.4f' % ( count/num_test_samples))\n",
    "\n",
    "\n"
   ]
  },
  {
   "cell_type": "code",
   "execution_count": 27,
   "metadata": {},
   "outputs": [
    {
     "name": "stdout",
     "output_type": "stream",
     "text": [
      "Regular: 0.8000\n",
      "Noisy:  0.6200\n",
      "FGSM:  0.0700\n",
      "BIM:  0.0400\n",
      "CW: 0.0000\n",
      "DF: 0.0000\n",
      "JSMA: 0.0000\n"
     ]
    }
   ],
   "source": [
    "#Use both\n",
    "\n",
    "count = 0.0\n",
    "for i in range(num_test_samples):\n",
    "    if np.max(cos_sim_reg[i]) > eta and grads_reg_norms[i] < gamma:\n",
    "        count+=1.0\n",
    "        \n",
    "print ('Regular: %.4f' % ( count/num_test_samples))\n",
    "\n",
    "count = 0.0\n",
    "for i in range(num_test_samples):\n",
    "    if np.max(cos_sim_noisy[i]) > eta and grads_noisy_norms[i] < gamma:\n",
    "        count+=1.0\n",
    "    \n",
    "print ('Noisy:  %.4f' % ( count/num_test_samples))\n",
    "\n",
    "count=0.0\n",
    "for i in range(num_test_samples):\n",
    "    if np.max(cos_sim_fgsm[i]) > eta and grads_fgsm_norms[i] < gamma:\n",
    "        count+=1.0\n",
    "        \n",
    "print ('FGSM:  %.4f' % ( count/num_test_samples))\n",
    "\n",
    "count=0.0\n",
    "for i in range(num_test_samples):\n",
    "    if np.max(cos_sim_bim[i]) > eta and grads_bim_norms[i] < gamma:\n",
    "        count+=1.0\n",
    "        \n",
    "print ('BIM:  %.4f' % ( count/num_test_samples))\n",
    "\n",
    "count=0.0\n",
    "for i in range(num_test_samples):\n",
    "    if np.max(cos_sim_cw[i]) > eta and grads_cw_norms[i] < gamma:\n",
    "        count+=1.0\n",
    "    \n",
    "print ('CW: %.4f' % ( count/num_test_samples))\n",
    "\n",
    "count=0.0\n",
    "for i in range(num_test_samples):\n",
    "    if np.max(cos_sim_df[i]) > eta and grads_df_norms[i] < gamma:\n",
    "        count+=1.0\n",
    "    \n",
    "print ('DF: %.4f' % ( count/num_test_samples))\n",
    "\n",
    "count=0.0\n",
    "for i in range(num_test_samples):\n",
    "    if np.max(cos_sim_jsma[i]) > eta and grads_jsma_norms[i] < gamma:\n",
    "        count+=1.0\n",
    "    \n",
    "print ('JSMA: %.4f' % ( count/num_test_samples))\n"
   ]
  },
  {
   "cell_type": "code",
   "execution_count": 28,
   "metadata": {
    "collapsed": true
   },
   "outputs": [],
   "source": [
    "def avg_l2_distortion(orig, adv):\n",
    "    \"\"\"Get the mean l2 distortion between two orig and adv images\"\"\"\n",
    "    l2_dist = 0.0\n",
    "    for i in range(orig.shape[0]):\n",
    "        l2_dist+= np.linalg.norm(orig[i] - adv[i])\n",
    "    return l2_dist/orig.shape[0]"
   ]
  },
  {
   "cell_type": "code",
   "execution_count": 29,
   "metadata": {},
   "outputs": [
    {
     "name": "stdout",
     "output_type": "stream",
     "text": [
      "2.11310651422\n",
      "1.86042913556\n",
      "2.78593719177\n",
      "1.64055152766\n",
      "4.85458270788\n"
     ]
    }
   ],
   "source": [
    "print (avg_l2_distortion(reg_data, fgsm_data))\n",
    "print (avg_l2_distortion(reg_data, bim_data))\n",
    "print (avg_l2_distortion(reg_data, cw_data))\n",
    "print (avg_l2_distortion(reg_data, df_data))\n",
    "print (avg_l2_distortion(reg_data, jsma_data))"
   ]
  },
  {
   "cell_type": "code",
   "execution_count": null,
   "metadata": {
    "collapsed": true
   },
   "outputs": [],
   "source": []
  }
 ],
 "metadata": {
  "kernelspec": {
   "display_name": "Python 2",
   "language": "python",
   "name": "python2"
  },
  "language_info": {
   "codemirror_mode": {
    "name": "ipython",
    "version": 2
   },
   "file_extension": ".py",
   "mimetype": "text/x-python",
   "name": "python",
   "nbconvert_exporter": "python",
   "pygments_lexer": "ipython2",
   "version": "2.7.12"
  }
 },
 "nbformat": 4,
 "nbformat_minor": 2
}
