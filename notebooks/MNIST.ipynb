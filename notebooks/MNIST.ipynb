{
 "cells": [
  {
   "cell_type": "code",
   "execution_count": 1,
   "metadata": {},
   "outputs": [
    {
     "name": "stderr",
     "output_type": "stream",
     "text": [
      "Using TensorFlow backend.\n"
     ]
    }
   ],
   "source": [
    "from __future__ import division\n",
    "from __future__ import print_function\n",
    "\n",
    "import sys, os\n",
    "sys.path.append('../')\n",
    "\n",
    "import tensorflow as tf\n",
    "import numpy as np\n",
    "import gc\n",
    "\n",
    "from models.neural_network import NeuralNetwork\n",
    "from models.cnn import CNN\n",
    "from models.util import *\n",
    "\n",
    "os.environ[\"CUDA_VISIBLE_DEVICES\"] = \"2\"\n",
    "\n",
    "#Seed used for all calculations of training and test point indices \n",
    "SEED = 14"
   ]
  },
  {
   "cell_type": "code",
   "execution_count": 2,
   "metadata": {
    "collapsed": true
   },
   "outputs": [],
   "source": [
    "#Define params of model\n",
    "input_shape = (28,28,1)\n",
    "num_classes = 10\n",
    "eps=0.3\n"
   ]
  },
  {
   "cell_type": "code",
   "execution_count": 3,
   "metadata": {},
   "outputs": [
    {
     "name": "stdout",
     "output_type": "stream",
     "text": [
      "Total Model Params: 3330314\n",
      "Loaded model from disk\n"
     ]
    }
   ],
   "source": [
    "#Load model from disk\n",
    "model_name = 'MNIST'\n",
    "model_save_path = '../trained_models/' + model_name + '-model.json'\n",
    "weights_save_path = '../trained_models/' + model_name + 'weights'\n",
    "model = CNN(model_name=model_name, dataset='mnist', seed=SEED)\n",
    "print ('Total Model Params: %d' % model.num_params)\n",
    "model.load_model(model_save_path, weights_save_path) \n",
    "#epochs = 50\n",
    "#model.train(epochs=epochs)\n",
    "#model.save_model(model_save_path, weights_save_path)   "
   ]
  },
  {
   "cell_type": "code",
   "execution_count": 4,
   "metadata": {},
   "outputs": [
    {
     "name": "stdout",
     "output_type": "stream",
     "text": [
      "6055/6055 [==============================] - 2s 249us/step\n",
      "Model Accuracy: 0.99405\n"
     ]
    }
   ],
   "source": [
    "#Model Accuracy\n",
    "print ('Model Accuracy: %.5f' % (model.model.evaluate(model.test_data, model.test_labels)[1]))"
   ]
  },
  {
   "cell_type": "code",
   "execution_count": 5,
   "metadata": {
    "collapsed": true
   },
   "outputs": [],
   "source": [
    "#Get training samples\n",
    "num_train_samples = 1000\n",
    "data_indices = model.gen_rand_indices(low=0, high=model.train_data.shape[0], seed=SEED, num_samples=num_train_samples)\n",
    "train_data = model.train_data[data_indices]\n",
    "train_data_labels = model.train_labels[data_indices]\n",
    "train_data_labels_int = np.argmax(train_data_labels, axis=1)"
   ]
  },
  {
   "cell_type": "code",
   "execution_count": 6,
   "metadata": {
    "scrolled": true
   },
   "outputs": [
    {
     "name": "stderr",
     "output_type": "stream",
     "text": [
      "/root/notebook/cleverhans/cleverhans/src/cleverhans/cleverhans/utils_keras.py:144: UserWarning: Please update your version to keras >= 2.1.3; support for earlier keras versions will be dropped on 2018-07-22\n",
      "  \"Please update your version to keras >= 2.1.3; \"\n",
      "/root/notebook/cleverhans/cleverhans/src/cleverhans/cleverhans/attacks_tf.py:1236: RuntimeWarning: divide by zero encountered in double_scalars\n",
      "  pert_k = (abs(f_k) + 0.00001) / np.linalg.norm(w_k.flatten())\n"
     ]
    }
   ],
   "source": [
    "num_test_samples_per_class = 10\n",
    "num_test_samples = num_classes*num_test_samples_per_class\n",
    "\n",
    "#Generate test points\n",
    "test_indices = model.gen_rand_indices_all_classes(y=model.test_labels, seed=SEED, num_samples=num_test_samples_per_class)\n",
    "\n",
    "#Get Regular, Noisy, FGSM, BIM, and CW test points\n",
    "reg_data = model.test_data[test_indices]\n",
    "noisy_data = model.generate_perturbed_data(model.test_data[test_indices], model.test_labels[test_indices],seed=SEED, perturbation='NOISY', eps=eps)\n",
    "fgsm_data = model.generate_perturbed_data(model.test_data[test_indices], model.test_labels[test_indices],seed=SEED, perturbation='FGSM', eps=eps)\n",
    "bim_a_data = model.generate_perturbed_data(model.test_data[test_indices], model.test_labels[test_indices], seed=SEED, perturbation='BIM-A', iterations=10, eps=eps)\n",
    "bim_b_data = model.generate_perturbed_data(model.test_data[test_indices], model.test_labels[test_indices], seed=SEED, perturbation='BIM-B', iterations=10, eps=eps)\n",
    "cw_data = model.generate_perturbed_data(model.test_data[test_indices], model.test_labels[test_indices],seed=SEED, perturbation='CW', targeted=False, eps=eps)\n",
    "df_data = model.generate_perturbed_data(model.test_data[test_indices], model.test_labels[test_indices],seed=SEED, perturbation='DF', nb_candidate=num_classes)\n",
    "jsma_data = model.generate_perturbed_data(model.test_data[test_indices], model.test_labels[test_indices],seed=SEED, perturbation='JSMA')"
   ]
  },
  {
   "cell_type": "code",
   "execution_count": 7,
   "metadata": {},
   "outputs": [
    {
     "name": "stdout",
     "output_type": "stream",
     "text": [
      "Loaded model from disk\n"
     ]
    }
   ],
   "source": [
    "#Reset tf.graph() as Cleverhans modifies the graph\n",
    "tf.reset_default_graph()\n",
    "\n",
    "#Reload the model and weights\n",
    "model = CNN(model_name=model_name, dataset='mnist', seed=SEED)\n",
    "model.load_model(model_save_path, weights_save_path)    "
   ]
  },
  {
   "cell_type": "code",
   "execution_count": 8,
   "metadata": {
    "collapsed": true,
    "scrolled": true
   },
   "outputs": [],
   "source": [
    "fgsm_guides = model.model.predict(fgsm_data.reshape(-1,*input_shape))\n",
    "bim_a_guides = model.model.predict(bim_a_data.reshape(-1,*input_shape))\n",
    "bim_b_guides = model.model.predict(bim_a_data.reshape(-1,*input_shape))\n",
    "\n",
    "#Whitebox CW Attack\n",
    "#First get guide images\n",
    "guide_indices_fgsm = list()\n",
    "guide_indices_bim_a = list()\n",
    "guide_indices_bim_b = list()\n",
    "np.random.seed(SEED)\n",
    "#Generate guide images for modified CW attacks\n",
    "for i in range(num_test_samples):\n",
    "    label_fgsm = np.argmax(fgsm_guides[i])\n",
    "    label_bim_a = np.argmax(bim_a_guides[i])\n",
    "    label_bim_b = np.argmax(bim_b_guides[i])\n",
    "   \n",
    "    #Get a test point with the target label\n",
    "    guide_imgs_indices_fgsm = np.where(model.train_labels[:,label_fgsm] == 1)[0]\n",
    "    guide_imgs_indices_bim_a = np.where(model.train_labels[:,label_bim_a] == 1)[0]\n",
    "    guide_imgs_indices_bim_b = np.where(model.train_labels[:,label_bim_b] == 1)[0]\n",
    "    #Choose a guide image\n",
    "    guide_img_idx_fgsm = np.random.choice(guide_imgs_indices_fgsm, 1)[0]\n",
    "    guide_img_idx_bim_a = np.random.choice(guide_imgs_indices_bim_a, 1)[0]\n",
    "    guide_img_idx_bim_b = np.random.choice(guide_imgs_indices_bim_b, 1)[0]\n",
    "\n",
    "\n",
    "    guide_indices_fgsm.append(guide_img_idx_fgsm)\n",
    "    guide_indices_bim_a.append(guide_img_idx_bim_a)\n",
    "    guide_indices_bim_b.append(guide_img_idx_bim_b)\n",
    "\n",
    "\n",
    "#1 Phase Attack\n",
    "fgsm_wb_data = model.generate_perturbed_data(model.test_data[test_indices], model.test_labels[test_indices],seed=SEED, perturbation='FGSM-WB', eps=eps, x_tar=model.train_data[guide_indices_fgsm], y_tar = model.train_labels[guide_indices_fgsm])\n",
    "bim_a_wb_data = model.generate_perturbed_data(model.test_data[test_indices], model.test_labels[test_indices],seed=SEED, perturbation='BIM-A-WB', eps=eps, x_tar=model.train_data[guide_indices_bim_a], y_tar = model.train_labels[guide_indices_bim_a])\n",
    "bim_b_wb_data = model.generate_perturbed_data(model.test_data[test_indices], model.test_labels[test_indices],seed=SEED, perturbation='BIM-B-WB', eps=eps, x_tar=model.train_data[guide_indices_bim_b], y_tar = model.train_labels[guide_indices_bim_b])"
   ]
  },
  {
   "cell_type": "code",
   "execution_count": 9,
   "metadata": {},
   "outputs": [
    {
     "name": "stdout",
     "output_type": "stream",
     "text": [
      "Loaded model from disk\n"
     ]
    }
   ],
   "source": [
    "#Reset tf.graph() as Cleverhans modifies the graph\n",
    "tf.reset_default_graph()\n",
    "\n",
    "#Reload the model and weights\n",
    "model = CNN(model_name=model_name, dataset='mnist', seed=SEED)\n",
    "model.load_model(model_save_path, weights_save_path)  "
   ]
  },
  {
   "cell_type": "code",
   "execution_count": 10,
   "metadata": {
    "scrolled": true
   },
   "outputs": [
    {
     "name": "stderr",
     "output_type": "stream",
     "text": [
      "/usr/local/lib/python2.7/dist-packages/numpy/core/fromnumeric.py:2889: RuntimeWarning: Mean of empty slice.\n",
      "  out=out, **kwargs)\n",
      "/usr/local/lib/python2.7/dist-packages/numpy/core/_methods.py:80: RuntimeWarning: invalid value encountered in double_scalars\n",
      "  ret = ret.dtype.type(ret / rcount)\n"
     ]
    }
   ],
   "source": [
    "#Whitebox CW Attack\n",
    "#First get guide images\n",
    "guide_indices = list()\n",
    "np.random.seed(SEED)\n",
    "#Generate guide images for modified CW attacks\n",
    "for idx in test_indices:\n",
    "    label = np.argmax(model.test_labels[idx])\n",
    "    #Add 1 to the label mod 10 to get a target label\n",
    "    mod_label = (label + 1) % num_classes\n",
    "    #Get a test point with the target label\n",
    "    guide_imgs_indices = np.where(model.train_labels[:,mod_label] == 1)[0]\n",
    "    #Choose a guide image\n",
    "    guide_img_idx = np.random.choice(guide_imgs_indices, 1)[0]\n",
    "    guide_indices.append(guide_img_idx)\n",
    "\n",
    "\n",
    "#1 Phase Attack\n",
    "p1_cw_data = model.generate_perturbed_data(model.test_data[test_indices], y_tar=model.train_labels[guide_indices],seed=SEED, perturbation='CW', targeted=True, x_tar = model.train_data[guide_indices], use_cos_norm_reg=True, eps=eps, iterations=1000)\n",
    "\n",
    "#2 Phase Attack \n",
    "#Phase 1: Generate targeted adversarial images\n",
    "tar_cw_data = model.generate_perturbed_data(model.test_data[test_indices], y_tar=model.train_labels[guide_indices],seed=SEED, perturbation='CW', targeted=True, use_cos_norm_reg=False, eps=eps)\n",
    "#Phase 2: Optimize for higher cosine sim and smaller norm of gradient vector\n",
    "p2_cw_data = model.generate_perturbed_data(tar_cw_data, y_tar=model.train_labels[guide_indices],seed=SEED, perturbation='CW', targeted=True, x_tar = model.train_data[guide_indices], use_cos_norm_reg=True, eps=eps, iterations=1000)"
   ]
  },
  {
   "cell_type": "code",
   "execution_count": 11,
   "metadata": {
    "scrolled": true
   },
   "outputs": [
    {
     "name": "stdout",
     "output_type": "stream",
     "text": [
      "Loaded model from disk\n"
     ]
    }
   ],
   "source": [
    "#Reset tf.graph() as Cleverhans modifies the graph\n",
    "tf.reset_default_graph()\n",
    "\n",
    "#Reload the model and weights\n",
    "model = CNN(model_name=model_name, dataset='mnist', seed=SEED)\n",
    "model.load_model(model_save_path, weights_save_path)    "
   ]
  },
  {
   "cell_type": "code",
   "execution_count": 12,
   "metadata": {
    "collapsed": true
   },
   "outputs": [],
   "source": [
    "#Whitebox CW 2 Phase attack with FGSM, BIM-a/b guide images\n",
    "p2_cw_data_fgsm = model.generate_perturbed_data(fgsm_data, y_tar=model.train_labels[guide_indices_fgsm],seed=SEED, perturbation='CW', targeted=True, x_tar = model.train_data[guide_indices_fgsm], use_cos_norm_reg=True, eps=eps, iterations=1000)\n",
    "p2_cw_data_bim_a = model.generate_perturbed_data(bim_a_data, y_tar=model.train_labels[guide_indices_bim_a],seed=SEED, perturbation='CW', targeted=True, x_tar = model.train_data[guide_indices_bim_a], use_cos_norm_reg=True, eps=eps, iterations=1000)\n",
    "p2_cw_data_bim_b = model.generate_perturbed_data(bim_b_data, y_tar=model.train_labels[guide_indices_bim_b],seed=SEED, perturbation='CW', targeted=True, x_tar = model.train_data[guide_indices_bim_b], use_cos_norm_reg=True, eps=eps, iterations=1000)"
   ]
  },
  {
   "cell_type": "code",
   "execution_count": 13,
   "metadata": {},
   "outputs": [
    {
     "name": "stdout",
     "output_type": "stream",
     "text": [
      "Loaded model from disk\n"
     ]
    }
   ],
   "source": [
    "#Reset tf.graph() as Cleverhans modifies the graph\n",
    "tf.reset_default_graph()\n",
    "\n",
    "#Reload the model and weights\n",
    "model = CNN(model_name=model_name, dataset='mnist', seed=SEED)\n",
    "model.load_model(model_save_path, weights_save_path)    "
   ]
  },
  {
   "cell_type": "code",
   "execution_count": 14,
   "metadata": {},
   "outputs": [
    {
     "name": "stdout",
     "output_type": "stream",
     "text": [
      "100/100 [==============================] - 0s 747us/step\n",
      "Model Accuracy REG: 1.00000\n",
      "100/100 [==============================] - 0s 227us/step\n",
      "Model Accuracy NOISY: 0.87000\n",
      "100/100 [==============================] - 0s 194us/step\n",
      "Model Accuracy FGSM: 0.13000\n",
      "100/100 [==============================] - 0s 186us/step\n",
      "Model Accuracy BIM-A: 0.04000\n",
      "100/100 [==============================] - 0s 172us/step\n",
      "Model Accuracy BIM-B: 0.04000\n",
      "100/100 [==============================] - 0s 172us/step\n",
      "Model Accuracy FGSM-WB: 0.45000\n",
      "100/100 [==============================] - 0s 172us/step\n",
      "Model Accuracy BIM-A WB: 1.00000\n",
      "100/100 [==============================] - 0s 179us/step\n",
      "Model Accuracy BIM-B WB: 1.00000\n",
      "100/100 [==============================] - 0s 191us/step\n",
      "Model Accuracy CW: 0.00000\n",
      "100/100 [==============================] - 0s 164us/step\n",
      "Model Accuracy DF: 0.00000\n",
      "100/100 [==============================] - 0s 202us/step\n",
      "Model Accuracy JSMA: 0.01000\n",
      "100/100 [==============================] - 0s 164us/step\n",
      "Model Accuracy P1 CW: 0.03000\n",
      "100/100 [==============================] - 0s 175us/step\n",
      "Model Accuracy P2 CW: 0.03000\n",
      "100/100 [==============================] - 0s 166us/step\n",
      "Model Accuracy P2 FGSM: 0.13000\n",
      "100/100 [==============================] - 0s 176us/step\n",
      "Model Accuracy P2 BIM-A: 0.04000\n",
      "100/100 [==============================] - 0s 172us/step\n",
      "Model Accuracy P2 BIM-B 0.04000\n"
     ]
    }
   ],
   "source": [
    "print ('Model Accuracy REG: %.5f' % (model.model.evaluate(reg_data,model.test_labels[test_indices])[1]))\n",
    "print ('Model Accuracy NOISY: %.5f' % (model.model.evaluate(noisy_data,model.test_labels[test_indices])[1]))\n",
    "print ('Model Accuracy FGSM: %.5f' % (model.model.evaluate(fgsm_data,model.test_labels[test_indices])[1]))\n",
    "print ('Model Accuracy BIM-A: %.5f' % (model.model.evaluate(bim_a_data,model.test_labels[test_indices])[1]))\n",
    "print ('Model Accuracy BIM-B: %.5f' % (model.model.evaluate(bim_b_data,model.test_labels[test_indices])[1]))\n",
    "print ('Model Accuracy FGSM-WB: %.5f' % (model.model.evaluate(fgsm_wb_data,model.test_labels[test_indices])[1]))\n",
    "print ('Model Accuracy BIM-A WB: %.5f' % (model.model.evaluate(bim_a_wb_data,model.test_labels[test_indices])[1]))\n",
    "print ('Model Accuracy BIM-B WB: %.5f' % (model.model.evaluate(bim_b_wb_data,model.test_labels[test_indices])[1]))\n",
    "print ('Model Accuracy CW: %.5f' % (model.model.evaluate(cw_data,model.test_labels[test_indices])[1]))\n",
    "print ('Model Accuracy DF: %.5f' % (model.model.evaluate(df_data,model.test_labels[test_indices])[1]))\n",
    "print ('Model Accuracy JSMA: %.5f' % (model.model.evaluate(jsma_data,model.test_labels[test_indices])[1]))\n",
    "print ('Model Accuracy P1 CW: %.5f' % (model.model.evaluate(p1_cw_data,model.test_labels[test_indices])[1]))\n",
    "print ('Model Accuracy P2 CW: %.5f' % (model.model.evaluate(p2_cw_data,model.test_labels[test_indices])[1]))\n",
    "print ('Model Accuracy P2 FGSM: %.5f' % (model.model.evaluate(p2_cw_data_fgsm,model.test_labels[test_indices])[1]))\n",
    "print ('Model Accuracy P2 BIM-A: %.5f' % (model.model.evaluate(p2_cw_data_bim_a,model.test_labels[test_indices])[1]))\n",
    "print ('Model Accuracy P2 BIM-B %.5f' % (model.model.evaluate(p2_cw_data_bim_b,model.test_labels[test_indices])[1]))"
   ]
  },
  {
   "cell_type": "code",
   "execution_count": 15,
   "metadata": {},
   "outputs": [
    {
     "data": {
      "image/png": "[encoded data removed]",
      "text/plain": [
       "<matplotlib.figure.Figure at 0x7fb1a864e8d0>"
      ]
     },
     "metadata": {},
     "output_type": "display_data"
    },
    {
     "data": {
      "image/png": "[encoded data removed]",
      "text/plain": [
       "<matplotlib.figure.Figure at 0x7fb19c7706d0>"
      ]
     },
     "metadata": {},
     "output_type": "display_data"
    },
    {
     "data": {
      "image/png": "[encoded data removed]",
      "text/plain": [
       "<matplotlib.figure.Figure at 0x7fb19c6c34d0>"
      ]
     },
     "metadata": {},
     "output_type": "display_data"
    },
    {
     "data": {
      "image/png": "[encoded data removed]",
      "text/plain": [
       "<matplotlib.figure.Figure at 0x7fb19c6c3490>"
      ]
     },
     "metadata": {},
     "output_type": "display_data"
    },
    {
     "data": {
      "image/png": "[encoded data removed]",
      "text/plain": [
       "<matplotlib.figure.Figure at 0x7fb19c657290>"
      ]
     },
     "metadata": {},
     "output_type": "display_data"
    },
    {
     "data": {
      "image/png": "[encoded data removed]",
      "text/plain": [
       "<matplotlib.figure.Figure at 0x7fb168736690>"
      ]
     },
     "metadata": {},
     "output_type": "display_data"
    },
    {
     "data": {
      "image/png": "[encoded data removed]",
      "text/plain": [
       "<matplotlib.figure.Figure at 0x7fb168736650>"
      ]
     },
     "metadata": {},
     "output_type": "display_data"
    },
    {
     "data": {
      "image/png": "[encoded data removed]",
      "text/plain": [
       "<matplotlib.figure.Figure at 0x7fb16864c450>"
      ]
     },
     "metadata": {},
     "output_type": "display_data"
    },
    {
     "data": {
      "image/png": "[encoded data removed]",
      "text/plain": [
       "<matplotlib.figure.Figure at 0x7fb1487a2210>"
      ]
     },
     "metadata": {},
     "output_type": "display_data"
    },
    {
     "data": {
      "image/png": "[encoded data removed]",
      "text/plain": [
       "<matplotlib.figure.Figure at 0x7fb148738710>"
      ]
     },
     "metadata": {},
     "output_type": "display_data"
    },
    {
     "data": {
      "image/png": "[encoded data removed]",
      "text/plain": [
       "<matplotlib.figure.Figure at 0x7fb1247a1250>"
      ]
     },
     "metadata": {},
     "output_type": "display_data"
    },
    {
     "data": {
      "image/png": "[encoded data removed]",
      "text/plain": [
       "<matplotlib.figure.Figure at 0x7fb1247a1290>"
      ]
     },
     "metadata": {},
     "output_type": "display_data"
    },
    {
     "data": {
      "image/png": "[encoded data removed]",
      "text/plain": [
       "<matplotlib.figure.Figure at 0x7fb124687bd0>"
      ]
     },
     "metadata": {},
     "output_type": "display_data"
    },
    {
     "data": {
      "image/png": "[encoded data removed]",
      "text/plain": [
       "<matplotlib.figure.Figure at 0x7fb124640690>"
      ]
     },
     "metadata": {},
     "output_type": "display_data"
    },
    {
     "data": {
      "image/png": "[encoded data removed]",
      "text/plain": [
       "<matplotlib.figure.Figure at 0x7fb11679a450>"
      ]
     },
     "metadata": {},
     "output_type": "display_data"
    },
    {
     "data": {
      "image/png": "[encoded data removed]",
      "text/plain": [
       "<matplotlib.figure.Figure at 0x7fb1166413d0>"
      ]
     },
     "metadata": {},
     "output_type": "display_data"
    }
   ],
   "source": [
    "#Lets visualize one sample from each dataset\n",
    "x_vis = np.random.choice(range(0,num_test_samples), 1)\n",
    "visualize(reg_data[x_vis].reshape(*input_shape))\n",
    "visualize(noisy_data[x_vis].reshape(*input_shape))\n",
    "visualize(fgsm_data[x_vis].reshape(*input_shape))\n",
    "visualize(bim_a_data[x_vis].reshape(*input_shape))\n",
    "visualize(bim_b_data[x_vis].reshape(*input_shape))\n",
    "visualize(fgsm_wb_data[x_vis].reshape(*input_shape))\n",
    "visualize(bim_a_wb_data[x_vis].reshape(*input_shape))\n",
    "visualize(bim_b_wb_data[x_vis].reshape(*input_shape))\n",
    "visualize(cw_data[x_vis].reshape(*input_shape))\n",
    "visualize(df_data[x_vis].reshape(*input_shape))\n",
    "visualize(jsma_data[x_vis].reshape(*input_shape))\n",
    "visualize(p1_cw_data[x_vis].reshape(*input_shape))\n",
    "visualize(p2_cw_data[x_vis].reshape(*input_shape))\n",
    "visualize(p2_cw_data_fgsm[x_vis].reshape(*input_shape))\n",
    "visualize(p2_cw_data_bim_a[x_vis].reshape(*input_shape))\n",
    "visualize(p2_cw_data_bim_b[x_vis].reshape(*input_shape))"
   ]
  },
  {
   "cell_type": "code",
   "execution_count": 16,
   "metadata": {
    "collapsed": true
   },
   "outputs": [],
   "source": [
    "#Get predictions\n",
    "reg_preds = model.model.predict(reg_data.reshape(-1,*input_shape))\n",
    "noisy_preds = model.model.predict(noisy_data.reshape(-1,*input_shape))\n",
    "fgsm_preds = model.model.predict(fgsm_data.reshape(-1,*input_shape))\n",
    "bim_a_preds = model.model.predict(bim_a_data.reshape(-1,*input_shape))\n",
    "bim_b_preds = model.model.predict(bim_b_data.reshape(-1,*input_shape))\n",
    "fgsm_wb_preds = model.model.predict(fgsm_wb_data.reshape(-1,*input_shape))\n",
    "bim_a_wb_preds = model.model.predict(bim_a_wb_data.reshape(-1,*input_shape))\n",
    "bim_b_wb_preds = model.model.predict(bim_a_wb_data.reshape(-1,*input_shape))\n",
    "cw_preds = model.model.predict(cw_data.reshape(-1,*input_shape))\n",
    "df_preds = model.model.predict(df_data.reshape(-1,*input_shape))\n",
    "jsma_preds = model.model.predict(jsma_data.reshape(-1,*input_shape))\n",
    "p1_cw_preds = model.model.predict(p1_cw_data.reshape(-1,*input_shape))\n",
    "p2_cw_preds = model.model.predict(p2_cw_data.reshape(-1,*input_shape))\n",
    "p2_cw_fgsm_preds = model.model.predict(p2_cw_data_fgsm.reshape(-1,*input_shape))\n",
    "p2_cw_bim_a_preds = model.model.predict(p2_cw_data_bim_a.reshape(-1,*input_shape))\n",
    "p2_cw_bim_b_preds = model.model.predict(p2_cw_data_bim_b.reshape(-1,*input_shape))"
   ]
  },
  {
   "cell_type": "code",
   "execution_count": 17,
   "metadata": {
    "collapsed": true
   },
   "outputs": [],
   "source": [
    "#Convert preds to labels\n",
    "reg_labels = preds_to_labels(reg_preds)\n",
    "noisy_labels = preds_to_labels(noisy_preds)\n",
    "fgsm_labels = preds_to_labels(fgsm_preds)\n",
    "bim_a_labels = preds_to_labels(bim_a_preds)\n",
    "bim_b_labels = preds_to_labels(bim_b_preds)\n",
    "fgsm_wb_labels = preds_to_labels(fgsm_wb_preds)\n",
    "bim_a_wb_labels = preds_to_labels(bim_a_wb_preds)\n",
    "bim_b_wb_labels = preds_to_labels(bim_b_wb_preds)\n",
    "cw_labels = preds_to_labels(cw_preds)\n",
    "df_labels = preds_to_labels(df_preds)\n",
    "jsma_labels = preds_to_labels(jsma_preds)\n",
    "p1_cw_labels = preds_to_labels(p1_cw_preds)\n",
    "p2_cw_labels = preds_to_labels(p2_cw_preds)\n",
    "p2_cw_fgsm_labels = preds_to_labels(p2_cw_fgsm_preds)\n",
    "p2_cw_bim_a_labels = preds_to_labels(p2_cw_bim_a_preds)\n",
    "p2_cw_bim_b_labels = preds_to_labels(p2_cw_bim_b_preds)"
   ]
  },
  {
   "cell_type": "code",
   "execution_count": 18,
   "metadata": {},
   "outputs": [
    {
     "name": "stderr",
     "output_type": "stream",
     "text": [
      "../models/util.py:44: RuntimeWarning: invalid value encountered in sqrt\n",
      "  norms = np.sqrt(np.dot(grads, grads.T)).diagonal()\n"
     ]
    }
   ],
   "source": [
    "#This is a large network, therefore we need to calculate cos_sim for one type and free memory\n",
    "grads_train = model.get_gradients_wrt_params(train_data, train_data_labels)\n",
    "grads_train = normalize(grads_train)\n",
    "grads_reg_norms, cos_sim_reg = norms_and_cos(model, reg_data, reg_labels, grads_train)\n",
    "grads_noisy_norms, cos_sim_noisy = norms_and_cos(model, noisy_data, noisy_labels, grads_train)\n",
    "grads_fgsm_norms, cos_sim_fgsm =norms_and_cos(model, fgsm_data, fgsm_labels, grads_train)\n",
    "grads_bim_a_norms, cos_sim_bim_a = norms_and_cos(model, bim_a_data, bim_a_labels, grads_train)\n",
    "grads_bim_b_norms , cos_sim_bim_b= norms_and_cos(model, bim_b_data, bim_b_labels, grads_train)\n",
    "grads_fgsm_wb_norms, cos_sim_fgsm_wb = norms_and_cos(model, fgsm_wb_data, fgsm_wb_labels, grads_train)\n",
    "grads_bim_a_wb_norms, cos_sim_bim_a_wb = norms_and_cos(model, bim_a_wb_data, bim_a_wb_labels, grads_train)\n",
    "grads_bim_b_wb_norms, cos_sim_bim_b_wb = norms_and_cos(model, bim_b_wb_data, bim_b_wb_labels, grads_train)\n",
    "grads_cw_norms, cos_sim_cw = norms_and_cos(model, cw_data, cw_labels, grads_train)\n",
    "grads_df_norms, cos_sim_df = norms_and_cos(model, df_data, df_labels, grads_train)\n",
    "grads_jsma_norms, cos_sim_jsma = norms_and_cos(model, jsma_data, jsma_labels, grads_train)\n",
    "grads_p1_cw_norms, cos_sim_p1_cw = norms_and_cos(model, p1_cw_data, p1_cw_labels, grads_train)\n",
    "grads_p2_cw_norms, cos_sim_p2_cw = norms_and_cos(model, p2_cw_data, p2_cw_labels, grads_train)\n",
    "grads_p2_cw_fgsm_norms, cos_sim_p2_cw_fgsm = norms_and_cos(model, p2_cw_data_fgsm, p2_cw_fgsm_labels, grads_train)\n",
    "grads_p2_cw_bim_a_norms, cos_sim_p2_cw_bim_a = norms_and_cos(model, p2_cw_data_bim_a, p2_cw_bim_a_labels, grads_train)\n",
    "grads_p2_cw_bim_b_norms, cos_sim_p2_cw_bim_b = norms_and_cos(model, p2_cw_data_bim_b, p2_cw_bim_b_labels, grads_train)"
   ]
  },
  {
   "cell_type": "code",
   "execution_count": 26,
   "metadata": {},
   "outputs": [
    {
     "name": "stdout",
     "output_type": "stream",
     "text": [
      "Regular: 0.8700\n",
      "Noisy:  0.6400\n",
      "FGSM:  0.1200\n",
      "BIM-A:  0.0300\n",
      "BIM-B:  0.1600\n",
      "FGSM-WB:  0.1700\n",
      "BIM-A-WB:  0.8900\n",
      "BIM-B-WB:  0.7900\n",
      "CW: 0.0000\n",
      "DF: 0.0300\n",
      "JSMA: 0.0100\n",
      "1 Phase CW:  0.3900\n",
      "2 Phase CW:  0.1200\n",
      "2 Phase CW FGSM:  0.1200\n",
      "2 Phase CW BIM-A:  0.0300\n",
      "2 Phase CW BIM-B:  0.2100\n"
     ]
    }
   ],
   "source": [
    "#Separate Using Cos Sim\n",
    "eta = 0.78\n",
    "print ('Regular: %.4f' % ( greater_cos(cos_sim_reg, eta)))\n",
    "print ('Noisy:  %.4f' % ( greater_cos(cos_sim_noisy, eta)))\n",
    "print ('FGSM:  %.4f' % ( greater_cos(cos_sim_fgsm, eta)))\n",
    "print ('BIM-A:  %.4f' % ( greater_cos(cos_sim_bim_a, eta)))\n",
    "print ('BIM-B:  %.4f' % ( greater_cos(cos_sim_bim_b, eta)))\n",
    "print ('FGSM-WB:  %.4f' % ( greater_cos(cos_sim_fgsm_wb, eta)))\n",
    "print ('BIM-A-WB:  %.4f' % ( greater_cos(cos_sim_bim_a_wb, eta)))\n",
    "print ('BIM-B-WB:  %.4f' % ( greater_cos(cos_sim_bim_b_wb, eta)))\n",
    "print ('CW: %.4f' % ( greater_cos(cos_sim_cw, eta)))\n",
    "print ('DF: %.4f' % ( greater_cos(cos_sim_df, eta)))\n",
    "print ('JSMA: %.4f' % ( greater_cos(cos_sim_jsma, eta)))\n",
    "print ('1 Phase CW:  %.4f' % ( greater_cos(cos_sim_p1_cw, eta)))        \n",
    "print ('2 Phase CW:  %.4f' % ( greater_cos(cos_sim_p2_cw, eta)))\n",
    "print ('2 Phase CW FGSM:  %.4f' % ( greater_cos(cos_sim_p2_cw_fgsm, eta)))       \n",
    "print ('2 Phase CW BIM-A:  %.4f' % ( greater_cos(cos_sim_p2_cw_bim_a, eta)))      \n",
    "print ('2 Phase CW BIM-B:  %.4f' % ( greater_cos(cos_sim_p2_cw_bim_b, eta)))\n"
   ]
  },
  {
   "cell_type": "code",
   "execution_count": 29,
   "metadata": {},
   "outputs": [
    {
     "name": "stdout",
     "output_type": "stream",
     "text": [
      "Regular: 0.8800\n",
      "Noisy:  0.0900\n",
      "FGSM:  0.0300\n",
      "BIM-A:  0.0000\n",
      "BIM-B:  0.4800\n",
      "FGSM-WB:  0.1900\n",
      "BIM-A-WB:  0.7800\n",
      "BIM-B-WB:  0.7600\n",
      "CW: 0.0000\n",
      "DF: 0.0000\n",
      "JSMA: 0.0000\n",
      "1 Phase CW:  0.0400\n",
      "2 Phase CW:  0.0300\n",
      "2 Phase CW FGSM:  0.0300\n",
      "2 Phase CW BIM-A:  0.0000\n",
      "2 Phase CW BIM-B:  0.4800\n"
     ]
    }
   ],
   "source": [
    "#Separate using just norm\n",
    "gamma = .003\n",
    "print ('Regular: %.4f' % ( smaller_norm(grads_reg_norms, gamma)))\n",
    "print ('Noisy:  %.4f' % ( smaller_norm(grads_noisy_norms, gamma)))\n",
    "print ('FGSM:  %.4f' % ( smaller_norm(grads_fgsm_norms, gamma)))\n",
    "print ('BIM-A:  %.4f' % ( smaller_norm(grads_bim_a_norms, gamma)))\n",
    "print ('BIM-B:  %.4f' % ( smaller_norm(grads_bim_b_norms, gamma)))\n",
    "print ('FGSM-WB:  %.4f' % ( smaller_norm(grads_fgsm_wb_norms, gamma)))\n",
    "print ('BIM-A-WB:  %.4f' % ( smaller_norm(grads_bim_a_wb_norms, gamma)))\n",
    "print ('BIM-B-WB:  %.4f' % ( smaller_norm(grads_bim_b_wb_norms, gamma)))\n",
    "print ('CW: %.4f' % ( smaller_norm(grads_cw_norms, gamma)))\n",
    "print ('DF: %.4f' % ( smaller_norm(grads_df_norms, gamma)))\n",
    "print ('JSMA: %.4f' % ( smaller_norm(grads_jsma_norms, gamma)))\n",
    "print ('1 Phase CW:  %.4f' % ( smaller_norm(grads_p1_cw_norms, gamma)))        \n",
    "print ('2 Phase CW:  %.4f' % ( smaller_norm(grads_p2_cw_norms, gamma)))\n",
    "print ('2 Phase CW FGSM:  %.4f' % ( smaller_norm(grads_p2_cw_fgsm_norms, gamma)))       \n",
    "print ('2 Phase CW BIM-A:  %.4f' % ( smaller_norm(grads_p2_cw_bim_a_norms, gamma)))      \n",
    "print ('2 Phase CW BIM-B:  %.4f' % ( smaller_norm(grads_p2_cw_bim_b_norms, gamma)))\n"
   ]
  },
  {
   "cell_type": "code",
   "execution_count": 30,
   "metadata": {},
   "outputs": [
    {
     "name": "stdout",
     "output_type": "stream",
     "text": [
      "Regular: 0.8000\n",
      "Noisy:  0.0800\n",
      "FGSM:  0.0200\n",
      "BIM-A:  0.0000\n",
      "BIM-B:  0.1500\n",
      "FGSM-WB:  0.0600\n",
      "BIM-A-WB:  0.6800\n",
      "BIM-B-WB:  0.6000\n",
      "CW: 0.0000\n",
      "DF: 0.0000\n",
      "JSMA: 0.0000\n",
      "1 Phase CW: 0.0400\n",
      "2 Phase CW: 0.0300\n",
      "2 Phase CW FGSM: 0.0200\n",
      "2 Phase CW BIM A: 0.0000\n",
      "2 Phase CW BIM B: 0.1500\n"
     ]
    }
   ],
   "source": [
    "#Use both cos and norm\n",
    "print ('Regular: %.4f' % ( cos_and_norm_sep(cos_sim_reg, grads_reg_norms, eta, gamma)))\n",
    "print ('Noisy:  %.4f' % ( cos_and_norm_sep(cos_sim_noisy, grads_noisy_norms, eta, gamma)))\n",
    "print ('FGSM:  %.4f' % ( cos_and_norm_sep(cos_sim_fgsm, grads_fgsm_norms, eta, gamma)))\n",
    "print ('BIM-A:  %.4f' % ( cos_and_norm_sep(cos_sim_bim_a, grads_bim_a_norms, eta, gamma)))\n",
    "print ('BIM-B:  %.4f' % ( cos_and_norm_sep(cos_sim_bim_b, grads_bim_b_norms, eta, gamma)))\n",
    "print ('FGSM-WB:  %.4f' % ( cos_and_norm_sep(cos_sim_fgsm_wb, grads_fgsm_wb_norms, eta, gamma)))\n",
    "print ('BIM-A-WB:  %.4f' % ( cos_and_norm_sep(cos_sim_bim_a_wb, grads_bim_a_wb_norms, eta, gamma)))\n",
    "print ('BIM-B-WB:  %.4f' % ( cos_and_norm_sep(cos_sim_bim_b_wb, grads_bim_b_wb_norms, eta, gamma)))\n",
    "print ('CW: %.4f' % ( cos_and_norm_sep(cos_sim_cw, grads_cw_norms, eta, gamma)))\n",
    "print ('DF: %.4f' % ( cos_and_norm_sep(cos_sim_df, grads_df_norms, eta, gamma)))\n",
    "print ('JSMA: %.4f' % ( cos_and_norm_sep(cos_sim_jsma, grads_jsma_norms, eta, gamma)))\n",
    "print ('1 Phase CW: %.4f' % ( cos_and_norm_sep(cos_sim_p1_cw, grads_p1_cw_norms, eta, gamma)))\n",
    "print ('2 Phase CW: %.4f' % ( cos_and_norm_sep(cos_sim_p2_cw, grads_p2_cw_norms, eta, gamma)))\n",
    "print ('2 Phase CW FGSM: %.4f' % ( cos_and_norm_sep(cos_sim_p2_cw_fgsm, grads_p2_cw_fgsm_norms, eta, gamma)))\n",
    "print ('2 Phase CW BIM A: %.4f' % ( cos_and_norm_sep(cos_sim_p2_cw_bim_a, grads_p2_cw_bim_a_norms, eta, gamma)))\n",
    "print ('2 Phase CW BIM B: %.4f' % ( cos_and_norm_sep(cos_sim_p2_cw_bim_b, grads_p2_cw_bim_b_norms, eta, gamma)))\n"
   ]
  },
  {
   "cell_type": "code",
   "execution_count": 22,
   "metadata": {},
   "outputs": [
    {
     "name": "stdout",
     "output_type": "stream",
     "text": [
      "Noisy: 6.12913\n",
      "FGSM: 5.80356\n",
      "BIM-A: 2.53416\n",
      "BIM-B: 4.16157\n",
      "FGSM-WB: 6.07586\n",
      "BIM-A-WB: 2.62736\n",
      "BIM-B-WB: 2.64234\n",
      "CW: 2.53978\n",
      "DF: 1.74692\n",
      "JSMA: 5.08118\n",
      "P1-CW: 3.11121\n",
      "P2-CW: 3.24648\n",
      "P2-CW FGSM: 5.80356\n",
      "P2-CW BIM A: 2.53416\n",
      "P2-CW BIM B: 4.17831\n"
     ]
    }
   ],
   "source": [
    "#Get distortion\n",
    "print ('Noisy: %.5f' % (avg_l2_dist(reg_data, noisy_data)))\n",
    "print ('FGSM: %.5f' % (avg_l2_dist(reg_data, fgsm_data)))\n",
    "print ('BIM-A: %.5f' % (avg_l2_dist(reg_data, bim_a_data)))\n",
    "print ('BIM-B: %.5f' % (avg_l2_dist(reg_data, bim_b_data)))\n",
    "print ('FGSM-WB: %.5f' % (avg_l2_dist(reg_data, fgsm_wb_data)))\n",
    "print ('BIM-A-WB: %.5f' % (avg_l2_dist(reg_data, bim_a_wb_data)))\n",
    "print ('BIM-B-WB: %.5f' % (avg_l2_dist(reg_data, bim_b_wb_data)))\n",
    "print ('CW: %.5f' % (avg_l2_dist(reg_data, cw_data)))\n",
    "print ('DF: %.5f' % (avg_l2_dist(reg_data, df_data)))\n",
    "print ('JSMA: %.5f' % (avg_l2_dist(reg_data, jsma_data)))\n",
    "print ('P1-CW: %.5f' % (avg_l2_dist(reg_data, p1_cw_data)))\n",
    "print ('P2-CW: %.5f' % (avg_l2_dist(reg_data, p2_cw_data)))\n",
    "print ('P2-CW FGSM: %.5f' % (avg_l2_dist(reg_data, p2_cw_data_fgsm)))\n",
    "print ('P2-CW BIM A: %.5f' % (avg_l2_dist(reg_data, p2_cw_data_bim_a)))\n",
    "print ('P2-CW BIM B: %.5f' % (avg_l2_dist(reg_data, p2_cw_data_bim_b)))\n"
   ]
  },
  {
   "cell_type": "code",
   "execution_count": 23,
   "metadata": {},
   "outputs": [
    {
     "name": "stdout",
     "output_type": "stream",
     "text": [
      "Noisy:  0.1000\n",
      "FGSM:  0.0700\n",
      "BIM-A:  0.0300\n",
      "BIM-B:  0.0500\n",
      "FGSM-WB:  0.0500\n",
      "BIM-A-WB:  0.2500\n",
      "BIM-B-WB:  0.2100\n",
      "CW: 0.0100\n",
      "DF: 0.0200\n",
      "JSMA: 0.0200\n",
      "1 Phase CW:  0.1000\n",
      "2 Phase CW:  0.0200\n",
      "2 Phase CW FGSM:  0.0700\n",
      "2 Phase CW BIM A:  0.0300\n",
      "2 Phase CW BIM B:  0.0500\n"
     ]
    }
   ],
   "source": [
    "#Ratio of perturbed samples having cos sim greater\n",
    "print ('Noisy:  %.4f' % ( comp_cos(cos_sim_noisy, cos_sim_reg)))\n",
    "print ('FGSM:  %.4f' % ( comp_cos(cos_sim_fgsm, cos_sim_reg)))\n",
    "print ('BIM-A:  %.4f' % ( comp_cos(cos_sim_bim_a, cos_sim_reg)))\n",
    "print ('BIM-B:  %.4f' % ( comp_cos(cos_sim_bim_b, cos_sim_reg)))\n",
    "print ('FGSM-WB:  %.4f' % ( comp_cos(cos_sim_fgsm_wb, cos_sim_reg)))\n",
    "print ('BIM-A-WB:  %.4f' % ( comp_cos(cos_sim_bim_a_wb, cos_sim_reg)))\n",
    "print ('BIM-B-WB:  %.4f' % ( comp_cos(cos_sim_bim_b_wb, cos_sim_reg)))\n",
    "print ('CW: %.4f' % ( comp_cos(cos_sim_cw, cos_sim_reg)))\n",
    "print ('DF: %.4f' % ( comp_cos(cos_sim_df, cos_sim_reg)))\n",
    "print ('JSMA: %.4f' % ( comp_cos(cos_sim_jsma, cos_sim_reg)))\n",
    "print ('1 Phase CW:  %.4f' % ( comp_cos(cos_sim_p1_cw, cos_sim_reg)))\n",
    "print ('2 Phase CW:  %.4f' % ( comp_cos(cos_sim_p2_cw, cos_sim_reg)))\n",
    "print ('2 Phase CW FGSM:  %.4f' % ( comp_cos(cos_sim_p2_cw_fgsm, cos_sim_reg)))\n",
    "print ('2 Phase CW BIM A:  %.4f' % ( comp_cos(cos_sim_p2_cw_bim_a, cos_sim_reg)))\n",
    "print ('2 Phase CW BIM B:  %.4f' % ( comp_cos(cos_sim_p2_cw_bim_b, cos_sim_reg)))"
   ]
  },
  {
   "cell_type": "code",
   "execution_count": 24,
   "metadata": {},
   "outputs": [
    {
     "name": "stdout",
     "output_type": "stream",
     "text": [
      "Noisy:  1.0000\n",
      "FGSM:  0.9900\n",
      "BIM-A:  1.0000\n",
      "BIM-B:  0.7300\n",
      "CW: 1.0000\n",
      "DF: 1.0000\n",
      "JSMA: 1.0000\n",
      "1 Phase CW: 0.9400\n",
      "2 Phase CW: 0.9700\n",
      "2 Phase CW FGSM: 0.9900\n",
      "2 Phase CW BIM A: 1.0000\n",
      "2 Phase CW BIM B: 0.7300\n"
     ]
    }
   ],
   "source": [
    "#Ratio of perturbed samples having cos sim greater\n",
    "print ('Noisy:  %.4f' % ( comp_norm(grads_noisy_norms, grads_reg_norms)))\n",
    "print ('FGSM:  %.4f' % ( comp_norm(grads_fgsm_norms, grads_reg_norms)))\n",
    "print ('BIM-A:  %.4f' % ( comp_norm(grads_bim_a_norms, grads_reg_norms)))\n",
    "print ('BIM-B:  %.4f' % ( comp_norm(grads_bim_b_norms, grads_reg_norms)))\n",
    "print ('CW: %.4f' % ( comp_norm(grads_cw_norms, grads_reg_norms)))\n",
    "print ('DF: %.4f' % ( comp_norm(grads_df_norms, grads_reg_norms)))\n",
    "print ('JSMA: %.4f' % ( comp_norm(grads_jsma_norms, grads_reg_norms)))\n",
    "print ('1 Phase CW: %.4f' % ( comp_norm(grads_p1_cw_norms, grads_reg_norms)))\n",
    "print ('2 Phase CW: %.4f' % ( comp_norm(grads_p2_cw_norms, grads_reg_norms)))\n",
    "print ('2 Phase CW FGSM: %.4f' % ( comp_norm(grads_p2_cw_fgsm_norms, grads_reg_norms)))\n",
    "print ('2 Phase CW BIM A: %.4f' % ( comp_norm(grads_p2_cw_bim_a_norms, grads_reg_norms)))\n",
    "print ('2 Phase CW BIM B: %.4f' % ( comp_norm(grads_p2_cw_bim_b_norms, grads_reg_norms)))"
   ]
  }
 ],
 "metadata": {
  "kernelspec": {
   "display_name": "Python 2",
   "language": "python",
   "name": "python2"
  },
  "language_info": {
   "codemirror_mode": {
    "name": "ipython",
    "version": 2
   },
   "file_extension": ".py",
   "mimetype": "text/x-python",
   "name": "python",
   "nbconvert_exporter": "python",
   "pygments_lexer": "ipython2",
   "version": "2.7.12"
  }
 },
 "nbformat": 4,
 "nbformat_minor": 2
}
