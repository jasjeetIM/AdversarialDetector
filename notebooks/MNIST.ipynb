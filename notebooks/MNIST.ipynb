{
 "cells": [
  {
   "cell_type": "code",
   "execution_count": 1,
   "metadata": {},
   "outputs": [
    {
     "name": "stderr",
     "output_type": "stream",
     "text": [
      "Using TensorFlow backend.\n"
     ]
    }
   ],
   "source": [
    "from __future__ import division\n",
    "from __future__ import print_function\n",
    "\n",
    "import sys, os, gc\n",
    "import tensorflow as tf\n",
    "import numpy as np\n",
    "from sklearn import linear_model\n",
    "from sklearn.metrics import roc_curve, auc\n",
    "\n",
    "\n",
    "sys.path.append('../')\n",
    "os.environ[\"CUDA_VISIBLE_DEVICES\"] = \"1\"\n",
    "\n",
    "from models.neural_network import NeuralNetwork\n",
    "from models.cnn import CNN\n",
    "from models.util import *\n",
    "\n",
    "\n",
    "#Seed used for choosing classes, training points, and test points.\n",
    "SEED = 14"
   ]
  },
  {
   "cell_type": "code",
   "execution_count": 2,
   "metadata": {
    "collapsed": true
   },
   "outputs": [],
   "source": [
    "#Define params of model\n",
    "input_shape = (28,28,1)\n",
    "num_classes = 10\n",
    "eps=0.3"
   ]
  },
  {
   "cell_type": "code",
   "execution_count": 3,
   "metadata": {},
   "outputs": [
    {
     "name": "stdout",
     "output_type": "stream",
     "text": [
      "Total Model Params: 3330314\n",
      "Loaded model from disk\n"
     ]
    }
   ],
   "source": [
    "#Load model from disk\n",
    "model_name = 'MNIST'\n",
    "model_save_path = '../trained_models/' + model_name + '-model.json'\n",
    "weights_save_path = '../trained_models/' + model_name + 'weights'\n",
    "model = CNN(model_name=model_name, dataset='mnist', seed=SEED)\n",
    "print ('Total Model Params: %d' % model.num_params)\n",
    "model.load_model(model_save_path, weights_save_path) \n",
    "#epochs = 50\n",
    "#model.train(epochs=epochs)\n",
    "#model.save_model(model_save_path, weights_save_path)    "
   ]
  },
  {
   "cell_type": "code",
   "execution_count": 4,
   "metadata": {},
   "outputs": [
    {
     "name": "stdout",
     "output_type": "stream",
     "text": [
      "6055/6055 [==============================] - 1s 229us/step\n",
      "Model Accuracy: 0.99306\n"
     ]
    }
   ],
   "source": [
    "#Model Accuracy\n",
    "print ('Model Accuracy: %.5f' % (model.model.evaluate(model.test_data, model.test_labels)[1]))\n"
   ]
  },
  {
   "cell_type": "code",
   "execution_count": 5,
   "metadata": {
    "collapsed": true
   },
   "outputs": [],
   "source": [
    "#Get training samples\n",
    "num_train_samples = 1000\n",
    "data_indices = model.gen_rand_indices(low=0, high=model.train_data.shape[0], seed=SEED, num_samples=num_train_samples)\n",
    "train_data = model.train_data[data_indices]\n",
    "train_data_labels = model.train_labels[data_indices]\n",
    "train_data_labels_int = np.argmax(train_data_labels, axis=1)"
   ]
  },
  {
   "cell_type": "markdown",
   "metadata": {},
   "source": [
    "**GREYBOX ATTACKS**"
   ]
  },
  {
   "cell_type": "code",
   "execution_count": 6,
   "metadata": {
    "collapsed": true
   },
   "outputs": [],
   "source": [
    "num_test_samples_per_class =100\n",
    "num_test_samples = num_classes*num_test_samples_per_class\n",
    "\n",
    "#Generate test points\n",
    "test_indices = model.gen_rand_indices_all_classes(y=model.test_labels, seed=SEED, num_samples=num_test_samples_per_class)"
   ]
  },
  {
   "cell_type": "code",
   "execution_count": 7,
   "metadata": {
    "collapsed": true
   },
   "outputs": [],
   "source": [
    "#Pick target labels for CW\n",
    "cw_tars = np.zeros_like(model.test_labels[test_indices])\n",
    "classes = np.arange(num_classes)\n",
    "np.random.seed(SEED)\n",
    "for i, idx in enumerate(test_indices):\n",
    "    label = np.argmax(model.test_labels[idx])\n",
    "    classes = np.arange(num_classes)\n",
    "    classes = np.delete(classes, label)\n",
    "    mod_label = np.random.choice(classes, 1)[0]\n",
    "    cw_tars[i, mod_label] = 1"
   ]
  },
  {
   "cell_type": "code",
   "execution_count": 8,
   "metadata": {
    "scrolled": true
   },
   "outputs": [
    {
     "name": "stderr",
     "output_type": "stream",
     "text": [
      "/root/notebook/cleverhans/cleverhans/src/cleverhans/cleverhans/utils_keras.py:144: UserWarning: Please update your version to keras >= 2.1.3; support for earlier keras versions will be dropped on 2018-07-22\n",
      "  \"Please update your version to keras >= 2.1.3; \"\n",
      "/usr/local/lib/python2.7/dist-packages/numpy/core/fromnumeric.py:2889: RuntimeWarning: Mean of empty slice.\n",
      "  out=out, **kwargs)\n",
      "/usr/local/lib/python2.7/dist-packages/numpy/core/_methods.py:80: RuntimeWarning: invalid value encountered in double_scalars\n",
      "  ret = ret.dtype.type(ret / rcount)\n"
     ]
    }
   ],
   "source": [
    "#Get Regular, Noisy, FGSM, BIM, and CW test points\n",
    "reg_data = model.test_data[test_indices]\n",
    "fgsm_data = model.generate_perturbed_data(model.test_data[test_indices], model.test_labels[test_indices],seed=SEED, perturbation='FGSM', eps=eps)\n",
    "bim_a_data = model.generate_perturbed_data(model.test_data[test_indices], model.test_labels[test_indices], seed=SEED, perturbation='BIM-A', iterations=10, eps=eps)\n",
    "bim_b_data = model.generate_perturbed_data(model.test_data[test_indices], model.test_labels[test_indices], seed=SEED, perturbation='BIM-B', iterations=10, eps=eps)\n",
    "cw_data = model.generate_perturbed_data(model.test_data[test_indices], y_tar=cw_tars,seed=SEED, perturbation='CW', targeted=True, eps=eps)\n",
    "df_data = model.generate_perturbed_data(model.test_data[test_indices], model.test_labels[test_indices],seed=SEED, perturbation='DF', nb_candidate=num_classes)\n",
    "jsma_data = model.generate_perturbed_data(model.test_data[test_indices], y_tar=cw_tars,seed=SEED, perturbation='JSMA')"
   ]
  },
  {
   "cell_type": "code",
   "execution_count": 9,
   "metadata": {},
   "outputs": [
    {
     "name": "stdout",
     "output_type": "stream",
     "text": [
      "Loaded model from disk\n"
     ]
    }
   ],
   "source": [
    "#Reset tf.graph() as Cleverhans modifies the graph\n",
    "tf.reset_default_graph()\n",
    "\n",
    "#Reload the model and weights\n",
    "model = CNN(model_name=model_name, dataset='mnist', seed=SEED)\n",
    "model.load_model(model_save_path, weights_save_path)    \n"
   ]
  },
  {
   "cell_type": "code",
   "execution_count": 10,
   "metadata": {},
   "outputs": [
    {
     "name": "stdout",
     "output_type": "stream",
     "text": [
      "1000/1000 [==============================] - 0s 193us/step\n",
      "Model Accuracy REG: 0.99500\n",
      "1000/1000 [==============================] - 0s 141us/step\n",
      "Model Accuracy FGSM: 0.09000\n",
      "1000/1000 [==============================] - 0s 135us/step\n",
      "Model Accuracy BIM-A: 0.00500\n",
      "1000/1000 [==============================] - 0s 127us/step\n",
      "Model Accuracy BIM-B: 0.00500\n",
      "1000/1000 [==============================] - 0s 127us/step\n",
      "Model Accuracy CW: 0.00400\n",
      "1000/1000 [==============================] - 0s 127us/step\n",
      "Model Accuracy DF: 0.00400\n",
      "1000/1000 [==============================] - 0s 126us/step\n",
      "Model Accuracy JSMA: 0.02100\n"
     ]
    }
   ],
   "source": [
    "print ('Model Accuracy REG: %.5f' % (model.model.evaluate(reg_data,model.test_labels[test_indices])[1]))\n",
    "print ('Model Accuracy FGSM: %.5f' % (model.model.evaluate(fgsm_data,model.test_labels[test_indices])[1]))\n",
    "print ('Model Accuracy BIM-A: %.5f' % (model.model.evaluate(bim_a_data,model.test_labels[test_indices])[1]))\n",
    "print ('Model Accuracy BIM-B: %.5f' % (model.model.evaluate(bim_b_data,model.test_labels[test_indices])[1]))\n",
    "print ('Model Accuracy CW: %.5f' % (model.model.evaluate(cw_data,model.test_labels[test_indices])[1]))\n",
    "print ('Model Accuracy DF: %.5f' % (model.model.evaluate(df_data,model.test_labels[test_indices])[1]))\n",
    "print ('Model Accuracy JSMA: %.5f' % (model.model.evaluate(jsma_data,model.test_labels[test_indices])[1]))"
   ]
  },
  {
   "cell_type": "code",
   "execution_count": 11,
   "metadata": {},
   "outputs": [
    {
     "name": "stdout",
     "output_type": "stream",
     "text": [
      "Regular: \n"
     ]
    },
    {
     "data": {
      "image/png": "[encoded data removed]",
      "text/plain": [
       "<matplotlib.figure.Figure at 0x7f0fbfcfdf10>"
      ]
     },
     "metadata": {},
     "output_type": "display_data"
    },
    {
     "name": "stdout",
     "output_type": "stream",
     "text": [
      "FGSM: \n"
     ]
    },
    {
     "data": {
      "image/png": "[encoded data removed]",
      "text/plain": [
       "<matplotlib.figure.Figure at 0x7f0fbaca7450>"
      ]
     },
     "metadata": {},
     "output_type": "display_data"
    },
    {
     "name": "stdout",
     "output_type": "stream",
     "text": [
      "BIM-A: \n"
     ]
    },
    {
     "data": {
      "image/png": "[encoded data removed]",
      "text/plain": [
       "<matplotlib.figure.Figure at 0x7f0fa6a3b5d0>"
      ]
     },
     "metadata": {},
     "output_type": "display_data"
    },
    {
     "name": "stdout",
     "output_type": "stream",
     "text": [
      "BIM-B: \n"
     ]
    },
    {
     "data": {
      "image/png": "[encoded data removed]",
      "text/plain": [
       "<matplotlib.figure.Figure at 0x7f0d7c6d6fd0>"
      ]
     },
     "metadata": {},
     "output_type": "display_data"
    },
    {
     "name": "stdout",
     "output_type": "stream",
     "text": [
      "CW: \n"
     ]
    },
    {
     "data": {
      "image/png": "[encoded data removed]",
      "text/plain": [
       "<matplotlib.figure.Figure at 0x7f0fbb65e290>"
      ]
     },
     "metadata": {},
     "output_type": "display_data"
    },
    {
     "name": "stdout",
     "output_type": "stream",
     "text": [
      "DF: \n"
     ]
    },
    {
     "data": {
      "image/png": "[encoded data removed]",
      "text/plain": [
       "<matplotlib.figure.Figure at 0x7f0fa6aa3d10>"
      ]
     },
     "metadata": {},
     "output_type": "display_data"
    },
    {
     "name": "stdout",
     "output_type": "stream",
     "text": [
      "JSMA: \n"
     ]
    },
    {
     "data": {
      "image/png": "[encoded data removed]",
      "text/plain": [
       "<matplotlib.figure.Figure at 0x7f0fa6aaa490>"
      ]
     },
     "metadata": {},
     "output_type": "display_data"
    }
   ],
   "source": [
    "#Lets visualize samples from each attack\n",
    "x_vis = np.random.choice(range(0,num_test_samples), 10)\n",
    "print ('Regular: ')\n",
    "visualize(reg_data[x_vis].reshape(-1,*input_shape), 10, '../figures/reg-cifar2')\n",
    "print ('FGSM: ')\n",
    "visualize(fgsm_data[x_vis].reshape(-1,*input_shape), 10, '../figures/fgsm-cifar2')\n",
    "print ('BIM-A: ')\n",
    "visualize(bim_a_data[x_vis].reshape(-1,*input_shape), 10, '../figures/bim-a-cifar2')\n",
    "print ('BIM-B: ')\n",
    "visualize(bim_b_data[x_vis].reshape(-1,*input_shape), 10, '../figures/bim-b-cifar2')\n",
    "print ('CW: ')\n",
    "visualize(cw_data[x_vis].reshape(-1,*input_shape), 10, '../figures/cw-cifar2')\n",
    "print ('DF: ')\n",
    "visualize(df_data[x_vis].reshape(-1,*input_shape), 10, '../figures/df-cifar2')\n",
    "print ('JSMA: ')\n",
    "visualize(jsma_data[x_vis].reshape(-1,*input_shape), 10, '../figures/jsma-cifar2')"
   ]
  },
  {
   "cell_type": "code",
   "execution_count": 12,
   "metadata": {
    "collapsed": true
   },
   "outputs": [],
   "source": [
    "#Get predictions\n",
    "reg_preds = model.model.predict(reg_data.reshape(-1,*input_shape))\n",
    "fgsm_preds = model.model.predict(fgsm_data.reshape(-1,*input_shape))\n",
    "bim_a_preds = model.model.predict(bim_a_data.reshape(-1,*input_shape))\n",
    "bim_b_preds = model.model.predict(bim_b_data.reshape(-1,*input_shape))\n",
    "cw_preds = model.model.predict(cw_data.reshape(-1,*input_shape))\n",
    "df_preds = model.model.predict(df_data.reshape(-1,*input_shape))\n",
    "jsma_preds = model.model.predict(jsma_data.reshape(-1,*input_shape))\n",
    "\n",
    "#Convert preds to labels\n",
    "reg_labels = preds_to_labels(reg_preds)\n",
    "fgsm_labels = preds_to_labels(fgsm_preds)\n",
    "bim_a_labels = preds_to_labels(bim_a_preds)\n",
    "bim_b_labels = preds_to_labels(bim_b_preds)\n",
    "cw_labels = preds_to_labels(cw_preds)\n",
    "df_labels = preds_to_labels(df_preds)\n",
    "jsma_labels = preds_to_labels(jsma_preds)\n",
    "\n",
    "#Select Adversarial Points (i.e. points that lead to misclassification)\n",
    "true_preds = np.argmax(model.test_labels[test_indices], axis=1)\n",
    "\n",
    "#Check which points are actually adversarial and select those\n",
    "fgsm_idx = np.where(np.argmax(fgsm_preds, axis=1) != true_preds)[0]\n",
    "bim_a_idx = np.where(np.argmax(bim_a_preds, axis=1) != true_preds)[0]\n",
    "bim_b_idx = np.where(np.argmax(bim_b_preds, axis=1) != true_preds)[0]\n",
    "cw_idx = np.where(np.argmax(cw_preds, axis=1) != true_preds)[0]\n",
    "df_idx = np.where(np.argmax(df_preds, axis=1) != true_preds)[0]\n",
    "jsma_idx = np.where(np.argmax(jsma_preds, axis=1) != true_preds)[0]\n",
    "\n",
    "\n",
    "#Filter data points to be used for similarity\n",
    "fgsm_data_fil = fgsm_data[fgsm_idx]\n",
    "bim_a_data_fil = bim_a_data[bim_a_idx]\n",
    "bim_b_data_fil = bim_b_data[bim_b_idx]\n",
    "cw_data_fil = cw_data[cw_idx]\n",
    "df_data_fil = df_data[df_idx]\n",
    "jsma_data_fil = jsma_data[jsma_idx]\n",
    "\n",
    "\n",
    "#Filter labels to be used\n",
    "fgsm_labels_fil = fgsm_labels[fgsm_idx]\n",
    "bim_a_labels_fil = bim_a_labels[bim_a_idx]\n",
    "bim_b_labels_fil = bim_b_labels[bim_b_idx]\n",
    "cw_labels_fil = cw_labels[cw_idx]\n",
    "df_labels_fil = df_labels[df_idx]\n",
    "jsma_labels_fil = jsma_labels[jsma_idx]"
   ]
  },
  {
   "cell_type": "code",
   "execution_count": 13,
   "metadata": {},
   "outputs": [
    {
     "name": "stdout",
     "output_type": "stream",
     "text": [
      "FGSM: 5.74208\n",
      "BIM-A: 2.49870\n",
      "BIM-B: 4.62698\n",
      "CW: 3.64074\n",
      "DF: 1.66336\n",
      "JSMA: 4.69207\n"
     ]
    }
   ],
   "source": [
    "#Get distortion \n",
    "print ('FGSM: %.5f' % (avg_l2_dist(reg_data[fgsm_idx], fgsm_data_fil)))\n",
    "print ('BIM-A: %.5f' % (avg_l2_dist(reg_data[bim_a_idx], bim_a_data_fil)))\n",
    "print ('BIM-B: %.5f' % (avg_l2_dist(reg_data[bim_b_idx], bim_b_data_fil)))\n",
    "print ('CW: %.5f' % (avg_l2_dist(reg_data[cw_idx], cw_data_fil)))\n",
    "print ('DF: %.5f' % (avg_l2_dist(reg_data[df_idx], df_data_fil)))\n",
    "print ('JSMA: %.5f' % (avg_l2_dist(reg_data[jsma_idx], jsma_data_fil)))"
   ]
  },
  {
   "cell_type": "code",
   "execution_count": 14,
   "metadata": {},
   "outputs": [
    {
     "name": "stderr",
     "output_type": "stream",
     "text": [
      "../models/util.py:81: RuntimeWarning: invalid value encountered in sqrt\n",
      "  norms = np.sqrt(np.dot(grads, grads.T)).diagonal()\n"
     ]
    }
   ],
   "source": [
    "#Get cosine similarity and norms\n",
    "grads_train = model.get_gradients_wrt_params(train_data, train_data_labels)\n",
    "grads_train = normalize(grads_train)\n",
    "grads_reg_norms, cos_sim_reg = norms_and_cos(model, reg_data, reg_labels, grads_train)\n",
    "grads_fgsm_norms, cos_sim_fgsm =norms_and_cos(model, fgsm_data_fil, fgsm_labels_fil, grads_train)\n",
    "grads_bim_a_norms, cos_sim_bim_a = norms_and_cos(model, bim_a_data_fil, bim_a_labels_fil, grads_train)\n",
    "grads_bim_b_norms , cos_sim_bim_b= norms_and_cos(model, bim_b_data_fil, bim_b_labels_fil, grads_train)\n",
    "grads_cw_norms, cos_sim_cw = norms_and_cos(model, cw_data_fil, cw_labels_fil, grads_train)\n",
    "grads_df_norms, cos_sim_df = norms_and_cos(model, df_data_fil, df_labels_fil, grads_train)\n",
    "grads_jsma_norms, cos_sim_jsma = norms_and_cos(model, jsma_data_fil, jsma_labels_fil, grads_train)"
   ]
  },
  {
   "cell_type": "markdown",
   "metadata": {},
   "source": [
    "**LOGISTIC REGRESSION FOR GREYBOX**"
   ]
  },
  {
   "cell_type": "code",
   "execution_count": 15,
   "metadata": {
    "collapsed": true
   },
   "outputs": [],
   "source": [
    "#Train a logistic regression classifier on the data. We only train on gray box attack points. \n",
    "#Due to lack of data (computationally expensive to compute attack points), we use 95% of data to train and 5% to test\n",
    "\n",
    "#Select training and test indices\n",
    "np.random.seed(SEED)\n",
    "train_pct = .95\n",
    "reg_train_idx = np.random.choice(np.arange(num_test_samples), int(train_pct*num_test_samples), replace=False)\n",
    "reg_test_idx = get_test_from_train_idx(np.arange(num_test_samples), reg_train_idx)\n",
    "fgsm_train_idx = np.random.choice(np.arange(len(fgsm_idx)), int(len(fgsm_idx)*train_pct), replace=False)\n",
    "fgsm_test_idx = get_test_from_train_idx(np.arange(len(fgsm_idx)), fgsm_train_idx)\n",
    "bim_a_train_idx = np.random.choice(np.arange(len(bim_a_idx)), int(len(bim_a_idx)*train_pct), replace=False)\n",
    "bim_a_test_idx = get_test_from_train_idx(np.arange(len(bim_a_idx)), bim_a_train_idx)\n",
    "bim_b_train_idx =np.random.choice(np.arange(len(bim_b_idx)), int(len(bim_b_idx)*train_pct), replace=False)\n",
    "bim_b_test_idx = get_test_from_train_idx(np.arange(len(bim_b_idx)), bim_b_train_idx)\n",
    "jsma_train_idx =np.random.choice(np.arange(len(jsma_idx)), int(len(jsma_idx)*train_pct), replace=False)\n",
    "jsma_test_idx = get_test_from_train_idx(np.arange(len(jsma_idx)), jsma_train_idx)\n",
    "cw_train_idx = np.random.choice(np.arange(len(cw_idx)), int(len(cw_idx)*train_pct), replace=False)\n",
    "cw_test_idx = get_test_from_train_idx(np.arange(len(cw_idx)), cw_train_idx)\n",
    "df_train_idx = np.random.choice(np.arange(len(df_idx)), int(len(df_idx)*train_pct), replace=False)\n",
    "df_test_idx = get_test_from_train_idx(np.arange(len(df_idx)), df_train_idx)\n",
    "\n",
    "\n",
    "\n",
    "# Set up training and test data for logistic regression\n",
    "train_data = np.concatenate((cos_sim_reg[reg_train_idx], \n",
    "                             cos_sim_fgsm[fgsm_train_idx],\n",
    "                             cos_sim_bim_a[bim_a_train_idx],\n",
    "                             cos_sim_bim_b[bim_b_train_idx], \n",
    "                             cos_sim_jsma[jsma_train_idx], \n",
    "                             cos_sim_cw[cw_train_idx], \n",
    "                             cos_sim_df[df_train_idx]),axis=0)\n",
    "train_labels = np.concatenate((np.zeros(len(reg_train_idx)), \n",
    "                               np.ones(len(fgsm_train_idx)),\n",
    "                               np.ones(len(bim_a_train_idx)),\n",
    "                               np.ones(len(bim_b_train_idx)),\n",
    "                               np.ones(len(jsma_train_idx)),\n",
    "                               np.ones(len(cw_train_idx)),\n",
    "                               np.ones(len(df_train_idx))),axis=0)\n",
    "\n",
    "test_data = np.concatenate((cos_sim_reg[reg_test_idx], \n",
    "                             cos_sim_fgsm[fgsm_test_idx],\n",
    "                             cos_sim_bim_a[bim_a_test_idx],\n",
    "                             cos_sim_bim_b[bim_b_test_idx], \n",
    "                             cos_sim_jsma[jsma_test_idx], \n",
    "                             cos_sim_cw[cw_test_idx], \n",
    "                             cos_sim_df[df_test_idx]),axis=0)\n",
    "\n",
    "test_labels = np.concatenate((np.zeros(len(reg_test_idx)), \n",
    "                               np.ones(len(fgsm_test_idx)),\n",
    "                               np.ones(len(bim_a_test_idx)),\n",
    "                               np.ones(len(bim_b_test_idx)),\n",
    "                               np.ones(len(jsma_test_idx)),\n",
    "                               np.ones(len(cw_test_idx)),\n",
    "                               np.ones(len(df_test_idx))),axis=0)"
   ]
  },
  {
   "cell_type": "code",
   "execution_count": 16,
   "metadata": {
    "collapsed": true
   },
   "outputs": [],
   "source": [
    "#Leave one out cross validation\n",
    "#train_data = np.concatenate((cos_sim_reg[reg_train_idx],\n",
    "#                             cos_sim_fgsm,\n",
    "#                             cos_sim_bim_a, \n",
    "#                             cos_sim_bim_b, \n",
    "#                             cos_sim_jsma, \n",
    "#                             cos_sim_cw),axis=0)\n",
    "#train_labels = np.concatenate((np.zeros(len(reg_train_idx)), \n",
    "#                               np.ones(len(cos_sim_fgsm)),\n",
    "#                               np.ones(len(cos_sim_bim_a)),\n",
    "#                               np.ones(len(cos_sim_bim_b)),\n",
    "#                               np.ones(len(cos_sim_jsma)),\n",
    "#                               np.ones(len(cos_sim_cw))),axis=0)\n",
    "\n",
    "#test_data = np.concatenate((cos_sim_reg[reg_test_idx], \n",
    "#                             cos_sim_df),axis=0)\n",
    "\n",
    "#test_labels = np.concatenate((np.zeros(len(reg_test_idx)), \n",
    "#                               np.ones(len(cos_sim_df))),axis=0)\n",
    "#Fit the data\n",
    "#logreg = linear_model.LogisticRegression(C=1e5)\n",
    "#logreg.fit(train_data, train_labels)\n",
    "\n",
    "\n",
    "#Get Total accuracy\n",
    "#total_acc = logreg.score(test_data, test_labels)\n",
    "\n",
    "#print ('TOTAL Detection Acc: %.5f' %(total_acc))\n",
    "\n"
   ]
  },
  {
   "cell_type": "code",
   "execution_count": 17,
   "metadata": {},
   "outputs": [
    {
     "name": "stdout",
     "output_type": "stream",
     "text": [
      "FGSM Detection Acc: 0.97826\n",
      "BIM-A Detection Acc: 1.00000\n",
      "BIM-B Detection Acc: 0.98000\n",
      "JSMA Detection Acc: 1.00000\n",
      "CW Detection Acc: 1.00000\n",
      "DF Detection Acc: 1.00000\n",
      "TOTAL Detection Acc: 0.99420\n"
     ]
    }
   ],
   "source": [
    "#Fit the data\n",
    "logreg = linear_model.LogisticRegression(C=1e5)\n",
    "logreg.fit(train_data, train_labels)\n",
    "\n",
    "#Get Accuracy for each attack type\n",
    "fgsm_acc = logreg.score(cos_sim_fgsm[fgsm_test_idx], np.ones(len(fgsm_test_idx)))\n",
    "bim_a_acc = logreg.score(cos_sim_bim_a[bim_a_test_idx], np.ones(len(bim_a_test_idx)))\n",
    "bim_b_acc = logreg.score(cos_sim_bim_b[bim_b_test_idx], np.ones(len(bim_b_test_idx)))\n",
    "jsma_acc = logreg.score(cos_sim_jsma[jsma_test_idx], np.ones(len(jsma_test_idx)))\n",
    "cw_acc = logreg.score(cos_sim_cw[cw_test_idx], np.ones(len(cw_test_idx)))\n",
    "df_acc = logreg.score(cos_sim_df[df_test_idx], np.ones(len(df_test_idx)))\n",
    "\n",
    "#Get Total accuracy\n",
    "total_acc = logreg.score(test_data, test_labels)\n",
    "\n",
    "print ('FGSM Detection Acc: %.5f' % (fgsm_acc))\n",
    "print ('BIM-A Detection Acc: %.5f' % (bim_a_acc))\n",
    "print ('BIM-B Detection Acc: %.5f' % (bim_b_acc))\n",
    "print ('JSMA Detection Acc: %.5f' % (jsma_acc))\n",
    "print ('CW Detection Acc: %.5f' % (cw_acc))\n",
    "print ('DF Detection Acc: %.5f' % (df_acc))\n",
    "print ('TOTAL Detection Acc: %.5f' %(total_acc))\n"
   ]
  },
  {
   "cell_type": "code",
   "execution_count": 105,
   "metadata": {
    "collapsed": true
   },
   "outputs": [],
   "source": [
    "test_data_fgsm = np.concatenate((cos_sim_reg[reg_test_idx], \n",
    "                             cos_sim_fgsm[fgsm_test_idx]),axis=0)\n",
    "test_data_bima = np.concatenate((cos_sim_reg[reg_test_idx], \n",
    "                             cos_sim_bim_a[bim_a_test_idx]),axis=0)\n",
    "test_data_bimb = np.concatenate((cos_sim_reg[reg_test_idx], \n",
    "                             cos_sim_bim_b[bim_b_test_idx]),axis=0)\n",
    "test_data_jsma = np.concatenate((cos_sim_reg[reg_test_idx], \n",
    "                             cos_sim_jsma[jsma_test_idx]),axis=0)\n",
    "test_data_cw = np.concatenate((cos_sim_reg[reg_test_idx], \n",
    "                             cos_sim_cw[cw_test_idx]),axis=0)\n",
    "test_data_df = np.concatenate((cos_sim_reg[reg_test_idx], \n",
    "                             cos_sim_df[df_test_idx]),axis=0)\n",
    "\n",
    "#Get correct test labels for each attack type\n",
    "test_labels_fgsm = np.concatenate((np.zeros(len(reg_test_idx)), \n",
    "                                   np.ones(len(fgsm_test_idx))),axis=0)\n",
    "\n",
    "test_labels_bima = np.concatenate((np.zeros(len(reg_test_idx)), \n",
    "                                   np.ones(len(bim_a_test_idx))),axis=0)\n",
    "\n",
    "test_labels_bimb = np.concatenate((np.zeros(len(reg_test_idx)), \n",
    "                                   np.ones(len(bim_b_test_idx))),axis=0)\n",
    "\n",
    "test_labels_jsma = np.concatenate((np.zeros(len(reg_test_idx)), \n",
    "                                   np.ones(len(jsma_test_idx))),axis=0)\n",
    "\n",
    "test_labels_df = np.concatenate((np.zeros(len(reg_test_idx)), \n",
    "                                   np.ones(len(df_test_idx))),axis=0)\n",
    "\n",
    "test_labels_cw = np.concatenate((np.zeros(len(reg_test_idx)), \n",
    "                                   np.ones(len(cw_test_idx))),axis=0)\n",
    "\n",
    "\n",
    "#Plot ROC for the entire test dataset\n",
    "probs_fgsm = logreg.predict_proba(test_data_fgsm)\n",
    "probs_bima = logreg.predict_proba(test_data_bima)\n",
    "probs_bimb = logreg.predict_proba(test_data_bimb)\n",
    "probs_jsma = logreg.predict_proba(test_data_jsma)\n",
    "probs_df = logreg.predict_proba(test_data_df)\n",
    "probs_cw = logreg.predict_proba(test_data_cw)\n",
    "\n"
   ]
  },
  {
   "cell_type": "code",
   "execution_count": 106,
   "metadata": {},
   "outputs": [
    {
     "name": "stdout",
     "output_type": "stream",
     "text": [
      "FGSM AUC: 0.9996\n",
      "BIM-A AUC: 1.0000\n",
      "BIM-B AUC: 0.9956\n",
      "JSMA AUC: 1.0000\n",
      "CW AUC: 1.0000\n",
      "DF AUC: 1.0000\n"
     ]
    }
   ],
   "source": [
    "fpr_fgsm, tpr_fgsm, _ = roc_curve(test_labels_fgsm, probs_fgsm[:, 1])\n",
    "fpr_bima, tpr_bima, _ = roc_curve(test_labels_bima, probs_bima[:, 1])\n",
    "fpr_bimb, tpr_bimb, _ = roc_curve(test_labels_bimb, probs_bimb[:, 1])\n",
    "fpr_jsma, tpr_jsma, _ = roc_curve(test_labels_jsma, probs_jsma[:, 1])\n",
    "fpr_cw, tpr_cw, _ = roc_curve(test_labels_cw, probs_cw[:, 1])\n",
    "fpr_df, tpr_df, _ = roc_curve(test_labels_df, probs_df[:, 1])\n",
    "\n",
    "\n",
    "\n",
    "fgsm_auc = auc(fpr_fgsm, tpr_fgsm)\n",
    "bima_auc = auc(fpr_bima, tpr_bima)\n",
    "bimb_auc = auc(fpr_bimb, tpr_bimb)\n",
    "jsma_auc = auc(fpr_jsma, tpr_jsma)\n",
    "df_auc = auc(fpr_df, tpr_df)\n",
    "cw_auc = auc(fpr_cw, tpr_cw)\n",
    "\n",
    "print ('FGSM AUC: %.4f' % (fgsm_auc))\n",
    "print ('BIM-A AUC: %.4f' % ( bima_auc))\n",
    "print ('BIM-B AUC: %.4f' % ( bimb_auc))\n",
    "print ('JSMA AUC: %.4f' % (jsma_auc ))\n",
    "print ('CW AUC: %.4f' % (cw_auc))\n",
    "print ('DF AUC: %.4f' % (df_auc))\n",
    "\n",
    "\n",
    "\n",
    "\n"
   ]
  },
  {
   "cell_type": "code",
   "execution_count": 18,
   "metadata": {},
   "outputs": [
    {
     "data": {
      "image/png": "[encoded data removed]",
      "text/plain": [
       "<matplotlib.figure.Figure at 0x7f0ec8759fd0>"
      ]
     },
     "metadata": {},
     "output_type": "display_data"
    }
   ],
   "source": [
    "#Plot ROC for the entire test dataset\n",
    "probs = logreg.predict_proba(test_data)\n",
    "fpr, tpr, _ = roc_curve(test_labels, probs[:, 1])\n",
    "roc_auc = auc(fpr, tpr)\n",
    "\n",
    "# Plot all ROC curves\n",
    "plt.figure()\n",
    "plt.plot(fpr, tpr,\n",
    "         label='ROC curve (area = {0:0.2f})'\n",
    "               ''.format(roc_auc),\n",
    "         color='blue', linewidth=2)\n",
    "\n",
    "plt.xlim([0.0, 1.0])\n",
    "plt.ylim([0.0, 1.05])\n",
    "plt.xlabel('False Positive Rate')\n",
    "plt.ylabel('True Positive Rate')\n",
    "plt.title('ROC Curve')\n",
    "plt.legend(loc=\"lower right\")\n",
    "plt.savefig('mnist.eps', format='eps', dpi=1000)\n",
    "plt.show()\n"
   ]
  },
  {
   "cell_type": "markdown",
   "metadata": {},
   "source": [
    "**THRESHOLDING FOR GREYBOX**"
   ]
  },
  {
   "cell_type": "code",
   "execution_count": 19,
   "metadata": {},
   "outputs": [
    {
     "name": "stdout",
     "output_type": "stream",
     "text": [
      "FGSM:  0.0725\n",
      "BIM-A:  0.0342\n",
      "BIM-B:  0.0774\n",
      "CW: 0.0261\n",
      "DF: 0.0211\n",
      "JSMA: 0.0153\n"
     ]
    }
   ],
   "source": [
    "#Ratio of perturbed samples having cos sim greater\n",
    "print ('FGSM:  %.4f' % ( comp_cos(cos_sim_fgsm, cos_sim_reg[fgsm_idx])))\n",
    "print ('BIM-A:  %.4f' % ( comp_cos(cos_sim_bim_a, cos_sim_reg[bim_a_idx])))\n",
    "print ('BIM-B:  %.4f' % ( comp_cos(cos_sim_bim_b, cos_sim_reg[bim_b_idx])))\n",
    "print ('CW: %.4f' % ( comp_cos(cos_sim_cw, cos_sim_reg[cw_idx])))\n",
    "print ('DF: %.4f' % ( comp_cos(cos_sim_df, cos_sim_reg[df_idx])))\n",
    "print ('JSMA: %.4f' % ( comp_cos(cos_sim_jsma, cos_sim_reg[jsma_idx])))"
   ]
  },
  {
   "cell_type": "code",
   "execution_count": 20,
   "metadata": {},
   "outputs": [
    {
     "name": "stdout",
     "output_type": "stream",
     "text": [
      "FGSM:  0.9538\n",
      "BIM-A:  0.9879\n",
      "BIM-B:  0.6392\n",
      "CW: 0.9980\n",
      "DF: 0.9990\n",
      "JSMA: 0.9928\n"
     ]
    }
   ],
   "source": [
    "#Ratio of perturbed samples having norm greater\n",
    "print ('FGSM:  %.4f' % ( comp_norm(grads_fgsm_norms, grads_reg_norms[fgsm_idx])))\n",
    "print ('BIM-A:  %.4f' % ( comp_norm(grads_bim_a_norms, grads_reg_norms[bim_a_idx])))\n",
    "print ('BIM-B:  %.4f' % ( comp_norm(grads_bim_b_norms, grads_reg_norms[bim_b_idx])))\n",
    "print ('CW: %.4f' % ( comp_norm(grads_cw_norms, grads_reg_norms[cw_idx])))\n",
    "print ('DF: %.4f' % ( comp_norm(grads_df_norms, grads_reg_norms[df_idx])))\n",
    "print ('JSMA: %.4f' % ( comp_norm(grads_jsma_norms, grads_reg_norms[jsma_idx])))"
   ]
  },
  {
   "cell_type": "code",
   "execution_count": 21,
   "metadata": {},
   "outputs": [
    {
     "name": "stdout",
     "output_type": "stream",
     "text": [
      "Regular: 0.8650\n",
      "FGSM:  0.1791\n",
      "BIM-A:  0.0573\n",
      "BIM-B:  0.2241\n",
      "CW: 0.0502\n",
      "DF: 0.0181\n",
      "JSMA: 0.0266\n"
     ]
    }
   ],
   "source": [
    "#Separate Using Cos Sim\n",
    "eta = 0.7\n",
    "print ('Regular: %.4f' % ( greater_cos(cos_sim_reg, eta)))\n",
    "print ('FGSM:  %.4f' % ( greater_cos(cos_sim_fgsm, eta)))\n",
    "print ('BIM-A:  %.4f' % ( greater_cos(cos_sim_bim_a, eta)))\n",
    "print ('BIM-B:  %.4f' % ( greater_cos(cos_sim_bim_b, eta)))\n",
    "print ('CW: %.4f' % ( greater_cos(cos_sim_cw, eta)))\n",
    "print ('DF: %.4f' % ( greater_cos(cos_sim_df, eta)))\n",
    "print ('JSMA: %.4f' % ( greater_cos(cos_sim_jsma, eta)))"
   ]
  },
  {
   "cell_type": "code",
   "execution_count": 22,
   "metadata": {},
   "outputs": [
    {
     "name": "stdout",
     "output_type": "stream",
     "text": [
      "Regular: 0.8560\n",
      "FGSM:  0.0615\n",
      "BIM-A:  0.0000\n",
      "BIM-B:  0.6462\n",
      "CW: 0.0000\n",
      "DF: 0.0000\n",
      "JSMA: 0.0000\n"
     ]
    }
   ],
   "source": [
    "#Separate using just norm\n",
    "gamma = .02\n",
    "print ('Regular: %.4f' % ( smaller_norm(grads_reg_norms, gamma)))\n",
    "print ('FGSM:  %.4f' % ( smaller_norm(grads_fgsm_norms, gamma)))\n",
    "print ('BIM-A:  %.4f' % ( smaller_norm(grads_bim_a_norms, gamma)))\n",
    "print ('BIM-B:  %.4f' % ( smaller_norm(grads_bim_b_norms, gamma)))\n",
    "print ('CW: %.4f' % ( smaller_norm(grads_cw_norms, gamma)))\n",
    "print ('DF: %.4f' % ( smaller_norm(grads_df_norms, gamma)))\n",
    "print ('JSMA: %.4f' % ( smaller_norm(grads_jsma_norms, gamma)))\n"
   ]
  },
  {
   "cell_type": "code",
   "execution_count": 23,
   "metadata": {},
   "outputs": [
    {
     "name": "stdout",
     "output_type": "stream",
     "text": [
      "Regular: 0.7680\n",
      "FGSM:  0.0198\n",
      "BIM-A:  0.0000\n",
      "BIM-B:  0.1729\n",
      "CW: 0.0000\n",
      "DF: 0.0000\n",
      "JSMA: 0.0000\n"
     ]
    }
   ],
   "source": [
    "#Use both cos and norm\n",
    "print ('Regular: %.4f' % ( cos_and_norm_sep(cos_sim_reg, grads_reg_norms, eta, gamma)))\n",
    "print ('FGSM:  %.4f' % ( cos_and_norm_sep(cos_sim_fgsm, grads_fgsm_norms, eta, gamma)))\n",
    "print ('BIM-A:  %.4f' % ( cos_and_norm_sep(cos_sim_bim_a, grads_bim_a_norms, eta, gamma)))\n",
    "print ('BIM-B:  %.4f' % ( cos_and_norm_sep(cos_sim_bim_b, grads_bim_b_norms, eta, gamma)))\n",
    "print ('CW: %.4f' % ( cos_and_norm_sep(cos_sim_cw, grads_cw_norms, eta, gamma)))\n",
    "print ('DF: %.4f' % ( cos_and_norm_sep(cos_sim_df, grads_df_norms, eta, gamma)))\n",
    "print ('JSMA: %.4f' % ( cos_and_norm_sep(cos_sim_jsma, grads_jsma_norms, eta, gamma)))"
   ]
  },
  {
   "cell_type": "markdown",
   "metadata": {},
   "source": [
    "**WHITEBOX ATTACKS**"
   ]
  },
  {
   "cell_type": "code",
   "execution_count": 24,
   "metadata": {},
   "outputs": [
    {
     "name": "stdout",
     "output_type": "stream",
     "text": [
      "Loaded model from disk\n"
     ]
    }
   ],
   "source": [
    "#Reset tf.graph() as Cleverhans modifies the graph\n",
    "tf.reset_default_graph()\n",
    "\n",
    "#Reload the model and weights\n",
    "model = CNN(model_name=model_name, dataset='mnist', seed=SEED)\n",
    "model.load_model(model_save_path, weights_save_path)    \n"
   ]
  },
  {
   "cell_type": "code",
   "execution_count": 25,
   "metadata": {
    "collapsed": true
   },
   "outputs": [],
   "source": [
    "#Calculate COS SIM values wrt target labels \n",
    "_, cos_sim_cw_tar = norms_and_cos(model, reg_data, cw_tars, grads_train)\n",
    "\n",
    "#Guide Indices for P1 attacks\n",
    "guide_indices_cw = list()\n",
    "reg_filter = np.arange(num_test_samples)\n",
    "np.random.seed(SEED)\n",
    "#Generate guide images using max cosine similarity images\n",
    "for i in range(num_test_samples):\n",
    "    guide_img_idx = get_guide_idx(model,idx_filter=reg_filter,data_indices=data_indices,cos_sim=cos_sim_cw_tar, idx=i)\n",
    "    guide_indices_cw.append(guide_img_idx)"
   ]
  },
  {
   "cell_type": "code",
   "execution_count": 26,
   "metadata": {
    "collapsed": true
   },
   "outputs": [],
   "source": [
    "#1 Phase CW Attack\n",
    "p1_cw_data = model.generate_perturbed_data(reg_data, y_tar=cw_tars,seed=SEED, perturbation='CW', targeted=True, x_tar = model.train_data[guide_indices_cw], use_cos_norm_reg=True, eps=eps)"
   ]
  },
  {
   "cell_type": "code",
   "execution_count": 27,
   "metadata": {},
   "outputs": [
    {
     "name": "stdout",
     "output_type": "stream",
     "text": [
      "Loaded model from disk\n"
     ]
    }
   ],
   "source": [
    "#Reset tf.graph() as Cleverhans modifies the graph\n",
    "tf.reset_default_graph()\n",
    "\n",
    "#Reload the model and weights\n",
    "model = CNN(model_name=model_name, dataset='mnist', seed=SEED)\n",
    "model.load_model(model_save_path, weights_save_path)    \n"
   ]
  },
  {
   "cell_type": "code",
   "execution_count": 28,
   "metadata": {
    "collapsed": true
   },
   "outputs": [],
   "source": [
    "#WB Attacks - Generate Guide indices for FGSM, BIM-A, BIM-B, and CW for P2 attack\n",
    "guide_indices_fgsm = list()\n",
    "guide_indices_bim_a = list()\n",
    "guide_indices_bim_b = list()\n",
    "guide_indices_cw = list()\n",
    "np.random.seed(SEED)\n",
    "#Generate guide images using max cosine similarity images\n",
    "for i in range(num_test_samples):\n",
    "    #Only use misclassified images\n",
    "    if i in fgsm_idx:\n",
    "        guide_img_idx_fgsm = get_guide_idx(model,idx_filter=fgsm_idx,cos_sim=cos_sim_fgsm,data_indices=data_indices, idx=i)\n",
    "        guide_indices_fgsm.append(guide_img_idx_fgsm)\n",
    "    if i in bim_a_idx:\n",
    "        guide_img_idx_bim_a = get_guide_idx(model,idx_filter=bim_a_idx,cos_sim=cos_sim_bim_a,data_indices=data_indices, idx=i)  \n",
    "        guide_indices_bim_a.append(guide_img_idx_bim_a)\n",
    "    if i in bim_b_idx:\n",
    "        guide_img_idx_bim_b = get_guide_idx(model,idx_filter=bim_b_idx,cos_sim=cos_sim_bim_b,data_indices=data_indices, idx=i) \n",
    "        guide_indices_bim_b.append(guide_img_idx_bim_b)    \n",
    "    if i in cw_idx:\n",
    "        guide_img_idx_cw = get_guide_idx(model,idx_filter=cw_idx,cos_sim=cos_sim_cw,data_indices=data_indices, idx=i)  \n",
    "        guide_indices_cw.append(guide_img_idx_cw)\n",
    "    \n"
   ]
  },
  {
   "cell_type": "code",
   "execution_count": 29,
   "metadata": {
    "collapsed": true,
    "scrolled": true
   },
   "outputs": [],
   "source": [
    "#CW Phase 2: Optimize for higher cosine sim and smaller norm of gradient vector\n",
    "p2_cw_data = model.generate_perturbed_data(cw_data_fil, y_tar=cw_labels_fil, seed=SEED, perturbation='CW', targeted=True, x_tar = model.train_data[guide_indices_cw], use_cos_norm_reg=True, eps=eps)"
   ]
  },
  {
   "cell_type": "code",
   "execution_count": 30,
   "metadata": {
    "scrolled": true
   },
   "outputs": [
    {
     "name": "stdout",
     "output_type": "stream",
     "text": [
      "Loaded model from disk\n"
     ]
    }
   ],
   "source": [
    "#Reset tf.graph() as Cleverhans modifies the graph\n",
    "tf.reset_default_graph()\n",
    "\n",
    "#Reload the model and weights\n",
    "model = CNN(model_name=model_name, dataset='mnist', seed=SEED)\n",
    "model.load_model(model_save_path, weights_save_path)    \n"
   ]
  },
  {
   "cell_type": "code",
   "execution_count": 31,
   "metadata": {
    "collapsed": true
   },
   "outputs": [],
   "source": [
    "#Whitebox CW 2 Phase attack with FGSM, BIM-a/b guide images\n",
    "p2_cw_fgsm_data = model.generate_perturbed_data(fgsm_data_fil, y_tar=fgsm_labels_fil,seed=SEED, perturbation='CW', targeted=True, x_tar = model.train_data[guide_indices_fgsm], use_cos_norm_reg=True, eps=eps)\n",
    "p2_cw_bim_a_data = model.generate_perturbed_data(bim_a_data_fil, y_tar=bim_a_labels_fil,seed=SEED, perturbation='CW', targeted=True, x_tar = model.train_data[guide_indices_bim_a], use_cos_norm_reg=True, eps=eps)\n",
    "p2_cw_bim_b_data = model.generate_perturbed_data(bim_b_data_fil, y_tar=bim_a_labels_fil,seed=SEED, perturbation='CW', targeted=True, x_tar = model.train_data[guide_indices_bim_b], use_cos_norm_reg=True, eps=eps)"
   ]
  },
  {
   "cell_type": "code",
   "execution_count": 32,
   "metadata": {},
   "outputs": [
    {
     "name": "stdout",
     "output_type": "stream",
     "text": [
      "Loaded model from disk\n"
     ]
    }
   ],
   "source": [
    "#Reset tf.graph() as Cleverhans modifies the graph\n",
    "tf.reset_default_graph()\n",
    "\n",
    "#Reload the model and weights\n",
    "model = CNN(model_name=model_name, dataset='mnist', seed=SEED)\n",
    "model.load_model(model_save_path, weights_save_path)    "
   ]
  },
  {
   "cell_type": "code",
   "execution_count": 33,
   "metadata": {},
   "outputs": [
    {
     "name": "stdout",
     "output_type": "stream",
     "text": [
      "1000/1000 [==============================] - 0s 171us/step\n",
      "Model Accuracy P1 CW: 0.21500\n",
      "996/996 [==============================] - 0s 131us/step\n",
      "Model Accuracy P2 CW: 0.00000\n",
      "910/910 [==============================] - 0s 131us/step\n",
      "Model Accuracy P2 FGSM: 0.00000\n",
      "995/995 [==============================] - 0s 130us/step\n",
      "Model Accuracy P2 BIM-A: 0.00000\n",
      "995/995 [==============================] - 0s 127us/step\n",
      "Model Accuracy P2 BIM-B 0.00000\n"
     ]
    }
   ],
   "source": [
    "\n",
    "print ('Model Accuracy P1 CW: %.5f' % (model.model.evaluate(p1_cw_data,model.test_labels[test_indices])[1]))\n",
    "print ('Model Accuracy P2 CW: %.5f' % (model.model.evaluate(p2_cw_data,model.test_labels[test_indices][cw_idx])[1]))\n",
    "print ('Model Accuracy P2 FGSM: %.5f' % (model.model.evaluate(p2_cw_fgsm_data,model.test_labels[test_indices][fgsm_idx])[1]))\n",
    "print ('Model Accuracy P2 BIM-A: %.5f' % (model.model.evaluate(p2_cw_bim_a_data,model.test_labels[test_indices][bim_a_idx])[1]))\n",
    "print ('Model Accuracy P2 BIM-B %.5f' % (model.model.evaluate(p2_cw_bim_b_data,model.test_labels[test_indices][bim_b_idx])[1]))"
   ]
  },
  {
   "cell_type": "code",
   "execution_count": 34,
   "metadata": {
    "scrolled": false
   },
   "outputs": [
    {
     "name": "stdout",
     "output_type": "stream",
     "text": [
      "Regular: \n"
     ]
    },
    {
     "data": {
      "image/png": "[encoded data removed]",
      "text/plain": [
       "<matplotlib.figure.Figure at 0x7f0d484ebc50>"
      ]
     },
     "metadata": {},
     "output_type": "display_data"
    },
    {
     "name": "stdout",
     "output_type": "stream",
     "text": [
      "P1-CW: \n"
     ]
    },
    {
     "data": {
      "image/png": "[encoded data removed]",
      "text/plain": [
       "<matplotlib.figure.Figure at 0x7f0fbaa358d0>"
      ]
     },
     "metadata": {},
     "output_type": "display_data"
    },
    {
     "name": "stdout",
     "output_type": "stream",
     "text": [
      "P2-CW: \n"
     ]
    },
    {
     "data": {
      "image/png": "[encoded data removed]",
      "text/plain": [
       "<matplotlib.figure.Figure at 0x7f0d04142e90>"
      ]
     },
     "metadata": {},
     "output_type": "display_data"
    },
    {
     "name": "stdout",
     "output_type": "stream",
     "text": [
      "P2-FGSM: \n"
     ]
    },
    {
     "data": {
      "image/png": "[encoded data removed]",
      "text/plain": [
       "<matplotlib.figure.Figure at 0x7f0fa6b6dd50>"
      ]
     },
     "metadata": {},
     "output_type": "display_data"
    },
    {
     "name": "stdout",
     "output_type": "stream",
     "text": [
      "P2-BIM-A\n"
     ]
    },
    {
     "data": {
      "image/png": "[encoded data removed]",
      "text/plain": [
       "<matplotlib.figure.Figure at 0x7f0d0c0a1f90>"
      ]
     },
     "metadata": {},
     "output_type": "display_data"
    },
    {
     "name": "stdout",
     "output_type": "stream",
     "text": [
      "P2-BIM-B\n"
     ]
    },
    {
     "data": {
      "image/png": "[encoded data removed]",
      "text/plain": [
       "<matplotlib.figure.Figure at 0x7f0cf5daef50>"
      ]
     },
     "metadata": {},
     "output_type": "display_data"
    }
   ],
   "source": [
    "#Lets visualize one sample from each dataset\n",
    "x_vis = np.random.choice(range(0,int(num_test_samples/2)), 10)\n",
    "print ('Regular: ')\n",
    "visualize(reg_data[x_vis].reshape(-1,*input_shape), 10,)\n",
    "print ('P1-CW: ')\n",
    "visualize(p1_cw_data[x_vis].reshape(-1,*input_shape), 10, '../figures/p1-cw-cifar2')\n",
    "print ('P2-CW: ')\n",
    "visualize(p2_cw_data[x_vis].reshape(-1,*input_shape), 10, '../figures/p2-cw-cifar2')\n",
    "print ('P2-FGSM: ')\n",
    "visualize(p2_cw_fgsm_data[x_vis].reshape(-1,*input_shape), 10, '../figures/p2-fgsm-cifar2')\n",
    "print ('P2-BIM-A')\n",
    "visualize(p2_cw_bim_a_data[x_vis].reshape(-1,*input_shape), 10, '../figures/p2-bim-a-cifar2')\n",
    "print ('P2-BIM-B')\n",
    "visualize(p2_cw_bim_b_data[x_vis].reshape(-1,*input_shape), 10, '../figures/p2-bim-b-cifar2')\n"
   ]
  },
  {
   "cell_type": "code",
   "execution_count": 35,
   "metadata": {
    "collapsed": true
   },
   "outputs": [],
   "source": [
    "#Get predictions\n",
    "p1_cw_preds = model.model.predict(p1_cw_data.reshape(-1,*input_shape))\n",
    "p2_cw_preds = model.model.predict(p2_cw_data.reshape(-1,*input_shape))\n",
    "p2_cw_fgsm_preds = model.model.predict(p2_cw_fgsm_data.reshape(-1,*input_shape))\n",
    "p2_cw_bim_a_preds = model.model.predict(p2_cw_bim_a_data.reshape(-1,*input_shape))\n",
    "p2_cw_bim_b_preds = model.model.predict(p2_cw_bim_b_data.reshape(-1,*input_shape))\n"
   ]
  },
  {
   "cell_type": "code",
   "execution_count": 36,
   "metadata": {
    "collapsed": true
   },
   "outputs": [],
   "source": [
    "#Convert preds to labels\n",
    "p1_cw_labels = preds_to_labels(p1_cw_preds)\n",
    "p2_cw_labels = preds_to_labels(p2_cw_preds)\n",
    "p2_cw_fgsm_labels = preds_to_labels(p2_cw_fgsm_preds)\n",
    "p2_cw_bim_a_labels = preds_to_labels(p2_cw_bim_a_preds)\n",
    "p2_cw_bim_b_labels = preds_to_labels(p2_cw_bim_b_preds)\n",
    "\n"
   ]
  },
  {
   "cell_type": "code",
   "execution_count": 37,
   "metadata": {},
   "outputs": [
    {
     "name": "stderr",
     "output_type": "stream",
     "text": [
      "/usr/local/lib/python2.7/dist-packages/ipykernel_launcher.py:3: DeprecationWarning: elementwise != comparison failed; this will raise an error in the future.\n",
      "  This is separate from the ipykernel package so we can avoid doing imports until\n",
      "/usr/local/lib/python2.7/dist-packages/ipykernel_launcher.py:4: DeprecationWarning: elementwise != comparison failed; this will raise an error in the future.\n",
      "  after removing the cwd from sys.path.\n",
      "/usr/local/lib/python2.7/dist-packages/ipykernel_launcher.py:5: DeprecationWarning: elementwise != comparison failed; this will raise an error in the future.\n",
      "  \"\"\"\n",
      "/usr/local/lib/python2.7/dist-packages/ipykernel_launcher.py:6: DeprecationWarning: elementwise != comparison failed; this will raise an error in the future.\n",
      "  \n"
     ]
    }
   ],
   "source": [
    "#Check which points are actually adversarial and select those\n",
    "p1_cw_idx = np.where(np.argmax(p1_cw_preds, axis=1) != true_preds)[0]\n",
    "p2_cw_idx = np.where(np.argmax(p2_cw_preds, axis=1) != true_preds)[0]\n",
    "p2_cw_fgsm_idx = np.where(np.argmax(p2_cw_fgsm_preds, axis=1) != true_preds)[0]\n",
    "p2_cw_bim_a_idx = np.where(np.argmax(p2_cw_bim_a_preds, axis=1) != true_preds)[0]\n",
    "p2_cw_bim_b_idx = np.where(np.argmax(p2_cw_bim_b_preds, axis=1) != true_preds)[0]\n",
    "\n",
    "#Filter data points to be used for similarity\n",
    "p1_cw_data_fil = p1_cw_data[p1_cw_idx]\n",
    "p2_cw_data_fil = p2_cw_data[p2_cw_idx]\n",
    "p2_cw_fgsm_data_fil = p2_cw_fgsm_data[p2_cw_fgsm_idx]\n",
    "p2_cw_bim_a_data_fil = p2_cw_bim_a_data[p2_cw_bim_a_idx]\n",
    "p2_cw_bim_b_data_fil = p2_cw_bim_b_data[p2_cw_bim_b_idx]\n",
    "\n",
    "#Filter labels to be used\n",
    "p1_cw_labels_fil = p1_cw_labels[p1_cw_idx]\n",
    "p2_cw_labels_fil = p2_cw_labels[p2_cw_idx]\n",
    "p2_cw_fgsm_labels_fil = p2_cw_fgsm_labels[p2_cw_fgsm_idx]\n",
    "p2_cw_bim_a_labels_fil = p2_cw_bim_a_labels[p2_cw_bim_a_idx]\n",
    "p2_cw_bim_b_labels_fil = p2_cw_bim_b_labels[p2_cw_bim_b_idx]"
   ]
  },
  {
   "cell_type": "code",
   "execution_count": 38,
   "metadata": {},
   "outputs": [
    {
     "name": "stdout",
     "output_type": "stream",
     "text": [
      "P1-CW: 6.17499\n",
      "P2-CW: 4.13114\n",
      "P2-CW FGSM: 9.79985\n",
      "P2-CW BIM A: 10.85803\n",
      "P2-CW BIM B: 10.99135\n"
     ]
    }
   ],
   "source": [
    "#Get distortion (Prints nan if no sample was adversarial)\n",
    "print ('P1-CW: %.5f' % (avg_l2_dist(reg_data[p1_cw_idx], p1_cw_data_fil)))\n",
    "print ('P2-CW: %.5f' % (avg_l2_dist(reg_data[p2_cw_idx], p2_cw_data_fil)))\n",
    "print ('P2-CW FGSM: %.5f' % (avg_l2_dist(reg_data[p2_cw_fgsm_idx], p2_cw_fgsm_data_fil)))\n",
    "print ('P2-CW BIM A: %.5f' % (avg_l2_dist(reg_data[p2_cw_bim_a_idx], p2_cw_bim_a_data_fil)))\n",
    "print ('P2-CW BIM B: %.5f' % (avg_l2_dist(reg_data[p2_cw_bim_b_idx], p2_cw_bim_b_data_fil)))"
   ]
  },
  {
   "cell_type": "code",
   "execution_count": 39,
   "metadata": {
    "collapsed": true
   },
   "outputs": [],
   "source": [
    "#Get cosine similarity and norms\n",
    "grads_p1_cw_norms, cos_sim_p1_cw = norms_and_cos(model, p1_cw_data_fil, p1_cw_labels_fil, grads_train)\n",
    "grads_p2_cw_norms, cos_sim_p2_cw = norms_and_cos(model, p2_cw_data_fil, p2_cw_labels_fil, grads_train)\n",
    "grads_p2_cw_fgsm_norms, cos_sim_p2_cw_fgsm = norms_and_cos(model, p2_cw_fgsm_data_fil, p2_cw_fgsm_labels_fil, grads_train)\n",
    "grads_p2_cw_bim_a_norms, cos_sim_p2_cw_bim_a = norms_and_cos(model, p2_cw_bim_a_data_fil, p2_cw_bim_a_labels_fil, grads_train)\n",
    "grads_p2_cw_bim_b_norms, cos_sim_p2_cw_bim_b = norms_and_cos(model, p2_cw_bim_b_data_fil, p2_cw_bim_b_labels_fil, grads_train)"
   ]
  },
  {
   "cell_type": "markdown",
   "metadata": {},
   "source": [
    "**THRESHOLDING FOR WHITEBOX**"
   ]
  },
  {
   "cell_type": "code",
   "execution_count": 40,
   "metadata": {},
   "outputs": [
    {
     "name": "stdout",
     "output_type": "stream",
     "text": [
      "1 Phase CW:  0.0637\n",
      "2 Phase CW:  0.0000\n",
      "2 Phase CW FGSM:  0.0000\n",
      "2 Phase CW BIM A:  0.0000\n",
      "2 Phase CW BIM B:  0.0000\n"
     ]
    }
   ],
   "source": [
    "#Ratio of perturbed samples having cos sim smaller\n",
    "\n",
    "print ('1 Phase CW:  %.4f' % ( comp_cos(cos_sim_p1_cw, cos_sim_reg[p1_cw_idx])))\n",
    "print ('2 Phase CW:  %.4f' % ( comp_cos(cos_sim_p2_cw, cos_sim_reg[p2_cw_idx])))\n",
    "print ('2 Phase CW FGSM:  %.4f' % ( comp_cos(cos_sim_p2_cw_fgsm, cos_sim_reg[p2_cw_fgsm_idx])))\n",
    "print ('2 Phase CW BIM A:  %.4f' % ( comp_cos(cos_sim_p2_cw_bim_a, cos_sim_reg[p2_cw_bim_a_idx])))\n",
    "print ('2 Phase CW BIM B:  %.4f' % ( comp_cos(cos_sim_p2_cw_bim_b, cos_sim_reg[p2_cw_bim_b_idx])))\n"
   ]
  },
  {
   "cell_type": "code",
   "execution_count": 41,
   "metadata": {},
   "outputs": [
    {
     "name": "stdout",
     "output_type": "stream",
     "text": [
      "1 Phase CW: 0.9554\n",
      "2 Phase CW: 1.0000\n",
      "2 Phase CW FGSM: 1.0000\n",
      "2 Phase CW BIM A: 1.0000\n",
      "2 Phase CW BIM B: 1.0000\n"
     ]
    }
   ],
   "source": [
    "#Ratio of perturbed samples having norm greater\n",
    "\n",
    "print ('1 Phase CW: %.4f' % ( comp_norm(grads_p1_cw_norms, grads_reg_norms[p1_cw_idx])))\n",
    "print ('2 Phase CW: %.4f' % ( comp_norm(grads_p2_cw_norms, grads_reg_norms[p2_cw_idx])))\n",
    "print ('2 Phase CW FGSM: %.4f' % ( comp_norm(grads_p2_cw_fgsm_norms, grads_reg_norms[p2_cw_fgsm_idx])))\n",
    "print ('2 Phase CW BIM A: %.4f' % ( comp_norm(grads_p2_cw_bim_a_norms, grads_reg_norms[p2_cw_bim_a_idx])))\n",
    "print ('2 Phase CW BIM B: %.4f' % ( comp_norm(grads_p2_cw_bim_b_norms, grads_reg_norms[p2_cw_bim_b_idx])))\n"
   ]
  },
  {
   "cell_type": "code",
   "execution_count": 45,
   "metadata": {
    "collapsed": true
   },
   "outputs": [],
   "source": [
    "fgsm_dict = dict()\n",
    "bim_a_dict = dict()\n",
    "bim_b_dict = dict()\n",
    "jsma_dict = dict()\n",
    "cw_dict = dict()\n",
    "df_dict = dict()\n",
    "\n",
    "fgsm_ct = bim_a_ct = bim_b_ct = jsma_ct = cw_ct = df_ct = 0\n",
    "\n",
    "for i in range(num_test_samples):\n",
    "    if i in fgsm_idx:\n",
    "        fgsm_dict[i] = fgsm_ct\n",
    "        fgsm_ct+=1\n",
    "    if i in bim_a_idx:\n",
    "        bim_a_dict[i] = bim_a_ct\n",
    "        bim_a_ct+=1\n",
    "    if i in bim_b_idx:\n",
    "        bim_b_dict[i] = bim_b_ct\n",
    "        bim_b_ct+=1\n",
    "    if i in cw_idx:\n",
    "        cw_dict[i] = cw_ct\n",
    "        cw_ct+=1\n",
    "    if i in jsma_idx:\n",
    "        jsma_dict[i] = jsma_ct\n",
    "        jsma_ct+=1\n",
    "    if i in df_idx:\n",
    "        df_dict[i] = df_ct\n",
    "        df_ct+=1"
   ]
  },
  {
   "cell_type": "code",
   "execution_count": 46,
   "metadata": {
    "collapsed": true
   },
   "outputs": [],
   "source": [
    "#Calculate points that were misclassified for all attacks\n",
    "attacks = [fgsm_idx, bim_a_idx, bim_b_idx, cw_idx, jsma_idx, df_idx]\n",
    "intersection = np.arange(num_test_samples)\n",
    "for attack in attacks:\n",
    "    intersection = np.intersect1d(intersection, attack)"
   ]
  },
  {
   "cell_type": "code",
   "execution_count": 47,
   "metadata": {
    "collapsed": true
   },
   "outputs": [],
   "source": [
    "#Get indices to access cos and norm matrices\n",
    "fgsm_int = list()\n",
    "bim_a_int = list()\n",
    "bim_b_int = list()\n",
    "jsma_int = list()\n",
    "cw_int = list()\n",
    "df_int = list()\n",
    "\n",
    "#We plot 250 random points\n",
    "num_indices = np.arange(100)\n",
    "random_int = np.random.choice(intersection, 100)\n",
    "\n",
    "for i in random_int:\n",
    "    fgsm_int.append(fgsm_dict[i])\n",
    "    bim_a_int.append(bim_a_dict[i])\n",
    "    bim_b_int.append(bim_b_dict[i])\n",
    "    cw_int.append(cw_dict[i])\n",
    "    jsma_int.append(jsma_dict[i])\n",
    "    df_int.append(df_dict[i])\n",
    "    "
   ]
  },
  {
   "cell_type": "code",
   "execution_count": 48,
   "metadata": {},
   "outputs": [
    {
     "data": {
      "image/png": "[encoded data removed]",
      "text/plain": [
       "<matplotlib.figure.Figure at 0x7f0cf5884750>"
      ]
     },
     "metadata": {},
     "output_type": "display_data"
    }
   ],
   "source": [
    "plt.plot(num_indices, grads_reg_norms[random_int], 'x', label='Original', ms=6, color='black')\n",
    "plt.plot(num_indices, grads_fgsm_norms[fgsm_int], 'x', label='FGSM', ms=3)\n",
    "plt.plot(num_indices, grads_bim_a_norms[bim_a_int], 'x', label='BIM-A', ms=3)\n",
    "plt.plot(num_indices, grads_bim_b_norms[bim_b_int], 'x', label='BIM-B', ms=3, color='red')\n",
    "plt.plot(num_indices, grads_cw_norms[cw_int], 'x', label='C&W', ms=3)\n",
    "plt.plot(num_indices, grads_df_norms[df_int], 'x', label='DF', ms=3)\n",
    "plt.plot(num_indices, grads_jsma_norms[jsma_int], 'x', label='JSMA', ms=3)\n",
    "#plt.xlabel('Transformed', fontsize=12)\n",
    "plt.ylabel('Gradient Norm', fontsize=12)\n",
    "plt.xlabel('Index of Test Input', fontsize=12)\n",
    "plt.title('Norms of Gradient Vectors')\n",
    "plt.legend(loc=\"upper right\", fancybox=True, shadow=True)\n",
    "plt.tight_layout()\n",
    "plt.savefig('mnist_norm.eps', format='eps', dpi=1000)\n",
    "plt.show()"
   ]
  },
  {
   "cell_type": "code",
   "execution_count": 49,
   "metadata": {},
   "outputs": [
    {
     "data": {
      "image/png": "[encoded data removed]",
      "text/plain": [
       "<matplotlib.figure.Figure at 0x7f0cf59e83d0>"
      ]
     },
     "metadata": {},
     "output_type": "display_data"
    }
   ],
   "source": [
    "plt.plot(num_indices, np.max(cos_sim_reg[random_int], axis=1), 'x', label='Original', ms=6, color='black')\n",
    "plt.plot(num_indices, np.max(cos_sim_fgsm[fgsm_int], axis=1), 'x', label='FGSM', ms=3)\n",
    "plt.plot(num_indices, np.max(cos_sim_bim_a[bim_a_int], axis=1), 'x', label='BIM-A', ms=3)\n",
    "plt.plot(num_indices, np.max(cos_sim_bim_b[bim_b_int], axis=1), 'x', label='BIM-B', ms=3, color='red')\n",
    "plt.plot(num_indices, np.max(cos_sim_cw[cw_int], axis=1), 'x', label='C&W', ms=3)\n",
    "plt.plot(num_indices, np.max(cos_sim_df[df_int], axis=1), 'x', label='DF',ms=3)\n",
    "plt.plot(num_indices, np.max(cos_sim_jsma[jsma_int], axis=1), 'x', label='JSMA',ms=3)\n",
    "#plt.legend(loc='upper center', bbox_to_anchor=(0.5, -0.05),\n",
    "         # fancybox=True, shadow=True, ncol=3)\n",
    "#plt.xlabel('Transformed', fontsize=12)\n",
    "plt.ylabel('Max Cos Sim', fontsize=12)\n",
    "plt.xlabel('Index of Test Input', fontsize=12)\n",
    "plt.title('Cosine Similarity of Gradient Vectors')\n",
    "plt.legend(loc=\"lower right\", fancybox=True, shadow=True)\n",
    "plt.tight_layout()\n",
    "plt.savefig('mnist_cos.eps', format='eps', dpi=1000)\n",
    "plt.show()"
   ]
  },
  {
   "cell_type": "code",
   "execution_count": 100,
   "metadata": {
    "collapsed": true
   },
   "outputs": [],
   "source": [
    "eta_start = -1.0\n",
    "eta_end = 1.0\n",
    "eta_step = 0.05\n",
    "gamma_start = 0.0\n",
    "gamma_end = 1\n",
    "gamma_step=0.01\n",
    "\n",
    "fpr_reg  = list()\n",
    "tpr_cw1 =  list()\n",
    "tpr_cw2 =  list()\n",
    "tpr_fgsm =  list()\n",
    "tpr_bima =  list()\n",
    "tpr_bimb =  list()\n",
    "for e in np.arange(eta_start, eta_end, eta_step):\n",
    "    for g in np.arange(gamma_start, gamma_end, gamma_step):\n",
    "        fpr_reg.append(1.0 - cos_and_norm_sep(cos_sim_reg, grads_reg_norms, e, g))\n",
    "        tpr_cw1.append(1.0 - cos_and_norm_sep(cos_sim_p1_cw, grads_p1_cw_norms, e, g))\n",
    "        tpr_cw2.append(1.0 - cos_and_norm_sep(cos_sim_p2_cw, grads_p2_cw_norms, e, g))\n",
    "        tpr_fgsm.append(1.0 - cos_and_norm_sep(cos_sim_p2_cw_fgsm, grads_p2_cw_fgsm_norms, e, g))\n",
    "        tpr_bima.append(1.0 - cos_and_norm_sep(cos_sim_p2_cw_bim_a, grads_p2_cw_bim_a_norms, e, g))\n",
    "        tpr_bimb.append(1.0 - cos_and_norm_sep(cos_sim_p2_cw_bim_b, grads_p2_cw_bim_b_norms, e, g))\n",
    "\n",
    "\n"
   ]
  },
  {
   "cell_type": "code",
   "execution_count": 101,
   "metadata": {},
   "outputs": [
    {
     "name": "stdout",
     "output_type": "stream",
     "text": [
      "1 Phase CW AUC: 0.9314\n",
      "2 Phase CW AUC: 0.9640\n",
      "2 Phase CW FGSM AUC: 0.9640\n",
      "2 Phase CW BIM A AUC: 0.9640\n",
      "2 Phase CW BIM B AUC: 0.8745\n"
     ]
    }
   ],
   "source": [
    "#We need to sort FPR and TPR pairs\n",
    "zip1 = zip(fpr_reg, tpr_cw1)\n",
    "zip2 = zip(fpr_reg, tpr_cw2)\n",
    "zip3 = zip(fpr_reg, tpr_fgsm)\n",
    "zip4 = zip(fpr_reg, tpr_bima)\n",
    "zip5 = zip(fpr_reg, tpr_bimb)\n",
    "\n",
    "zip1.sort(key = lambda t: t[0])\n",
    "zip2.sort(key = lambda t: t[0])\n",
    "zip3.sort(key = lambda t: t[0])\n",
    "zip4.sort(key = lambda t: t[0])\n",
    "zip5.sort(key = lambda t: t[0])\n",
    "\n",
    "cw1 = np.array(zip1)\n",
    "cw2 = np.array(zip2)\n",
    "fgsm = np.array(zip3)\n",
    "bima = np.array(zip4)\n",
    "bimb = np.array(zip5)\n",
    "\n",
    "fpr_set = sorted(set(cw1[:,0]))\n",
    "cw1_tp = list()\n",
    "cw2_tp = list()\n",
    "fgsm_tp = list()\n",
    "bima_tp = list()\n",
    "bimb_tp = list()\n",
    "\n",
    "for fp in fpr_set:\n",
    "    cw1_tp.append(np.max(cw1[:,1][np.where(cw1[:,0] == fp)[0]]))\n",
    "    cw2_tp.append(np.max(cw2[:,1][np.where(cw2[:,0] == fp)[0]]))\n",
    "    fgsm_tp.append(np.max(fgsm[:,1][np.where(fgsm[:,0] == fp)[0]]))\n",
    "    bima_tp.append(np.max(bima[:,1][np.where(bima[:,0] == fp)[0]]))\n",
    "    bimb_tp.append(np.max(bimb[:,1][np.where(bimb[:,0] == fp)[0]]))\n",
    "\n",
    "\n",
    "fppr = list(fpr_set)\n",
    "\n",
    "#Sort lists and get AUC for each attacks\n",
    "\n",
    "auc_cw1 = auc(fppr,cw1_tp)\n",
    "auc_cw2 = auc(fppr,cw2_tp )\n",
    "auc_fgsm = auc(fppr,fgsm_tp )\n",
    "auc_bima = auc(fppr,bima_tp )\n",
    "auc_bimb = auc(fppr,bimb_tp )\n",
    "\n",
    "print ('1 Phase CW AUC: %.4f' % (auc_cw1))\n",
    "print ('2 Phase CW AUC: %.4f' % ( auc_cw2))\n",
    "print ('2 Phase CW FGSM AUC: %.4f' % ( auc_fgsm))\n",
    "print ('2 Phase CW BIM A AUC: %.4f' % (auc_bima ))\n",
    "print ('2 Phase CW BIM B AUC: %.4f' % (auc_bimb))"
   ]
  }
 ],
 "metadata": {
  "kernelspec": {
   "display_name": "Python 2",
   "language": "python",
   "name": "python2"
  },
  "language_info": {
   "codemirror_mode": {
    "name": "ipython",
    "version": 2
   },
   "file_extension": ".py",
   "mimetype": "text/x-python",
   "name": "python",
   "nbconvert_exporter": "python",
   "pygments_lexer": "ipython2",
   "version": "2.7.12"
  }
 },
 "nbformat": 4,
 "nbformat_minor": 2
}
