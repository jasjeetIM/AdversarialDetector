{
 "cells": [
  {
   "cell_type": "code",
   "execution_count": 1,
   "metadata": {
    "collapsed": true
   },
   "outputs": [],
   "source": [
    "%%capture state\n",
    "from __future__ import division\n",
    "from __future__ import print_function\n",
    "\n",
    "import sys, os\n",
    "sys.path.append('../')\n",
    "\n",
    "import tensorflow as tf\n",
    "import numpy as np\n",
    "import gc\n",
    "\n",
    "from models.neural_network import NeuralNetwork\n",
    "from models.cnn import CNN\n",
    "\n",
    "os.environ[\"CUDA_VISIBLE_DEVICES\"] = \"2\"\n",
    "\n",
    "#Seed used for all calculations of training and test point indices \n",
    "SEED = 14"
   ]
  },
  {
   "cell_type": "code",
   "execution_count": 2,
   "metadata": {
    "collapsed": true
   },
   "outputs": [],
   "source": [
    "## Visualization of samples\n",
    "import matplotlib\n",
    "import matplotlib.pyplot as plt\n",
    "%matplotlib inline\n",
    "\n",
    "def visualize(image):\n",
    "    plt.figure(figsize=(1, 1))\n",
    "    if image.shape[-1] == 1:\n",
    "        # image is in black and white\n",
    "        image = image[:, :, 0]\n",
    "        plt.imshow(image, cmap='Greys')\n",
    "    else:\n",
    "        # image is in color\n",
    "        plt.imshow(image)\n",
    "    plt.axis('off')\n",
    "    plt.show()\n",
    "\n",
    "#Normalize rows of a given matrix\n",
    "def normalize(matrix):\n",
    "    for i in range(matrix.shape[0]):\n",
    "        matrix[i] = matrix[i]/np.linalg.norm(matrix[i]) \n",
    "    return matrix"
   ]
  },
  {
   "cell_type": "code",
   "execution_count": 3,
   "metadata": {
    "collapsed": true
   },
   "outputs": [],
   "source": [
    "input_shape = (28,28,1)\n",
    "num_classes = 10\n",
    "eps=0.3\n"
   ]
  },
  {
   "cell_type": "code",
   "execution_count": 4,
   "metadata": {},
   "outputs": [
    {
     "name": "stdout",
     "output_type": "stream",
     "text": [
      "3330314\n",
      "Loaded model from disk\n"
     ]
    }
   ],
   "source": [
    "#Load model from disk\n",
    "model_name = 'MNIST'\n",
    "model_save_path = '../trained_models/' + model_name + '-model.json'\n",
    "weights_save_path = '../trained_models/' + model_name + 'weights'\n",
    "model = CNN(model_name=model_name, dataset='mnist')\n",
    "print (model.num_params)\n",
    "model.load_model(model_save_path, weights_save_path) \n",
    "#epochs = 20\n",
    "#model.train(epochs=epochs)\n",
    "#model.save_model(model_save_path, weights_save_path)   "
   ]
  },
  {
   "cell_type": "code",
   "execution_count": 5,
   "metadata": {
    "collapsed": true
   },
   "outputs": [],
   "source": [
    "#Get training samples\n",
    "num_train_samples = 1000\n",
    "data_indices = model.gen_rand_indices(low=0, high=model.train_data.shape[0], seed=SEED, num_samples=num_train_samples)\n",
    "train_data = model.train_data[data_indices]\n",
    "train_data_labels = model.train_labels[data_indices]\n",
    "train_data_labels_int = np.argmax(train_data_labels, axis=1)"
   ]
  },
  {
   "cell_type": "code",
   "execution_count": 6,
   "metadata": {
    "scrolled": true
   },
   "outputs": [
    {
     "name": "stderr",
     "output_type": "stream",
     "text": [
      "/root/notebook/cleverhans/cleverhans/src/cleverhans/cleverhans/utils_keras.py:144: UserWarning: Please update your version to keras >= 2.1.3; support for earlier keras versions will be dropped on 2018-07-22\n",
      "  \"Please update your version to keras >= 2.1.3; \"\n"
     ]
    }
   ],
   "source": [
    "num_test_samples_per_class = 10\n",
    "num_test_samples = num_classes*num_test_samples_per_class\n",
    "\n",
    "#Generate test points\n",
    "test_indices = model.gen_rand_indices_all_classes(y=model.test_labels, seed=SEED, num_samples=num_test_samples_per_class)\n",
    "\n",
    "#Get Regular, Noisy, FGSM, BIM, and CW test points\n",
    "reg_data = model.test_data[test_indices]\n",
    "noisy_data = model.generate_perturbed_data(model.test_data[test_indices], model.test_labels[test_indices],seed=SEED, perturbation='Noisy', eps=eps)\n",
    "fgsm_data = model.generate_perturbed_data(model.test_data[test_indices], model.test_labels[test_indices],seed=SEED, perturbation='FGSM', eps=eps)\n",
    "bim_a_data = model.generate_perturbed_data(model.test_data[test_indices], model.test_labels[test_indices], seed=SEED, perturbation='BIM-A', iterations=10, eps=eps)\n",
    "bim_b_data = model.generate_perturbed_data(model.test_data[test_indices], model.test_labels[test_indices], seed=SEED, perturbation='BIM-B', iterations=10, eps=eps)\n",
    "cw_data = model.generate_perturbed_data(model.test_data[test_indices], model.test_labels[test_indices],seed=SEED, perturbation='CW', targeted=False, eps=eps)\n",
    "df_data = model.generate_perturbed_data(model.test_data[test_indices], model.test_labels[test_indices],seed=SEED, perturbation='DF')\n",
    "jsma_data = model.generate_perturbed_data(model.test_data[test_indices], model.test_labels[test_indices],seed=SEED, perturbation='JSMA')"
   ]
  },
  {
   "cell_type": "code",
   "execution_count": 7,
   "metadata": {},
   "outputs": [
    {
     "name": "stdout",
     "output_type": "stream",
     "text": [
      "Loaded model from disk\n"
     ]
    }
   ],
   "source": [
    "#Reset tf.graph() as Cleverhans modifies the graph\n",
    "tf.reset_default_graph()\n",
    "\n",
    "#Reload the model and weights\n",
    "model = CNN(model_name=model_name, dataset='mnist')\n",
    "model.load_model(model_save_path, weights_save_path)    "
   ]
  },
  {
   "cell_type": "code",
   "execution_count": 8,
   "metadata": {
    "scrolled": true
   },
   "outputs": [],
   "source": [
    "fgsm_guides = model.model.predict(fgsm_data.reshape(-1,*input_shape))\n",
    "bim_a_guides = model.model.predict(bim_a_data.reshape(-1,*input_shape))\n",
    "bim_b_guides = model.model.predict(bim_a_data.reshape(-1,*input_shape))\n",
    "\n",
    "#Whitebox CW Attack\n",
    "#First get guide images\n",
    "guide_indices_fgsm = list()\n",
    "guide_indices_bim_a = list()\n",
    "guide_indices_bim_b = list()\n",
    "np.random.seed(SEED)\n",
    "#Generate guide images for modified CW attacks\n",
    "for i in range(num_test_samples):\n",
    "    label_fgsm = np.argmax(fgsm_guides[i])\n",
    "    label_bim_a = np.argmax(bim_a_guides[i])\n",
    "    label_bim_b = np.argmax(bim_b_guides[i])\n",
    "   \n",
    "    #Get a test point with the target label\n",
    "    guide_imgs_indices_fgsm = np.where(model.train_labels[:,label_fgsm] == 1)[0]\n",
    "    guide_imgs_indices_bim_a = np.where(model.train_labels[:,label_bim_a] == 1)[0]\n",
    "    guide_imgs_indices_bim_b = np.where(model.train_labels[:,label_bim_b] == 1)[0]\n",
    "    #Choose a guide image\n",
    "    guide_img_idx_fgsm = np.random.choice(guide_imgs_indices_fgsm, 1)[0]\n",
    "    guide_img_idx_bim_a = np.random.choice(guide_imgs_indices_bim_a, 1)[0]\n",
    "    guide_img_idx_bim_b = np.random.choice(guide_imgs_indices_bim_b, 1)[0]\n",
    "\n",
    "\n",
    "    guide_indices_fgsm.append(guide_img_idx_fgsm)\n",
    "    guide_indices_bim_a.append(guide_img_idx_bim_a)\n",
    "    guide_indices_bim_b.append(guide_img_idx_bim_b)\n",
    "\n",
    "\n",
    "#1 Phase Attack\n",
    "fgsm_wb_data = model.generate_perturbed_data(model.test_data[test_indices], model.test_labels[test_indices],seed=SEED, perturbation='FGSM-WB', eps=eps, x_tar=model.train_data[guide_indices_fgsm], y_tar = model.train_labels[guide_indices_fgsm])\n",
    "bim_a_wb_data = model.generate_perturbed_data(model.test_data[test_indices], model.test_labels[test_indices],seed=SEED, perturbation='BIM-A-WB', eps=eps, x_tar=model.train_data[guide_indices_bim_a], y_tar = model.train_labels[guide_indices_bim_a])\n",
    "bim_b_wb_data = model.generate_perturbed_data(model.test_data[test_indices], model.test_labels[test_indices],seed=SEED, perturbation='BIM-B-WB', eps=eps, x_tar=model.train_data[guide_indices_bim_b], y_tar = model.train_labels[guide_indices_bim_b])"
   ]
  },
  {
   "cell_type": "code",
   "execution_count": 9,
   "metadata": {},
   "outputs": [
    {
     "name": "stdout",
     "output_type": "stream",
     "text": [
      "Loaded model from disk\n"
     ]
    }
   ],
   "source": [
    "#Reset tf.graph() as Cleverhans modifies the graph\n",
    "tf.reset_default_graph()\n",
    "\n",
    "#Reload the model and weights\n",
    "model = CNN(model_name=model_name, dataset='mnist')\n",
    "model.load_model(model_save_path, weights_save_path)  "
   ]
  },
  {
   "cell_type": "code",
   "execution_count": 10,
   "metadata": {
    "scrolled": true
   },
   "outputs": [],
   "source": [
    "#Whitebox CW Attack\n",
    "#First get guide images\n",
    "guide_indices = list()\n",
    "np.random.seed(SEED)\n",
    "#Generate guide images for modified CW attacks\n",
    "for idx in test_indices:\n",
    "    label = np.argmax(model.test_labels[idx])\n",
    "    #Add 1 to the label mod 10 to get a target label\n",
    "    mod_label = (label + 1) % num_classes\n",
    "    #Get a test point with the target label\n",
    "    guide_imgs_indices = np.where(model.train_labels[:,mod_label] == 1)[0]\n",
    "    #Choose a guide image\n",
    "    guide_img_idx = np.random.choice(guide_imgs_indices, 1)[0]\n",
    "    guide_indices.append(guide_img_idx)\n",
    "\n",
    "\n",
    "#1 Phase Attack\n",
    "p1_cw_data = model.generate_perturbed_data(model.test_data[test_indices], y_tar=model.train_labels[guide_indices],seed=SEED, perturbation='CW', targeted=True, x_tar = model.train_data[guide_indices], use_cos_norm_reg=True, eps=eps, iterations=1000)\n",
    "\n",
    "#2 Phase Attack\n",
    "#Phase 1: Generate targeted adversarial images\n",
    "tar_cw_data = model.generate_perturbed_data(model.test_data[test_indices], y_tar=model.train_labels[guide_indices],seed=SEED, perturbation='CW', targeted=True, use_cos_norm_reg=False, eps=eps)\n",
    "#Phase 2: Optimize for higher cosine sim and smaller norm of gradient vector\n",
    "p2_cw_data = model.generate_perturbed_data(tar_cw_data, y_tar=model.train_labels[guide_indices],seed=SEED, perturbation='CW', targeted=True, x_tar = model.train_data[guide_indices], use_cos_norm_reg=True, eps=eps, iterations=1000)"
   ]
  },
  {
   "cell_type": "code",
   "execution_count": 11,
   "metadata": {
    "scrolled": true
   },
   "outputs": [
    {
     "name": "stdout",
     "output_type": "stream",
     "text": [
      "Loaded model from disk\n"
     ]
    }
   ],
   "source": [
    "#Reset tf.graph() as Cleverhans modifies the graph\n",
    "tf.reset_default_graph()\n",
    "\n",
    "#Reload the model and weights\n",
    "model = CNN(model_name=model_name, dataset='mnist')\n",
    "model.load_model(model_save_path, weights_save_path)    "
   ]
  },
  {
   "cell_type": "code",
   "execution_count": 12,
   "metadata": {},
   "outputs": [
    {
     "name": "stdout",
     "output_type": "stream",
     "text": [
      "100/100 [==============================] - 0s 403us/step\n",
      "[0.030711167617700996, 0.98999999999999999]\n",
      "100/100 [==============================] - 0s 179us/step\n",
      "[0.10631154179573059, 0.96999999999999997]\n",
      "100/100 [==============================] - 0s 183us/step\n",
      "[5.2217344284057621, 0.050000000000000003]\n",
      "100/100 [==============================] - 0s 170us/step\n",
      "[1.9431056976318359, 0.0]\n",
      "100/100 [==============================] - 0s 174us/step\n",
      "[14.152681274414062, 0.0]\n",
      "100/100 [==============================] - 0s 169us/step\n",
      "[1.9129487037658692, 0.58999999999999997]\n",
      "100/100 [==============================] - 0s 170us/step\n",
      "[0.025407314227777533, 0.98999999999999999]\n",
      "100/100 [==============================] - 0s 174us/step\n",
      "[2.2663995332550256e-05, 1.0]\n",
      "100/100 [==============================] - 0s 171us/step\n",
      "[0.98772099018096926, 0.0]\n",
      "100/100 [==============================] - 0s 173us/step\n",
      "[0.85238224506378168, 0.0]\n",
      "100/100 [==============================] - 0s 175us/step\n",
      "[1.7402038335800172, 0.01]\n",
      "100/100 [==============================] - 0s 166us/step\n",
      "[8.4098773193359371, 0.0]\n",
      "100/100 [==============================] - 0s 180us/step\n",
      "[1.4776541376113892, 0.0]\n"
     ]
    }
   ],
   "source": [
    "print (model.model.evaluate(reg_data,model.test_labels[test_indices]))\n",
    "print (model.model.evaluate(noisy_data,model.test_labels[test_indices]))\n",
    "print (model.model.evaluate(fgsm_data,model.test_labels[test_indices]))\n",
    "print (model.model.evaluate(bim_a_data,model.test_labels[test_indices]))\n",
    "print (model.model.evaluate(bim_b_data,model.test_labels[test_indices]))\n",
    "print (model.model.evaluate(fgsm_wb_data,model.test_labels[test_indices]))\n",
    "print (model.model.evaluate(bim_a_wb_data,model.test_labels[test_indices]))\n",
    "print (model.model.evaluate(bim_b_wb_data,model.test_labels[test_indices]))\n",
    "print (model.model.evaluate(cw_data,model.test_labels[test_indices]))\n",
    "print (model.model.evaluate(df_data,model.test_labels[test_indices]))\n",
    "print (model.model.evaluate(jsma_data,model.test_labels[test_indices]))\n",
    "print (model.model.evaluate(p1_cw_data,model.test_labels[test_indices]))\n",
    "print (model.model.evaluate(p2_cw_data,model.test_labels[test_indices]))\n"
   ]
  },
  {
   "cell_type": "code",
   "execution_count": 13,
   "metadata": {},
   "outputs": [
    {
     "data": {
      "image/png": "[encoded data removed]",
      "text/plain": [
       "<matplotlib.figure.Figure at 0x7f14e6b28ed0>"
      ]
     },
     "metadata": {},
     "output_type": "display_data"
    },
    {
     "data": {
      "image/png": "[encoded data removed]",
      "text/plain": [
       "<matplotlib.figure.Figure at 0x7f14e6b28f50>"
      ]
     },
     "metadata": {},
     "output_type": "display_data"
    },
    {
     "data": {
      "image/png": "[encoded data removed]",
      "text/plain": [
       "<matplotlib.figure.Figure at 0x7f14e6a901d0>"
      ]
     },
     "metadata": {},
     "output_type": "display_data"
    },
    {
     "data": {
      "image/png": "[encoded data removed]",
      "text/plain": [
       "<matplotlib.figure.Figure at 0x7f14e61656d0>"
      ]
     },
     "metadata": {},
     "output_type": "display_data"
    },
    {
     "data": {
      "image/png": "[encoded data removed]",
      "text/plain": [
       "<matplotlib.figure.Figure at 0x7f14e6165690>"
      ]
     },
     "metadata": {},
     "output_type": "display_data"
    },
    {
     "data": {
      "image/png": "[encoded data removed]",
      "text/plain": [
       "<matplotlib.figure.Figure at 0x7f14486a4490>"
      ]
     },
     "metadata": {},
     "output_type": "display_data"
    },
    {
     "data": {
      "image/png": "[encoded data removed]",
      "text/plain": [
       "<matplotlib.figure.Figure at 0x7f140877e250>"
      ]
     },
     "metadata": {},
     "output_type": "display_data"
    },
    {
     "data": {
      "image/png": "[encoded data removed]",
      "text/plain": [
       "<matplotlib.figure.Figure at 0x7f1408714750>"
      ]
     },
     "metadata": {},
     "output_type": "display_data"
    },
    {
     "data": {
      "image/png": "[encoded data removed]",
      "text/plain": [
       "<matplotlib.figure.Figure at 0x7f14086a5510>"
      ]
     },
     "metadata": {},
     "output_type": "display_data"
    },
    {
     "data": {
      "image/png": "[encoded data removed]",
      "text/plain": [
       "<matplotlib.figure.Figure at 0x7f140077a2d0>"
      ]
     },
     "metadata": {},
     "output_type": "display_data"
    },
    {
     "data": {
      "image/png": "[encoded data removed]",
      "text/plain": [
       "<matplotlib.figure.Figure at 0x7f140069a650>"
      ]
     },
     "metadata": {},
     "output_type": "display_data"
    },
    {
     "data": {
      "image/png": "[encoded data removed]",
      "text/plain": [
       "<matplotlib.figure.Figure at 0x7f140069a610>"
      ]
     },
     "metadata": {},
     "output_type": "display_data"
    },
    {
     "data": {
      "image/png": "[encoded data removed]",
      "text/plain": [
       "<matplotlib.figure.Figure at 0x7f13ec7f0410>"
      ]
     },
     "metadata": {},
     "output_type": "display_data"
    }
   ],
   "source": [
    "#Lets visualize one sample from each dataset\n",
    "x_vis = np.random.choice(range(0,num_test_samples), 1)\n",
    "visualize(reg_data[x_vis].reshape(*input_shape))\n",
    "visualize(noisy_data[x_vis].reshape(*input_shape))\n",
    "visualize(fgsm_data[x_vis].reshape(*input_shape))\n",
    "visualize(bim_a_data[x_vis].reshape(*input_shape))\n",
    "visualize(bim_b_data[x_vis].reshape(*input_shape))\n",
    "visualize(fgsm_wb_data[x_vis].reshape(*input_shape))\n",
    "visualize(bim_a_wb_data[x_vis].reshape(*input_shape))\n",
    "visualize(bim_b_wb_data[x_vis].reshape(*input_shape))\n",
    "visualize(cw_data[x_vis].reshape(*input_shape))\n",
    "visualize(df_data[x_vis].reshape(*input_shape))\n",
    "visualize(jsma_data[x_vis].reshape(*input_shape))\n",
    "visualize(p1_cw_data[x_vis].reshape(*input_shape))\n",
    "visualize(p2_cw_data[x_vis].reshape(*input_shape))\n",
    "\n"
   ]
  },
  {
   "cell_type": "code",
   "execution_count": 14,
   "metadata": {
    "collapsed": true
   },
   "outputs": [],
   "source": [
    "#Get predictions\n",
    "reg_preds = model.model.predict(reg_data.reshape(-1,*input_shape))\n",
    "noisy_preds = model.model.predict(noisy_data.reshape(-1,*input_shape))\n",
    "fgsm_preds = model.model.predict(fgsm_data.reshape(-1,*input_shape))\n",
    "bim_a_preds = model.model.predict(bim_a_data.reshape(-1,*input_shape))\n",
    "bim_b_preds = model.model.predict(bim_b_data.reshape(-1,*input_shape))\n",
    "fgsm_wb_preds = model.model.predict(fgsm_wb_data.reshape(-1,*input_shape))\n",
    "bim_a_wb_preds = model.model.predict(bim_a_wb_data.reshape(-1,*input_shape))\n",
    "bim_b_wb_preds = model.model.predict(bim_a_wb_data.reshape(-1,*input_shape))\n",
    "cw_preds = model.model.predict(cw_data.reshape(-1,*input_shape))\n",
    "df_preds = model.model.predict(df_data.reshape(-1,*input_shape))\n",
    "jsma_preds = model.model.predict(jsma_data.reshape(-1,*input_shape))\n",
    "p1_cw_preds = model.model.predict(p1_cw_data.reshape(-1,*input_shape))\n",
    "p2_cw_preds = model.model.predict(p2_cw_data.reshape(-1,*input_shape))\n"
   ]
  },
  {
   "cell_type": "code",
   "execution_count": 15,
   "metadata": {
    "collapsed": true
   },
   "outputs": [],
   "source": [
    "#Convert preds to labels\n",
    "reg_labels = np.zeros(reg_preds.shape)\n",
    "reg_labels[np.arange(num_test_samples),np.argmax(reg_preds, axis=1)] = 1\n",
    "\n",
    "noisy_labels = np.zeros(noisy_preds.shape)\n",
    "noisy_labels[np.arange(num_test_samples),np.argmax(noisy_preds, axis=1)] = 1\n",
    "\n",
    "fgsm_labels = np.zeros(fgsm_preds.shape)\n",
    "fgsm_labels[np.arange(num_test_samples),np.argmax(fgsm_preds, axis=1)] = 1\n",
    "\n",
    "bim_a_labels = np.zeros(bim_a_preds.shape)\n",
    "bim_a_labels[np.arange(num_test_samples),np.argmax(bim_a_preds, axis=1)] = 1\n",
    "\n",
    "bim_b_labels = np.zeros(bim_b_preds.shape)\n",
    "bim_b_labels[np.arange(num_test_samples),np.argmax(bim_b_preds, axis=1)] = 1\n",
    "\n",
    "fgsm_wb_labels = np.zeros(fgsm_wb_preds.shape)\n",
    "fgsm_wb_labels[np.arange(num_test_samples),np.argmax(fgsm_wb_preds, axis=1)] = 1\n",
    "\n",
    "bim_a_wb_labels = np.zeros(bim_a_wb_preds.shape)\n",
    "bim_a_wb_labels[np.arange(num_test_samples),np.argmax(bim_a_wb_preds, axis=1)] = 1\n",
    "\n",
    "bim_b_wb_labels = np.zeros(bim_b_wb_preds.shape)\n",
    "bim_b_wb_labels[np.arange(num_test_samples),np.argmax(bim_b_wb_preds, axis=1)] = 1\n",
    "\n",
    "cw_labels = np.zeros(cw_preds.shape)\n",
    "cw_labels[np.arange(num_test_samples),np.argmax(cw_preds, axis=1)] = 1\n",
    "\n",
    "df_labels = np.zeros(df_preds.shape)\n",
    "df_labels[np.arange(num_test_samples),np.argmax(df_preds, axis=1)] = 1\n",
    "\n",
    "jsma_labels = np.zeros(jsma_preds.shape)\n",
    "jsma_labels[np.arange(num_test_samples),np.argmax(jsma_preds, axis=1)] = 1\n",
    "\n",
    "p1_cw_labels = np.zeros(p1_cw_preds.shape)\n",
    "p1_cw_labels[np.arange(num_test_samples),np.argmax(p1_cw_preds, axis=1)] = 1\n",
    "\n",
    "p2_cw_labels = np.zeros(p2_cw_preds.shape)\n",
    "p2_cw_labels[np.arange(num_test_samples),np.argmax(p2_cw_preds, axis=1)] = 1"
   ]
  },
  {
   "cell_type": "code",
   "execution_count": 16,
   "metadata": {
    "scrolled": true
   },
   "outputs": [
    {
     "name": "stdout",
     "output_type": "stream",
     "text": [
      "[0 0 0 0 0 0 0 0 0 0 1 1 1 1 1 1 1 1 1 1 2 2 2 2 2 2 2 2 2 2 3 3 3 3 3 3 3\n",
      " 3 3 3 4 4 4 4 4 4 4 4 4 4 5 5 5 5 5 5 5 5 5 5 6 6 6 6 6 6 6 6 6 6 7 7 7 7\n",
      " 7 7 7 7 7 7 8 8 8 8 8 8 8 8 8 8 9 9 9 9 9 9 9 9 9 3]\n",
      "[0 0 0 0 0 0 0 0 0 0 1 8 1 1 1 1 1 1 1 2 2 2 2 2 2 2 2 2 2 2 3 3 3 3 3 3 3\n",
      " 3 3 3 4 4 4 4 4 4 4 4 4 4 5 5 5 5 5 5 5 5 5 5 6 6 6 6 6 6 6 6 6 6 7 7 7 7\n",
      " 7 7 7 7 7 7 8 8 8 8 8 8 8 8 8 8 9 9 9 9 9 9 9 9 9 7]\n",
      "[2 4 4 8 5 9 8 4 5 2 8 0 2 8 8 8 8 3 3 2 7 7 7 3 7 3 7 2 3 3 9 5 2 5 8 8 5\n",
      " 9 9 8 9 9 8 2 8 9 9 8 8 7 3 3 3 3 3 3 3 8 3 5 5 0 4 5 4 5 5 6 5 8 8 9 8 3\n",
      " 2 8 8 8 8 8 0 9 9 3 3 8 9 5 9 8 8 4 5 4 5 8 4 4 7 7]\n",
      "[2 9 4 8 5 9 8 4 5 4 8 0 7 8 8 2 8 8 3 2 7 7 7 3 7 3 7 8 8 1 9 5 2 5 8 8 5\n",
      " 9 9 8 9 9 8 2 9 9 9 8 7 7 3 3 3 3 3 3 3 8 3 9 5 0 4 5 4 5 5 5 5 8 5 9 8 3\n",
      " 2 8 2 5 8 2 0 9 9 9 3 9 9 5 9 6 4 4 5 4 5 8 4 4 8 7]\n",
      "[2 9 3 8 5 9 8 4 5 4 8 0 3 8 8 8 8 8 3 2 3 3 7 3 7 3 7 8 8 1 9 5 2 5 8 8 5\n",
      " 9 9 8 9 9 8 2 9 9 9 8 7 7 3 3 3 3 3 3 3 2 3 9 5 0 4 5 4 5 5 5 5 2 5 9 9 3\n",
      " 2 8 2 5 3 2 0 9 9 9 3 9 9 5 9 6 4 4 5 4 5 8 4 4 7 7]\n",
      "[0 9 2 9 0 0 0 0 0 5 2 1 1 1 8 2 1 1 1 1 3 8 8 2 7 2 2 2 2 2 3 3 3 2 3 5 3\n",
      " 9 3 3 4 4 8 9 4 9 2 8 7 9 5 3 5 5 5 5 5 3 5 5 5 0 6 5 5 6 5 6 6 6 3 5 7 7\n",
      " 3 7 7 8 7 7 8 9 8 8 8 8 8 5 9 5 9 9 9 8 5 9 8 9 8 4]\n",
      "[0 0 0 0 0 0 0 0 0 0 1 1 1 1 1 1 1 1 1 1 2 2 2 2 2 2 2 2 2 2 3 3 3 3 3 3 3\n",
      " 3 3 3 4 4 4 4 4 4 4 4 4 4 5 5 5 5 5 5 5 5 5 5 6 6 6 6 6 6 6 6 6 6 7 7 7 7\n",
      " 7 7 7 7 7 7 8 8 8 8 8 8 8 8 8 8 9 9 9 9 9 9 9 9 9 3]\n",
      "[0 0 0 0 0 0 0 0 0 0 1 1 1 1 1 1 1 1 1 1 2 2 2 2 2 2 2 2 2 2 3 3 3 3 3 3 3\n",
      " 3 3 3 4 4 4 4 4 4 4 4 4 4 5 5 5 5 5 5 5 5 5 5 6 6 6 6 6 6 6 6 6 6 7 7 7 7\n",
      " 7 7 7 7 7 7 8 8 8 8 8 8 8 8 8 8 9 9 9 9 9 9 9 9 9 3]\n",
      "[2 9 6 5 5 9 2 2 5 2 2 0 3 9 8 2 8 8 9 2 3 3 7 3 7 3 7 1 1 1 9 5 2 5 5 5 5\n",
      " 9 9 9 9 9 8 2 9 9 9 8 7 7 3 3 3 3 3 3 3 9 3 9 5 0 4 5 4 5 3 5 5 8 9 9 9 3\n",
      " 2 8 2 5 3 2 0 9 9 9 3 3 9 5 9 6 4 4 5 4 5 8 4 4 7 7]\n",
      "[9 9 3 8 5 9 2 2 5 9 8 0 7 7 8 8 8 8 9 2 3 8 7 3 3 8 7 8 8 1 9 5 2 5 8 8 5\n",
      " 8 9 8 9 9 8 7 9 9 9 8 7 9 3 3 3 3 3 3 3 3 3 6 5 0 4 5 4 5 4 0 5 0 9 9 8 3\n",
      " 2 8 2 9 2 2 0 9 9 9 3 3 9 5 9 5 4 4 5 4 5 8 4 4 8 7]\n",
      "[6 3 3 8 8 6 5 2 5 8 0 8 9 9 0 0 6 0 8 7 5 1 8 1 9 8 7 6 0 4 1 8 4 9 4 1 8\n",
      " 0 7 4 0 0 1 8 2 7 7 3 7 9 6 2 7 7 0 0 8 4 4 9 1 4 1 5 0 5 4 7 3 8 9 6 1 5\n",
      " 1 9 3 9 5 5 1 5 3 5 7 3 1 5 4 5 5 8 4 0 4 3 7 3 5 9]\n",
      "[1 1 1 1 1 1 1 1 1 1 2 2 2 2 2 2 2 2 2 2 3 3 3 3 3 3 3 3 3 3 4 4 4 4 4 4 4\n",
      " 4 4 4 5 5 5 5 5 5 5 5 5 5 6 6 6 6 6 6 6 6 6 6 7 7 7 7 7 7 7 7 7 7 8 8 8 8\n",
      " 8 8 8 8 8 8 9 9 9 9 9 9 9 9 9 9 0 0 0 0 0 0 0 0 0 0]\n",
      "[1 1 1 1 1 1 1 1 1 1 2 2 2 2 2 2 2 2 2 2 3 3 3 3 3 3 3 3 3 3 4 4 4 4 4 4 4\n",
      " 4 4 4 5 5 5 5 5 5 5 5 5 5 6 6 6 6 6 6 6 6 6 6 7 7 7 7 7 7 7 7 7 7 8 8 8 8\n",
      " 8 8 8 8 8 8 9 9 9 9 9 9 9 9 9 9 0 0 0 0 0 0 0 0 0 0]\n"
     ]
    }
   ],
   "source": [
    "#Check preds to ensure adversarial samples were generated correctly\n",
    "print (np.argmax(reg_preds, axis=1))\n",
    "print (np.argmax(noisy_preds, axis=1))\n",
    "print (np.argmax(fgsm_preds, axis=1))\n",
    "print (np.argmax(bim_a_preds, axis=1))\n",
    "print (np.argmax(bim_b_preds, axis=1))\n",
    "print (np.argmax(fgsm_wb_preds, axis=1))\n",
    "print (np.argmax(bim_a_wb_preds, axis=1))\n",
    "print (np.argmax(bim_b_wb_preds, axis=1))\n",
    "print (np.argmax(cw_preds, axis=1))\n",
    "print (np.argmax(df_preds, axis=1))\n",
    "print (np.argmax(jsma_preds, axis=1))\n",
    "print (np.argmax(p1_cw_preds, axis=1))\n",
    "print (np.argmax(p2_cw_preds, axis=1))\n",
    "\n"
   ]
  },
  {
   "cell_type": "code",
   "execution_count": 17,
   "metadata": {},
   "outputs": [
    {
     "name": "stderr",
     "output_type": "stream",
     "text": [
      "/usr/local/lib/python2.7/dist-packages/ipykernel_launcher.py:10: RuntimeWarning: invalid value encountered in sqrt\n",
      "  # Remove the CWD from sys.path while we load stuff.\n",
      "/usr/local/lib/python2.7/dist-packages/ipykernel_launcher.py:18: RuntimeWarning: invalid value encountered in sqrt\n",
      "/usr/local/lib/python2.7/dist-packages/ipykernel_launcher.py:26: RuntimeWarning: invalid value encountered in sqrt\n",
      "/usr/local/lib/python2.7/dist-packages/ipykernel_launcher.py:34: RuntimeWarning: invalid value encountered in sqrt\n",
      "/usr/local/lib/python2.7/dist-packages/ipykernel_launcher.py:42: RuntimeWarning: invalid value encountered in sqrt\n",
      "/usr/local/lib/python2.7/dist-packages/ipykernel_launcher.py:50: RuntimeWarning: invalid value encountered in sqrt\n",
      "/usr/local/lib/python2.7/dist-packages/ipykernel_launcher.py:57: RuntimeWarning: invalid value encountered in sqrt\n",
      "/usr/local/lib/python2.7/dist-packages/ipykernel_launcher.py:64: RuntimeWarning: invalid value encountered in sqrt\n",
      "/usr/local/lib/python2.7/dist-packages/ipykernel_launcher.py:72: RuntimeWarning: invalid value encountered in sqrt\n",
      "/usr/local/lib/python2.7/dist-packages/ipykernel_launcher.py:80: RuntimeWarning: invalid value encountered in sqrt\n",
      "/usr/local/lib/python2.7/dist-packages/ipykernel_launcher.py:89: RuntimeWarning: invalid value encountered in sqrt\n",
      "/usr/local/lib/python2.7/dist-packages/ipykernel_launcher.py:97: RuntimeWarning: invalid value encountered in sqrt\n",
      "/usr/local/lib/python2.7/dist-packages/ipykernel_launcher.py:105: RuntimeWarning: invalid value encountered in sqrt\n"
     ]
    },
    {
     "data": {
      "text/plain": [
       "0"
      ]
     },
     "execution_count": 17,
     "metadata": {},
     "output_type": "execute_result"
    }
   ],
   "source": [
    "\n",
    "#This is a large network, therefore we need to calculate cos_sim for one type and free memory\n",
    "grads_train = model.get_gradients_wrt_params(train_data, train_data_labels)\n",
    "#Hack to bypass memory issue, inplace modify\n",
    "grads_train = normalize(grads_train)\n",
    "\n",
    "#REG\n",
    "grads_reg = model.get_gradients_wrt_params(reg_data, reg_labels)\n",
    "grads_reg_nm = normalize(grads_reg)\n",
    "grads_reg_norms = np.sqrt(np.dot(grads_reg, grads_reg.T)).diagonal()\n",
    "cos_sim_reg = np.dot(grads_reg_nm, grads_train.T)\n",
    "del grads_reg_nm, grads_reg\n",
    "gc.collect()\n",
    "\n",
    "#NOISY\n",
    "grads_noisy = model.get_gradients_wrt_params(noisy_data, noisy_labels)\n",
    "grads_noisy_nm = normalize(grads_noisy)\n",
    "grads_noisy_norms = np.sqrt(np.dot(grads_noisy, grads_noisy.T)).diagonal()\n",
    "cos_sim_noisy= np.dot(grads_noisy_nm, grads_train.T)\n",
    "del grads_noisy_nm, grads_noisy\n",
    "gc.collect()\n",
    "\n",
    "#FGSM\n",
    "grads_fgsm = model.get_gradients_wrt_params(fgsm_data, fgsm_labels)\n",
    "grads_fgsm_nm = normalize(grads_fgsm)\n",
    "grads_fgsm_norms = np.sqrt(np.dot(grads_fgsm, grads_fgsm.T)).diagonal()\n",
    "cos_sim_fgsm = np.dot(grads_fgsm_nm, grads_train.T)\n",
    "del grads_fgsm_nm, grads_fgsm\n",
    "gc.collect()\n",
    "\n",
    "#BIM-A\n",
    "grads_bim_a = model.get_gradients_wrt_params(bim_a_data, bim_a_labels)\n",
    "grads_bim_a_nm = normalize(grads_bim_a)\n",
    "grads_bim_a_norms = np.sqrt(np.dot(grads_bim_a, grads_bim_a.T)).diagonal()\n",
    "cos_sim_bim_a = np.dot(grads_bim_a_nm, grads_train.T)\n",
    "del grads_bim_a_nm, grads_bim_a\n",
    "gc.collect()\n",
    "\n",
    "#BIM-B\n",
    "grads_bim_b = model.get_gradients_wrt_params(bim_b_data, bim_b_labels)\n",
    "grads_bim_b_nm = normalize(grads_bim_b)\n",
    "grads_bim_b_norms = np.sqrt(np.dot(grads_bim_b, grads_bim_b.T)).diagonal()\n",
    "cos_sim_bim_b = np.dot(grads_bim_b_nm, grads_train.T)\n",
    "del grads_bim_b_nm, grads_bim_b\n",
    "gc.collect()\n",
    "\n",
    "#Whitebox FGSM, BIM\n",
    "grads_fgsm_wb = model.get_gradients_wrt_params(fgsm_wb_data, fgsm_wb_labels)\n",
    "grads_fgsm_wb_nm = normalize(grads_fgsm_wb)\n",
    "grads_fgsm_wb_norms = np.sqrt(np.dot(grads_fgsm_wb, grads_fgsm_wb.T)).diagonal()\n",
    "cos_sim_fgsm_wb = np.dot(grads_fgsm_wb_nm, grads_train.T)\n",
    "del grads_fgsm_wb_nm, grads_fgsm_wb\n",
    "gc.collect()\n",
    "\n",
    "grads_bim_a_wb = model.get_gradients_wrt_params(bim_a_wb_data, bim_a_wb_labels)\n",
    "grads_bim_a_wb_nm = normalize(grads_bim_a_wb)\n",
    "grads_bim_a_wb_norms = np.sqrt(np.dot(grads_bim_a_wb, grads_bim_a_wb.T)).diagonal()\n",
    "cos_sim_bim_a_wb = np.dot(grads_bim_a_wb_nm, grads_train.T)\n",
    "del grads_bim_a_wb_nm, grads_bim_a_wb\n",
    "gc.collect()\n",
    "\n",
    "grads_bim_b_wb = model.get_gradients_wrt_params(bim_b_wb_data, bim_b_wb_labels)\n",
    "grads_bim_b_wb_nm = normalize(grads_bim_b_wb)\n",
    "grads_bim_b_wb_norms = np.sqrt(np.dot(grads_bim_b_wb, grads_bim_b_wb.T)).diagonal()\n",
    "cos_sim_bim_b_wb = np.dot(grads_bim_b_wb_nm, grads_train.T)\n",
    "del grads_bim_b_wb_nm, grads_bim_b_wb\n",
    "gc.collect()\n",
    "\n",
    "#CW\n",
    "grads_cw = model.get_gradients_wrt_params(cw_data, cw_labels)\n",
    "grads_cw_nm = normalize(grads_cw)\n",
    "grads_cw_norms = np.sqrt(np.dot(grads_cw, grads_cw.T)).diagonal()\n",
    "cos_sim_cw = np.dot(grads_cw_nm, grads_train.T)\n",
    "del grads_cw_nm, grads_cw\n",
    "gc.collect()\n",
    "\n",
    "#DF\n",
    "grads_df = model.get_gradients_wrt_params(df_data, df_labels)\n",
    "grads_df_nm = normalize(grads_df)\n",
    "grads_df_norms = np.sqrt(np.dot(grads_df, grads_df.T)).diagonal()\n",
    "cos_sim_df = np.dot(grads_df_nm, grads_train.T)\n",
    "del grads_df_nm, grads_df\n",
    "gc.collect()\n",
    "\n",
    "\n",
    "#JSMA\n",
    "grads_jsma = model.get_gradients_wrt_params(jsma_data, jsma_labels)\n",
    "grads_jsma_nm = normalize(grads_jsma)\n",
    "grads_jsma_norms = np.sqrt(np.dot(grads_jsma, grads_jsma.T)).diagonal()\n",
    "cos_sim_jsma = np.dot(grads_jsma_nm, grads_train.T)\n",
    "del grads_jsma_nm, grads_jsma\n",
    "gc.collect()\n",
    "\n",
    "#p1 - CW\n",
    "grads_p1_cw = model.get_gradients_wrt_params(p1_cw_data, p1_cw_labels)\n",
    "grads_p1_cw_nm = normalize(grads_p1_cw)\n",
    "grads_p1_cw_norms = np.sqrt(np.dot(grads_p1_cw, grads_p1_cw.T)).diagonal()\n",
    "cos_sim_p1_cw = np.dot(grads_p1_cw_nm, grads_train.T)\n",
    "del grads_p1_cw_nm,grads_p1_cw\n",
    "gc.collect()\n",
    "\n",
    "#p2 - CW\n",
    "grads_p2_cw = model.get_gradients_wrt_params(p2_cw_data, p2_cw_labels)\n",
    "grads_p2_cw_nm = normalize(grads_p2_cw)\n",
    "grads_p2_cw_norms = np.sqrt(np.dot(grads_p2_cw, grads_p2_cw.T)).diagonal()\n",
    "cos_sim_p2_cw = np.dot(grads_p2_cw_nm, grads_train.T)\n",
    "del grads_p2_cw_nm, grads_p2_cw\n",
    "gc.collect()"
   ]
  },
  {
   "cell_type": "code",
   "execution_count": 18,
   "metadata": {},
   "outputs": [
    {
     "name": "stdout",
     "output_type": "stream",
     "text": [
      "Regular: 0.8500\n",
      "Noisy:  0.4900\n",
      "FGSM:  0.1700\n",
      "BIM-A:  0.0900\n",
      "BIM-B:  0.2200\n",
      "FGSM-WB:  0.2100\n",
      "BIM-A-WB:  0.6400\n",
      "BIM-B-WB:  0.6600\n",
      "CW: 0.0400\n",
      "DF: 0.0200\n",
      "JSMA: 0.0600\n",
      "1 Phase CW:  0.3000\n",
      "2 Phase CW:  0.0300\n"
     ]
    }
   ],
   "source": [
    "#Separate Using Cos Sim\n",
    "eta = 0.72\n",
    "\n",
    "count = 0.0\n",
    "for i in range(num_test_samples):\n",
    "    if np.max(cos_sim_reg[i]) > eta:\n",
    "        count+=1.0\n",
    "        \n",
    "print ('Regular: %.4f' % ( count/num_test_samples))\n",
    "\n",
    "count = 0.0\n",
    "for i in range(num_test_samples):\n",
    "    if np.max(cos_sim_noisy[i]) > eta:\n",
    "        count+=1.0\n",
    "    \n",
    "print ('Noisy:  %.4f' % ( count/num_test_samples))\n",
    "\n",
    "count=0.0\n",
    "for i in range(num_test_samples):\n",
    "    if np.max(cos_sim_fgsm[i]) > eta:\n",
    "        count+=1.0\n",
    "        \n",
    "print ('FGSM:  %.4f' % ( count/num_test_samples))\n",
    "\n",
    "\n",
    "count=0.0\n",
    "for i in range(num_test_samples):\n",
    "    if np.max(cos_sim_bim_a[i]) > eta:\n",
    "        count+=1.0\n",
    "        \n",
    "print ('BIM-A:  %.4f' % ( count/num_test_samples))\n",
    "\n",
    "count=0.0\n",
    "for i in range(num_test_samples):\n",
    "    if np.max(cos_sim_bim_b[i]) > eta:\n",
    "        count+=1.0\n",
    "        \n",
    "print ('BIM-B:  %.4f' % ( count/num_test_samples))\n",
    "\n",
    "count=0.0\n",
    "for i in range(num_test_samples):\n",
    "    if np.max(cos_sim_fgsm_wb[i]) > eta:\n",
    "        count+=1.0\n",
    "        \n",
    "print ('FGSM-WB:  %.4f' % ( count/num_test_samples))\n",
    "\n",
    "\n",
    "count=0.0\n",
    "for i in range(num_test_samples):\n",
    "    if np.max(cos_sim_bim_a_wb[i]) > eta:\n",
    "        count+=1.0\n",
    "        \n",
    "print ('BIM-A-WB:  %.4f' % ( count/num_test_samples))\n",
    "\n",
    "count=0.0\n",
    "for i in range(num_test_samples):\n",
    "    if np.max(cos_sim_bim_b_wb[i]) > eta:\n",
    "        count+=1.0\n",
    "        \n",
    "print ('BIM-B-WB:  %.4f' % ( count/num_test_samples))\n",
    "\n",
    "count=0.0\n",
    "for i in range(num_test_samples):\n",
    "    if np.max(cos_sim_cw[i]) > eta:\n",
    "        count+=1.0\n",
    "    \n",
    "print ('CW: %.4f' % ( count/num_test_samples))\n",
    "\n",
    "count=0.0\n",
    "for i in range(num_test_samples):\n",
    "    if np.max(cos_sim_df[i]) > eta:\n",
    "        count+=1.0\n",
    "    \n",
    "print ('DF: %.4f' % ( count/num_test_samples))\n",
    "\n",
    "count=0.0\n",
    "for i in range(num_test_samples):\n",
    "    if np.max(cos_sim_jsma[i]) > eta:\n",
    "        count+=1.0\n",
    "    \n",
    "print ('JSMA: %.4f' % ( count/num_test_samples))\n",
    "\n",
    "count = 0.0\n",
    "for i in range(num_test_samples):\n",
    "    if np.max(cos_sim_p1_cw[i]) > eta:\n",
    "        count+=1.0\n",
    "        \n",
    "print ('1 Phase CW:  %.4f' % ( count/num_test_samples))\n",
    "\n",
    "count = 0.0\n",
    "for i in range(num_test_samples):\n",
    "    if np.max(cos_sim_p2_cw[i]) > eta:\n",
    "        count+=1.0\n",
    "        \n",
    "print ('2 Phase CW:  %.4f' % ( count/num_test_samples))\n",
    "\n"
   ]
  },
  {
   "cell_type": "code",
   "execution_count": 19,
   "metadata": {},
   "outputs": [
    {
     "name": "stdout",
     "output_type": "stream",
     "text": [
      "Regular: 0.8300\n",
      "Noisy:  0.7700\n",
      "FGSM:  0.9800\n",
      "BIM-A:  0.9100\n",
      "BIM-B:  0.9500\n",
      "FGSM-WB:  0.8600\n",
      "BIM-A-WB:  0.6900\n",
      "CW: 0.8700\n",
      "DF: 0.9500\n",
      "JSMA: 0.9800\n",
      "1 Phase CW: 0.8200\n",
      "2 Phase CW: 0.9200\n"
     ]
    }
   ],
   "source": [
    "#Separate using just norm\n",
    "gamma =1.0000064\n",
    "\n",
    "count = 0.0\n",
    "for i in range(num_test_samples):\n",
    "    if grads_reg_norms[i] < gamma:\n",
    "        count+=1.0\n",
    "        \n",
    "print ('Regular: %.4f' % ( count/num_test_samples))\n",
    "\n",
    "count = 0.0\n",
    "for i in range(num_test_samples):\n",
    "    if grads_noisy_norms[i] < gamma:\n",
    "        count+=1.0\n",
    "    \n",
    "print ('Noisy:  %.4f' % ( count/num_test_samples))\n",
    "\n",
    "count=0.0\n",
    "for i in range(num_test_samples):\n",
    "    if grads_fgsm_norms[i] < gamma:\n",
    "        count+=1.0\n",
    "        \n",
    "print ('FGSM:  %.4f' % ( count/num_test_samples))\n",
    "\n",
    "count=0.0\n",
    "for i in range(num_test_samples):\n",
    "    if grads_bim_a_norms[i] < gamma:\n",
    "        count+=1.0\n",
    "        \n",
    "print ('BIM-A:  %.4f' % ( count/num_test_samples))\n",
    "\n",
    "count=0.0\n",
    "for i in range(num_test_samples):\n",
    "    if grads_bim_b_norms[i] < gamma:\n",
    "        count+=1.0\n",
    "        \n",
    "print ('BIM-B:  %.4f' % ( count/num_test_samples))\n",
    "\n",
    "count=0.0\n",
    "for i in range(num_test_samples):\n",
    "    if grads_fgsm_wb_norms[i] < gamma:\n",
    "        count+=1.0\n",
    "        \n",
    "print ('FGSM-WB:  %.4f' % ( count/num_test_samples))\n",
    "\n",
    "\n",
    "count=0.0\n",
    "for i in range(num_test_samples):\n",
    "    if grads_bim_a_wb_norms[i] < gamma:\n",
    "        count+=1.0\n",
    "        \n",
    "print ('BIM-A-WB:  %.4f' % ( count/num_test_samples))\n",
    "\n",
    "\n",
    "count=0.0\n",
    "for i in range(num_test_samples):\n",
    "    if grads_cw_norms[i] < gamma:\n",
    "        count+=1.0\n",
    "    \n",
    "print ('CW: %.4f' % ( count/num_test_samples))\n",
    "\n",
    "count=0.0\n",
    "for i in range(num_test_samples):\n",
    "    if grads_df_norms[i] < gamma:\n",
    "        count+=1.0\n",
    "    \n",
    "print ('DF: %.4f' % ( count/num_test_samples))\n",
    "\n",
    "count=0.0\n",
    "for i in range(num_test_samples):\n",
    "    if grads_jsma_norms[i] < gamma:\n",
    "        count+=1.0\n",
    "    \n",
    "print ('JSMA: %.4f' % ( count/num_test_samples))\n",
    "\n",
    "count=0.0\n",
    "for i in range(num_test_samples):\n",
    "    if grads_p1_cw_norms[i] < gamma:\n",
    "        count+=1.0\n",
    "    \n",
    "print ('1 Phase CW: %.4f' % ( count/num_test_samples))\n",
    "\n",
    "count=0.0\n",
    "for i in range(num_test_samples):\n",
    "    if grads_p2_cw_norms[i] < gamma:\n",
    "        count+=1.0\n",
    "    \n",
    "print ('2 Phase CW: %.4f' % ( count/num_test_samples))\n"
   ]
  },
  {
   "cell_type": "code",
   "execution_count": 20,
   "metadata": {},
   "outputs": [
    {
     "name": "stdout",
     "output_type": "stream",
     "text": [
      "Regular: 0.6800\n",
      "Noisy:  0.3100\n",
      "FGSM:  0.1600\n",
      "BIM-A:  0.0800\n",
      "BIM-B:  0.1900\n",
      "FGSM-WB:  0.1100\n",
      "BIM-A-WB:  0.3700\n",
      "BIM-B-WB:  0.3900\n",
      "CW: 0.0300\n",
      "DF: 0.0200\n",
      "JSMA: 0.0600\n",
      "1 Phase CW: 0.1900\n",
      "2 Phase CW: 0.0100\n"
     ]
    }
   ],
   "source": [
    "#Use both cos and norm\n",
    "\n",
    "count = 0.0\n",
    "for i in range(num_test_samples):\n",
    "    if np.max(cos_sim_reg[i]) > eta and grads_reg_norms[i] < gamma:\n",
    "        count+=1.0\n",
    "        \n",
    "print ('Regular: %.4f' % ( count/num_test_samples))\n",
    "\n",
    "count = 0.0\n",
    "for i in range(num_test_samples):\n",
    "    if np.max(cos_sim_noisy[i]) > eta and grads_noisy_norms[i] < gamma:\n",
    "        count+=1.0\n",
    "    \n",
    "print ('Noisy:  %.4f' % ( count/num_test_samples))\n",
    "\n",
    "count=0.0\n",
    "for i in range(num_test_samples):\n",
    "    if np.max(cos_sim_fgsm[i]) > eta and grads_fgsm_norms[i] < gamma:\n",
    "        count+=1.0\n",
    "        \n",
    "print ('FGSM:  %.4f' % ( count/num_test_samples))\n",
    "\n",
    "count=0.0\n",
    "for i in range(num_test_samples):\n",
    "    if np.max(cos_sim_bim_a[i]) > eta and grads_bim_a_norms[i] < gamma:\n",
    "        count+=1.0\n",
    "        \n",
    "print ('BIM-A:  %.4f' % ( count/num_test_samples))\n",
    "\n",
    "count=0.0\n",
    "for i in range(num_test_samples):\n",
    "    if np.max(cos_sim_bim_b[i]) > eta and grads_bim_b_norms[i] < gamma:\n",
    "        count+=1.0\n",
    "        \n",
    "print ('BIM-B:  %.4f' % ( count/num_test_samples))\n",
    "\n",
    "count=0.0\n",
    "for i in range(num_test_samples):\n",
    "    if np.max(cos_sim_fgsm_wb[i]) > eta and grads_fgsm_wb_norms[i] < gamma:\n",
    "        count+=1.0\n",
    "        \n",
    "print ('FGSM-WB:  %.4f' % ( count/num_test_samples))\n",
    "\n",
    "    \n",
    "count=0.0\n",
    "for i in range(num_test_samples):\n",
    "    if np.max(cos_sim_bim_a_wb[i]) > eta and grads_bim_a_wb_norms[i] < gamma:\n",
    "        count+=1.0\n",
    "        \n",
    "print ('BIM-A-WB:  %.4f' % ( count/num_test_samples))\n",
    "\n",
    "count=0.0\n",
    "for i in range(num_test_samples):\n",
    "    if np.max(cos_sim_bim_b_wb[i]) > eta and grads_bim_b_wb_norms[i] < gamma:\n",
    "        count+=1.0\n",
    "        \n",
    "print ('BIM-B-WB:  %.4f' % ( count/num_test_samples))\n",
    "\n",
    "\n",
    "count=0.0\n",
    "for i in range(num_test_samples):\n",
    "    if np.max(cos_sim_cw[i]) > eta and grads_cw_norms[i] < gamma:\n",
    "        count+=1.0\n",
    "    \n",
    "print ('CW: %.4f' % ( count/num_test_samples))\n",
    "\n",
    "count=0.0\n",
    "for i in range(num_test_samples):\n",
    "    if np.max(cos_sim_df[i]) > eta and grads_df_norms[i] < gamma:\n",
    "        count+=1.0\n",
    "    \n",
    "print ('DF: %.4f' % ( count/num_test_samples))\n",
    "\n",
    "count=0.0\n",
    "for i in range(num_test_samples):\n",
    "    if np.max(cos_sim_jsma[i]) > eta and grads_jsma_norms[i] < gamma:\n",
    "        count+=1.0\n",
    "    \n",
    "print ('JSMA: %.4f' % ( count/num_test_samples))\n",
    "\n",
    "\n",
    "count=0.0\n",
    "for i in range(num_test_samples):\n",
    "    if np.max(cos_sim_p1_cw[i]) > eta and grads_p1_cw_norms[i] < gamma:\n",
    "        count+=1.0\n",
    "    \n",
    "print ('1 Phase CW: %.4f' % ( count/num_test_samples))\n",
    "\n",
    "count=0.0\n",
    "for i in range(num_test_samples):\n",
    "    if np.max(cos_sim_p2_cw[i]) > eta and grads_p2_cw_norms[i] < gamma:\n",
    "        count+=1.0\n",
    "    \n",
    "print ('2 Phase CW: %.4f' % ( count/num_test_samples))\n"
   ]
  },
  {
   "cell_type": "code",
   "execution_count": 21,
   "metadata": {
    "collapsed": true
   },
   "outputs": [],
   "source": [
    "def avg_l2_distortion(orig, adv):\n",
    "    \"\"\"Get the mean l2 distortion between two orig and adv images\"\"\"\n",
    "    l2_dist = 0.0\n",
    "    for i in range(orig.shape[0]):\n",
    "        l2_dist+= np.linalg.norm(orig[i] - adv[i])\n",
    "    return l2_dist/orig.shape[0]"
   ]
  },
  {
   "cell_type": "code",
   "execution_count": 22,
   "metadata": {},
   "outputs": [
    {
     "name": "stdout",
     "output_type": "stream",
     "text": [
      "Noisy: 6.12790\n",
      "FGSM: 5.76757\n",
      "BIM-A: 2.43369\n",
      "BIM-B: 4.64559\n",
      "FGSM-WB: 6.24951\n",
      "BIM-A-WB: 4.06601\n",
      "BIM-B-WB: 4.09444\n",
      "CW: 2.36832\n",
      "DF: 1.58925\n",
      "JSMA: 4.78170\n",
      "P1-CW: 3.03436\n",
      "P2-CW: 3.20821\n"
     ]
    }
   ],
   "source": [
    "print ('Noisy: %.5f' % (avg_l2_distortion(reg_data, noisy_data)))\n",
    "print ('FGSM: %.5f' % (avg_l2_distortion(reg_data, fgsm_data)))\n",
    "print ('BIM-A: %.5f' % (avg_l2_distortion(reg_data, bim_a_data)))\n",
    "print ('BIM-B: %.5f' % (avg_l2_distortion(reg_data, bim_b_data)))\n",
    "print ('FGSM-WB: %.5f' % (avg_l2_distortion(reg_data, fgsm_wb_data)))\n",
    "print ('BIM-A-WB: %.5f' % (avg_l2_distortion(reg_data, bim_a_wb_data)))\n",
    "print ('BIM-B-WB: %.5f' % (avg_l2_distortion(reg_data, bim_b_wb_data)))\n",
    "print ('CW: %.5f' % (avg_l2_distortion(reg_data, cw_data)))\n",
    "print ('DF: %.5f' % (avg_l2_distortion(reg_data, df_data)))\n",
    "print ('JSMA: %.5f' % (avg_l2_distortion(reg_data, jsma_data)))\n",
    "print ('P1-CW: %.5f' % (avg_l2_distortion(reg_data, p1_cw_data)))\n",
    "print ('P2-CW: %.5f' % (avg_l2_distortion(reg_data, p2_cw_data)))"
   ]
  },
  {
   "cell_type": "code",
   "execution_count": 23,
   "metadata": {},
   "outputs": [
    {
     "name": "stdout",
     "output_type": "stream",
     "text": [
      "Noisy:  0.1100\n",
      "FGSM:  0.0600\n",
      "BIM-A:  0.0700\n",
      "BIM-B:  0.1100\n",
      "FGSM-WB:  0.0500\n",
      "BIM-A-WB:  0.2700\n",
      "BIM-B-WB:  0.2100\n",
      "CW: 0.0400\n",
      "DF: 0.0500\n",
      "JSMA: 0.0300\n",
      "1 Phase CW:  0.1400\n",
      "2 Phase CW:  0.0300\n"
     ]
    }
   ],
   "source": [
    "count = 0.0\n",
    "for i in range(num_test_samples):\n",
    "    if np.max(cos_sim_noisy[i]) > np.max(cos_sim_reg[i]):\n",
    "        count+=1.0\n",
    "    \n",
    "print ('Noisy:  %.4f' % ( count/num_test_samples))\n",
    "\n",
    "count=0.0\n",
    "for i in range(num_test_samples):\n",
    "    if np.max(cos_sim_fgsm[i]) > np.max(cos_sim_reg[i]):\n",
    "        count+=1.0\n",
    "        \n",
    "print ('FGSM:  %.4f' % ( count/num_test_samples))\n",
    "\n",
    "count=0.0\n",
    "for i in range(num_test_samples):\n",
    "    if np.max(cos_sim_bim_a[i])> np.max(cos_sim_reg[i]):\n",
    "        count+=1.0\n",
    "        \n",
    "print ('BIM-A:  %.4f' % ( count/num_test_samples))\n",
    "\n",
    "count=0.0\n",
    "for i in range(num_test_samples):\n",
    "    if np.max(cos_sim_bim_b[i]) > np.max(cos_sim_reg[i]):\n",
    "        count+=1.0\n",
    "        \n",
    "print ('BIM-B:  %.4f' % ( count/num_test_samples))\n",
    "\n",
    "count=0.0\n",
    "for i in range(num_test_samples):\n",
    "    if np.max(cos_sim_fgsm_wb[i]) > np.max(cos_sim_reg[i]):\n",
    "        count+=1.0\n",
    "        \n",
    "print ('FGSM-WB:  %.4f' % ( count/num_test_samples))\n",
    "\n",
    "\n",
    "count=0.0\n",
    "for i in range(num_test_samples):\n",
    "    if np.max(cos_sim_bim_a_wb[i])> np.max(cos_sim_reg[i]):\n",
    "        count+=1.0\n",
    "        \n",
    "print ('BIM-A-WB:  %.4f' % ( count/num_test_samples))\n",
    "\n",
    "count=0.0\n",
    "for i in range(num_test_samples):\n",
    "    if np.max(cos_sim_bim_b_wb[i]) > np.max(cos_sim_reg[i]):\n",
    "        count+=1.0\n",
    "        \n",
    "print ('BIM-B-WB:  %.4f' % ( count/num_test_samples))\n",
    "\n",
    "\n",
    "count=0.0\n",
    "for i in range(num_test_samples):\n",
    "    if np.max(cos_sim_cw[i]) > np.max(cos_sim_reg[i]):\n",
    "        count+=1.0\n",
    "    \n",
    "print ('CW: %.4f' % ( count/num_test_samples))\n",
    "\n",
    "count=0.0\n",
    "for i in range(num_test_samples):\n",
    "    if np.max(cos_sim_df[i]) > np.max(cos_sim_reg[i]):\n",
    "        count+=1.0\n",
    "    \n",
    "print ('DF: %.4f' % ( count/num_test_samples))\n",
    "\n",
    "count=0.0\n",
    "for i in range(num_test_samples):\n",
    "    if np.max(cos_sim_jsma[i]) > np.max(cos_sim_reg[i]):\n",
    "        count+=1.0\n",
    "    \n",
    "print ('JSMA: %.4f' % ( count/num_test_samples))\n",
    "\n",
    "\n",
    "count = 0.0\n",
    "for i in range(num_test_samples):\n",
    "    if np.max(cos_sim_p1_cw[i]) > np.max(cos_sim_reg[i]):\n",
    "        count+=1.0\n",
    "        \n",
    "print ('1 Phase CW:  %.4f' % ( count/num_test_samples))\n",
    "\n",
    "count = 0.0\n",
    "for i in range(num_test_samples):\n",
    "    if np.max(cos_sim_p2_cw[i]) > np.max(cos_sim_reg[i]):\n",
    "        count+=1.0\n",
    "        \n",
    "print ('2 Phase CW:  %.4f' % ( count/num_test_samples))\n",
    "\n"
   ]
  },
  {
   "cell_type": "code",
   "execution_count": 24,
   "metadata": {},
   "outputs": [
    {
     "name": "stdout",
     "output_type": "stream",
     "text": [
      "Noisy:  0.3600\n",
      "FGSM:  0.7200\n",
      "BIM-A:  0.5900\n",
      "BIM-B:  0.5800\n",
      "CW: 0.4500\n",
      "DF: 0.5800\n",
      "JSMA: 0.6900\n",
      "1 Phase CW: 0.5200\n",
      "2 Phase CW: 0.6300\n"
     ]
    }
   ],
   "source": [
    "count = 0.0\n",
    "for i in range(num_test_samples):\n",
    "    if grads_noisy_norms[i] < grads_reg_norms[i]:\n",
    "        count+=1.0\n",
    "    \n",
    "print ('Noisy:  %.4f' % ( count/num_test_samples))\n",
    "\n",
    "count=0.0\n",
    "for i in range(num_test_samples):\n",
    "    if grads_fgsm_norms[i] < grads_reg_norms[i]:\n",
    "        count+=1.0\n",
    "        \n",
    "print ('FGSM:  %.4f' % ( count/num_test_samples))\n",
    "\n",
    "count=0.0\n",
    "for i in range(num_test_samples):\n",
    "    if grads_bim_a_norms[i] < grads_reg_norms[i]:\n",
    "        count+=1.0\n",
    "        \n",
    "print ('BIM-A:  %.4f' % ( count/num_test_samples))\n",
    "\n",
    "count=0.0\n",
    "for i in range(num_test_samples):\n",
    "    if grads_bim_b_norms[i] < grads_reg_norms[i]:\n",
    "        count+=1.0\n",
    "        \n",
    "print ('BIM-B:  %.4f' % ( count/num_test_samples))\n",
    "\n",
    "count=0.0\n",
    "for i in range(num_test_samples):\n",
    "    if grads_cw_norms[i] < grads_reg_norms[i]:\n",
    "        count+=1.0\n",
    "    \n",
    "print ('CW: %.4f' % ( count/num_test_samples))\n",
    "\n",
    "count=0.0\n",
    "for i in range(num_test_samples):\n",
    "    if grads_df_norms[i] < grads_reg_norms[i]:\n",
    "        count+=1.0\n",
    "    \n",
    "print ('DF: %.4f' % ( count/num_test_samples))\n",
    "\n",
    "count=0.0\n",
    "for i in range(num_test_samples):\n",
    "    if grads_jsma_norms[i] < grads_reg_norms[i]:\n",
    "        count+=1.0\n",
    "    \n",
    "print ('JSMA: %.4f' % ( count/num_test_samples))\n",
    "\n",
    "count=0.0\n",
    "for i in range(num_test_samples):\n",
    "    if grads_p1_cw_norms[i] <grads_reg_norms[i]:\n",
    "        count+=1.0\n",
    "    \n",
    "print ('1 Phase CW: %.4f' % ( count/num_test_samples))\n",
    "\n",
    "count=0.0\n",
    "for i in range(num_test_samples):\n",
    "    if grads_p2_cw_norms[i] < grads_reg_norms[i]:\n",
    "        count+=1.0\n",
    "    \n",
    "print ('2 Phase CW: %.4f' % ( count/num_test_samples))"
   ]
  }
 ],
 "metadata": {
  "kernelspec": {
   "display_name": "Python 2",
   "language": "python",
   "name": "python2"
  },
  "language_info": {
   "codemirror_mode": {
    "name": "ipython",
    "version": 2
   },
   "file_extension": ".py",
   "mimetype": "text/x-python",
   "name": "python",
   "nbconvert_exporter": "python",
   "pygments_lexer": "ipython2",
   "version": "2.7.12"
  }
 },
 "nbformat": 4,
 "nbformat_minor": 2
}
