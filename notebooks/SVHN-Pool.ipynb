{
 "cells": [
  {
   "cell_type": "code",
   "execution_count": 1,
   "metadata": {
    "collapsed": true
   },
   "outputs": [],
   "source": [
    "%%capture state\n",
    "from __future__ import division\n",
    "from __future__ import print_function\n",
    "\n",
    "import sys, os\n",
    "sys.path.append('../')\n",
    "\n",
    "import tensorflow as tf\n",
    "import numpy as np\n",
    "\n",
    "from models.neural_network import NeuralNetwork\n",
    "from models.cnn import CNN\n",
    "\n",
    "os.environ[\"CUDA_VISIBLE_DEVICES\"] = \"2\"\n",
    "\n",
    "#Seed used for all calculations of training and test point indices \n",
    "SEED = 14"
   ]
  },
  {
   "cell_type": "code",
   "execution_count": 2,
   "metadata": {
    "collapsed": true
   },
   "outputs": [],
   "source": [
    "## Visualization of samples\n",
    "import matplotlib\n",
    "import matplotlib.pyplot as plt\n",
    "%matplotlib inline\n",
    "\n",
    "def visualize(image):\n",
    "    plt.figure(figsize=(1, 1))\n",
    "    if image.shape[-1] == 1:\n",
    "        # image is in black and white\n",
    "        image = image[:, :, 0]\n",
    "        plt.imshow(image, cmap='Greys')\n",
    "    else:\n",
    "        # image is in color\n",
    "        plt.imshow(image)\n",
    "    plt.axis('off')\n",
    "    plt.show()\n",
    "\n",
    "#Normalize rows of a given matrix\n",
    "def normalize(matrix):\n",
    "    matrix_nm = np.zeros_like(matrix)\n",
    "    for i in range(matrix.shape[0]):\n",
    "        matrix_nm[i] = matrix[i]/np.linalg.norm(matrix[i]) \n",
    "    return matrix_nm"
   ]
  },
  {
   "cell_type": "code",
   "execution_count": 3,
   "metadata": {
    "scrolled": true
   },
   "outputs": [
    {
     "name": "stdout",
     "output_type": "stream",
     "text": [
      "Train on 73257 samples, validate on 13016 samples\n",
      "Epoch 1/50\n",
      "73257/73257 [==============================] - 12s 158us/step - loss: 3.8430 - acc: 0.2481 - val_loss: 1.6884 - val_acc: 0.4782\n",
      "Epoch 2/50\n",
      "73257/73257 [==============================] - 10s 139us/step - loss: 1.0106 - acc: 0.7482 - val_loss: 0.6876 - val_acc: 0.8490\n",
      "Epoch 3/50\n",
      "73257/73257 [==============================] - 10s 139us/step - loss: 0.6421 - acc: 0.8592 - val_loss: 0.5547 - val_acc: 0.8788\n",
      "Epoch 4/50\n",
      "73257/73257 [==============================] - 10s 139us/step - loss: 0.5363 - acc: 0.8834 - val_loss: 0.4880 - val_acc: 0.8978\n",
      "Epoch 5/50\n",
      "73257/73257 [==============================] - 10s 138us/step - loss: 0.4796 - acc: 0.8961 - val_loss: 0.4558 - val_acc: 0.9053\n",
      "Epoch 6/50\n",
      "73257/73257 [==============================] - 10s 138us/step - loss: 0.4403 - acc: 0.9055 - val_loss: 0.3822 - val_acc: 0.9243\n",
      "Epoch 7/50\n",
      "73257/73257 [==============================] - 10s 138us/step - loss: 0.4105 - acc: 0.9119 - val_loss: 0.4068 - val_acc: 0.9152\n",
      "Epoch 8/50\n",
      "73257/73257 [==============================] - 10s 140us/step - loss: 0.3853 - acc: 0.9183 - val_loss: 0.3924 - val_acc: 0.9208\n",
      "Epoch 9/50\n",
      "73257/73257 [==============================] - 10s 139us/step - loss: 0.3676 - acc: 0.9228 - val_loss: 0.4251 - val_acc: 0.9158\n",
      "Epoch 10/50\n",
      "73257/73257 [==============================] - 10s 139us/step - loss: 0.3512 - acc: 0.9275 - val_loss: 0.3238 - val_acc: 0.9353\n",
      "Epoch 11/50\n",
      "73257/73257 [==============================] - 10s 138us/step - loss: 0.3353 - acc: 0.9311 - val_loss: 0.3158 - val_acc: 0.9382\n",
      "Epoch 12/50\n",
      "73257/73257 [==============================] - 10s 140us/step - loss: 0.3275 - acc: 0.9311 - val_loss: 0.3143 - val_acc: 0.9418\n",
      "Epoch 13/50\n",
      "73257/73257 [==============================] - 11s 147us/step - loss: 0.3124 - acc: 0.9363 - val_loss: 0.3486 - val_acc: 0.9291\n",
      "Epoch 14/50\n",
      "73257/73257 [==============================] - 10s 142us/step - loss: 0.3031 - acc: 0.9378 - val_loss: 0.2957 - val_acc: 0.9426\n",
      "Epoch 15/50\n",
      "73257/73257 [==============================] - 10s 141us/step - loss: 0.2956 - acc: 0.9402 - val_loss: 0.2855 - val_acc: 0.9440\n",
      "Epoch 16/50\n",
      "73257/73257 [==============================] - 10s 141us/step - loss: 0.2846 - acc: 0.9423 - val_loss: 0.2970 - val_acc: 0.9426\n",
      "Epoch 17/50\n",
      "73257/73257 [==============================] - 10s 141us/step - loss: 0.2739 - acc: 0.9454 - val_loss: 0.2908 - val_acc: 0.9407\n",
      "Epoch 18/50\n",
      "73257/73257 [==============================] - 10s 141us/step - loss: 0.2656 - acc: 0.9468 - val_loss: 0.2843 - val_acc: 0.9440\n",
      "Epoch 19/50\n",
      "73257/73257 [==============================] - 10s 141us/step - loss: 0.2584 - acc: 0.9481 - val_loss: 0.2924 - val_acc: 0.9408\n",
      "Epoch 20/50\n",
      "73257/73257 [==============================] - 10s 142us/step - loss: 0.2554 - acc: 0.9488 - val_loss: 0.2985 - val_acc: 0.9400\n",
      "Epoch 21/50\n",
      "73257/73257 [==============================] - 10s 143us/step - loss: 0.2446 - acc: 0.9523 - val_loss: 0.2868 - val_acc: 0.9450\n",
      "Epoch 22/50\n",
      "73257/73257 [==============================] - 11s 145us/step - loss: 0.2362 - acc: 0.9550 - val_loss: 0.2855 - val_acc: 0.9395\n",
      "Epoch 23/50\n",
      "73257/73257 [==============================] - 11s 145us/step - loss: 0.2327 - acc: 0.9543 - val_loss: 0.2836 - val_acc: 0.9435\n",
      "Epoch 24/50\n",
      "73257/73257 [==============================] - 11s 143us/step - loss: 0.2234 - acc: 0.9572 - val_loss: 0.2677 - val_acc: 0.9464\n",
      "Epoch 25/50\n",
      "73257/73257 [==============================] - 11s 144us/step - loss: 0.2211 - acc: 0.9573 - val_loss: 0.2676 - val_acc: 0.9461\n",
      "Epoch 26/50\n",
      "73257/73257 [==============================] - 11s 144us/step - loss: 0.2149 - acc: 0.9583 - val_loss: 0.2647 - val_acc: 0.9447\n",
      "Epoch 27/50\n",
      "73257/73257 [==============================] - 10s 143us/step - loss: 0.2098 - acc: 0.9596 - val_loss: 0.2582 - val_acc: 0.9484\n",
      "Epoch 28/50\n",
      "73257/73257 [==============================] - 11s 144us/step - loss: 0.2074 - acc: 0.9597 - val_loss: 0.2796 - val_acc: 0.9406\n",
      "Epoch 29/50\n",
      "73257/73257 [==============================] - 11s 144us/step - loss: 0.2003 - acc: 0.9618 - val_loss: 0.2634 - val_acc: 0.9502\n",
      "Epoch 30/50\n",
      "73257/73257 [==============================] - 10s 142us/step - loss: 0.1954 - acc: 0.9621 - val_loss: 0.2767 - val_acc: 0.9409\n",
      "Epoch 31/50\n",
      "73257/73257 [==============================] - 10s 143us/step - loss: 0.1907 - acc: 0.9636 - val_loss: 0.2869 - val_acc: 0.9422\n",
      "Epoch 32/50\n",
      "73257/73257 [==============================] - 10s 143us/step - loss: 0.1887 - acc: 0.9648 - val_loss: 0.2907 - val_acc: 0.9359\n",
      "Epoch 33/50\n",
      "73257/73257 [==============================] - 10s 143us/step - loss: 0.1825 - acc: 0.9656 - val_loss: 0.2815 - val_acc: 0.9388\n",
      "Epoch 34/50\n",
      "73257/73257 [==============================] - 11s 144us/step - loss: 0.1805 - acc: 0.9656 - val_loss: 0.2649 - val_acc: 0.9458\n",
      "Epoch 35/50\n",
      "73257/73257 [==============================] - 11s 145us/step - loss: 0.1762 - acc: 0.9659 - val_loss: 0.2628 - val_acc: 0.9446\n",
      "Epoch 36/50\n",
      "73257/73257 [==============================] - 11s 144us/step - loss: 0.1734 - acc: 0.9673 - val_loss: 0.2687 - val_acc: 0.9479\n",
      "Epoch 37/50\n",
      "73257/73257 [==============================] - 11s 144us/step - loss: 0.1692 - acc: 0.9679 - val_loss: 0.2497 - val_acc: 0.9465\n",
      "Epoch 38/50\n",
      "73257/73257 [==============================] - 10s 143us/step - loss: 0.1636 - acc: 0.9693 - val_loss: 0.2623 - val_acc: 0.9471\n",
      "Epoch 39/50\n",
      "73257/73257 [==============================] - 10s 143us/step - loss: 0.1651 - acc: 0.9690 - val_loss: 0.2536 - val_acc: 0.9477\n",
      "Epoch 40/50\n",
      "73257/73257 [==============================] - 11s 144us/step - loss: 0.1566 - acc: 0.9708 - val_loss: 0.2533 - val_acc: 0.9471\n",
      "Epoch 41/50\n",
      "73257/73257 [==============================] - 10s 142us/step - loss: 0.1553 - acc: 0.9713 - val_loss: 0.2513 - val_acc: 0.9514\n",
      "Epoch 42/50\n",
      "73257/73257 [==============================] - 11s 144us/step - loss: 0.1524 - acc: 0.9712 - val_loss: 0.2582 - val_acc: 0.9488\n",
      "Epoch 43/50\n",
      "73257/73257 [==============================] - 11s 143us/step - loss: 0.1513 - acc: 0.9716 - val_loss: 0.2598 - val_acc: 0.9469\n",
      "Epoch 44/50\n",
      "73257/73257 [==============================] - 10s 143us/step - loss: 0.1479 - acc: 0.9720 - val_loss: 0.2642 - val_acc: 0.9477\n",
      "Epoch 45/50\n",
      "73257/73257 [==============================] - 10s 143us/step - loss: 0.1455 - acc: 0.9726 - val_loss: 0.2522 - val_acc: 0.9514\n",
      "Epoch 46/50\n",
      "73257/73257 [==============================] - 10s 143us/step - loss: 0.1429 - acc: 0.9736 - val_loss: 0.2666 - val_acc: 0.9471\n",
      "Epoch 47/50\n",
      "73257/73257 [==============================] - 10s 143us/step - loss: 0.1392 - acc: 0.9741 - val_loss: 0.2546 - val_acc: 0.9462\n",
      "Epoch 48/50\n",
      "73257/73257 [==============================] - 11s 144us/step - loss: 0.1390 - acc: 0.9741 - val_loss: 0.2591 - val_acc: 0.9481\n",
      "Epoch 49/50\n",
      "73257/73257 [==============================] - 10s 142us/step - loss: 0.1383 - acc: 0.9737 - val_loss: 0.2816 - val_acc: 0.9450\n",
      "Epoch 50/50\n",
      "73257/73257 [==============================] - 10s 143us/step - loss: 0.1341 - acc: 0.9750 - val_loss: 0.2712 - val_acc: 0.9453\n",
      "15816/15816 [==============================] - 1s 52us/step\n",
      "Saved model to disk\n"
     ]
    }
   ],
   "source": [
    "#Load model from disk\n",
    "model_name = 'SVHN-Pool'\n",
    "model_save_path = '../trained_models/' + model_name + '-model.json'\n",
    "weights_save_path = '../trained_models/' + model_name + 'weights'\n",
    "model = CNN(model_name=model_name, dataset='svhn_pool')\n",
    "epochs = 50\n",
    "model.train(epochs=epochs)\n",
    "model.save_model(model_save_path, weights_save_path)    "
   ]
  },
  {
   "cell_type": "code",
   "execution_count": 4,
   "metadata": {
    "collapsed": true
   },
   "outputs": [],
   "source": [
    "#Get training samples\n",
    "num_train_samples = 10000\n",
    "data_indices = model.gen_rand_indices(low=0, high=model.train_data.shape[0], seed=SEED, num_samples=num_train_samples)\n",
    "train_data = model.train_data[data_indices]\n",
    "train_data_labels = model.train_labels[data_indices]\n",
    "train_data_labels_int = np.argmax(train_data_labels, axis=1)"
   ]
  },
  {
   "cell_type": "code",
   "execution_count": 5,
   "metadata": {
    "scrolled": true
   },
   "outputs": [
    {
     "name": "stderr",
     "output_type": "stream",
     "text": [
      "/root/notebook/cleverhans/cleverhans/src/cleverhans/cleverhans/utils_keras.py:144: UserWarning: Please update your version to keras >= 2.1.3; support for earlier keras versions will be dropped on 2018-07-22\n",
      "  \"Please update your version to keras >= 2.1.3; \"\n"
     ]
    }
   ],
   "source": [
    "num_test_samples_per_class = 100\n",
    "num_test_samples = 10*num_test_samples_per_class\n",
    "\n",
    "#Generate test points\n",
    "test_indices = model.gen_rand_indices_all_classes(y=model.test_labels, seed=SEED, num_samples=num_test_samples_per_class)\n",
    "\n",
    "#Get Regular, Noisy, FGSM, BIM, and CW test points\n",
    "reg_data = model.test_data[test_indices]\n",
    "noisy_data = model.generate_perturbed_data(model.test_data[test_indices], model.test_labels[test_indices],seed=SEED, perturbation='Noisy')\n",
    "fgsm_data = model.generate_perturbed_data(model.test_data[test_indices], model.test_labels[test_indices],seed=SEED, perturbation='FGSM')\n",
    "bim_data = model.generate_perturbed_data(model.test_data[test_indices], model.test_labels[test_indices], seed=SEED, perturbation='BIM', iterations=10)\n",
    "cw_data = model.generate_perturbed_data(model.test_data[test_indices], model.test_labels[test_indices],seed=SEED, perturbation='CW', targeted=False)"
   ]
  },
  {
   "cell_type": "code",
   "execution_count": 6,
   "metadata": {
    "scrolled": true
   },
   "outputs": [
    {
     "name": "stdout",
     "output_type": "stream",
     "text": [
      "Loaded model from disk\n"
     ]
    }
   ],
   "source": [
    "#Reset tf.graph() as Cleverhans modifies the graph\n",
    "tf.reset_default_graph()\n",
    "\n",
    "#Reload the model and weights\n",
    "model = CNN(model_name=model_name, dataset='svhn_pool')\n",
    "model.load_model(model_save_path, weights_save_path)    "
   ]
  },
  {
   "cell_type": "code",
   "execution_count": 7,
   "metadata": {},
   "outputs": [
    {
     "data": {
      "image/png": "[encoded data removed]",
      "text/plain": [
       "<matplotlib.figure.Figure at 0x7f3465157050>"
      ]
     },
     "metadata": {},
     "output_type": "display_data"
    },
    {
     "data": {
      "image/png": "[encoded data removed]",
      "text/plain": [
       "<matplotlib.figure.Figure at 0x7f34651a2ed0>"
      ]
     },
     "metadata": {},
     "output_type": "display_data"
    },
    {
     "data": {
      "image/png": "[encoded data removed]",
      "text/plain": [
       "<matplotlib.figure.Figure at 0x7f3465070650>"
      ]
     },
     "metadata": {},
     "output_type": "display_data"
    },
    {
     "data": {
      "image/png": "[encoded data removed]",
      "text/plain": [
       "<matplotlib.figure.Figure at 0x7f3465004250>"
      ]
     },
     "metadata": {},
     "output_type": "display_data"
    },
    {
     "data": {
      "image/png": "[encoded data removed]",
      "text/plain": [
       "<matplotlib.figure.Figure at 0x7f3464f24350>"
      ]
     },
     "metadata": {},
     "output_type": "display_data"
    }
   ],
   "source": [
    "#Lets visualize one sample from each dataset\n",
    "x_vis = np.random.choice(range(0,num_test_samples), 1)\n",
    "visualize(reg_data[x_vis].reshape(32,32,3))\n",
    "visualize(noisy_data[x_vis].reshape(32,32,3))\n",
    "visualize(fgsm_data[x_vis].reshape(32,32,3))\n",
    "visualize(bim_data[x_vis].reshape(32,32,3))\n",
    "visualize(cw_data[x_vis].reshape(32,32,3))"
   ]
  },
  {
   "cell_type": "code",
   "execution_count": 8,
   "metadata": {
    "collapsed": true
   },
   "outputs": [],
   "source": [
    "#Get predictions\n",
    "reg_preds = model.model.predict(reg_data.reshape(-1,32,32,3))\n",
    "noisy_preds = model.model.predict(noisy_data.reshape(-1,32,32,3))\n",
    "fgsm_preds = model.model.predict(fgsm_data.reshape(-1,32,32,3))\n",
    "bim_preds = model.model.predict(bim_data.reshape(-1,32,32,3))\n",
    "cw_preds = model.model.predict(cw_data.reshape(-1,32,32,3))"
   ]
  },
  {
   "cell_type": "code",
   "execution_count": 9,
   "metadata": {
    "collapsed": true
   },
   "outputs": [],
   "source": [
    "#Convert preds to labels\n",
    "reg_labels = np.zeros(reg_preds.shape)\n",
    "reg_labels[np.arange(num_test_samples),np.argmax(reg_preds, axis=1)] = 1\n",
    "\n",
    "noisy_labels = np.zeros(noisy_preds.shape)\n",
    "noisy_labels[np.arange(num_test_samples),np.argmax(noisy_preds, axis=1)] = 1\n",
    "\n",
    "fgsm_labels = np.zeros(fgsm_preds.shape)\n",
    "fgsm_labels[np.arange(num_test_samples),np.argmax(fgsm_preds, axis=1)] = 1\n",
    "\n",
    "bim_labels = np.zeros(bim_preds.shape)\n",
    "bim_labels[np.arange(num_test_samples),np.argmax(bim_preds, axis=1)] = 1\n",
    "\n",
    "cw_labels = np.zeros(cw_preds.shape)\n",
    "cw_labels[np.arange(num_test_samples),np.argmax(cw_preds, axis=1)] = 1\n"
   ]
  },
  {
   "cell_type": "code",
   "execution_count": 10,
   "metadata": {
    "scrolled": true
   },
   "outputs": [
    {
     "name": "stdout",
     "output_type": "stream",
     "text": [
      "[0 0 0 0 0 0 0 0 0 0 0 0 0 0 0 0 0 0 0 0 6 1 0 0 0 0 0 0 0 0 0 0 0 6 0 5 0\n",
      " 0 0 0 0 0 0 0 3 0 0 0 0 0 0 0 0 0 0 0 0 0 0 0 0 0 5 0 0 0 0 0 0 0 0 0 0 0\n",
      " 0 0 0 0 0 0 0 0 0 0 0 0 7 0 0 0 0 0 0 0 9 0 0 0 0 0 1 1 1 1 1 1 1 1 1 1 1\n",
      " 4 1 1 1 1 1 1 1 1 1 1 0 1 1 1 1 1 1 1 0 1 1 1 1 1 1 1 1 1 1 1 7 1 1 1 1 6\n",
      " 1 1 1 1 1 1 1 1 1 1 1 1 1 1 1 1 1 1 1 1 1 1 1 1 1 1 1 1 1 1 1 1 1 1 1 1 1\n",
      " 1 1 1 1 1 1 1 1 1 1 1 1 1 1 1 2 2 2 2 9 2 2 2 2 2 2 2 2 2 2 2 2 2 2 2 2 2\n",
      " 2 2 2 2 2 2 2 2 2 2 2 2 2 2 2 2 2 2 2 2 2 2 2 2 2 2 5 2 2 2 2 2 2 2 2 2 2\n",
      " 2 2 2 2 2 2 2 2 2 2 2 2 2 2 2 4 2 2 2 2 2 2 2 2 2 2 2 2 2 2 2 2 2 2 2 2 2\n",
      " 2 2 2 2 3 3 3 3 3 3 3 3 3 3 3 3 3 3 3 3 3 3 3 3 3 3 3 3 3 3 3 3 3 3 3 3 3\n",
      " 3 3 3 3 3 3 3 3 2 3 3 3 3 3 3 3 3 3 3 3 3 3 3 3 3 3 3 3 3 3 3 3 3 3 3 3 3\n",
      " 3 3 3 3 3 3 3 3 3 3 3 3 3 3 3 3 3 3 3 3 3 3 3 8 3 3 3 3 3 3 4 4 4 4 4 4 4\n",
      " 4 4 4 4 4 4 5 4 4 4 4 4 4 4 4 4 4 4 4 4 4 4 4 4 4 4 4 4 4 4 4 3 4 4 4 4 4\n",
      " 4 4 4 4 4 4 4 7 4 4 4 3 4 4 4 4 4 4 4 4 4 4 4 4 4 4 4 4 4 4 4 4 4 4 4 4 4\n",
      " 4 4 4 4 4 4 4 4 4 4 4 4 4 9 4 4 4 4 4 5 5 5 5 5 5 5 5 5 5 5 5 5 5 5 5 5 5\n",
      " 5 5 5 5 5 5 5 5 5 5 5 5 5 5 5 5 5 5 5 5 5 5 5 5 9 5 5 5 5 5 5 5 5 5 5 5 6\n",
      " 5 5 5 5 5 5 5 5 5 5 0 5 5 5 5 5 6 5 5 5 5 5 5 5 5 5 5 5 5 5 5 5 5 5 5 5 5\n",
      " 5 5 5 5 5 5 5 5 6 6 5 6 6 8 6 6 6 9 6 5 6 6 6 6 4 6 6 6 6 6 6 6 6 6 6 6 6\n",
      " 6 6 6 6 6 6 6 6 6 6 6 6 6 6 6 6 6 6 6 6 6 6 6 6 6 6 6 6 6 6 6 6 6 6 6 6 6\n",
      " 6 6 6 6 6 6 6 6 6 6 5 6 6 2 6 6 6 6 6 6 6 6 6 6 6 6 6 6 6 6 6 6 6 5 7 7 7\n",
      " 7 7 7 7 7 7 7 7 7 7 7 7 7 7 7 7 7 7 7 2 7 7 7 7 7 7 7 7 7 7 7 7 7 7 7 7 2\n",
      " 7 2 7 7 7 7 7 7 7 7 1 7 7 7 7 7 7 7 7 7 7 7 7 1 7 7 7 7 7 7 7 7 7 7 7 7 7\n",
      " 3 7 7 7 7 7 7 7 7 2 7 7 7 7 7 7 7 7 7 1 7 7 7 8 8 8 8 8 8 8 0 8 8 8 8 8 8\n",
      " 8 8 8 8 8 8 8 6 8 8 8 8 8 0 8 8 8 8 8 8 8 8 8 8 8 8 8 8 8 8 8 8 6 8 8 8 8\n",
      " 8 8 3 8 8 8 8 8 8 8 8 6 8 8 8 8 8 8 8 8 9 8 8 8 8 8 8 8 8 8 8 8 8 8 8 8 8\n",
      " 8 8 8 8 8 8 8 8 8 8 8 8 9 9 9 9 9 9 0 0 9 5 9 9 9 9 9 0 9 9 9 9 9 9 9 9 9\n",
      " 9 9 9 9 9 9 9 9 9 9 5 9 8 9 9 9 9 9 9 9 9 9 9 5 5 9 9 1 9 9 9 9 9 9 9 9 9\n",
      " 9 9 9 9 9 9 9 9 9 9 9 9 9 9 2 9 9 9 9 0 9 9 9 9 9 9 9 9 9 9 9 9 9 9 9 9 9\n",
      " 9]\n",
      "[6 8 2 5 4 2 4 0 2 4 3 2 1 3 2 5 2 2 0 0 5 5 2 1 3 8 0 0 2 4 4 4 8 2 3 2 4\n",
      " 4 2 7 3 0 3 3 2 0 5 7 6 2 6 2 0 3 3 0 7 2 3 8 2 3 9 5 3 4 3 5 3 4 2 4 3 6\n",
      " 2 5 1 0 0 5 2 2 7 0 9 8 2 5 5 2 0 2 0 0 4 1 1 3 0 1 1 1 2 3 1 7 3 6 1 1 1\n",
      " 2 1 4 3 5 1 4 1 3 1 3 7 2 2 7 2 2 1 3 3 3 4 4 3 9 8 1 2 1 1 1 1 1 6 5 8 3\n",
      " 1 2 2 1 1 4 4 1 4 8 1 1 1 2 3 1 8 3 2 3 1 2 2 7 4 5 3 6 1 5 4 1 2 1 3 4 5\n",
      " 4 5 1 1 1 2 2 2 2 3 3 3 8 3 2 6 3 8 2 4 2 2 1 2 2 0 2 2 2 2 3 2 2 2 3 2 2\n",
      " 2 2 2 2 9 5 2 4 2 2 1 2 5 3 2 6 2 2 2 2 2 2 3 2 2 2 5 2 2 3 2 2 2 2 2 2 2\n",
      " 3 2 3 2 5 6 2 2 2 3 2 2 2 2 1 3 8 2 2 2 2 2 5 2 3 2 2 2 2 4 2 3 2 2 3 2 2\n",
      " 2 2 2 2 3 3 2 3 4 3 8 3 5 3 2 3 5 3 2 3 3 3 3 3 3 2 2 3 3 4 3 3 3 3 3 3 3\n",
      " 3 3 3 5 3 5 3 2 3 3 8 1 3 3 4 2 3 3 7 2 3 2 1 3 2 3 2 3 3 3 3 3 3 5 3 2 2\n",
      " 3 3 2 3 2 3 5 9 3 3 3 3 3 3 3 2 3 3 3 5 2 0 2 3 8 2 4 3 1 6 4 2 4 4 4 4 5\n",
      " 3 4 3 4 4 3 4 4 2 5 2 2 4 4 5 4 4 3 8 4 8 3 4 2 4 9 5 6 4 2 9 2 2 4 5 4 4\n",
      " 3 4 2 4 4 4 2 8 4 5 4 3 2 4 9 5 2 3 2 4 4 5 3 3 3 3 3 8 2 3 4 5 4 4 4 4 4\n",
      " 2 4 4 3 5 5 3 2 5 3 3 4 5 5 9 2 5 3 4 2 4 5 8 5 3 5 3 3 5 5 3 2 5 5 5 2 5\n",
      " 7 2 2 3 9 3 9 6 5 2 5 5 1 3 5 5 3 4 5 2 3 5 5 2 2 3 6 5 3 5 3 5 5 5 5 4 5\n",
      " 2 2 5 5 3 5 2 6 3 2 5 4 3 1 5 5 5 4 3 8 5 3 5 5 5 6 3 5 5 5 0 1 5 5 2 5 3\n",
      " 5 2 8 4 1 5 3 5 2 5 6 6 3 8 3 6 3 5 3 5 8 3 3 6 4 6 6 3 5 6 8 2 4 3 8 3 3\n",
      " 6 6 3 5 2 6 5 5 6 2 3 6 3 6 8 5 2 8 6 3 5 8 6 6 6 6 6 2 5 8 5 4 3 3 5 6 2\n",
      " 4 6 3 5 7 6 4 4 8 6 5 8 5 8 3 3 1 6 3 3 6 6 2 4 4 7 6 6 8 1 6 6 1 2 7 5 7\n",
      " 5 7 7 3 3 7 3 3 2 7 2 7 2 2 3 7 2 2 5 2 3 6 3 3 7 2 7 3 3 7 3 5 2 2 3 7 4\n",
      " 3 3 2 5 3 7 7 7 7 3 6 5 2 3 3 7 2 7 7 2 7 7 2 1 3 3 7 3 2 7 2 7 3 7 7 7 7\n",
      " 6 7 2 3 7 2 7 7 7 2 5 9 8 3 1 1 7 9 7 4 2 2 5 8 5 6 3 2 3 8 2 6 8 3 6 8 3\n",
      " 1 4 4 5 3 8 3 2 8 3 8 2 8 2 6 8 6 8 8 2 2 8 8 2 8 2 8 5 3 1 2 8 2 2 2 2 3\n",
      " 2 3 3 8 2 3 3 2 3 2 8 6 8 2 8 3 3 9 3 8 6 2 2 8 8 3 8 3 8 6 6 8 5 8 8 5 9\n",
      " 8 3 8 3 8 4 2 3 8 8 2 3 3 2 5 2 5 9 2 2 9 3 8 2 8 1 2 3 8 4 9 3 0 9 1 2 6\n",
      " 5 3 2 3 2 9 8 9 9 3 5 2 2 9 4 9 5 3 1 9 5 4 3 5 6 2 4 8 2 9 2 3 3 5 6 9 9\n",
      " 9 2 5 2 2 6 2 2 2 3 3 9 3 0 2 9 2 9 4 5 9 5 2 9 9 9 4 4 2 3 9 4 9 9 9 5 2\n",
      " 2]\n",
      "[2 8 9 5 3 5 5 2 4 2 2 9 2 5 5 4 6 4 2 4 2 3 3 2 9 3 5 4 2 1 2 2 1 3 2 5 3\n",
      " 1 2 7 5 3 5 3 3 2 3 3 2 5 3 3 5 8 3 7 2 5 5 2 7 8 5 3 3 3 2 2 3 7 1 5 5 6\n",
      " 3 3 3 5 3 2 5 1 7 2 4 5 2 2 2 2 4 3 3 2 9 2 9 3 5 3 2 1 6 2 2 3 2 4 5 2 3\n",
      " 4 2 4 5 4 2 5 5 8 3 4 5 4 5 4 1 2 3 2 8 2 2 4 2 5 2 3 7 5 3 9 2 3 5 2 5 4\n",
      " 5 5 2 4 5 7 4 3 5 3 2 2 7 1 7 2 1 3 2 1 3 7 4 3 4 3 2 5 3 2 4 7 3 5 0 1 8\n",
      " 7 3 2 3 2 5 3 5 5 4 5 2 5 2 5 1 5 3 3 4 2 4 3 3 3 5 1 2 5 8 5 2 2 3 5 3 9\n",
      " 2 5 3 6 2 6 2 4 7 3 5 3 1 6 4 5 6 2 4 2 5 2 1 2 3 2 5 3 5 3 3 5 5 3 7 3 3\n",
      " 5 4 3 1 5 5 1 2 3 3 3 5 3 3 3 3 2 2 8 3 3 3 2 2 3 2 3 5 2 5 2 3 5 2 5 3 3\n",
      " 1 3 5 2 3 9 5 2 5 3 6 5 2 3 2 5 5 5 3 4 2 5 9 2 1 3 3 2 2 8 2 3 2 5 4 3 3\n",
      " 5 3 4 1 5 3 2 5 2 4 1 3 9 2 3 2 2 5 4 5 2 2 1 2 5 2 3 3 6 2 3 8 5 7 2 5 5\n",
      " 5 5 3 3 3 6 3 2 9 7 3 4 3 5 9 3 3 2 2 1 3 4 5 8 8 2 3 3 3 8 5 2 1 9 3 2 2\n",
      " 1 5 2 2 2 2 5 3 2 2 2 5 2 2 7 2 8 3 1 7 3 5 2 2 8 2 9 3 3 3 4 2 2 2 7 5 5\n",
      " 4 2 8 3 2 2 3 2 5 2 2 3 2 3 2 2 2 5 2 6 2 5 9 5 4 4 7 8 2 3 2 3 3 0 8 3 2\n",
      " 3 5 3 1 2 2 5 2 2 5 3 5 1 2 3 6 7 3 2 2 2 3 3 4 5 2 4 2 5 5 1 2 2 2 5 2 3\n",
      " 2 5 3 2 5 2 2 2 9 1 2 2 2 3 4 3 2 0 1 2 1 3 2 4 4 5 3 3 2 2 1 1 2 5 3 3 3\n",
      " 8 3 7 3 5 2 2 7 3 3 4 3 7 2 1 1 6 5 1 7 3 2 2 1 2 2 2 2 3 2 2 7 8 3 5 2 2\n",
      " 5 2 3 3 2 2 4 2 2 2 2 6 2 3 2 2 3 6 2 5 8 3 3 2 3 2 4 3 3 2 2 9 2 3 3 3 5\n",
      " 2 3 2 5 3 3 1 5 3 3 8 2 2 5 5 4 2 5 2 5 2 5 3 2 5 2 3 3 5 2 2 3 2 2 4 7 4\n",
      " 5 5 1 5 3 3 3 2 5 5 3 2 5 2 2 3 2 3 3 5 5 2 2 6 2 3 2 8 2 2 7 3 2 3 3 3 2\n",
      " 3 2 8 1 2 9 2 3 4 3 2 8 2 2 4 2 3 3 5 2 2 3 3 7 6 0 3 4 3 9 2 3 2 5 4 5 3\n",
      " 2 2 0 3 9 3 2 2 3 2 3 1 3 1 4 3 9 2 3 4 3 3 2 3 2 3 5 3 1 3 2 2 2 3 3 1 4\n",
      " 5 3 3 3 6 3 4 5 5 2 6 5 2 2 2 3 4 5 1 4 6 3 5 4 3 3 5 5 3 5 0 2 3 3 3 2 3\n",
      " 2 3 4 5 3 5 5 5 3 5 4 5 5 0 4 5 3 3 3 5 3 2 4 2 5 2 3 2 2 5 3 5 4 2 2 1 5\n",
      " 3 3 3 5 5 2 3 2 2 3 3 6 6 2 3 5 3 3 2 5 4 5 3 5 3 2 5 7 5 5 5 2 5 3 4 2 3\n",
      " 4 3 5 3 3 4 2 4 5 1 3 2 2 4 3 2 3 3 8 6 1 6 2 3 4 3 7 2 4 3 2 5 4 2 3 3 3\n",
      " 2 2 2 3 2 2 2 7 1 2 3 4 3 2 2 2 5 2 2 3 2 2 7 5 3 3 3 5 2 2 5 6 7 2 5 2 2\n",
      " 5 5 3 2 7 5 6 2 2 3 3 1 9 5 2 2 2 5 3 5 2 3 5 7 1 2 2 5 5 5 2 4 3 2 1 3 2\n",
      " 2]\n",
      "[2 2 3 8 5 5 5 2 4 2 3 3 2 3 2 6 8 3 2 4 3 0 4 2 3 2 5 6 2 2 6 3 5 0 2 2 2\n",
      " 4 2 2 3 3 5 3 9 5 3 3 2 2 6 2 6 8 5 2 5 6 3 2 5 8 2 2 3 2 9 4 1 3 3 5 5 8\n",
      " 5 3 1 9 5 2 8 2 2 8 9 5 0 5 8 2 6 3 9 2 0 3 1 2 4 3 2 2 2 3 2 4 4 4 4 3 0\n",
      " 1 2 4 4 4 3 3 4 7 8 2 7 4 5 0 4 5 2 2 1 2 4 9 2 3 9 9 7 8 4 7 6 7 5 4 3 1\n",
      " 3 6 2 8 9 2 9 9 5 4 5 7 5 2 3 3 4 8 2 8 3 2 2 3 7 6 3 9 4 3 3 7 3 3 8 3 8\n",
      " 9 2 4 2 8 7 4 5 2 9 7 7 5 2 2 6 3 3 7 8 3 5 3 7 3 5 6 3 6 0 5 5 3 7 6 1 5\n",
      " 6 5 3 3 3 3 7 5 7 7 5 7 3 5 4 7 7 7 5 3 5 7 6 5 4 4 3 7 6 6 3 7 3 4 7 3 3\n",
      " 3 9 7 5 6 6 3 3 5 3 5 7 3 3 1 3 7 7 3 3 7 4 3 7 6 3 3 3 7 3 7 7 6 7 3 6 5\n",
      " 7 6 6 7 0 0 5 5 4 2 6 5 5 0 4 8 6 8 5 6 8 5 2 5 6 2 4 5 5 8 4 5 5 5 5 5 6\n",
      " 9 1 2 5 5 9 4 5 3 2 9 5 9 7 2 5 4 6 1 9 4 4 5 0 2 9 1 6 5 7 5 8 4 9 8 9 4\n",
      " 6 6 4 5 5 2 6 8 5 2 5 5 6 6 5 4 9 2 4 2 2 6 9 2 6 5 2 2 9 4 2 6 7 2 3 2 2\n",
      " 2 2 5 2 2 1 4 3 3 3 2 3 2 3 8 3 2 3 3 1 7 5 7 2 3 7 7 6 0 5 2 4 2 5 5 5 7\n",
      " 2 0 2 3 3 2 8 2 3 2 2 4 2 2 3 3 2 3 2 8 3 3 3 3 5 0 7 3 2 8 5 3 3 2 2 2 2\n",
      " 2 7 3 0 2 7 2 2 2 5 1 2 3 1 1 5 3 7 2 8 3 2 4 3 2 6 6 2 6 8 8 3 3 6 3 7 6\n",
      " 8 8 9 2 6 8 1 2 6 2 2 2 3 3 4 6 8 2 3 2 1 3 2 8 3 3 8 4 2 6 6 3 0 6 3 3 5\n",
      " 2 4 3 3 8 2 2 8 3 2 5 6 3 2 7 7 5 8 3 6 8 3 8 4 6 2 3 0 3 6 7 2 6 2 6 3 8\n",
      " 6 2 6 2 2 6 2 3 3 2 6 4 2 6 3 2 3 2 2 0 3 0 3 3 6 8 2 3 3 3 4 3 2 7 8 2 2\n",
      " 2 5 9 5 2 3 3 5 2 2 8 2 2 8 0 9 3 8 8 3 8 5 2 3 8 3 8 8 5 2 9 3 3 2 3 8 3\n",
      " 1 3 5 3 2 3 3 2 8 3 6 9 5 6 5 3 4 5 3 3 0 3 2 3 2 3 8 3 3 2 5 3 2 8 2 0 9\n",
      " 6 1 2 2 2 9 2 3 4 4 2 0 2 2 2 2 6 3 2 7 8 3 4 2 2 2 2 2 3 2 2 1 2 2 2 3 7\n",
      " 3 7 2 6 2 2 2 2 2 2 3 3 8 2 3 6 2 2 3 5 3 8 2 6 1 3 3 4 2 2 2 9 2 4 1 2 1\n",
      " 2 2 5 2 3 4 3 3 2 6 3 5 2 2 8 3 4 3 2 2 6 3 2 6 6 6 5 5 6 6 8 6 3 2 5 1 3\n",
      " 7 4 6 3 1 6 6 2 6 6 3 5 6 8 2 5 5 6 6 5 6 9 7 3 7 6 5 6 2 4 5 5 3 2 3 6 5\n",
      " 5 6 8 6 3 3 5 5 6 4 3 8 6 2 6 6 3 6 6 6 6 5 5 6 5 6 6 5 5 6 3 6 5 6 6 5 2\n",
      " 6 5 6 5 0 9 6 9 5 6 4 4 3 2 6 2 3 4 2 5 0 9 2 2 3 3 1 5 8 2 6 8 7 4 2 8 6\n",
      " 5 3 2 3 6 0 2 2 1 2 2 3 5 2 6 8 6 6 2 4 6 5 2 9 6 3 2 2 2 8 6 6 8 2 2 2 4\n",
      " 4 2 3 2 2 2 2 4 2 3 6 0 2 3 9 2 2 3 2 5 2 3 5 0 0 2 6 2 0 6 8 4 4 2 2 6 0\n",
      " 2]\n",
      "[9 2 6 6 6 9 6 2 6 2 3 7 9 9 2 6 6 3 2 4 8 0 9 2 6 2 6 6 2 9 6 2 9 0 9 2 6\n",
      " 2 2 8 3 6 9 4 9 9 3 4 2 9 6 2 6 8 9 2 6 6 3 2 8 6 2 8 6 2 9 9 1 9 3 6 3 6\n",
      " 8 3 1 7 6 6 6 9 4 8 9 9 0 8 2 2 6 8 9 2 2 6 1 6 4 8 4 2 4 7 2 4 4 4 4 3 7\n",
      " 1 2 4 4 4 3 3 4 7 3 2 7 4 6 4 4 4 2 3 3 2 4 9 2 5 4 4 7 8 4 7 1 7 8 4 3 3\n",
      " 7 8 2 4 3 2 7 3 6 4 6 7 5 2 7 2 4 8 0 8 3 2 4 3 7 7 3 4 4 3 3 7 8 3 2 3 2\n",
      " 7 4 7 2 8 2 4 5 0 3 4 7 3 7 4 4 3 3 7 8 3 5 3 7 3 3 3 3 3 3 6 6 3 7 0 7 4\n",
      " 3 7 3 3 5 3 7 4 7 3 5 7 3 3 4 7 7 3 3 3 5 7 3 4 4 4 3 7 7 4 7 7 3 8 3 3 3\n",
      " 3 9 7 3 3 8 3 7 3 3 3 7 3 3 7 2 3 7 3 3 7 4 3 7 6 3 3 3 7 8 7 7 7 7 3 3 3\n",
      " 7 3 7 7 5 9 5 5 0 2 6 5 5 8 2 8 5 8 5 6 8 5 2 5 8 2 5 5 5 8 4 5 5 5 5 5 8\n",
      " 8 1 2 5 5 9 4 5 3 8 9 5 9 2 2 5 9 5 7 5 8 5 5 9 2 2 1 6 5 5 2 8 9 9 8 9 8\n",
      " 5 8 1 5 5 9 8 4 5 2 5 5 6 5 5 8 9 2 2 2 2 8 9 2 8 5 5 5 9 2 2 9 2 2 3 2 8\n",
      " 2 2 3 2 2 1 4 2 1 2 2 9 2 2 8 3 2 8 8 8 2 5 1 2 3 0 2 6 1 5 2 4 2 1 5 6 7\n",
      " 2 0 2 3 1 2 3 2 3 2 2 5 2 2 1 2 2 5 2 3 6 1 5 3 5 1 1 8 2 2 5 1 2 7 1 2 2\n",
      " 2 1 3 0 2 6 2 9 2 9 1 2 8 1 1 5 1 3 1 6 2 8 4 3 4 6 3 2 2 3 3 3 3 6 3 7 6\n",
      " 6 8 9 2 6 3 6 3 3 3 2 2 3 3 3 6 3 3 6 6 1 3 3 6 5 3 3 6 3 6 6 3 3 4 3 3 5\n",
      " 2 4 3 3 3 6 3 3 3 9 3 3 3 6 7 6 5 4 3 6 6 3 3 4 6 2 3 4 3 6 3 8 6 3 6 3 3\n",
      " 6 6 3 2 3 6 3 3 3 8 6 8 8 6 8 8 3 2 8 0 8 0 8 5 6 8 2 3 5 0 4 5 8 8 4 8 2\n",
      " 8 5 9 5 2 3 5 5 2 8 8 0 4 8 8 8 3 8 8 8 8 5 8 8 8 8 8 8 5 8 9 8 3 8 3 8 8\n",
      " 1 5 5 3 8 8 3 0 8 3 6 8 5 1 5 3 5 5 5 0 8 3 2 5 4 3 8 0 3 0 8 8 8 8 2 3 1\n",
      " 6 1 2 2 2 9 2 3 2 2 2 0 2 2 3 2 6 3 2 7 2 3 1 2 2 2 2 2 3 1 2 1 1 2 1 2 7\n",
      " 3 7 1 6 2 2 2 2 2 2 3 3 2 2 2 3 2 2 3 5 3 2 2 6 2 2 3 1 2 3 8 3 2 4 1 2 1\n",
      " 2 1 3 3 3 2 3 2 2 6 3 5 2 2 2 2 4 3 2 2 2 3 2 6 6 6 6 9 6 6 8 6 5 2 6 3 6\n",
      " 6 4 4 6 3 6 6 4 6 6 3 6 6 8 2 9 6 6 0 9 6 5 6 5 6 6 3 6 3 4 5 5 3 2 2 6 5\n",
      " 4 6 8 6 3 3 5 3 6 6 3 8 6 2 6 6 3 6 6 3 6 6 3 6 6 6 6 9 6 6 3 6 9 6 6 5 2\n",
      " 6 6 6 5 6 9 2 9 6 6 4 4 3 2 2 2 3 4 2 6 0 9 2 2 3 3 7 9 8 4 4 8 2 4 2 8 2\n",
      " 4 8 8 2 8 0 4 0 1 2 2 2 6 4 8 2 8 0 2 4 8 4 2 4 6 5 2 2 2 8 6 7 0 2 2 2 2\n",
      " 0 5 5 2 2 2 6 4 8 7 0 0 2 1 9 2 2 2 2 5 2 5 5 0 0 2 8 2 0 8 8 4 4 2 2 0 2\n",
      " 2]\n"
     ]
    }
   ],
   "source": [
    "#Check preds to ensure adversarial samples were generated correctly\n",
    "print (np.argmax(reg_preds, axis=1))\n",
    "print (np.argmax(noisy_preds, axis=1))\n",
    "print (np.argmax(fgsm_preds, axis=1))\n",
    "print (np.argmax(bim_preds, axis=1))\n",
    "print (np.argmax(cw_preds, axis=1))\n"
   ]
  },
  {
   "cell_type": "code",
   "execution_count": 11,
   "metadata": {
    "collapsed": true
   },
   "outputs": [],
   "source": [
    "#Get gradients for all test points\n",
    "grads_reg = model.get_gradients_wrt_params(reg_data, reg_labels)\n",
    "grads_noisy = model.get_gradients_wrt_params(noisy_data, noisy_labels)\n",
    "grads_fgsm = model.get_gradients_wrt_params(fgsm_data, fgsm_labels)\n",
    "grads_bim = model.get_gradients_wrt_params(bim_data, bim_labels)\n",
    "grads_cw = model.get_gradients_wrt_params(cw_data, cw_labels)\n",
    "\n",
    "#Get gradients for training points \n",
    "grads_train = model.get_gradients_wrt_params(train_data, train_data_labels)"
   ]
  },
  {
   "cell_type": "code",
   "execution_count": 12,
   "metadata": {},
   "outputs": [
    {
     "name": "stderr",
     "output_type": "stream",
     "text": [
      "/usr/local/lib/python2.7/dist-packages/ipykernel_launcher.py:22: RuntimeWarning: divide by zero encountered in true_divide\n",
      "/usr/local/lib/python2.7/dist-packages/ipykernel_launcher.py:22: RuntimeWarning: invalid value encountered in true_divide\n"
     ]
    }
   ],
   "source": [
    "grads_reg_nm = normalize(grads_reg)\n",
    "grads_noisy_nm = normalize(grads_noisy)\n",
    "grads_fgsm_nm = normalize(grads_fgsm)\n",
    "grads_bim_nm = normalize(grads_bim)\n",
    "grads_cw_nm = normalize(grads_cw)\n",
    "grads_train_nm = normalize(grads_train)"
   ]
  },
  {
   "cell_type": "code",
   "execution_count": 13,
   "metadata": {},
   "outputs": [
    {
     "name": "stderr",
     "output_type": "stream",
     "text": [
      "/usr/local/lib/python2.7/dist-packages/ipykernel_launcher.py:2: RuntimeWarning: invalid value encountered in sqrt\n",
      "  \n",
      "/usr/local/lib/python2.7/dist-packages/ipykernel_launcher.py:3: RuntimeWarning: invalid value encountered in sqrt\n",
      "  This is separate from the ipykernel package so we can avoid doing imports until\n",
      "/usr/local/lib/python2.7/dist-packages/ipykernel_launcher.py:4: RuntimeWarning: invalid value encountered in sqrt\n",
      "  after removing the cwd from sys.path.\n",
      "/usr/local/lib/python2.7/dist-packages/ipykernel_launcher.py:5: RuntimeWarning: invalid value encountered in sqrt\n",
      "  \"\"\"\n",
      "/usr/local/lib/python2.7/dist-packages/ipykernel_launcher.py:6: RuntimeWarning: invalid value encountered in sqrt\n",
      "  \n"
     ]
    }
   ],
   "source": [
    "#Get norms \n",
    "grads_reg_norms = np.sqrt(np.dot(grads_reg, grads_reg.T)).diagonal()\n",
    "grads_noisy_norms = np.sqrt(np.dot(grads_noisy, grads_noisy.T)).diagonal()\n",
    "grads_bim_norms = np.sqrt(np.dot(grads_bim, grads_bim.T)).diagonal()\n",
    "grads_fgsm_norms = np.sqrt(np.dot(grads_fgsm, grads_fgsm.T)).diagonal()\n",
    "grads_cw_norms = np.sqrt(np.dot(grads_cw, grads_cw.T)).diagonal()"
   ]
  },
  {
   "cell_type": "code",
   "execution_count": 14,
   "metadata": {
    "collapsed": true
   },
   "outputs": [],
   "source": [
    "#Get cosine similarity matrix\n",
    "cos_sim_reg = np.dot(grads_reg_nm, grads_train_nm.T)\n",
    "cos_sim_noisy = np.dot(grads_noisy_nm, grads_train_nm.T)\n",
    "cos_sim_fgsm = np.dot(grads_fgsm_nm, grads_train_nm.T)\n",
    "cos_sim_bim = np.dot(grads_bim_nm, grads_train_nm.T)\n",
    "cos_sim_cw = np.dot(grads_cw_nm, grads_train_nm.T)"
   ]
  },
  {
   "cell_type": "code",
   "execution_count": 20,
   "metadata": {},
   "outputs": [
    {
     "name": "stdout",
     "output_type": "stream",
     "text": [
      "Regular: 0.8530\n",
      "Noisy:  0.1070\n",
      "FGSM:  0.0120\n",
      "BIM:  0.0720\n",
      "CW: 0.1570\n"
     ]
    }
   ],
   "source": [
    "#Separate Using Cos Sim\n",
    "\n",
    "eta = 0.46\n",
    "\n",
    "count = 0.0\n",
    "for i in range(num_test_samples):\n",
    "    if np.max(cos_sim_reg[i]) > eta:\n",
    "        count+=1.0\n",
    "        \n",
    "print ('Regular: %.4f' % ( count/num_test_samples))\n",
    "\n",
    "count = 0.0\n",
    "for i in range(num_test_samples):\n",
    "    if np.max(cos_sim_noisy[i]) > eta:\n",
    "        count+=1.0\n",
    "    \n",
    "print ('Noisy:  %.4f' % ( count/num_test_samples))\n",
    "\n",
    "count=0.0\n",
    "for i in range(num_test_samples):\n",
    "    if np.max(cos_sim_fgsm[i]) > eta:\n",
    "        count+=1.0\n",
    "        \n",
    "print ('FGSM:  %.4f' % ( count/num_test_samples))\n",
    "\n",
    "count=0.0\n",
    "for i in range(num_test_samples):\n",
    "    if np.max(cos_sim_bim[i]) > eta:\n",
    "        count+=1.0\n",
    "        \n",
    "print ('BIM:  %.4f' % ( count/num_test_samples))\n",
    "\n",
    "count=0.0\n",
    "for i in range(num_test_samples):\n",
    "    if np.max(cos_sim_cw[i]) > eta:\n",
    "        count+=1.0\n",
    "    \n",
    "print ('CW: %.4f' % ( count/num_test_samples))\n",
    "\n",
    "\n"
   ]
  },
  {
   "cell_type": "code",
   "execution_count": 30,
   "metadata": {},
   "outputs": [
    {
     "name": "stdout",
     "output_type": "stream",
     "text": [
      "Regular: 0.7960\n",
      "Noisy:  0.2050\n",
      "FGSM:  0.3340\n",
      "BIM:  1.0000\n",
      "CW: 0.1200\n"
     ]
    }
   ],
   "source": [
    "#Separate using just norm\n",
    "gamma = 1.5\n",
    "\n",
    "count = 0.0\n",
    "for i in range(num_test_samples):\n",
    "    if grads_reg_norms[i] < gamma:\n",
    "        count+=1.0\n",
    "        \n",
    "print ('Regular: %.4f' % ( count/num_test_samples))\n",
    "\n",
    "count = 0.0\n",
    "for i in range(num_test_samples):\n",
    "    if grads_noisy_norms[i] < gamma:\n",
    "        count+=1.0\n",
    "    \n",
    "print ('Noisy:  %.4f' % ( count/num_test_samples))\n",
    "\n",
    "count=0.0\n",
    "for i in range(num_test_samples):\n",
    "    if grads_fgsm_norms[i] < gamma:\n",
    "        count+=1.0\n",
    "        \n",
    "print ('FGSM:  %.4f' % ( count/num_test_samples))\n",
    "\n",
    "count=0.0\n",
    "for i in range(num_test_samples):\n",
    "    if grads_bim_norms[i] < gamma:\n",
    "        count+=1.0\n",
    "        \n",
    "print ('BIM:  %.4f' % ( count/num_test_samples))\n",
    "\n",
    "count=0.0\n",
    "for i in range(num_test_samples):\n",
    "    if grads_cw_norms[i] < gamma:\n",
    "        count+=1.0\n",
    "    \n",
    "print ('CW: %.4f' % ( count/num_test_samples))\n",
    "\n",
    "\n",
    "\n"
   ]
  },
  {
   "cell_type": "code",
   "execution_count": 31,
   "metadata": {},
   "outputs": [
    {
     "name": "stdout",
     "output_type": "stream",
     "text": [
      "Regular: 0.7710\n",
      "Noisy:  0.1000\n",
      "FGSM:  0.0120\n",
      "BIM:  0.0720\n",
      "CW: 0.0820\n"
     ]
    }
   ],
   "source": [
    "#Use both\n",
    "\n",
    "count = 0.0\n",
    "for i in range(num_test_samples):\n",
    "    if np.max(cos_sim_reg[i]) > eta and grads_reg_norms[i] < gamma:\n",
    "        count+=1.0\n",
    "        \n",
    "print ('Regular: %.4f' % ( count/num_test_samples))\n",
    "\n",
    "count = 0.0\n",
    "for i in range(num_test_samples):\n",
    "    if np.max(cos_sim_noisy[i]) > eta and grads_noisy_norms[i] < gamma:\n",
    "        count+=1.0\n",
    "    \n",
    "print ('Noisy:  %.4f' % ( count/num_test_samples))\n",
    "\n",
    "count=0.0\n",
    "for i in range(num_test_samples):\n",
    "    if np.max(cos_sim_fgsm[i]) > eta and grads_fgsm_norms[i] < gamma:\n",
    "        count+=1.0\n",
    "        \n",
    "print ('FGSM:  %.4f' % ( count/num_test_samples))\n",
    "\n",
    "count=0.0\n",
    "for i in range(num_test_samples):\n",
    "    if np.max(cos_sim_bim[i]) > eta and grads_bim_norms[i] < gamma:\n",
    "        count+=1.0\n",
    "        \n",
    "print ('BIM:  %.4f' % ( count/num_test_samples))\n",
    "\n",
    "count=0.0\n",
    "for i in range(num_test_samples):\n",
    "    if np.max(cos_sim_cw[i]) > eta and grads_cw_norms[i] < gamma:\n",
    "        count+=1.0\n",
    "    \n",
    "print ('CW: %.4f' % ( count/num_test_samples))\n",
    "\n",
    "\n"
   ]
  }
 ],
 "metadata": {
  "kernelspec": {
   "display_name": "Python 2",
   "language": "python",
   "name": "python2"
  },
  "language_info": {
   "codemirror_mode": {
    "name": "ipython",
    "version": 2
   },
   "file_extension": ".py",
   "mimetype": "text/x-python",
   "name": "python",
   "nbconvert_exporter": "python",
   "pygments_lexer": "ipython2",
   "version": "2.7.12"
  }
 },
 "nbformat": 4,
 "nbformat_minor": 2
}
