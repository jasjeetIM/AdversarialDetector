{
 "cells": [
  {
   "cell_type": "code",
   "execution_count": 1,
   "metadata": {},
   "outputs": [],
   "source": [
    "%%capture state\n",
    "from __future__ import division\n",
    "from __future__ import print_function\n",
    "\n",
    "import sys, os\n",
    "sys.path.append('./src/')\n",
    "\n",
    "import tensorflow as tf\n",
    "import numpy as np\n",
    "\n",
    "from influence.neural_network import NeuralNetwork\n",
    "from influence.cnn import CNN\n",
    "import influence.util as util\n",
    "\n",
    "os.environ[\"CUDA_VISIBLE_DEVICES\"] = \"1\"\n",
    "\n",
    "#Seed used for all calculations of training and test point indices \n",
    "SEED = 14"
   ]
  },
  {
   "cell_type": "code",
   "execution_count": 2,
   "metadata": {
    "collapsed": true
   },
   "outputs": [],
   "source": [
    "## Visualization of samples\n",
    "import matplotlib\n",
    "import matplotlib.pyplot as plt\n",
    "%matplotlib inline\n",
    "\n",
    "def visualize(image):\n",
    "    plt.figure(figsize=(1, 1))\n",
    "    if image.shape[-1] == 1:\n",
    "        # image is in black and white\n",
    "        image = image[:, :, 0]\n",
    "        plt.imshow(image, cmap='Greys')\n",
    "    else:\n",
    "        # image is in color\n",
    "        plt.imshow(image)\n",
    "    plt.axis('off')\n",
    "    plt.show()\n",
    "\n",
    "#Normalize rows of a given matrix\n",
    "def normalize(matrix):\n",
    "    matrix_nm = np.zeros_like(matrix)\n",
    "    for i in range(matrix.shape[0]):\n",
    "        matrix_nm[i] = matrix[i]/np.linalg.norm(matrix[i]) \n",
    "    return matrix_nm"
   ]
  },
  {
   "cell_type": "code",
   "execution_count": 3,
   "metadata": {
    "scrolled": true
   },
   "outputs": [
    {
     "name": "stdout",
     "output_type": "stream",
     "text": [
      "Train on 73257 samples, validate on 13016 samples\n",
      "Epoch 1/50\n",
      "73257/73257 [==============================] - 12s 163us/step - loss: 3.8482 - acc: 0.2446 - val_loss: 1.6606 - val_acc: 0.5133\n",
      "Epoch 2/50\n",
      "73257/73257 [==============================] - 10s 135us/step - loss: 1.0082 - acc: 0.7497 - val_loss: 0.7012 - val_acc: 0.8464\n",
      "Epoch 3/50\n",
      "73257/73257 [==============================] - 10s 135us/step - loss: 0.6395 - acc: 0.8571 - val_loss: 0.5753 - val_acc: 0.8943\n",
      "Epoch 4/50\n",
      "73257/73257 [==============================] - 10s 137us/step - loss: 0.5340 - acc: 0.8830 - val_loss: 0.5118 - val_acc: 0.8911\n",
      "Epoch 5/50\n",
      "73257/73257 [==============================] - 10s 137us/step - loss: 0.4789 - acc: 0.8972 - val_loss: 0.4288 - val_acc: 0.9165\n",
      "Epoch 6/50\n",
      "73257/73257 [==============================] - 10s 134us/step - loss: 0.4397 - acc: 0.9058 - val_loss: 0.3725 - val_acc: 0.9272\n",
      "Epoch 7/50\n",
      "73257/73257 [==============================] - 10s 135us/step - loss: 0.4091 - acc: 0.9133 - val_loss: 0.3990 - val_acc: 0.9202\n",
      "Epoch 8/50\n",
      "73257/73257 [==============================] - 10s 135us/step - loss: 0.3861 - acc: 0.9183 - val_loss: 0.3904 - val_acc: 0.9202\n",
      "Epoch 9/50\n",
      "73257/73257 [==============================] - 10s 135us/step - loss: 0.3698 - acc: 0.9214 - val_loss: 0.3452 - val_acc: 0.9320\n",
      "Epoch 10/50\n",
      "73257/73257 [==============================] - 10s 135us/step - loss: 0.3533 - acc: 0.9264 - val_loss: 0.3244 - val_acc: 0.9352\n",
      "Epoch 11/50\n",
      "73257/73257 [==============================] - 10s 135us/step - loss: 0.3355 - acc: 0.9298 - val_loss: 0.3028 - val_acc: 0.9410\n",
      "Epoch 12/50\n",
      "73257/73257 [==============================] - 10s 135us/step - loss: 0.3245 - acc: 0.9329 - val_loss: 0.3088 - val_acc: 0.9377\n",
      "Epoch 13/50\n",
      "73257/73257 [==============================] - 10s 135us/step - loss: 0.3126 - acc: 0.9363 - val_loss: 0.3216 - val_acc: 0.9406\n",
      "Epoch 14/50\n",
      "73257/73257 [==============================] - 10s 135us/step - loss: 0.3014 - acc: 0.9391 - val_loss: 0.2988 - val_acc: 0.9402\n",
      "Epoch 15/50\n",
      "73257/73257 [==============================] - 10s 135us/step - loss: 0.2908 - acc: 0.9415 - val_loss: 0.2883 - val_acc: 0.9435\n",
      "Epoch 16/50\n",
      "73257/73257 [==============================] - 10s 135us/step - loss: 0.2842 - acc: 0.9431 - val_loss: 0.2861 - val_acc: 0.9425\n",
      "Epoch 17/50\n",
      "73257/73257 [==============================] - 10s 135us/step - loss: 0.2736 - acc: 0.9440 - val_loss: 0.2770 - val_acc: 0.9451\n",
      "Epoch 18/50\n",
      "73257/73257 [==============================] - 10s 135us/step - loss: 0.2655 - acc: 0.9470 - val_loss: 0.3017 - val_acc: 0.9378\n",
      "Epoch 19/50\n",
      "73257/73257 [==============================] - 10s 135us/step - loss: 0.2576 - acc: 0.9480 - val_loss: 0.3091 - val_acc: 0.9356\n",
      "Epoch 20/50\n",
      "73257/73257 [==============================] - 10s 135us/step - loss: 0.2548 - acc: 0.9494 - val_loss: 0.2928 - val_acc: 0.9435\n",
      "Epoch 21/50\n",
      "73257/73257 [==============================] - 10s 135us/step - loss: 0.2462 - acc: 0.9517 - val_loss: 0.3537 - val_acc: 0.9252\n",
      "Epoch 22/50\n",
      "73257/73257 [==============================] - 10s 136us/step - loss: 0.2368 - acc: 0.9536 - val_loss: 0.2707 - val_acc: 0.9437\n",
      "Epoch 23/50\n",
      "73257/73257 [==============================] - 10s 135us/step - loss: 0.2301 - acc: 0.9554 - val_loss: 0.2789 - val_acc: 0.9485\n",
      "Epoch 24/50\n",
      "73257/73257 [==============================] - 10s 135us/step - loss: 0.2283 - acc: 0.9552 - val_loss: 0.2871 - val_acc: 0.9386\n",
      "Epoch 25/50\n",
      "73257/73257 [==============================] - 10s 135us/step - loss: 0.2223 - acc: 0.9568 - val_loss: 0.2718 - val_acc: 0.9445\n",
      "Epoch 26/50\n",
      "73257/73257 [==============================] - 10s 135us/step - loss: 0.2170 - acc: 0.9577 - val_loss: 0.2581 - val_acc: 0.9483\n",
      "Epoch 27/50\n",
      "73257/73257 [==============================] - 10s 135us/step - loss: 0.2104 - acc: 0.9593 - val_loss: 0.2559 - val_acc: 0.9483\n",
      "Epoch 28/50\n",
      "73257/73257 [==============================] - 10s 135us/step - loss: 0.2080 - acc: 0.9599 - val_loss: 0.2817 - val_acc: 0.9441\n",
      "Epoch 29/50\n",
      "73257/73257 [==============================] - 10s 135us/step - loss: 0.2016 - acc: 0.9619 - val_loss: 0.2741 - val_acc: 0.9465\n",
      "Epoch 30/50\n",
      "73257/73257 [==============================] - 10s 135us/step - loss: 0.1978 - acc: 0.9621 - val_loss: 0.2980 - val_acc: 0.9375\n",
      "Epoch 31/50\n",
      "73257/73257 [==============================] - 10s 135us/step - loss: 0.1913 - acc: 0.9630 - val_loss: 0.2800 - val_acc: 0.9442\n",
      "Epoch 32/50\n",
      "73257/73257 [==============================] - 10s 135us/step - loss: 0.1867 - acc: 0.9642 - val_loss: 0.2693 - val_acc: 0.9461\n",
      "Epoch 33/50\n",
      "73257/73257 [==============================] - 10s 135us/step - loss: 0.1831 - acc: 0.9648 - val_loss: 0.2672 - val_acc: 0.9456\n",
      "Epoch 34/50\n",
      "73257/73257 [==============================] - 10s 135us/step - loss: 0.1800 - acc: 0.9661 - val_loss: 0.2722 - val_acc: 0.9442\n",
      "Epoch 35/50\n",
      "73257/73257 [==============================] - 10s 135us/step - loss: 0.1742 - acc: 0.9670 - val_loss: 0.2794 - val_acc: 0.9450\n",
      "Epoch 36/50\n",
      "73257/73257 [==============================] - 10s 135us/step - loss: 0.1737 - acc: 0.9669 - val_loss: 0.2728 - val_acc: 0.9473\n",
      "Epoch 37/50\n",
      "73257/73257 [==============================] - 10s 135us/step - loss: 0.1673 - acc: 0.9686 - val_loss: 0.2617 - val_acc: 0.9438\n",
      "Epoch 38/50\n",
      "73257/73257 [==============================] - 10s 135us/step - loss: 0.1648 - acc: 0.9693 - val_loss: 0.2645 - val_acc: 0.9453\n",
      "Epoch 39/50\n",
      "73257/73257 [==============================] - 10s 135us/step - loss: 0.1634 - acc: 0.9692 - val_loss: 0.2654 - val_acc: 0.9469\n",
      "Epoch 40/50\n",
      "73257/73257 [==============================] - 10s 135us/step - loss: 0.1583 - acc: 0.9705 - val_loss: 0.2518 - val_acc: 0.9501\n",
      "Epoch 41/50\n",
      "73257/73257 [==============================] - 10s 135us/step - loss: 0.1554 - acc: 0.9705 - val_loss: 0.2607 - val_acc: 0.9468\n",
      "Epoch 42/50\n",
      "73257/73257 [==============================] - 10s 135us/step - loss: 0.1553 - acc: 0.9701 - val_loss: 0.2823 - val_acc: 0.9443\n",
      "Epoch 43/50\n",
      "73257/73257 [==============================] - 10s 136us/step - loss: 0.1508 - acc: 0.9720 - val_loss: 0.2535 - val_acc: 0.9463\n",
      "Epoch 44/50\n",
      "73257/73257 [==============================] - 10s 135us/step - loss: 0.1447 - acc: 0.9730 - val_loss: 0.2606 - val_acc: 0.9499\n",
      "Epoch 45/50\n",
      "73257/73257 [==============================] - 10s 135us/step - loss: 0.1461 - acc: 0.9733 - val_loss: 0.2781 - val_acc: 0.9412\n",
      "Epoch 46/50\n",
      "73257/73257 [==============================] - 10s 135us/step - loss: 0.1422 - acc: 0.9740 - val_loss: 0.2594 - val_acc: 0.9466\n",
      "Epoch 47/50\n",
      "73257/73257 [==============================] - 10s 135us/step - loss: 0.1408 - acc: 0.9734 - val_loss: 0.3041 - val_acc: 0.9330\n",
      "Epoch 48/50\n",
      "73257/73257 [==============================] - 10s 135us/step - loss: 0.1409 - acc: 0.9738 - val_loss: 0.2590 - val_acc: 0.9470\n",
      "Epoch 49/50\n",
      "73257/73257 [==============================] - 10s 135us/step - loss: 0.1365 - acc: 0.9747 - val_loss: 0.2776 - val_acc: 0.9462\n",
      "Epoch 50/50\n",
      "73257/73257 [==============================] - 10s 135us/step - loss: 0.1319 - acc: 0.9757 - val_loss: 0.2648 - val_acc: 0.9466\n",
      "15816/15816 [==============================] - 1s 48us/step\n",
      "Saved model to disk\n"
     ]
    }
   ],
   "source": [
    "#Load model from disk\n",
    "model_name = 'SVHN-Pool'\n",
    "model_save_path = './trained_models/' + model_name + '-model.json'\n",
    "weights_save_path = './trained_models/' + model_name + 'weights'\n",
    "model = CNN(model_name=model_name, dataset='svhn_pool')\n",
    "epochs = 50\n",
    "model.train(epochs=epochs)\n",
    "model.save_model(model_save_path, weights_save_path)    "
   ]
  },
  {
   "cell_type": "code",
   "execution_count": 4,
   "metadata": {
    "collapsed": true
   },
   "outputs": [],
   "source": [
    "#Get training samples\n",
    "num_train_samples = 10000\n",
    "data_indices = model.gen_rand_indices(low=0, high=model.train_data.shape[0], seed=SEED, num_samples=num_train_samples)\n",
    "train_data = model.train_data[data_indices]\n",
    "train_data_labels = model.train_labels[data_indices]\n",
    "train_data_labels_int = np.argmax(train_data_labels, axis=1)"
   ]
  },
  {
   "cell_type": "code",
   "execution_count": 5,
   "metadata": {
    "scrolled": true
   },
   "outputs": [
    {
     "name": "stderr",
     "output_type": "stream",
     "text": [
      "/root/notebook/cleverhans/cleverhans/src/cleverhans/cleverhans/utils_keras.py:144: UserWarning: Please update your version to keras >= 2.1.3; support for earlier keras versions will be dropped on 2018-07-22\n",
      "  \"Please update your version to keras >= 2.1.3; \"\n"
     ]
    }
   ],
   "source": [
    "num_test_samples_per_class = 100\n",
    "num_test_samples = 10*num_test_samples_per_class\n",
    "\n",
    "#Generate test points\n",
    "test_indices = model.gen_rand_indices_all_classes(y=model.test_labels, seed=SEED, num_samples=num_test_samples_per_class)\n",
    "\n",
    "#Get Regular, Noisy, FGSM, BIM, and CW test points\n",
    "reg_data = model.test_data[test_indices]\n",
    "noisy_data = model.generate_perturbed_data(model.test_data[test_indices], model.test_labels[test_indices],seed=SEED, perturbation='Noisy')\n",
    "fgsm_data = model.generate_perturbed_data(model.test_data[test_indices], model.test_labels[test_indices],seed=SEED, perturbation='FGSM')\n",
    "bim_data = model.generate_perturbed_data(model.test_data[test_indices], model.test_labels[test_indices], seed=SEED, perturbation='BIM', iterations=10)\n",
    "cw_data = model.generate_perturbed_data(model.test_data[test_indices], model.test_labels[test_indices],seed=SEED, perturbation='CW', targeted=False)"
   ]
  },
  {
   "cell_type": "code",
   "execution_count": 10,
   "metadata": {
    "scrolled": true
   },
   "outputs": [
    {
     "name": "stdout",
     "output_type": "stream",
     "text": [
      "Loaded model from disk\n"
     ]
    }
   ],
   "source": [
    "#Reset tf.graph() as Cleverhans modifies the graph\n",
    "tf.reset_default_graph()\n",
    "\n",
    "#Reload the model and weights\n",
    "model = CNN(model_name=model_name, dataset='svhn_pool')\n",
    "model.load_model(model_save_path, weights_save_path)    "
   ]
  },
  {
   "cell_type": "code",
   "execution_count": 13,
   "metadata": {},
   "outputs": [
    {
     "data": {
      "image/png": "[encoded data removed]",
      "text/plain": [
       "<matplotlib.figure.Figure at 0x7f6d5824f450>"
      ]
     },
     "metadata": {},
     "output_type": "display_data"
    },
    {
     "data": {
      "image/png": "[encoded data removed]",
      "text/plain": [
       "<matplotlib.figure.Figure at 0x7f6d3292e790>"
      ]
     },
     "metadata": {},
     "output_type": "display_data"
    },
    {
     "data": {
      "image/png": "[encoded data removed]",
      "text/plain": [
       "<matplotlib.figure.Figure at 0x7f6d3292e710>"
      ]
     },
     "metadata": {},
     "output_type": "display_data"
    },
    {
     "data": {
      "image/png": "[encoded data removed]",
      "text/plain": [
       "<matplotlib.figure.Figure at 0x7f6d328886d0>"
      ]
     },
     "metadata": {},
     "output_type": "display_data"
    },
    {
     "data": {
      "image/png": "[encoded data removed]",
      "text/plain": [
       "<matplotlib.figure.Figure at 0x7f6d3279d550>"
      ]
     },
     "metadata": {},
     "output_type": "display_data"
    }
   ],
   "source": [
    "#Lets visualize one sample from each dataset\n",
    "x_vis = np.random.choice(range(0,num_test_samples), 1)\n",
    "visualize(reg_data[x_vis].reshape(32,32,3))\n",
    "visualize(noisy_data[x_vis].reshape(32,32,3))\n",
    "visualize(fgsm_data[x_vis].reshape(32,32,3))\n",
    "visualize(bim_data[x_vis].reshape(32,32,3))\n",
    "visualize(cw_data[x_vis].reshape(32,32,3))"
   ]
  },
  {
   "cell_type": "code",
   "execution_count": 14,
   "metadata": {},
   "outputs": [],
   "source": [
    "#Get predictions\n",
    "reg_preds = model.model.predict(reg_data.reshape(-1,32,32,3))\n",
    "noisy_preds = model.model.predict(noisy_data.reshape(-1,32,32,3))\n",
    "fgsm_preds = model.model.predict(fgsm_data.reshape(-1,32,32,3))\n",
    "bim_preds = model.model.predict(bim_data.reshape(-1,32,32,3))\n",
    "cw_preds = model.model.predict(cw_data.reshape(-1,32,32,3))"
   ]
  },
  {
   "cell_type": "code",
   "execution_count": 15,
   "metadata": {
    "collapsed": true
   },
   "outputs": [],
   "source": [
    "#Convert preds to labels\n",
    "reg_labels = np.zeros(reg_preds.shape)\n",
    "reg_labels[np.arange(num_test_samples),np.argmax(reg_preds, axis=1)] = 1\n",
    "\n",
    "noisy_labels = np.zeros(noisy_preds.shape)\n",
    "noisy_labels[np.arange(num_test_samples),np.argmax(noisy_preds, axis=1)] = 1\n",
    "\n",
    "fgsm_labels = np.zeros(fgsm_preds.shape)\n",
    "fgsm_labels[np.arange(num_test_samples),np.argmax(fgsm_preds, axis=1)] = 1\n",
    "\n",
    "bim_labels = np.zeros(bim_preds.shape)\n",
    "bim_labels[np.arange(num_test_samples),np.argmax(bim_preds, axis=1)] = 1\n",
    "\n",
    "cw_labels = np.zeros(cw_preds.shape)\n",
    "cw_labels[np.arange(num_test_samples),np.argmax(cw_preds, axis=1)] = 1\n"
   ]
  },
  {
   "cell_type": "code",
   "execution_count": null,
   "metadata": {
    "scrolled": true
   },
   "outputs": [
    {
     "name": "stdout",
     "output_type": "stream",
     "text": [
      "[0 0 0 0 0 0 0 0 0 0 0 0 0 0 0 0 0 0 0 0 6 1 0 0 0 0 0 0 0 0 0 0 0 0 0 5 0\n",
      " 0 0 0 0 0 0 0 1 0 0 0 0 0 0 0 0 0 0 0 0 0 7 0 0 0 5 0 0 0 0 0 0 0 0 0 0 0\n",
      " 0 0 0 0 0 0 0 0 0 0 0 0 7 0 0 0 0 0 0 0 9 0 0 0 0 0 1 1 1 1 1 1 1 1 1 1 1\n",
      " 1 1 1 1 1 1 1 1 1 1 1 1 1 1 1 1 1 1 1 0 1 1 1 4 1 1 1 1 1 1 1 7 1 1 1 1 6\n",
      " 1 1 1 1 1 1 1 1 1 1 1 1 1 1 1 1 1 1 1 1 1 1 1 1 1 1 1 1 1 1 1 1 1 1 1 1 1\n",
      " 1 1 1 1 1 1 1 1 1 1 1 1 1 1 1 2 2 2 2 9 2 2 2 2 2 2 2 2 2 2 2 2 2 2 2 2 2\n",
      " 2 2 2 2 2 2 2 2 2 2 2 2 2 2 2 2 2 2 2 2 2 2 2 2 2 2 3 2 2 2 2 2 2 2 2 2 2\n",
      " 2 2 2 2 2 2 2 2 2 2 2 2 2 2 2 2 2 2 2 2 2 2 2 2 5 2 2 2 2 2 2 2 2 2 2 2 2\n",
      " 2 2 2 2 3 3 3 3 3 3 3 3 3 3 3 3 3 3 3 3 3 3 3 3 3 2 3 3 3 3 3 3 3 3 3 3 3\n",
      " 3 3 3 3 3 3 3 5 3 3 3 3 3 3 3 3 3 3 7 3 3 3 3 3 3 3 3 3 3 3 3 3 3 3 3 3 3\n",
      " 3 3 3 3 3 3 3 3 3 3 3 3 3 3 3 3 3 3 3 3 3 3 3 3 3 3 3 3 3 3 4 4 4 4 4 4 4\n",
      " 4 4 4 4 4 4 5 4 4 4 4 4 4 4 4 4 4 4 4 4 4 4 4 4 4 4 4 4 4 4 4 1 4 4 4 4 4\n",
      " 1 8 4 4 4 4 4 7 4 4 4 3 4 4 4 4 4 4 4 4 4 4 4 4 4 4 4 4 4 4 4 4 4 4 4 4 4\n",
      " 4 4 4 4 4 4 4 4 4 4 4 4 4 4 4 4 4 4 4 5 5 5 5 5 5 5 5 5 5 5 5 5 5 5 5 5 5\n",
      " 5 5 5 5 5 5 5 5 5 5 5 5 5 5 5 5 5 5 5 5 5 5 5 5 5 5 5 5 5 5 5 5 5 5 5 5 5\n",
      " 5 5 5 5 5 5 5 5 5 5 3 5 5 5 5 5 6 5 5 6 5 5 5 5 5 5 5 5 5 5 5 5 5 5 5 5 5\n",
      " 5 5 5 5 5 5 5 5 6 6 6 6 6 6 6 6 6 9 6 6 6 6 6 6 6 6 6 6 6 6 6 6 6 6 6 6 6\n",
      " 6 6 6 6 6 6 6 6 6 6 6 6 6 6 6 6 6 6 6 6 6 6 6 6 6 6 6 6 6 6 6 6 5 6 6 6 6\n",
      " 6 6 5 6 6 6 6 6 6 6 6 6 6 6 6 6 6 6 6 6 6 6 6 6 6 6 6 6 6 6 6 6 6 6 7 7 7\n",
      " 7 7 7 7 7 7 7 7 7 7 7 7 7 7 7 7 7 7 7 2 7 7 7 7 7 7 7 7 7 7 7 1 7 7 7 7 7\n",
      " 7 7 7 7 7 7 7 7 7 7 1 7 7 7 7 7 7 7 7 7 7 7 7 1 1 7 7 7 7 7 7 7 7 7 7 7 7\n",
      " 7 7 7 7 7 7 7 7 7 7 7 7 7 7 7 7 7 1 7 7 7 7 7 8 8 6 8 8 8 8 8 8 8 8 8 8 8\n",
      " 8 8 8 8 8 8 8 6 8 8 8 8 8 0 8 8 8 8 8 8 8 8 8 8 8 8 8 8 8 0 8 8 6 2 8 8 8\n",
      " 8 8 3 8 8 8 8 8 8 8 8 8 8 8 8 8 8 8 8 8 5 8 8 8 8 8 8 8 8 8 0 8 8 8 8 8 8\n",
      " 8 8 8 8 8 8 8 8 8 8 8 8 9 9 0 9 9 9 9 0 9 5 9 9 9 9 9 9 9 9 9 9 9 9 9 9 9\n",
      " 9 9 9 9 9 9 9 9 4 9 9 9 9 9 9 9 9 9 1 9 9 9 9 7 5 9 9 9 9 9 9 9 9 9 9 9 9\n",
      " 9 9 9 9 9 9 2 9 9 9 9 9 9 9 2 9 9 9 9 9 9 9 9 9 9 9 9 9 9 9 9 9 9 9 9 9 9\n",
      " 9]\n",
      "[3 3 7 5 4 7 4 0 2 5 3 0 1 4 3 5 1 1 6 0 2 3 7 2 3 3 6 0 2 4 1 4 9 2 3 2 2\n",
      " 1 5 1 2 9 3 1 2 0 1 7 5 2 4 2 0 7 5 7 3 1 5 2 4 7 4 1 7 7 3 1 3 4 4 4 5 0\n",
      " 2 4 4 0 6 5 2 2 9 1 5 3 5 6 5 2 0 2 8 0 4 1 7 1 0 5 1 7 2 7 1 7 2 1 1 1 2\n",
      " 1 1 4 4 1 1 3 1 7 4 4 3 1 7 7 1 3 5 5 1 1 4 4 3 9 3 1 2 1 1 1 7 5 1 9 1 5\n",
      " 2 3 7 3 1 4 1 1 2 7 1 1 4 1 3 1 8 3 2 1 2 1 4 1 2 1 3 0 1 3 6 7 4 4 3 5 1\n",
      " 4 5 7 1 1 1 2 1 1 7 3 3 3 3 1 6 2 2 2 4 2 2 2 2 3 2 2 2 2 3 7 2 2 2 1 3 2\n",
      " 2 2 2 2 9 2 2 3 2 2 1 2 5 3 7 5 2 7 2 2 1 2 4 2 2 2 5 8 2 3 2 2 3 2 2 2 2\n",
      " 3 2 7 2 3 3 2 2 2 3 2 2 2 3 2 3 2 2 1 2 2 2 5 2 2 3 2 2 2 4 2 7 2 2 3 2 2\n",
      " 2 2 2 2 7 3 3 3 1 3 3 3 3 3 2 3 5 3 3 3 3 3 3 3 2 2 2 3 3 4 3 3 3 3 3 3 3\n",
      " 3 3 3 3 3 3 3 3 3 3 1 3 3 3 3 5 3 3 1 5 3 3 5 9 3 3 3 7 3 1 2 7 3 4 3 2 3\n",
      " 3 3 2 3 7 3 5 3 3 3 5 3 2 3 3 4 3 3 4 7 2 7 7 3 7 7 1 2 4 6 7 6 5 4 3 4 5\n",
      " 3 4 3 4 2 7 5 1 2 5 7 1 7 4 7 4 7 2 5 8 6 5 4 2 4 0 4 4 4 7 2 2 2 4 3 3 4\n",
      " 3 8 3 4 4 4 7 5 4 5 4 1 2 4 2 4 2 2 1 5 4 1 4 7 4 7 7 2 2 3 4 1 5 4 4 4 3\n",
      " 4 4 4 3 5 4 7 2 5 3 1 4 3 1 1 2 1 3 4 2 5 5 8 5 3 5 1 3 5 5 6 2 5 5 5 5 5\n",
      " 7 8 2 1 5 3 7 2 5 2 5 5 1 3 5 5 7 2 5 5 2 5 5 2 2 3 2 5 3 5 7 5 5 5 3 4 5\n",
      " 7 3 5 5 5 5 5 7 3 7 4 5 7 4 5 3 5 1 3 3 5 5 5 4 5 6 3 3 5 5 4 4 5 3 3 5 6\n",
      " 5 7 5 5 1 5 9 5 2 4 5 1 7 4 5 4 7 5 7 5 5 5 5 6 1 6 6 3 9 6 1 6 5 3 5 3 5\n",
      " 6 6 7 5 1 6 5 3 6 5 1 6 3 6 5 6 2 8 3 3 3 3 6 6 5 6 6 3 4 6 6 5 7 9 4 5 6\n",
      " 4 6 7 5 7 6 6 2 8 5 5 3 5 1 6 1 1 6 3 7 6 6 3 5 4 7 6 6 4 1 6 6 1 6 7 1 3\n",
      " 9 7 2 3 7 7 5 8 2 7 4 7 7 7 2 7 1 2 7 2 3 1 2 3 7 7 7 3 7 7 7 7 1 7 7 7 2\n",
      " 3 7 4 1 5 7 7 7 7 3 4 3 7 3 2 7 7 7 7 7 7 7 7 4 3 3 7 7 7 7 2 1 2 7 7 7 7\n",
      " 1 7 2 1 7 2 7 7 7 4 7 3 8 7 1 2 7 1 7 4 1 2 4 8 6 6 2 1 3 8 8 3 3 2 8 8 2\n",
      " 2 4 4 5 3 8 3 4 8 3 3 7 8 2 6 8 6 4 8 2 9 3 1 2 2 2 2 6 2 1 2 8 7 2 8 2 6\n",
      " 2 2 2 8 2 3 8 2 9 2 8 8 9 2 8 3 5 5 8 8 5 3 2 6 3 3 8 3 5 4 6 8 5 8 8 5 5\n",
      " 8 3 8 3 8 1 2 5 5 8 3 2 3 9 5 5 4 3 2 2 9 3 9 2 3 7 2 7 3 5 9 5 9 9 3 4 5\n",
      " 2 5 5 3 4 9 4 9 4 4 5 7 2 9 9 9 5 7 7 9 9 4 3 7 5 2 4 3 7 9 3 5 3 5 5 9 5\n",
      " 9 2 9 7 9 6 2 5 9 2 2 9 3 5 2 9 2 9 5 4 9 9 7 9 1 9 4 4 3 7 3 3 9 9 5 7 4\n",
      " 5]\n",
      "[7 1 4 5 2 5 5 2 1 1 2 2 2 5 2 2 5 6 2 6 5 7 2 5 4 5 1 4 7 3 2 5 3 5 7 5 7\n",
      " 2 1 7 2 2 3 7 2 4 7 4 5 2 2 3 7 1 8 7 5 4 9 1 2 6 5 1 2 1 5 2 1 4 9 5 3 5\n",
      " 4 6 4 7 5 3 5 5 3 5 3 4 3 2 5 7 4 5 7 4 4 2 4 8 3 5 3 7 5 2 4 3 5 5 3 9 7\n",
      " 4 2 7 7 5 2 3 5 3 6 2 5 3 5 8 2 2 3 5 0 7 3 4 2 9 3 3 4 7 4 2 1 2 5 3 3 5\n",
      " 6 7 2 6 2 7 7 7 4 5 3 2 4 7 7 4 4 7 5 6 2 7 7 1 4 5 3 7 4 6 7 7 2 4 4 6 2\n",
      " 2 9 3 3 5 3 5 5 3 4 2 5 1 2 7 6 1 5 4 5 1 5 7 2 4 6 3 3 2 5 5 3 1 3 6 5 3\n",
      " 2 6 2 5 3 5 3 9 7 3 2 7 3 4 3 5 5 3 7 6 5 7 3 2 6 5 5 4 7 2 3 3 5 3 3 5 7\n",
      " 3 5 2 5 5 3 7 5 5 3 4 5 5 5 2 3 7 2 3 3 5 7 3 5 5 5 2 3 4 4 7 7 7 4 2 1 5\n",
      " 5 3 7 3 2 4 3 1 3 4 3 4 7 6 1 1 2 1 3 5 5 3 5 1 2 2 3 2 7 2 1 3 7 5 5 3 2\n",
      " 2 5 2 2 5 5 3 1 7 3 3 6 8 1 3 5 2 5 3 3 9 3 6 5 9 5 5 2 4 7 2 3 2 5 6 2 2\n",
      " 6 2 1 4 5 2 6 7 7 2 7 7 5 5 7 3 5 5 3 5 1 1 5 1 5 4 3 5 2 6 2 2 2 1 2 3 7\n",
      " 4 2 2 7 2 7 5 3 7 7 4 9 1 2 3 5 3 3 7 2 5 7 7 4 3 6 5 5 7 5 4 7 2 2 2 2 3\n",
      " 2 6 3 4 4 2 1 6 5 2 5 3 4 5 5 4 7 3 7 1 5 3 4 1 5 2 7 7 2 2 6 3 2 7 8 4 7\n",
      " 2 5 9 9 7 7 7 2 7 2 2 3 2 1 2 2 3 2 7 2 5 7 7 4 4 6 2 5 4 8 8 1 5 6 1 4 3\n",
      " 2 3 4 2 2 3 4 2 4 1 4 2 7 7 1 3 2 7 1 7 7 3 2 4 1 2 2 1 6 2 6 2 4 4 7 3 1\n",
      " 2 4 2 4 5 5 7 7 2 2 5 2 7 2 4 2 2 4 3 6 2 7 2 1 2 7 0 5 4 4 4 5 4 3 7 4 7\n",
      " 7 5 6 5 7 5 7 6 3 2 5 3 7 4 9 3 3 5 2 6 2 3 4 1 5 7 2 7 7 9 2 2 3 7 3 4 5\n",
      " 5 5 9 1 4 3 3 3 2 5 4 2 7 7 3 1 2 5 2 3 2 4 9 2 3 9 7 3 7 1 5 4 5 1 3 5 2\n",
      " 5 5 5 3 9 3 7 3 3 3 7 8 3 2 2 7 2 1 5 2 3 2 3 9 9 2 7 3 2 5 2 3 3 5 1 9 7\n",
      " 3 5 1 9 0 3 7 5 4 5 4 2 0 4 0 3 3 2 3 2 2 1 2 1 3 5 7 5 2 2 2 7 5 0 8 4 6\n",
      " 4 2 7 3 5 4 1 3 4 1 2 3 3 4 4 4 5 2 5 5 3 3 2 1 7 3 1 2 4 7 7 4 1 2 4 1 2\n",
      " 3 4 5 4 1 3 7 4 7 6 6 4 4 5 1 2 3 1 2 3 5 3 1 7 5 1 2 5 7 5 3 7 2 1 5 2 2\n",
      " 3 2 4 7 5 1 5 4 5 6 7 5 5 2 2 3 3 3 9 6 7 5 3 2 1 3 5 7 2 5 3 5 4 2 1 1 2\n",
      " 3 3 9 7 1 5 2 7 5 5 7 3 5 3 3 1 1 4 1 3 5 5 1 6 3 3 5 3 5 1 2 3 6 7 4 2 1\n",
      " 7 4 2 3 5 3 1 7 5 4 5 4 7 7 5 2 3 5 6 5 3 4 2 3 7 1 2 1 7 2 5 3 2 2 5 8 5\n",
      " 3 7 3 3 7 2 6 3 6 1 3 2 3 2 2 7 4 3 4 5 1 3 7 8 4 2 1 3 4 7 4 3 5 3 3 4 2\n",
      " 7 3 2 2 5 7 9 3 7 4 5 1 5 7 2 6 7 7 2 1 2 2 3 4 3 2 2 8 5 5 7 3 6 2 8 7 5\n",
      " 8]\n",
      "[5 2 7 5 2 5 5 4 2 2 7 3 1 3 2 6 5 3 4 6 9 3 2 7 7 5 5 5 7 3 1 4 6 6 9 2 1\n",
      " 5 5 2 5 3 5 4 9 3 5 4 7 3 5 3 6 4 3 4 5 4 4 5 6 4 2 2 3 2 3 4 5 3 3 5 5 5\n",
      " 5 3 5 3 6 6 8 3 4 8 9 5 0 5 6 7 3 5 3 2 2 1 1 8 4 5 4 2 2 3 4 3 7 4 4 5 2\n",
      " 4 2 4 4 5 4 3 3 7 3 2 0 4 6 0 4 8 2 3 1 7 4 9 1 3 2 6 7 0 4 2 1 2 6 4 2 3\n",
      " 3 3 2 4 9 4 9 4 8 2 3 7 7 9 7 3 4 3 5 2 5 4 4 9 7 7 3 7 4 4 3 7 2 3 2 3 3\n",
      " 3 4 7 8 0 7 4 5 2 6 7 6 3 2 7 6 7 4 7 6 3 7 3 7 3 3 5 3 3 6 5 5 3 4 6 7 4\n",
      " 6 3 5 5 5 6 4 3 7 3 5 6 3 7 7 7 5 4 5 3 5 7 4 1 6 4 6 6 6 7 5 4 3 4 1 3 1\n",
      " 5 0 5 6 5 6 5 5 5 5 5 3 6 6 7 1 7 7 3 1 4 4 5 7 2 6 5 3 7 6 7 7 6 7 3 3 3\n",
      " 7 6 6 7 4 0 5 4 4 4 6 4 6 6 9 8 5 7 9 4 8 6 0 5 4 6 4 5 7 9 4 5 7 5 6 9 6\n",
      " 8 1 9 9 6 4 2 3 2 2 9 5 9 2 4 6 7 5 4 9 9 6 8 9 2 9 1 6 2 5 4 5 4 4 8 9 2\n",
      " 7 8 9 5 5 2 6 4 5 2 5 6 4 5 5 4 6 5 4 2 1 6 9 2 1 9 4 4 9 1 2 8 9 2 3 1 3\n",
      " 2 7 2 3 2 1 4 7 3 5 2 9 1 7 6 7 2 3 3 5 7 7 0 2 7 7 7 3 7 2 3 4 2 5 5 3 7\n",
      " 4 9 2 3 7 2 7 2 3 2 7 5 2 3 6 2 7 3 2 2 3 1 3 3 5 7 3 3 2 7 2 8 2 7 5 2 7\n",
      " 3 7 2 0 2 2 2 2 1 2 3 2 1 1 1 5 3 1 8 0 0 6 4 3 4 6 0 6 6 8 6 3 3 6 3 7 6\n",
      " 0 2 2 2 6 2 8 2 4 2 2 2 7 7 6 6 8 6 6 2 4 3 3 6 2 3 1 8 2 8 3 3 7 6 3 3 6\n",
      " 0 3 6 8 2 8 1 6 4 2 7 6 6 2 0 2 5 6 3 5 8 6 6 4 6 7 3 0 8 6 0 6 6 1 6 3 2\n",
      " 6 8 6 6 1 0 2 6 3 3 5 4 3 4 5 2 3 7 2 2 2 3 2 5 3 9 3 3 5 5 7 5 3 7 4 2 2\n",
      " 1 5 9 3 2 3 3 3 5 4 3 3 2 1 5 9 3 8 8 3 8 3 2 3 9 5 2 3 5 3 3 3 7 2 3 5 3\n",
      " 2 5 6 2 2 3 3 0 3 3 3 8 5 2 5 3 9 5 3 3 5 4 2 5 4 3 1 5 3 3 5 3 7 5 1 6 1\n",
      " 6 1 2 2 2 2 2 1 2 8 3 4 2 2 2 2 6 1 2 7 2 3 1 2 2 2 2 8 2 2 2 7 2 2 2 3 4\n",
      " 2 2 1 6 2 2 2 1 2 0 7 2 4 1 2 5 1 2 3 5 1 8 2 7 7 3 2 1 1 2 1 2 2 1 4 2 1\n",
      " 1 4 5 2 1 2 3 2 2 4 8 2 2 4 6 2 1 5 1 2 0 3 2 6 6 8 5 5 6 6 1 6 7 2 6 1 2\n",
      " 1 7 5 3 1 6 6 4 7 6 3 6 3 8 2 5 5 6 9 6 6 5 3 3 2 6 2 6 5 6 5 5 3 8 7 6 5\n",
      " 7 6 7 6 3 9 5 3 9 5 3 6 6 4 3 6 3 6 6 7 8 6 5 6 7 6 6 5 5 6 3 3 6 5 6 5 2\n",
      " 6 5 6 5 6 9 1 9 6 6 4 6 3 6 4 2 3 3 2 2 0 9 2 2 3 7 7 6 3 2 3 3 4 4 3 3 6\n",
      " 4 3 3 2 5 2 6 2 3 2 3 7 4 3 2 2 3 0 7 3 6 4 2 9 6 5 2 1 1 3 6 6 3 2 6 2 4\n",
      " 3 2 6 3 6 5 9 6 2 1 6 2 4 7 9 2 7 3 3 0 2 3 5 2 0 2 6 6 3 7 3 4 4 2 5 2 2\n",
      " 5]\n",
      "[9 9 9 6 8 9 6 4 2 2 7 3 1 9 2 6 6 6 4 6 0 7 9 7 9 2 9 6 2 3 1 3 6 6 9 6 1\n",
      " 7 6 9 6 6 9 6 7 8 9 9 7 9 6 3 6 8 1 6 6 6 4 6 6 4 6 9 9 2 9 9 1 9 3 6 6 6\n",
      " 3 3 1 3 6 6 6 3 6 8 9 9 0 6 6 2 6 9 3 9 2 6 1 6 4 8 4 6 2 3 4 4 4 4 4 4 2\n",
      " 4 2 4 4 7 7 3 3 7 3 4 0 4 6 4 4 4 3 4 1 7 4 4 1 3 7 4 2 7 4 2 1 0 5 4 2 3\n",
      " 3 6 7 4 3 2 3 2 8 2 3 7 4 7 7 3 4 2 6 2 5 2 4 3 7 7 3 7 4 4 3 7 2 3 2 4 3\n",
      " 3 4 7 8 7 7 4 5 4 5 7 6 3 4 9 4 3 7 7 5 3 7 3 7 3 3 3 3 3 3 4 1 3 4 3 7 4\n",
      " 3 3 3 3 3 4 3 3 7 3 3 8 3 7 7 7 5 4 9 3 7 7 3 1 8 4 5 7 0 7 1 3 3 3 3 3 3\n",
      " 5 0 3 3 3 3 3 3 4 3 3 3 3 4 7 1 7 7 3 7 7 4 3 7 2 3 3 3 7 6 7 7 0 7 3 7 3\n",
      " 7 3 0 7 1 9 5 5 2 9 6 5 5 5 2 2 5 7 5 8 8 6 9 5 5 3 8 5 7 9 5 5 7 5 7 5 5\n",
      " 8 1 9 9 5 5 2 3 2 2 9 5 9 2 5 5 9 5 1 5 9 5 8 9 5 9 1 5 2 5 5 8 9 4 8 9 7\n",
      " 7 8 5 5 5 7 8 9 5 2 5 5 5 5 5 4 7 5 4 1 2 5 9 2 1 9 5 2 9 1 2 9 9 2 3 9 6\n",
      " 2 2 2 3 2 1 4 1 3 5 2 9 1 2 5 7 2 9 1 5 9 7 0 2 1 0 7 7 1 7 3 5 2 5 6 5 7\n",
      " 4 0 2 8 1 2 1 2 3 9 7 5 2 2 6 2 2 3 1 6 2 1 3 1 5 1 1 6 2 2 2 6 2 7 5 2 2\n",
      " 6 2 6 5 2 2 2 2 2 0 1 2 1 1 1 1 1 1 8 6 3 6 4 3 4 6 3 6 6 6 6 3 3 6 3 1 6\n",
      " 6 8 3 3 6 3 8 4 4 3 2 3 3 3 7 6 3 6 3 6 4 3 3 6 3 3 8 6 2 8 3 3 3 6 3 3 6\n",
      " 9 3 6 3 3 6 3 9 3 4 5 6 3 2 3 3 5 6 3 5 6 6 6 2 3 7 9 8 6 6 9 6 6 3 6 3 6\n",
      " 6 3 6 6 3 7 6 6 3 8 5 5 3 4 5 5 5 4 2 2 5 5 8 5 4 8 5 5 5 5 7 5 2 8 4 8 3\n",
      " 1 5 9 5 8 8 5 3 5 5 8 3 5 5 5 8 3 8 8 8 8 7 0 5 5 5 5 4 5 8 0 5 3 2 3 5 5\n",
      " 2 8 6 8 0 8 3 0 8 5 3 8 5 2 5 5 5 5 5 5 5 4 0 5 4 7 8 5 3 0 5 8 7 5 1 3 1\n",
      " 2 1 2 2 1 9 2 3 1 3 3 1 1 2 2 2 2 3 2 7 2 3 1 2 2 2 2 5 3 2 2 7 2 2 3 2 1\n",
      " 2 2 1 2 2 1 2 1 2 9 7 1 9 2 2 5 1 2 3 5 1 3 2 7 7 2 2 1 1 4 1 2 1 1 2 1 1\n",
      " 4 1 3 2 1 2 3 2 2 5 3 9 2 6 2 2 1 5 2 1 5 3 2 6 6 8 6 6 6 6 1 6 3 2 6 3 5\n",
      " 5 7 3 3 1 6 6 4 9 6 3 6 6 8 2 9 3 6 9 6 6 0 3 3 6 6 3 6 3 6 5 9 3 8 6 6 5\n",
      " 6 6 7 6 3 9 9 3 3 6 3 6 6 6 3 6 3 6 6 6 9 6 1 6 6 6 6 5 6 6 6 3 6 6 6 5 3\n",
      " 6 3 6 9 6 9 6 9 6 6 9 6 3 5 9 2 3 2 0 2 0 9 2 2 5 2 7 6 3 2 5 3 2 4 8 3 7\n",
      " 5 4 2 2 0 0 4 5 1 0 3 2 4 2 3 2 2 0 7 2 0 5 2 9 6 3 2 1 7 3 5 3 8 2 0 2 5\n",
      " 3 2 5 3 5 7 9 5 2 8 5 0 4 2 9 2 7 3 2 0 2 3 5 0 0 2 0 2 2 0 8 4 5 2 5 2 2\n",
      " 5]\n"
     ]
    }
   ],
   "source": [
    "#Check preds to ensure adversarial samples were generated correctly\n",
    "print (np.argmax(reg_preds, axis=1))\n",
    "print (np.argmax(noisy_preds, axis=1))\n",
    "print (np.argmax(fgsm_preds, axis=1))\n",
    "print (np.argmax(bim_preds, axis=1))\n",
    "print (np.argmax(cw_preds, axis=1))\n"
   ]
  },
  {
   "cell_type": "code",
   "execution_count": null,
   "metadata": {
    "collapsed": true
   },
   "outputs": [],
   "source": [
    "#Get gradients for all test points\n",
    "grads_reg = model.get_gradients_wrt_params(reg_data, reg_labels)\n",
    "grads_noisy = model.get_gradients_wrt_params(noisy_data, noisy_labels)\n",
    "grads_fgsm = model.get_gradients_wrt_params(fgsm_data, fgsm_labels)\n",
    "grads_bim = model.get_gradients_wrt_params(bim_data, bim_labels)\n",
    "grads_cw = model.get_gradients_wrt_params(cw_data, cw_labels)\n",
    "\n",
    "#Get gradients for training points \n",
    "grads_train = model.get_gradients_wrt_params(train_data, train_data_labels)"
   ]
  },
  {
   "cell_type": "code",
   "execution_count": null,
   "metadata": {
    "collapsed": true
   },
   "outputs": [],
   "source": [
    "grads_reg_nm = normalize(grads_reg)\n",
    "grads_noisy_nm = normalize(grads_noisy)\n",
    "grads_fgsm_nm = normalize(grads_fgsm)\n",
    "grads_bim_nm = normalize(grads_bim)\n",
    "grads_cw_nm = normalize(grads_cw)\n",
    "grads_train_nm = normalize(grads_train)"
   ]
  },
  {
   "cell_type": "code",
   "execution_count": null,
   "metadata": {
    "collapsed": true
   },
   "outputs": [],
   "source": [
    "#Get norms \n",
    "grads_reg_norms = np.sqrt(np.dot(grads_reg, grads_reg.T)).diagonal()\n",
    "grads_noisy_norms = np.sqrt(np.dot(grads_noisy, grads_noisy.T)).diagonal()\n",
    "grads_bim_norms = np.sqrt(np.dot(grads_bim, grads_bim.T)).diagonal()\n",
    "grads_fgsm_norms = np.sqrt(np.dot(grads_fgsm, grads_fgsm.T)).diagonal()\n",
    "grads_cw_norms = np.sqrt(np.dot(grads_cw, grads_cw.T)).diagonal()"
   ]
  },
  {
   "cell_type": "code",
   "execution_count": null,
   "metadata": {
    "collapsed": true
   },
   "outputs": [],
   "source": [
    "#Get cosine similarity matrix\n",
    "cos_sim_reg = np.dot(grads_reg_nm, grads_train_nm.T)\n",
    "cos_sim_noisy = np.dot(grads_noisy_nm, grads_train_nm.T)\n",
    "cos_sim_fgsm = np.dot(grads_fgsm_nm, grads_train_nm.T)\n",
    "cos_sim_bim = np.dot(grads_bim_nm, grads_train_nm.T)\n",
    "cos_sim_cw = np.dot(grads_cw_nm, grads_train_nm.T)"
   ]
  },
  {
   "cell_type": "code",
   "execution_count": null,
   "metadata": {
    "collapsed": true
   },
   "outputs": [],
   "source": [
    "#Separate Using Cos Sim\n",
    "\n",
    "eta = 0.81\n",
    "\n",
    "count = 0.0\n",
    "for i in range(num_test_samples):\n",
    "    if np.max(cos_sim_reg[i]) > eta:\n",
    "        count+=1.0\n",
    "        \n",
    "print ('Regular: %.4f' % ( count/num_test_samples))\n",
    "\n",
    "count = 0.0\n",
    "for i in range(num_test_samples):\n",
    "    if np.max(cos_sim_noisy[i]) > eta:\n",
    "        count+=1.0\n",
    "    \n",
    "print ('Noisy:  %.4f' % ( count/num_test_samples))\n",
    "\n",
    "count=0.0\n",
    "for i in range(num_test_samples):\n",
    "    if np.max(cos_sim_fgsm[i]) > eta:\n",
    "        count+=1.0\n",
    "        \n",
    "print ('FGSM:  %.4f' % ( count/num_test_samples))\n",
    "\n",
    "count=0.0\n",
    "for i in range(num_test_samples):\n",
    "    if np.max(cos_sim_bim[i]) > eta:\n",
    "        count+=1.0\n",
    "        \n",
    "print ('BIM:  %.4f' % ( count/num_test_samples))\n",
    "\n",
    "count=0.0\n",
    "for i in range(num_test_samples):\n",
    "    if np.max(cos_sim_cw[i]) > eta:\n",
    "        count+=1.0\n",
    "    \n",
    "print ('CW: %.4f' % ( count/num_test_samples))\n",
    "\n",
    "\n"
   ]
  },
  {
   "cell_type": "code",
   "execution_count": null,
   "metadata": {
    "collapsed": true
   },
   "outputs": [],
   "source": [
    "#Separate using just norm\n",
    "gamma = 0.15\n",
    "\n",
    "count = 0.0\n",
    "for i in range(num_test_samples):\n",
    "    if grads_reg_norms[i] < gamma:\n",
    "        count+=1.0\n",
    "        \n",
    "print ('Regular: %.4f' % ( count/num_test_samples))\n",
    "\n",
    "count = 0.0\n",
    "for i in range(num_test_samples):\n",
    "    if grads_noisy_norms[i] < gamma:\n",
    "        count+=1.0\n",
    "    \n",
    "print ('Noisy:  %.4f' % ( count/num_test_samples))\n",
    "\n",
    "count=0.0\n",
    "for i in range(num_test_samples):\n",
    "    if grads_fgsm_norms[i] < gamma:\n",
    "        count+=1.0\n",
    "        \n",
    "print ('FGSM:  %.4f' % ( count/num_test_samples))\n",
    "\n",
    "count=0.0\n",
    "for i in range(num_test_samples):\n",
    "    if grads_bim_norms[i] < gamma:\n",
    "        count+=1.0\n",
    "        \n",
    "print ('BIM:  %.4f' % ( count/num_test_samples))\n",
    "\n",
    "count=0.0\n",
    "for i in range(num_test_samples):\n",
    "    if grads_cw_norms[i] < gamma:\n",
    "        count+=1.0\n",
    "    \n",
    "print ('CW: %.4f' % ( count/num_test_samples))\n",
    "\n",
    "\n",
    "\n"
   ]
  },
  {
   "cell_type": "code",
   "execution_count": null,
   "metadata": {
    "collapsed": true
   },
   "outputs": [],
   "source": [
    "#Use both\n",
    "\n",
    "count = 0.0\n",
    "for i in range(num_test_samples):\n",
    "    if np.max(cos_sim_reg[i]) > eta and grads_reg_norms[i] < gamma:\n",
    "        count+=1.0\n",
    "        \n",
    "print ('Regular: %.4f' % ( count/num_test_samples))\n",
    "\n",
    "count = 0.0\n",
    "for i in range(num_test_samples):\n",
    "    if np.max(cos_sim_noisy[i]) > eta and grads_noisy_norms[i] < gamma:\n",
    "        count+=1.0\n",
    "    \n",
    "print ('Noisy:  %.4f' % ( count/num_test_samples))\n",
    "\n",
    "count=0.0\n",
    "for i in range(num_test_samples):\n",
    "    if np.max(cos_sim_fgsm[i]) > eta and grads_fgsm_norms[i] < gamma:\n",
    "        count+=1.0\n",
    "        \n",
    "print ('FGSM:  %.4f' % ( count/num_test_samples))\n",
    "\n",
    "count=0.0\n",
    "for i in range(num_test_samples):\n",
    "    if np.max(cos_sim_bim[i]) > eta and grads_bim_norms[i] < gamma:\n",
    "        count+=1.0\n",
    "        \n",
    "print ('BIM:  %.4f' % ( count/num_test_samples))\n",
    "\n",
    "count=0.0\n",
    "for i in range(num_test_samples):\n",
    "    if np.max(cos_sim_cw[i]) > eta and grads_cw_norms[i] < gamma:\n",
    "        count+=1.0\n",
    "    \n",
    "print ('CW: %.4f' % ( count/num_test_samples))\n",
    "\n",
    "\n"
   ]
  }
 ],
 "metadata": {
  "kernelspec": {
   "display_name": "Python 2",
   "language": "python",
   "name": "python2"
  },
  "language_info": {
   "codemirror_mode": {
    "name": "ipython",
    "version": 2
   },
   "file_extension": ".py",
   "mimetype": "text/x-python",
   "name": "python",
   "nbconvert_exporter": "python",
   "pygments_lexer": "ipython2",
   "version": "2.7.12"
  }
 },
 "nbformat": 4,
 "nbformat_minor": 2
}
