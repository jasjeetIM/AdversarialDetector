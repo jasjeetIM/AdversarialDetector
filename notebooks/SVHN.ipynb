{
 "cells": [
  {
   "cell_type": "code",
   "execution_count": 1,
   "metadata": {},
   "outputs": [],
   "source": [
    "%%capture state\n",
    "from __future__ import division\n",
    "from __future__ import print_function\n",
    "\n",
    "import sys, os\n",
    "sys.path.append('../')\n",
    "\n",
    "import tensorflow as tf\n",
    "import numpy as np\n",
    "\n",
    "from models.neural_network import NeuralNetwork\n",
    "from models.cnn import CNN\n",
    "#from models.util import avg_l2_dist, visualize, normalize\n",
    "\n",
    "os.environ[\"CUDA_VISIBLE_DEVICES\"] = \"0\"\n",
    "\n",
    "#Seed used for all calculations of training and test point indices \n",
    "SEED = 14"
   ]
  },
  {
   "cell_type": "code",
   "execution_count": 2,
   "metadata": {
    "collapsed": true
   },
   "outputs": [],
   "source": [
    "## Visualization of samples\n",
    "import matplotlib\n",
    "import matplotlib.pyplot as plt\n",
    "%matplotlib inline\n",
    "\n",
    "def visualize(image):\n",
    "    plt.figure(figsize=(1, 1))\n",
    "    if image.shape[-1] == 1:\n",
    "        # image is in black and white\n",
    "        image = image[:, :, 0]\n",
    "        plt.imshow(image, cmap='Greys')\n",
    "    else:\n",
    "        # image is in color\n",
    "        plt.imshow(image)\n",
    "    plt.axis('off')\n",
    "    plt.show()\n",
    "\n",
    "#Normalize rows of a given matrix\n",
    "def normalize(matrix):\n",
    "    matrix_nm = np.zeros_like(matrix)\n",
    "    for i in range(matrix.shape[0]):\n",
    "        matrix_nm[i] = matrix[i]/np.linalg.norm(matrix[i]) \n",
    "    return matrix_nm"
   ]
  },
  {
   "cell_type": "code",
   "execution_count": null,
   "metadata": {
    "scrolled": false
   },
   "outputs": [
    {
     "name": "stdout",
     "output_type": "stream",
     "text": [
      "22247242\n",
      "Train on 604388 samples, validate on 13016 samples\n",
      "Epoch 1/200\n",
      "604388/604388 [==============================] - 180s 298us/step - loss: 0.8540 - acc: 0.8480 - val_loss: 0.7491 - val_acc: 0.8638\n",
      "Epoch 2/200\n",
      "604388/604388 [==============================] - 180s 298us/step - loss: 0.5641 - acc: 0.9097 - val_loss: 0.6356 - val_acc: 0.8848\n",
      "Epoch 3/200\n",
      "604388/604388 [==============================] - 180s 298us/step - loss: 0.5155 - acc: 0.9192 - val_loss: 0.5934 - val_acc: 0.8973\n",
      "Epoch 4/200\n",
      "604388/604388 [==============================] - 180s 298us/step - loss: 0.4850 - acc: 0.9250 - val_loss: 0.5619 - val_acc: 0.9033\n",
      "Epoch 5/200\n",
      "604388/604388 [==============================] - 180s 297us/step - loss: 0.4547 - acc: 0.9291 - val_loss: 0.5317 - val_acc: 0.9072\n",
      "Epoch 6/200\n",
      "604388/604388 [==============================] - 180s 297us/step - loss: 0.4307 - acc: 0.9325 - val_loss: 0.5062 - val_acc: 0.9100\n",
      "Epoch 7/200\n",
      "604388/604388 [==============================] - 180s 297us/step - loss: 0.4173 - acc: 0.9345 - val_loss: 0.4939 - val_acc: 0.9140\n",
      "Epoch 8/200\n",
      "604388/604388 [==============================] - 180s 297us/step - loss: 0.4096 - acc: 0.9359 - val_loss: 0.4914 - val_acc: 0.9130\n",
      "Epoch 9/200\n",
      "604388/604388 [==============================] - 180s 297us/step - loss: 0.4037 - acc: 0.9369 - val_loss: 0.4948 - val_acc: 0.9121\n",
      "Epoch 10/200\n",
      "604388/604388 [==============================] - 180s 298us/step - loss: 0.3987 - acc: 0.9380 - val_loss: 0.4770 - val_acc: 0.9163\n",
      "Epoch 11/200\n",
      "604388/604388 [==============================] - 180s 297us/step - loss: 0.3929 - acc: 0.9395 - val_loss: 0.4828 - val_acc: 0.9134\n",
      "Epoch 12/200\n",
      "604388/604388 [==============================] - 180s 297us/step - loss: 0.3893 - acc: 0.9404 - val_loss: 0.4694 - val_acc: 0.9184\n",
      "Epoch 13/200\n",
      "604388/604388 [==============================] - 180s 297us/step - loss: 0.3865 - acc: 0.9410 - val_loss: 0.4630 - val_acc: 0.9201\n",
      "Epoch 14/200\n",
      "604388/604388 [==============================] - 180s 297us/step - loss: 0.3814 - acc: 0.9418 - val_loss: 0.4657 - val_acc: 0.9182\n",
      "Epoch 15/200\n",
      "604388/604388 [==============================] - 180s 297us/step - loss: 0.3777 - acc: 0.9425 - val_loss: 0.4714 - val_acc: 0.9155\n",
      "Epoch 16/200\n",
      "604388/604388 [==============================] - 180s 297us/step - loss: 0.3742 - acc: 0.9431 - val_loss: 0.4528 - val_acc: 0.9245\n",
      "Epoch 17/200\n",
      "604388/604388 [==============================] - 180s 297us/step - loss: 0.3709 - acc: 0.9435 - val_loss: 0.4757 - val_acc: 0.9134\n",
      "Epoch 18/200\n",
      "604388/604388 [==============================] - 180s 297us/step - loss: 0.3685 - acc: 0.9441 - val_loss: 0.4630 - val_acc: 0.9208\n",
      "Epoch 19/200\n",
      "604388/604388 [==============================] - 180s 298us/step - loss: 0.3668 - acc: 0.9445 - val_loss: 0.4427 - val_acc: 0.9232\n",
      "Epoch 20/200\n",
      "604388/604388 [==============================] - 180s 298us/step - loss: 0.3637 - acc: 0.9446 - val_loss: 0.4423 - val_acc: 0.9233\n",
      "Epoch 21/200\n",
      "604388/604388 [==============================] - 180s 297us/step - loss: 0.3612 - acc: 0.9456 - val_loss: 0.4386 - val_acc: 0.9242\n",
      "Epoch 22/200\n",
      "604388/604388 [==============================] - 180s 297us/step - loss: 0.3596 - acc: 0.9453 - val_loss: 0.4372 - val_acc: 0.9262\n",
      "Epoch 23/200\n",
      "604388/604388 [==============================] - 180s 298us/step - loss: 0.3575 - acc: 0.9458 - val_loss: 0.4382 - val_acc: 0.9243\n",
      "Epoch 24/200\n",
      "604388/604388 [==============================] - 180s 298us/step - loss: 0.3554 - acc: 0.9462 - val_loss: 0.4375 - val_acc: 0.9261\n",
      "Epoch 25/200\n",
      "604388/604388 [==============================] - 180s 298us/step - loss: 0.3536 - acc: 0.9461 - val_loss: 0.4435 - val_acc: 0.9212\n",
      "Epoch 26/200\n",
      "604388/604388 [==============================] - 180s 297us/step - loss: 0.3536 - acc: 0.9464 - val_loss: 0.4317 - val_acc: 0.9242\n",
      "Epoch 27/200\n",
      "604388/604388 [==============================] - 180s 298us/step - loss: 0.3516 - acc: 0.9467 - val_loss: 0.4311 - val_acc: 0.9295\n",
      "Epoch 28/200\n",
      "604388/604388 [==============================] - 180s 298us/step - loss: 0.3497 - acc: 0.9473 - val_loss: 0.4285 - val_acc: 0.9264\n",
      "Epoch 29/200\n",
      "604388/604388 [==============================] - 180s 298us/step - loss: 0.3490 - acc: 0.9473 - val_loss: 0.4306 - val_acc: 0.9245\n",
      "Epoch 30/200\n",
      "604388/604388 [==============================] - 180s 298us/step - loss: 0.3487 - acc: 0.9475 - val_loss: 0.4383 - val_acc: 0.9232\n",
      "Epoch 31/200\n",
      "604388/604388 [==============================] - 179s 297us/step - loss: 0.3472 - acc: 0.9482 - val_loss: 0.4266 - val_acc: 0.9261\n",
      "Epoch 32/200\n",
      "604388/604388 [==============================] - 180s 297us/step - loss: 0.3470 - acc: 0.9476 - val_loss: 0.4221 - val_acc: 0.9284\n",
      "Epoch 33/200\n",
      "604388/604388 [==============================] - 179s 297us/step - loss: 0.3452 - acc: 0.9482 - val_loss: 0.4243 - val_acc: 0.9276\n",
      "Epoch 34/200\n",
      "604388/604388 [==============================] - 179s 296us/step - loss: 0.3437 - acc: 0.9481 - val_loss: 0.4266 - val_acc: 0.9276\n",
      "Epoch 35/200\n",
      "604388/604388 [==============================] - 180s 297us/step - loss: 0.3438 - acc: 0.9481 - val_loss: 0.4376 - val_acc: 0.9220\n",
      "Epoch 36/200\n",
      "604388/604388 [==============================] - 180s 297us/step - loss: 0.3431 - acc: 0.9486 - val_loss: 0.4250 - val_acc: 0.9291\n",
      "Epoch 37/200\n",
      "604388/604388 [==============================] - 180s 297us/step - loss: 0.3426 - acc: 0.9487 - val_loss: 0.4263 - val_acc: 0.9263\n",
      "Epoch 38/200\n",
      "604388/604388 [==============================] - 180s 298us/step - loss: 0.3428 - acc: 0.9487 - val_loss: 0.4201 - val_acc: 0.9286\n",
      "Epoch 39/200\n",
      "604388/604388 [==============================] - 180s 297us/step - loss: 0.3409 - acc: 0.9489 - val_loss: 0.4117 - val_acc: 0.9296\n",
      "Epoch 40/200\n",
      "604388/604388 [==============================] - 180s 297us/step - loss: 0.3409 - acc: 0.9489 - val_loss: 0.4224 - val_acc: 0.9267\n",
      "Epoch 41/200\n",
      "604388/604388 [==============================] - 180s 297us/step - loss: 0.3402 - acc: 0.9490 - val_loss: 0.4164 - val_acc: 0.9265\n",
      "Epoch 42/200\n",
      "604388/604388 [==============================] - 180s 297us/step - loss: 0.3385 - acc: 0.9493 - val_loss: 0.4149 - val_acc: 0.9282\n",
      "Epoch 43/200\n",
      "604388/604388 [==============================] - 179s 297us/step - loss: 0.3388 - acc: 0.9495 - val_loss: 0.4057 - val_acc: 0.9301\n",
      "Epoch 44/200\n",
      "604388/604388 [==============================] - 180s 297us/step - loss: 0.3381 - acc: 0.9495 - val_loss: 0.4212 - val_acc: 0.9286\n",
      "Epoch 45/200\n",
      "604388/604388 [==============================] - 179s 297us/step - loss: 0.3379 - acc: 0.9494 - val_loss: 0.4153 - val_acc: 0.9286\n",
      "Epoch 46/200\n",
      "604388/604388 [==============================] - 180s 297us/step - loss: 0.3363 - acc: 0.9495 - val_loss: 0.4262 - val_acc: 0.9268\n",
      "Epoch 47/200\n",
      "604388/604388 [==============================] - 180s 297us/step - loss: 0.3357 - acc: 0.9495 - val_loss: 0.4147 - val_acc: 0.9277\n",
      "Epoch 48/200\n",
      "604388/604388 [==============================] - 180s 298us/step - loss: 0.3356 - acc: 0.9498 - val_loss: 0.4283 - val_acc: 0.9230\n",
      "Epoch 49/200\n",
      "604388/604388 [==============================] - 180s 298us/step - loss: 0.3358 - acc: 0.9497 - val_loss: 0.4237 - val_acc: 0.9292\n",
      "Epoch 50/200\n",
      "604388/604388 [==============================] - 181s 300us/step - loss: 0.3337 - acc: 0.9503 - val_loss: 0.4165 - val_acc: 0.9266\n",
      "Epoch 51/200\n",
      "604388/604388 [==============================] - 181s 299us/step - loss: 0.3343 - acc: 0.9500 - val_loss: 0.4272 - val_acc: 0.9256\n",
      "Epoch 52/200\n",
      "604388/604388 [==============================] - 179s 297us/step - loss: 0.3342 - acc: 0.9501 - val_loss: 0.4224 - val_acc: 0.9264\n",
      "Epoch 53/200\n",
      "604388/604388 [==============================] - 179s 296us/step - loss: 0.3337 - acc: 0.9501 - val_loss: 0.4202 - val_acc: 0.9257\n",
      "Epoch 54/200\n",
      "604388/604388 [==============================] - 179s 297us/step - loss: 0.3322 - acc: 0.9505 - val_loss: 0.4113 - val_acc: 0.9307\n",
      "Epoch 55/200\n",
      "604388/604388 [==============================] - 179s 297us/step - loss: 0.3319 - acc: 0.9503 - val_loss: 0.4112 - val_acc: 0.9294\n",
      "Epoch 56/200\n",
      "604388/604388 [==============================] - 179s 297us/step - loss: 0.3320 - acc: 0.9501 - val_loss: 0.4075 - val_acc: 0.9312\n",
      "Epoch 57/200\n"
     ]
    },
    {
     "name": "stdout",
     "output_type": "stream",
     "text": [
      "604388/604388 [==============================] - 179s 297us/step - loss: 0.3312 - acc: 0.9502 - val_loss: 0.4141 - val_acc: 0.9282\n",
      "Epoch 58/200\n",
      "604388/604388 [==============================] - 179s 297us/step - loss: 0.3309 - acc: 0.9503 - val_loss: 0.4160 - val_acc: 0.9301\n",
      "Epoch 59/200\n",
      "604388/604388 [==============================] - 179s 297us/step - loss: 0.3307 - acc: 0.9504 - val_loss: 0.4101 - val_acc: 0.9267\n",
      "Epoch 60/200\n",
      "604388/604388 [==============================] - 179s 297us/step - loss: 0.3305 - acc: 0.9504 - val_loss: 0.4163 - val_acc: 0.9269\n",
      "Epoch 61/200\n",
      "604388/604388 [==============================] - 179s 297us/step - loss: 0.3294 - acc: 0.9504 - val_loss: 0.4229 - val_acc: 0.9230\n",
      "Epoch 62/200\n",
      "604388/604388 [==============================] - 179s 297us/step - loss: 0.3289 - acc: 0.9507 - val_loss: 0.4347 - val_acc: 0.9202\n",
      "Epoch 63/200\n",
      "604388/604388 [==============================] - 179s 297us/step - loss: 0.3289 - acc: 0.9508 - val_loss: 0.4021 - val_acc: 0.9312\n",
      "Epoch 64/200\n",
      "604388/604388 [==============================] - 179s 297us/step - loss: 0.3285 - acc: 0.9507 - val_loss: 0.4206 - val_acc: 0.9298\n",
      "Epoch 65/200\n",
      "604388/604388 [==============================] - 179s 297us/step - loss: 0.3289 - acc: 0.9506 - val_loss: 0.4080 - val_acc: 0.9292\n",
      "Epoch 66/200\n",
      "604388/604388 [==============================] - 179s 297us/step - loss: 0.3284 - acc: 0.9507 - val_loss: 0.4218 - val_acc: 0.9284\n",
      "Epoch 67/200\n",
      "604388/604388 [==============================] - 179s 297us/step - loss: 0.3273 - acc: 0.9508 - val_loss: 0.4111 - val_acc: 0.9267\n",
      "Epoch 68/200\n",
      "604388/604388 [==============================] - 179s 297us/step - loss: 0.3270 - acc: 0.9511 - val_loss: 0.4040 - val_acc: 0.9320\n",
      "Epoch 69/200\n",
      "604388/604388 [==============================] - 179s 297us/step - loss: 0.3262 - acc: 0.9511 - val_loss: 0.4093 - val_acc: 0.9291\n",
      "Epoch 70/200\n",
      "604388/604388 [==============================] - 179s 297us/step - loss: 0.3267 - acc: 0.9509 - val_loss: 0.4191 - val_acc: 0.9302\n",
      "Epoch 71/200\n",
      "604388/604388 [==============================] - 179s 297us/step - loss: 0.3260 - acc: 0.9511 - val_loss: 0.4089 - val_acc: 0.9302\n",
      "Epoch 72/200\n",
      "604388/604388 [==============================] - 179s 297us/step - loss: 0.3254 - acc: 0.9512 - val_loss: 0.4059 - val_acc: 0.9285\n",
      "Epoch 73/200\n",
      "604388/604388 [==============================] - 180s 297us/step - loss: 0.3256 - acc: 0.9509 - val_loss: 0.4145 - val_acc: 0.9306\n",
      "Epoch 74/200\n",
      "604388/604388 [==============================] - 179s 297us/step - loss: 0.3251 - acc: 0.9510 - val_loss: 0.4205 - val_acc: 0.9256\n",
      "Epoch 75/200\n",
      "604388/604388 [==============================] - 179s 297us/step - loss: 0.3233 - acc: 0.9516 - val_loss: 0.4117 - val_acc: 0.9288\n",
      "Epoch 76/200\n",
      "604388/604388 [==============================] - 179s 297us/step - loss: 0.3257 - acc: 0.9514 - val_loss: 0.4116 - val_acc: 0.9279\n",
      "Epoch 77/200\n",
      "604388/604388 [==============================] - 179s 297us/step - loss: 0.3236 - acc: 0.9514 - val_loss: 0.4249 - val_acc: 0.9233\n",
      "Epoch 78/200\n",
      "604388/604388 [==============================] - 179s 297us/step - loss: 0.3240 - acc: 0.9512 - val_loss: 0.4093 - val_acc: 0.9276\n",
      "Epoch 79/200\n",
      "604388/604388 [==============================] - 180s 297us/step - loss: 0.3233 - acc: 0.9515 - val_loss: 0.4083 - val_acc: 0.9311\n",
      "Epoch 80/200\n",
      "604388/604388 [==============================] - 179s 297us/step - loss: 0.3215 - acc: 0.9520 - val_loss: 0.4030 - val_acc: 0.9302\n",
      "Epoch 81/200\n",
      "604388/604388 [==============================] - 179s 297us/step - loss: 0.3231 - acc: 0.9515 - val_loss: 0.3935 - val_acc: 0.9340\n",
      "Epoch 82/200\n",
      "604388/604388 [==============================] - 180s 298us/step - loss: 0.3212 - acc: 0.9514 - val_loss: 0.4193 - val_acc: 0.9306\n",
      "Epoch 83/200\n",
      "604388/604388 [==============================] - 180s 298us/step - loss: 0.3223 - acc: 0.9515 - val_loss: 0.3924 - val_acc: 0.9358\n",
      "Epoch 84/200\n",
      "604388/604388 [==============================] - 180s 297us/step - loss: 0.3221 - acc: 0.9516 - val_loss: 0.4070 - val_acc: 0.9317\n",
      "Epoch 85/200\n",
      "604388/604388 [==============================] - 184s 304us/step - loss: 0.3217 - acc: 0.9516 - val_loss: 0.4061 - val_acc: 0.9307\n",
      "Epoch 86/200\n",
      "604388/604388 [==============================] - 180s 297us/step - loss: 0.3223 - acc: 0.9517 - val_loss: 0.4023 - val_acc: 0.9309\n",
      "Epoch 87/200\n",
      "604388/604388 [==============================] - 178s 295us/step - loss: 0.3200 - acc: 0.9522 - val_loss: 0.4328 - val_acc: 0.9225\n",
      "Epoch 88/200\n",
      "604388/604388 [==============================] - 178s 295us/step - loss: 0.3205 - acc: 0.9520 - val_loss: 0.4020 - val_acc: 0.9314\n",
      "Epoch 89/200\n",
      "604388/604388 [==============================] - 178s 295us/step - loss: 0.3204 - acc: 0.9522 - val_loss: 0.4021 - val_acc: 0.9302\n",
      "Epoch 90/200\n",
      "604388/604388 [==============================] - 178s 295us/step - loss: 0.3196 - acc: 0.9520 - val_loss: 0.4108 - val_acc: 0.9285\n",
      "Epoch 91/200\n",
      "604388/604388 [==============================] - 178s 295us/step - loss: 0.3197 - acc: 0.9517 - val_loss: 0.3982 - val_acc: 0.9303\n",
      "Epoch 92/200\n",
      "604388/604388 [==============================] - 178s 295us/step - loss: 0.3188 - acc: 0.9522 - val_loss: 0.4064 - val_acc: 0.9298\n",
      "Epoch 93/200\n",
      "604388/604388 [==============================] - 178s 295us/step - loss: 0.3180 - acc: 0.9521 - val_loss: 0.4034 - val_acc: 0.9312\n",
      "Epoch 94/200\n",
      "604388/604388 [==============================] - 179s 295us/step - loss: 0.3183 - acc: 0.9522 - val_loss: 0.4025 - val_acc: 0.9305\n",
      "Epoch 95/200\n",
      "604388/604388 [==============================] - 178s 295us/step - loss: 0.3177 - acc: 0.9526 - val_loss: 0.4010 - val_acc: 0.9328\n",
      "Epoch 96/200\n",
      "604388/604388 [==============================] - 178s 295us/step - loss: 0.3176 - acc: 0.9523 - val_loss: 0.4054 - val_acc: 0.9315\n",
      "Epoch 97/200\n",
      "604388/604388 [==============================] - 180s 298us/step - loss: 0.3177 - acc: 0.9524 - val_loss: 0.4046 - val_acc: 0.9303\n",
      "Epoch 98/200\n",
      "604388/604388 [==============================] - 181s 299us/step - loss: 0.3171 - acc: 0.9523 - val_loss: 0.4110 - val_acc: 0.9293\n",
      "Epoch 99/200\n",
      "604388/604388 [==============================] - 181s 300us/step - loss: 0.3169 - acc: 0.9522 - val_loss: 0.3950 - val_acc: 0.9340\n",
      "Epoch 100/200\n",
      "604388/604388 [==============================] - 182s 301us/step - loss: 0.3161 - acc: 0.9527 - val_loss: 0.4042 - val_acc: 0.9294\n",
      "Epoch 101/200\n",
      "604388/604388 [==============================] - 180s 298us/step - loss: 0.3170 - acc: 0.9523 - val_loss: 0.3979 - val_acc: 0.9324\n",
      "Epoch 102/200\n",
      "604388/604388 [==============================] - 181s 300us/step - loss: 0.3169 - acc: 0.9525 - val_loss: 0.4066 - val_acc: 0.9296\n",
      "Epoch 103/200\n",
      "604388/604388 [==============================] - 182s 300us/step - loss: 0.3173 - acc: 0.9525 - val_loss: 0.4245 - val_acc: 0.9252\n",
      "Epoch 104/200\n",
      "604388/604388 [==============================] - 181s 300us/step - loss: 0.3166 - acc: 0.9520 - val_loss: 0.3994 - val_acc: 0.9326\n",
      "Epoch 105/200\n",
      "604388/604388 [==============================] - 179s 296us/step - loss: 0.3165 - acc: 0.9527 - val_loss: 0.4195 - val_acc: 0.9236\n",
      "Epoch 106/200\n",
      "604388/604388 [==============================] - 180s 297us/step - loss: 0.3157 - acc: 0.9525 - val_loss: 0.3945 - val_acc: 0.9313\n",
      "Epoch 107/200\n",
      "604388/604388 [==============================] - 179s 295us/step - loss: 0.3151 - acc: 0.9529 - val_loss: 0.4080 - val_acc: 0.9322\n",
      "Epoch 108/200\n",
      "604388/604388 [==============================] - 178s 295us/step - loss: 0.3149 - acc: 0.9525 - val_loss: 0.4091 - val_acc: 0.9300\n",
      "Epoch 109/200\n",
      "604388/604388 [==============================] - 178s 295us/step - loss: 0.3149 - acc: 0.9526 - val_loss: 0.3950 - val_acc: 0.9317\n",
      "Epoch 110/200\n",
      "604388/604388 [==============================] - 178s 294us/step - loss: 0.3145 - acc: 0.9527 - val_loss: 0.3862 - val_acc: 0.9353\n",
      "Epoch 111/200\n",
      "604388/604388 [==============================] - 178s 294us/step - loss: 0.3144 - acc: 0.9527 - val_loss: 0.3951 - val_acc: 0.9323\n",
      "Epoch 112/200\n",
      "604388/604388 [==============================] - 178s 294us/step - loss: 0.3146 - acc: 0.9528 - val_loss: 0.4029 - val_acc: 0.9304\n",
      "Epoch 113/200\n",
      "604388/604388 [==============================] - 178s 294us/step - loss: 0.3131 - acc: 0.9531 - val_loss: 0.4036 - val_acc: 0.9279\n"
     ]
    },
    {
     "name": "stdout",
     "output_type": "stream",
     "text": [
      "Epoch 114/200\n",
      "604388/604388 [==============================] - 178s 295us/step - loss: 0.3140 - acc: 0.9527 - val_loss: 0.4140 - val_acc: 0.9259\n",
      "Epoch 115/200\n",
      "604388/604388 [==============================] - 178s 294us/step - loss: 0.3140 - acc: 0.9527 - val_loss: 0.3921 - val_acc: 0.9329\n",
      "Epoch 116/200\n",
      "604388/604388 [==============================] - 178s 294us/step - loss: 0.3142 - acc: 0.9525 - val_loss: 0.3945 - val_acc: 0.9303\n",
      "Epoch 117/200\n",
      "604388/604388 [==============================] - 179s 296us/step - loss: 0.3136 - acc: 0.9527 - val_loss: 0.3962 - val_acc: 0.9315\n",
      "Epoch 118/200\n",
      "597376/604388 [============================>.] - ETA: 2s - loss: 0.3125 - acc: 0.9532"
     ]
    }
   ],
   "source": [
    "#Load model from disk\n",
    "model_name = 'SVHN'\n",
    "model_save_path = '../trained_models/' + model_name + '-model.json'\n",
    "weights_save_path = '../trained_models/' + model_name + 'weights'\n",
    "model = CNN(model_name=model_name, dataset='svhn')\n",
    "print (model.num_params)\n",
    "epochs = 200\n",
    "model.train(epochs=epochs)\n",
    "model.save_model(model_save_path, weights_save_path)  \n",
    "#model.load_model(model_save_path, weights_save_path) "
   ]
  },
  {
   "cell_type": "code",
   "execution_count": 4,
   "metadata": {
    "collapsed": true
   },
   "outputs": [],
   "source": [
    "#Get training samples\n",
    "num_train_samples = 1000\n",
    "data_indices = model.gen_rand_indices(low=0, high=model.train_data.shape[0], seed=SEED, num_samples=num_train_samples)\n",
    "train_data = model.train_data[data_indices]\n",
    "train_data_labels = model.train_labels[data_indices]\n",
    "train_data_labels_int = np.argmax(train_data_labels, axis=1)"
   ]
  },
  {
   "cell_type": "code",
   "execution_count": 5,
   "metadata": {
    "scrolled": true
   },
   "outputs": [
    {
     "name": "stderr",
     "output_type": "stream",
     "text": [
      "/root/notebook/cleverhans/cleverhans/src/cleverhans/cleverhans/utils_keras.py:144: UserWarning: Please update your version to keras >= 2.1.3; support for earlier keras versions will be dropped on 2018-07-22\n",
      "  \"Please update your version to keras >= 2.1.3; \"\n"
     ]
    }
   ],
   "source": [
    "num_test_samples_per_class = 10\n",
    "num_test_samples = 10*num_test_samples_per_class\n",
    "\n",
    "#Generate test points\n",
    "test_indices = model.gen_rand_indices_all_classes(y=model.test_labels, seed=SEED, num_samples=num_test_samples_per_class)\n",
    "\n",
    "#Get Regular, Noisy, FGSM, BIM, and CW test points\n",
    "reg_data = model.test_data[test_indices]\n",
    "noisy_data = model.generate_perturbed_data(model.test_data[test_indices], model.test_labels[test_indices],seed=SEED, perturbation='Noisy', eps=0.1)\n",
    "fgsm_data = model.generate_perturbed_data(model.test_data[test_indices], model.test_labels[test_indices],seed=SEED, perturbation='FGSM', eps=0.1)\n",
    "bim_data = model.generate_perturbed_data(model.test_data[test_indices], model.test_labels[test_indices], seed=SEED, perturbation='BIM', iterations=10, eps=0.1)\n",
    "cw_data = model.generate_perturbed_data(model.test_data[test_indices], model.test_labels[test_indices],seed=SEED, perturbation='CW', targeted=False, eps=0.1)"
   ]
  },
  {
   "cell_type": "code",
   "execution_count": 6,
   "metadata": {},
   "outputs": [
    {
     "name": "stderr",
     "output_type": "stream",
     "text": [
      "/usr/local/lib/python2.7/dist-packages/numpy/core/fromnumeric.py:2889: RuntimeWarning: Mean of empty slice.\n",
      "  out=out, **kwargs)\n",
      "/usr/local/lib/python2.7/dist-packages/numpy/core/_methods.py:80: RuntimeWarning: invalid value encountered in double_scalars\n",
      "  ret = ret.dtype.type(ret / rcount)\n"
     ]
    }
   ],
   "source": [
    "#Whitebox CW Attack\n",
    "#First get guide images\n",
    "guide_indices = list()\n",
    "np.random.seed(SEED)\n",
    "#Generate guide images for modified CW attacks\n",
    "for idx in test_indices:\n",
    "    label = np.argmax(model.test_labels[idx])\n",
    "    #Add 1 to the label mod 10 to get a target label\n",
    "    mod_label = (label + 1) % 10\n",
    "    #Get a test point with the target label\n",
    "    guide_imgs_indices = np.where(model.train_labels[:,mod_label] == 1)[0]\n",
    "    #Choose a guide image\n",
    "    guide_img_idx = np.random.choice(guide_imgs_indices, 1)[0]\n",
    "    guide_indices.append(guide_img_idx)\n",
    "\n",
    "\n",
    "#1 Phase Attack\n",
    "p1_cw_data = model.generate_perturbed_data(model.test_data[test_indices], model.train_labels[guide_indices],seed=SEED, perturbation='CW', targeted=True, x_tar = model.train_data[guide_indices], use_cos_norm_reg=True, eps=0.1)\n",
    "\n",
    "#2 Phase Attack\n",
    "#Phase 1: Generate targeted adversarial images\n",
    "tar_cw_data = model.generate_perturbed_data(model.test_data[test_indices], model.train_labels[guide_indices],seed=SEED, perturbation='CW', targeted=True, use_cos_norm_reg=False, eps=0.1)\n",
    "#Phase 2: Optimize for higher cosine sim and smaller norm\n",
    "p2_cw_data = model.generate_perturbed_data(tar_cw_data, model.train_labels[guide_indices],seed=SEED, perturbation='CW', targeted=True, x_tar = model.train_data[guide_indices], use_cos_norm_reg=True, eps=0.1)"
   ]
  },
  {
   "cell_type": "code",
   "execution_count": 7,
   "metadata": {
    "scrolled": true
   },
   "outputs": [
    {
     "name": "stdout",
     "output_type": "stream",
     "text": [
      "Loaded model from disk\n"
     ]
    }
   ],
   "source": [
    "#Reset tf.graph() as Cleverhans modifies the graph\n",
    "tf.reset_default_graph()\n",
    "\n",
    "#Reload the model and weights\n",
    "model = CNN(model_name=model_name, dataset='svhn')\n",
    "model.load_model(model_save_path, weights_save_path)    "
   ]
  },
  {
   "cell_type": "code",
   "execution_count": 36,
   "metadata": {},
   "outputs": [
    {
     "name": "stdout",
     "output_type": "stream",
     "text": [
      "15816/15816 [==============================] - 5s 290us/step\n"
     ]
    },
    {
     "data": {
      "text/plain": [
       "[0.69354552166234018, 0.88359888720283253]"
      ]
     },
     "execution_count": 36,
     "metadata": {},
     "output_type": "execute_result"
    }
   ],
   "source": [
    "model.model.evaluate(model.test_data, model.test_labels)"
   ]
  },
  {
   "cell_type": "code",
   "execution_count": 8,
   "metadata": {},
   "outputs": [
    {
     "data": {
      "image/png": "[encoded data removed]",
      "text/plain": [
       "<matplotlib.figure.Figure at 0x7f68e2804750>"
      ]
     },
     "metadata": {},
     "output_type": "display_data"
    },
    {
     "data": {
      "image/png": "[encoded data removed]",
      "text/plain": [
       "<matplotlib.figure.Figure at 0x7f68a2994150>"
      ]
     },
     "metadata": {},
     "output_type": "display_data"
    },
    {
     "data": {
      "image/png": "[encoded data removed]",
      "text/plain": [
       "<matplotlib.figure.Figure at 0x7f68a28db510>"
      ]
     },
     "metadata": {},
     "output_type": "display_data"
    },
    {
     "data": {
      "image/png": "[encoded data removed]",
      "text/plain": [
       "<matplotlib.figure.Figure at 0x7f68a2878710>"
      ]
     },
     "metadata": {},
     "output_type": "display_data"
    },
    {
     "data": {
      "image/png": "[encoded data removed]",
      "text/plain": [
       "<matplotlib.figure.Figure at 0x7f68a283bd90>"
      ]
     },
     "metadata": {},
     "output_type": "display_data"
    },
    {
     "data": {
      "image/png": "[encoded data removed]",
      "text/plain": [
       "<matplotlib.figure.Figure at 0x7f68a27202d0>"
      ]
     },
     "metadata": {},
     "output_type": "display_data"
    },
    {
     "data": {
      "image/png": "[encoded data removed]",
      "text/plain": [
       "<matplotlib.figure.Figure at 0x7f68a24c36d0>"
      ]
     },
     "metadata": {},
     "output_type": "display_data"
    }
   ],
   "source": [
    "#Lets visualize one sample from each dataset\n",
    "x_vis = np.random.choice(range(0,num_test_samples), 1)\n",
    "visualize(reg_data[x_vis].reshape(32,32,3))\n",
    "visualize(noisy_data[x_vis].reshape(32,32,3))\n",
    "visualize(fgsm_data[x_vis].reshape(32,32,3))\n",
    "visualize(bim_data[x_vis].reshape(32,32,3))\n",
    "visualize(cw_data[x_vis].reshape(32,32,3))\n",
    "visualize(p1_cw_data[x_vis].reshape(32,32,3))\n",
    "visualize(p2_cw_data[x_vis].reshape(32,32,3))"
   ]
  },
  {
   "cell_type": "code",
   "execution_count": 10,
   "metadata": {
    "collapsed": true
   },
   "outputs": [],
   "source": [
    "#Get predictions\n",
    "reg_preds = model.model.predict(reg_data.reshape(-1,32,32,3))\n",
    "noisy_preds = model.model.predict(noisy_data.reshape(-1,32,32,3))\n",
    "fgsm_preds = model.model.predict(fgsm_data.reshape(-1,32,32,3))\n",
    "bim_preds = model.model.predict(bim_data.reshape(-1,32,32,3))\n",
    "cw_preds = model.model.predict(cw_data.reshape(-1,32,32,3))\n",
    "p1_cw_preds = model.model.predict(p1_cw_data.reshape(-1,32,32,3))\n",
    "p2_cw_preds = model.model.predict(p2_cw_data.reshape(-1,32,32,3))"
   ]
  },
  {
   "cell_type": "code",
   "execution_count": 11,
   "metadata": {
    "collapsed": true
   },
   "outputs": [],
   "source": [
    "#Convert preds to labels\n",
    "reg_labels = np.zeros(reg_preds.shape)\n",
    "reg_labels[np.arange(num_test_samples),np.argmax(reg_preds, axis=1)] = 1\n",
    "\n",
    "noisy_labels = np.zeros(noisy_preds.shape)\n",
    "noisy_labels[np.arange(num_test_samples),np.argmax(noisy_preds, axis=1)] = 1\n",
    "\n",
    "fgsm_labels = np.zeros(fgsm_preds.shape)\n",
    "fgsm_labels[np.arange(num_test_samples),np.argmax(fgsm_preds, axis=1)] = 1\n",
    "\n",
    "bim_labels = np.zeros(bim_preds.shape)\n",
    "bim_labels[np.arange(num_test_samples),np.argmax(bim_preds, axis=1)] = 1\n",
    "\n",
    "cw_labels = np.zeros(cw_preds.shape)\n",
    "cw_labels[np.arange(num_test_samples),np.argmax(cw_preds, axis=1)] = 1\n",
    "\n",
    "p1_cw_labels = np.zeros(p1_cw_preds.shape)\n",
    "p1_cw_labels[np.arange(num_test_samples),np.argmax(p1_cw_preds, axis=1)] = 1\n",
    "\n",
    "p2_cw_labels = np.zeros(p2_cw_preds.shape)\n",
    "p2_cw_labels[np.arange(num_test_samples),np.argmax(p2_cw_preds, axis=1)] = 1"
   ]
  },
  {
   "cell_type": "code",
   "execution_count": 13,
   "metadata": {
    "scrolled": true
   },
   "outputs": [
    {
     "name": "stdout",
     "output_type": "stream",
     "text": [
      "[0 0 0 0 0 0 0 0 0 0 1 1 1 1 1 1 1 1 1 1 2 2 2 2 2 2 2 2 2 2 3 3 3 3 3 3 3\n",
      " 3 3 3 4 4 4 4 4 4 4 4 4 4 5 5 6 5 5 5 5 5 5 5 6 6 6 6 6 6 6 1 6 6 1 1 1 7\n",
      " 7 7 7 7 7 7 6 8 8 1 6 8 8 9 8 8 9 9 9 6 9 9 9 9 9 9]\n",
      "[0 9 1 6 1 1 3 0 9 2 1 1 1 1 1 1 1 1 1 1 2 2 2 2 2 2 2 2 2 2 2 3 3 3 3 3 5\n",
      " 3 1 3 4 4 4 1 4 4 2 1 4 4 5 5 6 5 5 5 5 1 5 5 6 5 6 5 2 6 6 1 6 6 1 1 1 1\n",
      " 1 2 1 2 7 2 6 1 3 1 6 8 8 2 8 8 2 9 9 2 9 9 9 3 2 9]\n",
      "[5 5 5 5 5 4 5 1 5 2 1 2 2 2 2 5 3 6 2 1 5 2 4 5 3 1 2 2 2 5 2 2 1 1 9 2 5\n",
      " 2 4 5 6 5 1 1 1 5 9 5 1 2 6 3 6 5 1 5 6 1 1 1 1 2 2 3 5 0 5 1 5 6 1 4 1 1\n",
      " 3 1 2 1 2 2 6 5 3 1 1 1 2 2 5 6 1 2 3 5 1 9 5 2 3 5]\n",
      "[5 8 5 5 8 5 5 4 5 3 3 5 6 0 3 2 0 0 4 0 5 5 5 3 6 6 3 0 0 6 7 9 2 0 9 2 6\n",
      " 2 1 5 0 3 3 1 1 0 2 6 6 3 6 3 3 6 3 0 6 6 1 7 7 3 2 3 2 0 3 0 3 3 3 4 7 0\n",
      " 9 2 9 9 2 2 2 1 3 9 2 2 9 2 5 6 6 2 3 9 2 2 3 0 6 5]\n",
      "[8 9 9 5 6 9 8 6 9 2 3 2 3 0 3 2 8 0 4 0 5 3 9 3 3 0 7 3 0 7 7 8 8 1 8 2 5\n",
      " 8 1 5 6 3 1 1 1 1 2 5 6 3 6 3 5 6 3 8 6 6 3 3 8 5 8 5 8 0 5 0 3 0 2 4 7 1\n",
      " 0 2 2 3 2 2 8 6 3 0 8 6 9 2 3 6 8 2 3 9 2 2 5 0 0 5]\n",
      "[1 1 1 1 1 1 1 1 1 1 2 2 2 2 2 2 2 2 2 2 3 3 3 3 3 3 3 3 3 3 4 4 4 4 4 4 4\n",
      " 4 4 4 5 5 5 5 5 5 5 5 5 5 6 6 6 6 6 6 6 6 5 6 7 7 7 6 7 7 6 1 7 7 8 1 1 8\n",
      " 8 8 8 8 8 7 6 8 8 9 6 9 9 9 9 9 0 9 9 0 0 0 9 0 0 0]\n",
      "[1 1 1 1 1 1 1 1 1 1 2 2 2 2 2 2 2 2 2 2 3 3 3 3 3 3 3 3 3 3 4 4 4 4 4 4 4\n",
      " 4 4 4 5 5 5 5 5 5 5 5 5 5 6 6 6 6 6 6 6 6 6 6 7 7 7 7 7 7 7 7 7 7 8 8 8 8\n",
      " 8 8 8 8 8 8 9 9 9 9 9 9 9 9 9 9 0 0 0 0 0 0 0 0 0 0]\n"
     ]
    }
   ],
   "source": [
    "#Check preds to ensure adversarial samples were generated correctly\n",
    "print (np.argmax(reg_preds, axis=1))\n",
    "print (np.argmax(noisy_preds, axis=1))\n",
    "print (np.argmax(fgsm_preds, axis=1))\n",
    "print (np.argmax(bim_preds, axis=1))\n",
    "print (np.argmax(cw_preds, axis=1))\n",
    "print (np.argmax(p1_cw_preds, axis=1))\n",
    "print (np.argmax(p2_cw_preds, axis=1))"
   ]
  },
  {
   "cell_type": "code",
   "execution_count": 14,
   "metadata": {},
   "outputs": [],
   "source": [
    "#Get gradients for all test points\n",
    "grads_reg = model.get_gradients_wrt_params(reg_data, reg_labels)\n",
    "grads_noisy = model.get_gradients_wrt_params(noisy_data, noisy_labels)\n",
    "grads_fgsm = model.get_gradients_wrt_params(fgsm_data, fgsm_labels)\n",
    "grads_bim = model.get_gradients_wrt_params(bim_data, bim_labels)\n",
    "grads_cw = model.get_gradients_wrt_params(cw_data, cw_labels)\n",
    "grads_p1_cw = model.get_gradients_wrt_params(p1_cw_data, p1_cw_labels)\n",
    "grads_p2_cw = model.get_gradients_wrt_params(p2_cw_data, p2_cw_labels)\n",
    "\n",
    "#Get gradients for training points \n",
    "grads_train = model.get_gradients_wrt_params(train_data, train_data_labels)"
   ]
  },
  {
   "cell_type": "code",
   "execution_count": 15,
   "metadata": {
    "collapsed": true
   },
   "outputs": [],
   "source": [
    "grads_reg_nm = normalize(grads_reg)\n",
    "grads_noisy_nm = normalize(grads_noisy)\n",
    "grads_fgsm_nm = normalize(grads_fgsm)\n",
    "grads_bim_nm = normalize(grads_bim)\n",
    "grads_cw_nm = normalize(grads_cw)\n",
    "grads_p1_cw_nm = normalize(grads_p1_cw)\n",
    "grads_p2_cw_nm = normalize(grads_p2_cw)\n",
    "grads_train_nm = normalize(grads_train)"
   ]
  },
  {
   "cell_type": "code",
   "execution_count": 16,
   "metadata": {},
   "outputs": [
    {
     "name": "stderr",
     "output_type": "stream",
     "text": [
      "/usr/local/lib/python2.7/dist-packages/ipykernel_launcher.py:2: RuntimeWarning: invalid value encountered in sqrt\n",
      "  \n",
      "/usr/local/lib/python2.7/dist-packages/ipykernel_launcher.py:3: RuntimeWarning: invalid value encountered in sqrt\n",
      "  This is separate from the ipykernel package so we can avoid doing imports until\n",
      "/usr/local/lib/python2.7/dist-packages/ipykernel_launcher.py:4: RuntimeWarning: invalid value encountered in sqrt\n",
      "  after removing the cwd from sys.path.\n",
      "/usr/local/lib/python2.7/dist-packages/ipykernel_launcher.py:5: RuntimeWarning: invalid value encountered in sqrt\n",
      "  \"\"\"\n",
      "/usr/local/lib/python2.7/dist-packages/ipykernel_launcher.py:6: RuntimeWarning: invalid value encountered in sqrt\n",
      "  \n",
      "/usr/local/lib/python2.7/dist-packages/ipykernel_launcher.py:7: RuntimeWarning: invalid value encountered in sqrt\n",
      "  import sys\n",
      "/usr/local/lib/python2.7/dist-packages/ipykernel_launcher.py:8: RuntimeWarning: invalid value encountered in sqrt\n",
      "  \n"
     ]
    }
   ],
   "source": [
    "#Get norms \n",
    "grads_reg_norms = np.sqrt(np.dot(grads_reg, grads_reg.T)).diagonal()\n",
    "grads_noisy_norms = np.sqrt(np.dot(grads_noisy, grads_noisy.T)).diagonal()\n",
    "grads_bim_norms = np.sqrt(np.dot(grads_bim, grads_bim.T)).diagonal()\n",
    "grads_fgsm_norms = np.sqrt(np.dot(grads_fgsm, grads_fgsm.T)).diagonal()\n",
    "grads_cw_norms = np.sqrt(np.dot(grads_cw, grads_cw.T)).diagonal()\n",
    "grads_p1_cw_norms = np.sqrt(np.dot(grads_p1_cw, grads_p1_cw.T)).diagonal()\n",
    "grads_p2_cw_norms = np.sqrt(np.dot(grads_p2_cw, grads_p2_cw.T)).diagonal()"
   ]
  },
  {
   "cell_type": "code",
   "execution_count": 17,
   "metadata": {
    "collapsed": true
   },
   "outputs": [],
   "source": [
    "#Get cosine similarity matrix\n",
    "cos_sim_reg = np.dot(grads_reg_nm, grads_train_nm.T)\n",
    "cos_sim_noisy = np.dot(grads_noisy_nm, grads_train_nm.T)\n",
    "cos_sim_fgsm = np.dot(grads_fgsm_nm, grads_train_nm.T)\n",
    "cos_sim_bim = np.dot(grads_bim_nm, grads_train_nm.T)\n",
    "cos_sim_cw = np.dot(grads_cw_nm, grads_train_nm.T)\n",
    "cos_sim_p1_cw = np.dot(grads_p1_cw_nm, grads_train_nm.T)\n",
    "cos_sim_p2_cw = np.dot(grads_p2_cw_nm, grads_train_nm.T)"
   ]
  },
  {
   "cell_type": "code",
   "execution_count": 24,
   "metadata": {},
   "outputs": [
    {
     "name": "stdout",
     "output_type": "stream",
     "text": [
      "Regular: 0.8700\n",
      "Noisy:  0.6300\n",
      "FGSM:  0.1700\n",
      "BIM:  0.7200\n",
      "CW: 0.5200\n",
      "1 Phase CW:  0.5100\n",
      "2 Phase CW:  0.5200\n"
     ]
    }
   ],
   "source": [
    "#Separate Using Cos Sim\n",
    "\n",
    "eta = 0.45\n",
    "\n",
    "count = 0.0\n",
    "for i in range(num_test_samples):\n",
    "    if np.max(cos_sim_reg[i]) > eta:\n",
    "        count+=1.0\n",
    "        \n",
    "print ('Regular: %.4f' % ( count/num_test_samples))\n",
    "\n",
    "count = 0.0\n",
    "for i in range(num_test_samples):\n",
    "    if np.max(cos_sim_noisy[i]) > eta:\n",
    "        count+=1.0\n",
    "    \n",
    "print ('Noisy:  %.4f' % ( count/num_test_samples))\n",
    "\n",
    "count=0.0\n",
    "for i in range(num_test_samples):\n",
    "    if np.max(cos_sim_fgsm[i]) > eta:\n",
    "        count+=1.0\n",
    "        \n",
    "print ('FGSM:  %.4f' % ( count/num_test_samples))\n",
    "\n",
    "count=0.0\n",
    "for i in range(num_test_samples):\n",
    "    if np.max(cos_sim_bim[i]) > eta:\n",
    "        count+=1.0\n",
    "        \n",
    "print ('BIM:  %.4f' % ( count/num_test_samples))\n",
    "\n",
    "count=0.0\n",
    "for i in range(num_test_samples):\n",
    "    if np.max(cos_sim_cw[i]) > eta:\n",
    "        count+=1.0\n",
    "    \n",
    "print ('CW: %.4f' % ( count/num_test_samples))\n",
    "\n",
    "\n",
    "count = 0.0\n",
    "for i in range(num_test_samples):\n",
    "    if np.max(cos_sim_p1_cw[i]) > eta:\n",
    "        count+=1.0\n",
    "        \n",
    "print ('1 Phase CW:  %.4f' % ( count/num_test_samples))\n",
    "\n",
    "count = 0.0\n",
    "for i in range(num_test_samples):\n",
    "    if np.max(cos_sim_p2_cw[i]) > eta:\n",
    "        count+=1.0\n",
    "        \n",
    "print ('2 Phase CW:  %.4f' % ( count/num_test_samples))"
   ]
  },
  {
   "cell_type": "code",
   "execution_count": 32,
   "metadata": {},
   "outputs": [
    {
     "name": "stdout",
     "output_type": "stream",
     "text": [
      "Regular: 0.8700\n",
      "Noisy:  0.5900\n",
      "FGSM:  0.4300\n",
      "BIM:  0.9700\n",
      "CW: 0.5400\n",
      "1 Phase CW: 0.7300\n",
      "2 Phase CW: 0.5100\n"
     ]
    }
   ],
   "source": [
    "#Separate using just norm\n",
    "gamma = 55.45\n",
    "\n",
    "count = 0.0\n",
    "for i in range(num_test_samples):\n",
    "    if grads_reg_norms[i] < gamma:\n",
    "        count+=1.0\n",
    "        \n",
    "print ('Regular: %.4f' % ( count/num_test_samples))\n",
    "\n",
    "count = 0.0\n",
    "for i in range(num_test_samples):\n",
    "    if grads_noisy_norms[i] < gamma:\n",
    "        count+=1.0\n",
    "    \n",
    "print ('Noisy:  %.4f' % ( count/num_test_samples))\n",
    "\n",
    "count=0.0\n",
    "for i in range(num_test_samples):\n",
    "    if grads_fgsm_norms[i] < gamma:\n",
    "        count+=1.0\n",
    "        \n",
    "print ('FGSM:  %.4f' % ( count/num_test_samples))\n",
    "\n",
    "count=0.0\n",
    "for i in range(num_test_samples):\n",
    "    if grads_bim_norms[i] < gamma:\n",
    "        count+=1.0\n",
    "        \n",
    "print ('BIM:  %.4f' % ( count/num_test_samples))\n",
    "\n",
    "count=0.0\n",
    "for i in range(num_test_samples):\n",
    "    if grads_cw_norms[i] < gamma:\n",
    "        count+=1.0\n",
    "    \n",
    "print ('CW: %.4f' % ( count/num_test_samples))\n",
    "\n",
    "count=0.0\n",
    "for i in range(num_test_samples):\n",
    "    if grads_p1_cw_norms[i] < gamma:\n",
    "        count+=1.0\n",
    "    \n",
    "print ('1 Phase CW: %.4f' % ( count/num_test_samples))\n",
    "\n",
    "count=0.0\n",
    "for i in range(num_test_samples):\n",
    "    if grads_p2_cw_norms[i] < gamma:\n",
    "        count+=1.0\n",
    "    \n",
    "print ('2 Phase CW: %.4f' % ( count/num_test_samples))\n",
    "\n"
   ]
  },
  {
   "cell_type": "code",
   "execution_count": 33,
   "metadata": {},
   "outputs": [
    {
     "name": "stdout",
     "output_type": "stream",
     "text": [
      "Regular: 0.7700\n",
      "Noisy:  0.3100\n",
      "FGSM:  0.0300\n",
      "BIM:  0.7200\n",
      "CW: 0.3500\n",
      "1 Phase CW: 0.3500\n",
      "2 Phase CW: 0.3000\n"
     ]
    }
   ],
   "source": [
    "#Use both cos and norm\n",
    "\n",
    "count = 0.0\n",
    "for i in range(num_test_samples):\n",
    "    if np.max(cos_sim_reg[i]) > eta and grads_reg_norms[i] < gamma:\n",
    "        count+=1.0\n",
    "        \n",
    "print ('Regular: %.4f' % ( count/num_test_samples))\n",
    "\n",
    "count = 0.0\n",
    "for i in range(num_test_samples):\n",
    "    if np.max(cos_sim_noisy[i]) > eta and grads_noisy_norms[i] < gamma:\n",
    "        count+=1.0\n",
    "    \n",
    "print ('Noisy:  %.4f' % ( count/num_test_samples))\n",
    "\n",
    "count=0.0\n",
    "for i in range(num_test_samples):\n",
    "    if np.max(cos_sim_fgsm[i]) > eta and grads_fgsm_norms[i] < gamma:\n",
    "        count+=1.0\n",
    "        \n",
    "print ('FGSM:  %.4f' % ( count/num_test_samples))\n",
    "\n",
    "count=0.0\n",
    "for i in range(num_test_samples):\n",
    "    if np.max(cos_sim_bim[i]) > eta and grads_bim_norms[i] < gamma:\n",
    "        count+=1.0\n",
    "        \n",
    "print ('BIM:  %.4f' % ( count/num_test_samples))\n",
    "\n",
    "count=0.0\n",
    "for i in range(num_test_samples):\n",
    "    if np.max(cos_sim_cw[i]) > eta and grads_cw_norms[i] < gamma:\n",
    "        count+=1.0\n",
    "    \n",
    "print ('CW: %.4f' % ( count/num_test_samples))\n",
    "\n",
    "count=0.0\n",
    "for i in range(num_test_samples):\n",
    "    if np.max(cos_sim_p1_cw[i]) > eta and grads_p1_cw_norms[i] < gamma:\n",
    "        count+=1.0\n",
    "    \n",
    "print ('1 Phase CW: %.4f' % ( count/num_test_samples))\n",
    "\n",
    "count=0.0\n",
    "for i in range(num_test_samples):\n",
    "    if np.max(cos_sim_p2_cw[i]) > eta and grads_p2_cw_norms[i] < gamma:\n",
    "        count+=1.0\n",
    "    \n",
    "print ('2 Phase CW: %.4f' % ( count/num_test_samples))"
   ]
  },
  {
   "cell_type": "code",
   "execution_count": 34,
   "metadata": {
    "collapsed": true
   },
   "outputs": [],
   "source": [
    "def avg_l2_distortion(orig, adv):\n",
    "    \"\"\"Get the mean l2 distortion between two orig and adv images\"\"\"\n",
    "    l2_dist = 0.0\n",
    "    for i in range(orig.shape[0]):\n",
    "        l2_dist+= np.linalg.norm(orig[i] - adv[i])\n",
    "    return l2_dist/orig.shape[0]"
   ]
  },
  {
   "cell_type": "code",
   "execution_count": 35,
   "metadata": {},
   "outputs": [
    {
     "name": "stdout",
     "output_type": "stream",
     "text": [
      "5.47094364166\n",
      "2.99962949991\n",
      "1.90662316561\n",
      "3.88002795231\n",
      "2.10292658372\n"
     ]
    }
   ],
   "source": [
    "print (avg_l2_distortion(reg_data, fgsm_data))\n",
    "print (avg_l2_distortion(reg_data, bim_data))\n",
    "print (avg_l2_distortion(reg_data, cw_data))\n",
    "print (avg_l2_distortion(reg_data, p1_cw_data))\n",
    "print (avg_l2_distortion(reg_data, p2_cw_data))"
   ]
  },
  {
   "cell_type": "code",
   "execution_count": null,
   "metadata": {
    "collapsed": true
   },
   "outputs": [],
   "source": []
  }
 ],
 "metadata": {
  "kernelspec": {
   "display_name": "Python 2",
   "language": "python",
   "name": "python2"
  },
  "language_info": {
   "codemirror_mode": {
    "name": "ipython",
    "version": 2
   },
   "file_extension": ".py",
   "mimetype": "text/x-python",
   "name": "python",
   "nbconvert_exporter": "python",
   "pygments_lexer": "ipython2",
   "version": "2.7.12"
  }
 },
 "nbformat": 4,
 "nbformat_minor": 2
}
